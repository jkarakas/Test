{
 "cells": [
  {
   "cell_type": "raw",
   "metadata": {},
   "source": [
    "<script>\n",
    "  function code_toggle() {\n",
    "    if (code_shown){\n",
    "      $('div.input').hide('500');\n",
    "      $('#toggleButton').val('Show Code')\n",
    "    } else {\n",
    "      $('div.input').show('500');\n",
    "      $('#toggleButton').val('Hide Code')\n",
    "    }\n",
    "    code_shown = !code_shown\n",
    "  }\n",
    "\n",
    "  $( document ).ready(function(){\n",
    "    code_shown=false;\n",
    "    $('div.input').hide()\n",
    "  });\n",
    "</script>\n",
    "<form action=\"javascript:code_toggle()\"><input type=\"submit\" id=\"toggleButton\" value=\"Show Code\"></form>"
   ]
  },
  {
   "cell_type": "markdown",
   "metadata": {},
   "source": [
    "# Start"
   ]
  },
  {
   "cell_type": "code",
   "execution_count": 1,
   "metadata": {
    "collapsed": true
   },
   "outputs": [],
   "source": [
    "from bs4 import BeautifulSoup\n",
    "import urllib\n",
    "import numpy as np\n",
    "import time\n",
    "import pickle as pkl\n",
    "import socket\n",
    "import re\n",
    "import pandas as pd\n",
    "import matplotlib\n",
    "import matplotlib.pyplot as plt\n",
    "%matplotlib inline\n",
    "import json\n",
    "from IPython.display import display, Markdown"
   ]
  },
  {
   "cell_type": "markdown",
   "metadata": {
    "collapsed": true
   },
   "source": [
    "# Get the Sources"
   ]
  },
  {
   "cell_type": "code",
   "execution_count": 18,
   "metadata": {
    "scrolled": true
   },
   "outputs": [
    {
     "data": {
      "text/plain": [
       "[dict_keys(['id', 'name', 'description', 'url', 'category', 'language', 'country', 'urlsToLogos', 'sortBysAvailable'])]"
      ]
     },
     "execution_count": 18,
     "metadata": {},
     "output_type": "execute_result"
    }
   ],
   "source": [
    "sourcesUrl = 'https://newsapi.org/v1/sources'\n",
    "\n",
    "news = urllib.request.urlopen(sourcesUrl)\n",
    "sources_doc = news.read()\n",
    "sources_doc = json.loads(sources_doc)\n",
    "sources_doc = sources_doc['sources']\n",
    "#Get the headers\n",
    "sources_headers=[]\n",
    "for item in sources_doc:\n",
    "    if item.keys() not in sources_headers:\n",
    "        sources_headers.append(item.keys())\n",
    "sources_headers"
   ]
  },
  {
   "cell_type": "code",
   "execution_count": 20,
   "metadata": {},
   "outputs": [
    {
     "data": {
      "text/plain": [
       "{'de', 'en'}"
      ]
     },
     "execution_count": 20,
     "metadata": {},
     "output_type": "execute_result"
    }
   ],
   "source": [
    "#Which languages are available\n",
    "set([source['language'] for source in sources_doc])"
   ]
  },
  {
   "cell_type": "code",
   "execution_count": 32,
   "metadata": {
    "scrolled": true
   },
   "outputs": [
    {
     "data": {
      "text/plain": [
       "{'business',\n",
       " 'entertainment',\n",
       " 'gaming',\n",
       " 'general',\n",
       " 'music',\n",
       " 'politics',\n",
       " 'science-and-nature',\n",
       " 'sport',\n",
       " 'technology'}"
      ]
     },
     "execution_count": 32,
     "metadata": {},
     "output_type": "execute_result"
    }
   ],
   "source": [
    "#Which categories?\n",
    "source_names = set([source['category'] for source in sources_doc])\n",
    "source_names"
   ]
  },
  {
   "cell_type": "code",
   "execution_count": 33,
   "metadata": {},
   "outputs": [
    {
     "data": {
      "text/plain": [
       "{'bloomberg',\n",
       " 'business-insider',\n",
       " 'business-insider-uk',\n",
       " 'cnbc',\n",
       " 'die-zeit',\n",
       " 'financial-times',\n",
       " 'fortune',\n",
       " 'handelsblatt',\n",
       " 'the-economist',\n",
       " 'the-wall-street-journal',\n",
       " 'wirtschafts-woche'}"
      ]
     },
     "execution_count": 33,
     "metadata": {},
     "output_type": "execute_result"
    }
   ],
   "source": [
    "#Which sites in category?\n",
    "source_ids = set([source['id'] for source in sources_doc if source['category']=='business'])\n",
    "source_ids"
   ]
  },
  {
   "cell_type": "code",
   "execution_count": 8,
   "metadata": {
    "scrolled": true
   },
   "outputs": [
    {
     "data": {
      "text/plain": [
       "[dict_keys(['author', 'title', 'description', 'url', 'urlToImage', 'publishedAt'])]"
      ]
     },
     "execution_count": 8,
     "metadata": {},
     "output_type": "execute_result"
    }
   ],
   "source": [
    "#Get the headers\n",
    "headers=[]\n",
    "for item in doc['articles']:\n",
    "    if item.keys() not in headers:\n",
    "        headers.append(item.keys())\n",
    "headers"
   ]
  },
  {
   "cell_type": "code",
   "execution_count": 48,
   "metadata": {
    "collapsed": true
   },
   "outputs": [],
   "source": [
    "def apiMdOutput(source):\n",
    "    '''\n",
    "    Get json with articles from the news API and display in Markdown format with links\n",
    "    \n",
    "    Input\n",
    "    doc <- The dictionary with the info loaded from json\n",
    "    source <- The news agency source\n",
    "    \n",
    "    Output\n",
    "    A I python Markdown list of the Articles with , title,description, image and link\n",
    "    returns the dictionary\n",
    "    '''\n",
    "    url_api = 'https://newsapi.org/v1/articles?source={}&apiKey=526aeefb458f458eb06b9a4ea4369624'.format(source)\n",
    "    \n",
    "    news = urllib.request.urlopen(url_api)\n",
    "    doc = news.read()\n",
    "    doc = json.loads(doc)\n",
    "    \n",
    "    title = [art['title'] for art in doc['articles']]\n",
    "    description = [art['description'] for art in doc['articles']]\n",
    "    link = [art['url'] for art in doc['articles']]\n",
    "    image = [art['urlToImage'] for art in doc['articles']]\n",
    "\n",
    "    for tit, desc, l, img in zip(title, description, link, image):\n",
    "        show_tit = '## ' + tit\n",
    "        show_desc =  desc\n",
    "        show_img = '[![]({})]({})'.format(img, l)\n",
    "        printmd(show_tit)\n",
    "        printmd(show_desc)\n",
    "        printmd(show_img)\n",
    "        \n",
    "    "
   ]
  },
  {
   "cell_type": "code",
   "execution_count": 44,
   "metadata": {},
   "outputs": [
    {
     "data": {
      "text/markdown": [
       "# Bloomberg"
      ],
      "text/plain": [
       "<IPython.core.display.Markdown object>"
      ]
     },
     "metadata": {},
     "output_type": "display_data"
    },
    {
     "data": {
      "text/markdown": [
       "## 'A VERY weak position': Trump continues his attack on Attorney General Jeff Sessions"
      ],
      "text/plain": [
       "<IPython.core.display.Markdown object>"
      ]
     },
     "metadata": {},
     "output_type": "display_data"
    },
    {
     "data": {
      "text/markdown": [
       "President Donald Trump continued his public..."
      ],
      "text/plain": [
       "<IPython.core.display.Markdown object>"
      ]
     },
     "metadata": {},
     "output_type": "display_data"
    },
    {
     "data": {
      "text/markdown": [
       "[![](http://static1.businessinsider.com/image/59771b585d8a2f1f008b4e8c-1190-625/a-very-weak-position-trump-continues-his-attack-on-attorney-general-jeff-sessions.jpg)](http://www.businessinsider.com/trump-attacks-attorney-general-jeff-sessions-2017-7)"
      ],
      "text/plain": [
       "<IPython.core.display.Markdown object>"
      ]
     },
     "metadata": {},
     "output_type": "display_data"
    },
    {
     "data": {
      "text/markdown": [
       "## Caterpillar crushes earnings, boosts its outlook for the rest of the year"
      ],
      "text/plain": [
       "<IPython.core.display.Markdown object>"
      ]
     },
     "metadata": {},
     "output_type": "display_data"
    },
    {
     "data": {
      "text/markdown": [
       "Caterpillar Inc reported a 46 percent jump in..."
      ],
      "text/plain": [
       "<IPython.core.display.Markdown object>"
      ]
     },
     "metadata": {},
     "output_type": "display_data"
    },
    {
     "data": {
      "text/markdown": [
       "[![](http://static6.businessinsider.com/image/59772ed1552be54f008b64a4-1190-625/caterpillar-crushes-earnings-boosts-its-outlook-for-the-rest-of-the-year.jpg)](http://www.businessinsider.com/caterpillar-earnings-full-year-forecast-2017-7)"
      ],
      "text/plain": [
       "<IPython.core.display.Markdown object>"
      ]
     },
     "metadata": {},
     "output_type": "display_data"
    },
    {
     "data": {
      "text/markdown": [
       "## The market's hottest stocks are being used in a clever new way"
      ],
      "text/plain": [
       "<IPython.core.display.Markdown object>"
      ]
     },
     "metadata": {},
     "output_type": "display_data"
    },
    {
     "data": {
      "text/markdown": [
       "Heading into Netflix's earnings report last..."
      ],
      "text/plain": [
       "<IPython.core.display.Markdown object>"
      ]
     },
     "metadata": {},
     "output_type": "display_data"
    },
    {
     "data": {
      "text/markdown": [
       "[![](http://static6.businessinsider.com/image/59772d5c552be5c2088b63e0-1190-625/the-markets-hottest-stocks-are-being-used-in-a-clever-new-way.jpg)](http://www.businessinsider.com/stock-market-today-tech-short-sellers-2017-7)"
      ],
      "text/plain": [
       "<IPython.core.display.Markdown object>"
      ]
     },
     "metadata": {},
     "output_type": "display_data"
    },
    {
     "data": {
      "text/markdown": [
       "## 10 things you need to know before the opening bell"
      ],
      "text/plain": [
       "<IPython.core.display.Markdown object>"
      ]
     },
     "metadata": {},
     "output_type": "display_data"
    },
    {
     "data": {
      "text/markdown": [
       "Here is what you need to know.\n",
       "Republican..."
      ],
      "text/plain": [
       "<IPython.core.display.Markdown object>"
      ]
     },
     "metadata": {},
     "output_type": "display_data"
    },
    {
     "data": {
      "text/markdown": [
       "[![](http://static6.businessinsider.com/image/59771f32552be5b3008b64dc-1190-625/10-things-you-need-to-know-before-the-opening-bell.jpg)](http://www.businessinsider.com/opening-bell-july-25-2017-2017-7)"
      ],
      "text/plain": [
       "<IPython.core.display.Markdown object>"
      ]
     },
     "metadata": {},
     "output_type": "display_data"
    },
    {
     "data": {
      "text/markdown": [
       "## Michael Kors is buying Jimmy Choo for $1.2 billion"
      ],
      "text/plain": [
       "<IPython.core.display.Markdown object>"
      ]
     },
     "metadata": {},
     "output_type": "display_data"
    },
    {
     "data": {
      "text/markdown": [
       "LONDON — The US retailer Michael Kors has..."
      ],
      "text/plain": [
       "<IPython.core.display.Markdown object>"
      ]
     },
     "metadata": {},
     "output_type": "display_data"
    },
    {
     "data": {
      "text/markdown": [
       "[![](http://static6.businessinsider.com/image/5976ec3f552be579088b63fb-1190-625/michael-kors-is-buying-jimmy-choo-for-12-billion.jpg)](http://www.businessinsider.com/r-update-1-michael-kors-to-buy-luxury-shoemaker-jimmy-choo-for-12-billion-2017-7)"
      ],
      "text/plain": [
       "<IPython.core.display.Markdown object>"
      ]
     },
     "metadata": {},
     "output_type": "display_data"
    },
    {
     "data": {
      "text/markdown": [
       "## 'Repeal or Repeal & Replace!': Trump tells GOP senators 'I have pen in hand' before healthcare vote"
      ],
      "text/plain": [
       "<IPython.core.display.Markdown object>"
      ]
     },
     "metadata": {},
     "output_type": "display_data"
    },
    {
     "data": {
      "text/markdown": [
       "The Senate is voting Tuesday whether or not to..."
      ],
      "text/plain": [
       "<IPython.core.display.Markdown object>"
      ]
     },
     "metadata": {},
     "output_type": "display_data"
    },
    {
     "data": {
      "text/markdown": [
       "[![](http://static1.businessinsider.com/image/597725385d8a2f1f008b4e97-1190-625/repeal-or-repeal-and-replace-trump-tells-gop-senators-i-have-pen-in-hand-before-healthcare-vote.jpg)](http://www.businessinsider.com/trump-tweets-before-health-care-vote-2017-7)"
      ],
      "text/plain": [
       "<IPython.core.display.Markdown object>"
      ]
     },
     "metadata": {},
     "output_type": "display_data"
    },
    {
     "data": {
      "text/markdown": [
       "## Nvidia gave away its newest AI chips for free — and that's part of the reason why it's dominating the competition"
      ],
      "text/plain": [
       "<IPython.core.display.Markdown object>"
      ]
     },
     "metadata": {},
     "output_type": "display_data"
    },
    {
     "data": {
      "text/markdown": [
       "One wouldn't think that giving away your best..."
      ],
      "text/plain": [
       "<IPython.core.display.Markdown object>"
      ]
     },
     "metadata": {},
     "output_type": "display_data"
    },
    {
     "data": {
      "text/markdown": [
       "[![](http://static3.businessinsider.com/image/59764d8b5d8a2f20008b4b61-1190-625/nvidia-gave-away-its-newest-ai-chips-for-free--and-thats-part-of-the-reason-why-its-dominating-the-competition.jpg)](http://www.businessinsider.com/nvidia-stock-price-gave-its-first-volta-v100-for-free-and-is-dominating-its-competition-2017-7)"
      ],
      "text/plain": [
       "<IPython.core.display.Markdown object>"
      ]
     },
     "metadata": {},
     "output_type": "display_data"
    },
    {
     "data": {
      "text/markdown": [
       "## Trump just had his most freewheeling rally in months — and it was to a massive group of Boy Scouts"
      ],
      "text/plain": [
       "<IPython.core.display.Markdown object>"
      ]
     },
     "metadata": {},
     "output_type": "display_data"
    },
    {
     "data": {
      "text/markdown": [
       "In a speech to the Boy Scouts of America's..."
      ],
      "text/plain": [
       "<IPython.core.display.Markdown object>"
      ]
     },
     "metadata": {},
     "output_type": "display_data"
    },
    {
     "data": {
      "text/markdown": [
       "[![](http://static2.businessinsider.com/image/597692f05d8a2f24008b4e03-1190-625/trump-just-had-his-most-freewheeling-rally-in-months--and-it-was-to-a-massive-group-of-boy-scouts.jpg)](http://www.businessinsider.com/trump-boy-scouts-speech-rally-2017-7)"
      ],
      "text/plain": [
       "<IPython.core.display.Markdown object>"
      ]
     },
     "metadata": {},
     "output_type": "display_data"
    },
    {
     "data": {
      "text/markdown": [
       "## GOLDMAN SACHS: Bitcoin may need 'another few swings' before making a run at record highs"
      ],
      "text/plain": [
       "<IPython.core.display.Markdown object>"
      ]
     },
     "metadata": {},
     "output_type": "display_data"
    },
    {
     "data": {
      "text/markdown": [
       "Bitcoin is is trading down 4.7% at..."
      ],
      "text/plain": [
       "<IPython.core.display.Markdown object>"
      ]
     },
     "metadata": {},
     "output_type": "display_data"
    },
    {
     "data": {
      "text/markdown": [
       "[![](http://static6.businessinsider.com/image/597726495d8a2f24008b4ed1-1190-625/goldman-sachs-bitcoin-may-need-another-few-swings-before-making-a-run-at-record-highs.jpg)](http://www.businessinsider.com/bitcoin-price-goldman-sachs-technical-analysis-2017-7)"
      ],
      "text/plain": [
       "<IPython.core.display.Markdown object>"
      ]
     },
     "metadata": {},
     "output_type": "display_data"
    },
    {
     "data": {
      "text/markdown": [
       "## A chainsaw-wielding criminal who injured 5 in Switzerland is still on the run — and police think this is him carrying his weapon"
      ],
      "text/plain": [
       "<IPython.core.display.Markdown object>"
      ]
     },
     "metadata": {},
     "output_type": "display_data"
    },
    {
     "data": {
      "text/markdown": [
       "A man armed with a chainsaw, who injured 5..."
      ],
      "text/plain": [
       "<IPython.core.display.Markdown object>"
      ]
     },
     "metadata": {},
     "output_type": "display_data"
    },
    {
     "data": {
      "text/markdown": [
       "[![](http://static1.businessinsider.com/image/5977130a56152c3bf83dca1f-1190-625/a-chainsaw-wielding-criminal-who-injured-5-in-switzerland-is-still-on-the-run--and-police-think-this-is-him-carrying-his-weapon.jpg)](http://www.businessinsider.com/switzerland-chainsaw-attack-franz-wrousis-manhunt-2017-7)"
      ],
      "text/plain": [
       "<IPython.core.display.Markdown object>"
      ]
     },
     "metadata": {},
     "output_type": "display_data"
    },
    {
     "data": {
      "text/markdown": [
       "# Handelsblatt"
      ],
      "text/plain": [
       "<IPython.core.display.Markdown object>"
      ]
     },
     "metadata": {},
     "output_type": "display_data"
    },
    {
     "data": {
      "text/markdown": [
       "## Shale Boom May Finally Have Succumbed to Oil’s Price Slump"
      ],
      "text/plain": [
       "<IPython.core.display.Markdown object>"
      ]
     },
     "metadata": {},
     "output_type": "display_data"
    },
    {
     "data": {
      "text/markdown": [
       "Oil’s bear market may finally be taking its toll on the shale boom."
      ],
      "text/plain": [
       "<IPython.core.display.Markdown object>"
      ]
     },
     "metadata": {},
     "output_type": "display_data"
    },
    {
     "data": {
      "text/markdown": [
       "[![](https://assets.bwbx.io/images/users/iqjWHBFdfxIU/iW8VnjDheICc/v1/1200x675.jpg)](https://www.bloomberg.com/news/articles/2017-07-24/anadarko-cuts-drilling-plan-as-oil-explorers-bow-to-price-slump)"
      ],
      "text/plain": [
       "<IPython.core.display.Markdown object>"
      ]
     },
     "metadata": {},
     "output_type": "display_data"
    },
    {
     "data": {
      "text/markdown": [
       "## Trump Continues Criticism of ‘Weak’ Attorney General Sessions"
      ],
      "text/plain": [
       "<IPython.core.display.Markdown object>"
      ]
     },
     "metadata": {},
     "output_type": "display_data"
    },
    {
     "data": {
      "text/markdown": [
       "President Donald Trump sharply criticized his attorney general, Jeff Sessions, on Tuesday, using the word “weak” to describe a man who was one of his earliest and most dedicated supporters."
      ],
      "text/plain": [
       "<IPython.core.display.Markdown object>"
      ]
     },
     "metadata": {},
     "output_type": "display_data"
    },
    {
     "data": {
      "text/markdown": [
       "[![](https://assets.bwbx.io/images/users/iqjWHBFdfxIU/iXVOgj5ZSSPE/v0/1200x675.jpg)](https://www.bloomberg.com/news/articles/2017-07-25/trump-continues-criticism-of-weak-attorney-general-sessions)"
      ],
      "text/plain": [
       "<IPython.core.display.Markdown object>"
      ]
     },
     "metadata": {},
     "output_type": "display_data"
    },
    {
     "data": {
      "text/markdown": [
       "## Tesla Buyers Antsy for Model 3 Keys Months After $1,000 Deposit"
      ],
      "text/plain": [
       "<IPython.core.display.Markdown object>"
      ]
     },
     "metadata": {},
     "output_type": "display_data"
    },
    {
     "data": {
      "text/markdown": [
       "While his high-school classmates were blowing their money on Chipotle burritos and concert tickets, Truman Hale was saving up for a Tesla. In March of last year, after years of penny pinching, he plunked down a $1,000 deposit on a Model 3."
      ],
      "text/plain": [
       "<IPython.core.display.Markdown object>"
      ]
     },
     "metadata": {},
     "output_type": "display_data"
    },
    {
     "data": {
      "text/markdown": [
       "[![](https://assets.bwbx.io/images/users/iqjWHBFdfxIU/ir0FtxLX46to/v0/1200x800.jpg)](https://www.bloomberg.com/news/articles/2017-07-25/tesla-buyers-antsy-for-model-3-keys-months-after-1-000-deposit)"
      ],
      "text/plain": [
       "<IPython.core.display.Markdown object>"
      ]
     },
     "metadata": {},
     "output_type": "display_data"
    },
    {
     "data": {
      "text/markdown": [
       "## Senate GOP Set to Roll the Dice on Health Vote at Trump’s Urging"
      ],
      "text/plain": [
       "<IPython.core.display.Markdown object>"
      ]
     },
     "metadata": {},
     "output_type": "display_data"
    },
    {
     "data": {
      "text/markdown": [
       "Senate Republican leaders and President Donald Trump appear determined to begin a floor debate Tuesday on repealing Obamacare in a highly unorthodox way -- without lawmakers knowing what they’ll be voting on or where it might end up."
      ],
      "text/plain": [
       "<IPython.core.display.Markdown object>"
      ]
     },
     "metadata": {},
     "output_type": "display_data"
    },
    {
     "data": {
      "text/markdown": [
       "[![](https://assets.bwbx.io/images/users/iqjWHBFdfxIU/iQ8jkSngGVg4/v0/1200x808.jpg)](https://www.bloomberg.com/news/articles/2017-07-25/senate-gop-set-to-roll-the-dice-on-health-vote-at-trump-s-urging)"
      ],
      "text/plain": [
       "<IPython.core.display.Markdown object>"
      ]
     },
     "metadata": {},
     "output_type": "display_data"
    },
    {
     "data": {
      "text/markdown": [
       "## The Chipotle Corporate Sabotage Theory Returns"
      ],
      "text/plain": [
       "<IPython.core.display.Markdown object>"
      ]
     },
     "metadata": {},
     "output_type": "display_data"
    },
    {
     "data": {
      "text/markdown": [
       "Some people see a simple case of foodborne illness. Others see corporate sabotage."
      ],
      "text/plain": [
       "<IPython.core.display.Markdown object>"
      ]
     },
     "metadata": {},
     "output_type": "display_data"
    },
    {
     "data": {
      "text/markdown": [
       "[![](https://assets.bwbx.io/images/users/iqjWHBFdfxIU/i.zzgyDFx0O0/v0/1200x843.jpg)](https://www.bloomberg.com/news/articles/2017-07-25/the-chipotle-corporate-sabotage-theory-returns)"
      ],
      "text/plain": [
       "<IPython.core.display.Markdown object>"
      ]
     },
     "metadata": {},
     "output_type": "display_data"
    },
    {
     "data": {
      "text/markdown": [
       "## Five Things You Need to Know to Start Your Day"
      ],
      "text/plain": [
       "<IPython.core.display.Markdown object>"
      ]
     },
     "metadata": {},
     "output_type": "display_data"
    },
    {
     "data": {
      "text/markdown": [
       "Get caught up on what's moving markets."
      ],
      "text/plain": [
       "<IPython.core.display.Markdown object>"
      ]
     },
     "metadata": {},
     "output_type": "display_data"
    },
    {
     "data": {
      "text/markdown": [
       "[![](https://assets.bwbx.io/images/users/iqjWHBFdfxIU/izKN9XBleYuc/v0/1200x675.png)](https://www.bloomberg.com/news/articles/2017-07-25/five-things-you-need-to-know-to-start-your-day)"
      ],
      "text/plain": [
       "<IPython.core.display.Markdown object>"
      ]
     },
     "metadata": {},
     "output_type": "display_data"
    },
    {
     "data": {
      "text/markdown": [
       "## Kushner Faces Hostile Questioning by House Democrats"
      ],
      "text/plain": [
       "<IPython.core.display.Markdown object>"
      ]
     },
     "metadata": {},
     "output_type": "display_data"
    },
    {
     "data": {
      "text/markdown": [
       "Democrats will press the president’s son-in-law, Jared Kushner, about his meeting with a Russian banker and his attempt to establish a back-channel with the Russian government during a closed-door interview before the House Intelligence Committee on Tuesday."
      ],
      "text/plain": [
       "<IPython.core.display.Markdown object>"
      ]
     },
     "metadata": {},
     "output_type": "display_data"
    },
    {
     "data": {
      "text/markdown": [
       "[![](https://assets.bwbx.io/images/users/iqjWHBFdfxIU/i3UDvt86IOVc/v0/1200x675.jpg)](https://www.bloomberg.com/news/articles/2017-07-25/kushner-faces-hostile-questioning-by-house-democrats)"
      ],
      "text/plain": [
       "<IPython.core.display.Markdown object>"
      ]
     },
     "metadata": {},
     "output_type": "display_data"
    },
    {
     "data": {
      "text/markdown": [
       "## Dead Bodies Start Piling Up as Fuel Theft Booms in Mexico"
      ],
      "text/plain": [
       "<IPython.core.display.Markdown object>"
      ]
     },
     "metadata": {},
     "output_type": "display_data"
    },
    {
     "data": {
      "text/markdown": [
       "Echoes of the government’s bloody war with drug cartels are the last thing Mexico needs as it seeks to attract Exxon and BP."
      ],
      "text/plain": [
       "<IPython.core.display.Markdown object>"
      ]
     },
     "metadata": {},
     "output_type": "display_data"
    },
    {
     "data": {
      "text/markdown": [
       "[![](https://assets.bwbx.io/images/users/iqjWHBFdfxIU/iNeEQc3rXC2Y/v1/1200x800.jpg)](https://www.bloomberg.com/news/articles/2017-07-25/dead-bodies-start-piling-up-as-mexico-s-stolen-fuel-market-booms)"
      ],
      "text/plain": [
       "<IPython.core.display.Markdown object>"
      ]
     },
     "metadata": {},
     "output_type": "display_data"
    },
    {
     "data": {
      "text/markdown": [
       "## Trump Launches Into Political Tirade at Boy Scouts Jamboree"
      ],
      "text/plain": [
       "<IPython.core.display.Markdown object>"
      ]
     },
     "metadata": {},
     "output_type": "display_data"
    },
    {
     "data": {
      "text/markdown": [
       "U.S. President Donald Trump delivered a meandering political speech to thousands of Boy Scouts on Monday evening, including a rip at former President Barack Obama."
      ],
      "text/plain": [
       "<IPython.core.display.Markdown object>"
      ]
     },
     "metadata": {},
     "output_type": "display_data"
    },
    {
     "data": {
      "text/markdown": [
       "[![](https://assets.bwbx.io/images/users/iqjWHBFdfxIU/iZAfoT79TULc/v0/1200x781.jpg)](https://www.bloomberg.com/news/articles/2017-07-25/trump-launches-into-political-tirade-at-boy-scouts-jamboree)"
      ],
      "text/plain": [
       "<IPython.core.display.Markdown object>"
      ]
     },
     "metadata": {},
     "output_type": "display_data"
    },
    {
     "data": {
      "text/markdown": [
       "## Government Shutdown Odds Grow With GOP Border Wall Funding Bill"
      ],
      "text/plain": [
       "<IPython.core.display.Markdown object>"
      ]
     },
     "metadata": {},
     "output_type": "display_data"
    },
    {
     "data": {
      "text/markdown": [
       "House Republicans this week are increasing the possibility of a government shutdown in October by moving forward with a $788 billion spending bill that complies with President Donald Trump’s demands to boost the military, reduce clean-energy programs and fund a wall on the U.S.-Mexico border."
      ],
      "text/plain": [
       "<IPython.core.display.Markdown object>"
      ]
     },
     "metadata": {},
     "output_type": "display_data"
    },
    {
     "data": {
      "text/markdown": [
       "[![](https://assets.bwbx.io/images/users/iqjWHBFdfxIU/i.RwUhcvs3KY/v0/1200x800.jpg)](https://www.bloomberg.com/news/articles/2017-07-25/government-shutdown-odds-grow-with-gop-border-wall-funding-bill)"
      ],
      "text/plain": [
       "<IPython.core.display.Markdown object>"
      ]
     },
     "metadata": {},
     "output_type": "display_data"
    },
    {
     "data": {
      "text/markdown": [
       "# The Economist"
      ],
      "text/plain": [
       "<IPython.core.display.Markdown object>"
      ]
     },
     "metadata": {},
     "output_type": "display_data"
    },
    {
     "data": {
      "text/markdown": [
       "## Arnie lends some muscle to the campaign against gerrymandering"
      ],
      "text/plain": [
       "<IPython.core.display.Markdown object>"
      ]
     },
     "metadata": {},
     "output_type": "display_data"
    },
    {
     "data": {
      "text/markdown": [
       "He compares politicians in gerrymandered districts to overweight people who should “go to the fucking gym”"
      ],
      "text/plain": [
       "<IPython.core.display.Markdown object>"
      ]
     },
     "metadata": {},
     "output_type": "display_data"
    },
    {
     "data": {
      "text/markdown": [
       "[![](https://cdn.static-economist.com/sites/default/files/images/print-edition/20170722_USD000_0.jpg)](https://www.economist.com/news/united-states/21725305-he-compares-politicians-gerrymandered-districts-overweight-people-who-should-go)"
      ],
      "text/plain": [
       "<IPython.core.display.Markdown object>"
      ]
     },
     "metadata": {},
     "output_type": "display_data"
    },
    {
     "data": {
      "text/markdown": [
       "## Violence and diplomatic upheaval over the al-Aqsa mosque"
      ],
      "text/plain": [
       "<IPython.core.display.Markdown object>"
      ]
     },
     "metadata": {},
     "output_type": "display_data"
    },
    {
     "data": {
      "text/markdown": [
       "The latest episode of a never-ending story"
      ],
      "text/plain": [
       "<IPython.core.display.Markdown object>"
      ]
     },
     "metadata": {},
     "output_type": "display_data"
    },
    {
     "data": {
      "text/markdown": [
       "[![](https://cdn.static-economist.com/sites/default/files/images/2017/07/articles/main/20170729_map502.jpg)](https://www.economist.com/news/middle-east-and-africa/21725474-latest-episode-never-ending-story-violence-and-diplomatic-upheaval-over)"
      ],
      "text/plain": [
       "<IPython.core.display.Markdown object>"
      ]
     },
     "metadata": {},
     "output_type": "display_data"
    },
    {
     "data": {
      "text/markdown": [
       "## A chance finding may lead to a treatment for multiple sclerosis"
      ],
      "text/plain": [
       "<IPython.core.display.Markdown object>"
      ]
     },
     "metadata": {},
     "output_type": "display_data"
    },
    {
     "data": {
      "text/markdown": [
       "It has to do with sunscreen"
      ],
      "text/plain": [
       "<IPython.core.display.Markdown object>"
      ]
     },
     "metadata": {},
     "output_type": "display_data"
    },
    {
     "data": {
      "text/markdown": [
       "[![](https://cdn.static-economist.com/sites/default/files/images/2017/07/articles/main/20170729_stp503.jpg)](https://www.economist.com/news/science-and-technology/21725497-it-has-do-sunscreen-chance-finding-may-lead-treatment-multiple)"
      ],
      "text/plain": [
       "<IPython.core.display.Markdown object>"
      ]
     },
     "metadata": {},
     "output_type": "display_data"
    },
    {
     "data": {
      "text/markdown": [
       "## How Poland’s government is weakening democracy"
      ],
      "text/plain": [
       "<IPython.core.display.Markdown object>"
      ]
     },
     "metadata": {},
     "output_type": "display_data"
    },
    {
     "data": {
      "text/markdown": [
       "A move to bring the Supreme Court under its control is the latest assault"
      ],
      "text/plain": [
       "<IPython.core.display.Markdown object>"
      ]
     },
     "metadata": {},
     "output_type": "display_data"
    },
    {
     "data": {
      "text/markdown": [
       "[![](https://cdn.static-economist.com/sites/default/files/20170729_BLP503.jpg)](https://www.economist.com/blogs/economist-explains/2017/07/economist-explains-25)"
      ],
      "text/plain": [
       "<IPython.core.display.Markdown object>"
      ]
     },
     "metadata": {},
     "output_type": "display_data"
    },
    {
     "data": {
      "text/markdown": [
       "## What is the moral compass of “Game of Thrones”?"
      ],
      "text/plain": [
       "<IPython.core.display.Markdown object>"
      ]
     },
     "metadata": {},
     "output_type": "display_data"
    },
    {
     "data": {
      "text/markdown": [
       "Being good does not get you to the top. But neither does pure evil. What does it take to run the Seven Kingdoms?"
      ],
      "text/plain": [
       "<IPython.core.display.Markdown object>"
      ]
     },
     "metadata": {},
     "output_type": "display_data"
    },
    {
     "data": {
      "text/markdown": [
       "[![](https://cdn.static-economist.com/sites/default/files/20170729_BKP502.jpg)](https://www.economist.com/blogs/prospero/2017/07/how-westeros-won)"
      ],
      "text/plain": [
       "<IPython.core.display.Markdown object>"
      ]
     },
     "metadata": {},
     "output_type": "display_data"
    },
    {
     "data": {
      "text/markdown": [
       "## The power of populists"
      ],
      "text/plain": [
       "<IPython.core.display.Markdown object>"
      ]
     },
     "metadata": {},
     "output_type": "display_data"
    },
    {
     "data": {
      "text/markdown": [
       "When elites appear ineffective, voters give radicals a chance"
      ],
      "text/plain": [
       "<IPython.core.display.Markdown object>"
      ]
     },
     "metadata": {},
     "output_type": "display_data"
    },
    {
     "data": {
      "text/markdown": [
       "[![](https://cdn.static-economist.com/sites/default/files/images/print-edition/20170722_FND000_1.jpg)](https://www.economist.com/news/finance-and-economics/21725298-when-elites-appear-ineffective-voters-give-radicals-chance-power)"
      ],
      "text/plain": [
       "<IPython.core.display.Markdown object>"
      ]
     },
     "metadata": {},
     "output_type": "display_data"
    },
    {
     "data": {
      "text/markdown": [
       "## Chaldean Catholics and Iraqi Kurds face deportation"
      ],
      "text/plain": [
       "<IPython.core.display.Markdown object>"
      ]
     },
     "metadata": {},
     "output_type": "display_data"
    },
    {
     "data": {
      "text/markdown": [
       "The Iraqis say they face persecution and torture if they are sent home"
      ],
      "text/plain": [
       "<IPython.core.display.Markdown object>"
      ]
     },
     "metadata": {},
     "output_type": "display_data"
    },
    {
     "data": {
      "text/markdown": [
       "[![](https://cdn.static-economist.com/sites/default/files/20170722_USP504.jpg)](https://www.economist.com/blogs/democracyinamerica/2017/07/limits-christian-brotherhood)"
      ],
      "text/plain": [
       "<IPython.core.display.Markdown object>"
      ]
     },
     "metadata": {},
     "output_type": "display_data"
    },
    {
     "data": {
      "text/markdown": [
       "## Britain’s JAMs are living up to their name"
      ],
      "text/plain": [
       "<IPython.core.display.Markdown object>"
      ]
     },
     "metadata": {},
     "output_type": "display_data"
    },
    {
     "data": {
      "text/markdown": [
       "Lower-income households are increasingly struggling to make ends meet"
      ],
      "text/plain": [
       "<IPython.core.display.Markdown object>"
      ]
     },
     "metadata": {},
     "output_type": "display_data"
    },
    {
     "data": {
      "text/markdown": [
       "[![](https://cdn.static-economist.com/sites/default/files/images/2017/07/blogs/graphic-detail/20170715_woc283_0.png)](https://www.economist.com/blogs/graphicdetail/2017/07/daily-chart-14)"
      ],
      "text/plain": [
       "<IPython.core.display.Markdown object>"
      ]
     },
     "metadata": {},
     "output_type": "display_data"
    },
    {
     "data": {
      "text/markdown": [
       "## Climate change might prevent airlines from flying full planes"
      ],
      "text/plain": [
       "<IPython.core.display.Markdown object>"
      ]
     },
     "metadata": {},
     "output_type": "display_data"
    },
    {
     "data": {
      "text/markdown": [
       "A recent paper suggests rising temperatures will have a dramatic impact on aviation"
      ],
      "text/plain": [
       "<IPython.core.display.Markdown object>"
      ]
     },
     "metadata": {},
     "output_type": "display_data"
    },
    {
     "data": {
      "text/markdown": [
       "[![](https://cdn.static-economist.com/sites/default/files/20170722_BLP514.jpg)](https://www.economist.com/blogs/gulliver/2017/07/can-t-stand-heat)"
      ],
      "text/plain": [
       "<IPython.core.display.Markdown object>"
      ]
     },
     "metadata": {},
     "output_type": "display_data"
    },
    {
     "data": {
      "text/markdown": [
       "## Conservatives speak louder in secular France than in pious Germany"
      ],
      "text/plain": [
       "<IPython.core.display.Markdown object>"
      ]
     },
     "metadata": {},
     "output_type": "display_data"
    },
    {
     "data": {
      "text/markdown": [
       "Reactions to gay marriage in France and Germany"
      ],
      "text/plain": [
       "<IPython.core.display.Markdown object>"
      ]
     },
     "metadata": {},
     "output_type": "display_data"
    },
    {
     "data": {
      "text/markdown": [
       "[![](https://cdn.static-economist.com/sites/default/files/brandenburg1.jpg)](https://www.economist.com/blogs/erasmus/2017/07/germany-france-and-gay-marriage)"
      ],
      "text/plain": [
       "<IPython.core.display.Markdown object>"
      ]
     },
     "metadata": {},
     "output_type": "display_data"
    },
    {
     "data": {
      "text/markdown": [
       "# The Wall Street Journal"
      ],
      "text/plain": [
       "<IPython.core.display.Markdown object>"
      ]
     },
     "metadata": {},
     "output_type": "display_data"
    },
    {
     "data": {
      "text/markdown": [
       "## Shares of Caterpillar jump 5% on second quarter earnings beat"
      ],
      "text/plain": [
       "<IPython.core.display.Markdown object>"
      ]
     },
     "metadata": {},
     "output_type": "display_data"
    },
    {
     "data": {
      "text/markdown": [
       "The construction manufacturer beat second-quarter earnings estimates on both EPS and revenue."
      ],
      "text/plain": [
       "<IPython.core.display.Markdown object>"
      ]
     },
     "metadata": {},
     "output_type": "display_data"
    },
    {
     "data": {
      "text/markdown": [
       "[![](https://fm.cnbc.com/applications/cnbc.com/resources/img/editorial/2017/03/08/104328719-IMG_2717.1910x1000.JPG)](http://www.cnbc.com/2017/07/25/caterpillar-earnings-q2-2017.html)"
      ],
      "text/plain": [
       "<IPython.core.display.Markdown object>"
      ]
     },
     "metadata": {},
     "output_type": "display_data"
    },
    {
     "data": {
      "text/markdown": [
       "## Dow futures surge on better-than-expected earnings"
      ],
      "text/plain": [
       "<IPython.core.display.Markdown object>"
      ]
     },
     "metadata": {},
     "output_type": "display_data"
    },
    {
     "data": {
      "text/markdown": [
       "Dow futures jumped on Tuesday, boosted by earnings reports that largely beat Wall Street expectations."
      ],
      "text/plain": [
       "<IPython.core.display.Markdown object>"
      ]
     },
     "metadata": {},
     "output_type": "display_data"
    },
    {
     "data": {
      "text/markdown": [
       "[![](https://fm.cnbc.com/applications/cnbc.com/resources/img/editorial/2017/07/24/104604280-GettyImages-523220802.1910x1000.jpg)](http://www.cnbc.com/2017/07/25/earnings-central-on-wall-street-fomc-meeting-in-focus.html)"
      ],
      "text/plain": [
       "<IPython.core.display.Markdown object>"
      ]
     },
     "metadata": {},
     "output_type": "display_data"
    },
    {
     "data": {
      "text/markdown": [
       "## Sen. John McCain will return to Senate for health-care vote"
      ],
      "text/plain": [
       "<IPython.core.display.Markdown object>"
      ]
     },
     "metadata": {},
     "output_type": "display_data"
    },
    {
     "data": {
      "text/markdown": [
       "Sen. John McCain's office said Monday evening that he would return to the U.S. Senate on Tuesday."
      ],
      "text/plain": [
       "<IPython.core.display.Markdown object>"
      ]
     },
     "metadata": {},
     "output_type": "display_data"
    },
    {
     "data": {
      "text/markdown": [
       "[![](https://fm.cnbc.com/applications/cnbc.com/resources/img/editorial/2016/12/12/104161745-GettyImages-512018674.1910x1000.jpg)](http://www.cnbc.com/2017/07/24/senator-john-mccain-will-return-to-senate-for-health-care-vote-his-office-says.html)"
      ],
      "text/plain": [
       "<IPython.core.display.Markdown object>"
      ]
     },
     "metadata": {},
     "output_type": "display_data"
    },
    {
     "data": {
      "text/markdown": [
       "## McDonald's to report second quarter earnings before the bell"
      ],
      "text/plain": [
       "<IPython.core.display.Markdown object>"
      ]
     },
     "metadata": {},
     "output_type": "display_data"
    },
    {
     "data": {
      "text/markdown": [
       "McDonald's is slated to report second-quarter earnings before the market opens on Tuesday"
      ],
      "text/plain": [
       "<IPython.core.display.Markdown object>"
      ]
     },
     "metadata": {},
     "output_type": "display_data"
    },
    {
     "data": {
      "text/markdown": [
       "[![](https://fm.cnbc.com/applications/cnbc.com/resources/img/editorial/2017/04/25/104424961-RTX2U5L4.1910x1000.jpg)](http://www.cnbc.com/2017/07/25/mcdonalds-earnings-q2-2017.html)"
      ],
      "text/plain": [
       "<IPython.core.display.Markdown object>"
      ]
     },
     "metadata": {},
     "output_type": "display_data"
    },
    {
     "data": {
      "text/markdown": [
       "## General Motors earnings beat analyst expectations"
      ],
      "text/plain": [
       "<IPython.core.display.Markdown object>"
      ]
     },
     "metadata": {},
     "output_type": "display_data"
    },
    {
     "data": {
      "text/markdown": [
       "General Motors reported earnings Tuesday, as it temporarily shuts down factories due to swelling inventories."
      ],
      "text/plain": [
       "<IPython.core.display.Markdown object>"
      ]
     },
     "metadata": {},
     "output_type": "display_data"
    },
    {
     "data": {
      "text/markdown": [
       "[![](https://fm.cnbc.com/applications/cnbc.com/resources/img/editorial/2017/07/24/104605245-GettyImages-692952946.1910x1000.jpg)](http://www.cnbc.com/2017/07/25/general-motors-earnings-q2-2017.html)"
      ],
      "text/plain": [
       "<IPython.core.display.Markdown object>"
      ]
     },
     "metadata": {},
     "output_type": "display_data"
    },
    {
     "data": {
      "text/markdown": [
       "## Michael Kors to buy luxury shoemaker Jimmy Choo for $1.2 billion"
      ],
      "text/plain": [
       "<IPython.core.display.Markdown object>"
      ]
     },
     "metadata": {},
     "output_type": "display_data"
    },
    {
     "data": {
      "text/markdown": [
       "Michael Kors has agreed to take over luxury retailer Jimmy Choo for 896 million pounds ($1.17 billion), it said on Tuesday."
      ],
      "text/plain": [
       "<IPython.core.display.Markdown object>"
      ]
     },
     "metadata": {},
     "output_type": "display_data"
    },
    {
     "data": {
      "text/markdown": [
       "[![](https://fm.cnbc.com/applications/cnbc.com/resources/img/editorial/2016/08/10/103859546-IMG_7973r.1910x1000.jpg)](http://www.cnbc.com/2017/07/25/michael-kors-to-buy-luxury-shoemaker-jimmy-choo.html)"
      ],
      "text/plain": [
       "<IPython.core.display.Markdown object>"
      ]
     },
     "metadata": {},
     "output_type": "display_data"
    },
    {
     "data": {
      "text/markdown": [
       "## Trump makes wild, freewheeling speech at Boy Scout jamboree"
      ],
      "text/plain": [
       "<IPython.core.display.Markdown object>"
      ]
     },
     "metadata": {},
     "output_type": "display_data"
    },
    {
     "data": {
      "text/markdown": [
       "President Trump first told a huge crowd of Boy Scouts at a national jamboree Monday that he didn't want to talk politics. But he couldn't help himself."
      ],
      "text/plain": [
       "<IPython.core.display.Markdown object>"
      ]
     },
     "metadata": {},
     "output_type": "display_data"
    },
    {
     "data": {
      "text/markdown": [
       "[![](https://fm.cnbc.com/applications/cnbc.com/resources/img/editorial/2017/07/25/104607124-RTX3CRG0.1910x1000.jpg)](https://www.usatoday.com/story/news/politics/2017/07/24/speaking-boy-scouts-trump-attacks-media-and-demands-obamacare-repeal/506688001/)"
      ],
      "text/plain": [
       "<IPython.core.display.Markdown object>"
      ]
     },
     "metadata": {},
     "output_type": "display_data"
    },
    {
     "data": {
      "text/markdown": [
       "## Kushner returns to Capitol Hill for second day of interviews"
      ],
      "text/plain": [
       "<IPython.core.display.Markdown object>"
      ]
     },
     "metadata": {},
     "output_type": "display_data"
    },
    {
     "data": {
      "text/markdown": [
       "President Donald Trump's son-in-law and adviser Jared Kushner will return to Capitol Hill Tuesday for a second day of private meetings with congressional investigators, this time for a closed-door conversation with lawmakers on the House Intelligence Committee."
      ],
      "text/plain": [
       "<IPython.core.display.Markdown object>"
      ]
     },
     "metadata": {},
     "output_type": "display_data"
    },
    {
     "data": {
      "text/markdown": [
       "[![](https://fm.cnbc.com/applications/cnbc.com/resources/img/editorial/2017/07/24/104605341-RTX3CQ4Y.1910x1000.jpg)](http://www.cnbc.com/2017/07/25/kushner-returns-to-capitol-hill-for-second-day-of-interviews.html)"
      ],
      "text/plain": [
       "<IPython.core.display.Markdown object>"
      ]
     },
     "metadata": {},
     "output_type": "display_data"
    },
    {
     "data": {
      "text/markdown": [
       "## Trump: Senate Republicans 'have not done their job' on ending 'Obamacare nightmare'"
      ],
      "text/plain": [
       "<IPython.core.display.Markdown object>"
      ]
     },
     "metadata": {},
     "output_type": "display_data"
    },
    {
     "data": {
      "text/markdown": [
       "Donald Trump ramped up the pressure on Senate Republicans as they scramble to move forward with a plan to repeal the Affordable Care Act this week."
      ],
      "text/plain": [
       "<IPython.core.display.Markdown object>"
      ]
     },
     "metadata": {},
     "output_type": "display_data"
    },
    {
     "data": {
      "text/markdown": [
       "[![](https://fm.cnbc.com/applications/cnbc.com/resources/img/editorial/2017/06/05/104510873-RTX39556-donald-trump.1910x1000.jpg)](http://www.cnbc.com/2017/07/24/trump-senate-republicans-have-not-done-their-job-on-health-care.html)"
      ],
      "text/plain": [
       "<IPython.core.display.Markdown object>"
      ]
     },
     "metadata": {},
     "output_type": "display_data"
    },
    {
     "data": {
      "text/markdown": [
       "## China reportedly boosts defense preparations along North Korean border"
      ],
      "text/plain": [
       "<IPython.core.display.Markdown object>"
      ]
     },
     "metadata": {},
     "output_type": "display_data"
    },
    {
     "data": {
      "text/markdown": [
       "The Wall Street Journal reports Beijing has increased surveillance of the border region as well as a \"combat readiness-level big data disaster recovery center.\""
      ],
      "text/plain": [
       "<IPython.core.display.Markdown object>"
      ]
     },
     "metadata": {},
     "output_type": "display_data"
    },
    {
     "data": {
      "text/markdown": [
       "[![](https://fm.cnbc.com/applications/cnbc.com/resources/img/editorial/2017/03/13/104339079-RTR3ZLWU.1910x1000.jpg)](http://www.cnbc.com/2017/07/24/china-reportedly-boosts-defense-preparations-along-north-korean-border.html)"
      ],
      "text/plain": [
       "<IPython.core.display.Markdown object>"
      ]
     },
     "metadata": {},
     "output_type": "display_data"
    },
    {
     "data": {
      "text/markdown": [
       "# Wirtschafts Woche"
      ],
      "text/plain": [
       "<IPython.core.display.Markdown object>"
      ]
     },
     "metadata": {},
     "output_type": "display_data"
    },
    {
     "data": {
      "text/markdown": [
       "## Elon Musk thinks Mark Zuckerberg's understanding of AI is 'limited'"
      ],
      "text/plain": [
       "<IPython.core.display.Markdown object>"
      ]
     },
     "metadata": {},
     "output_type": "display_data"
    },
    {
     "data": {
      "text/markdown": [
       "Billionaires Mark Zuckerberg and Elon Musk..."
      ],
      "text/plain": [
       "<IPython.core.display.Markdown object>"
      ]
     },
     "metadata": {},
     "output_type": "display_data"
    },
    {
     "data": {
      "text/markdown": [
       "[![](http://static1.uk.businessinsider.com/image/57f5187fb268a222008b48f8-1190-625/elon-musk-thinks-mark-zuckerbergs-understanding-of-ai-is-limited.jpg)](http://uk.businessinsider.com/mark-zuckerberg-said-elon-musks-doomsday-ai-predictions-are-irresponsible-2017-7)"
      ],
      "text/plain": [
       "<IPython.core.display.Markdown object>"
      ]
     },
     "metadata": {},
     "output_type": "display_data"
    },
    {
     "data": {
      "text/markdown": [
       "## PHOTOS: Deliveroo has moved into a swanky new London office with a 'centre court'"
      ],
      "text/plain": [
       "<IPython.core.display.Markdown object>"
      ]
     },
     "metadata": {},
     "output_type": "display_data"
    },
    {
     "data": {
      "text/markdown": [
       "Food delivery firm Deliveroo has moved..."
      ],
      "text/plain": [
       "<IPython.core.display.Markdown object>"
      ]
     },
     "metadata": {},
     "output_type": "display_data"
    },
    {
     "data": {
      "text/markdown": [
       "[![](http://static4.uk.businessinsider.com/image/59770d0befcab90e018b5495-1190-625/photos-deliveroo-has-moved-into-a-swanky-new-london-office-with-a-centre-court.jpg)](http://uk.businessinsider.com/photos-deliveroos-london-office-2017-7)"
      ],
      "text/plain": [
       "<IPython.core.display.Markdown object>"
      ]
     },
     "metadata": {},
     "output_type": "display_data"
    },
    {
     "data": {
      "text/markdown": [
       "## Jeremy Corbyn opens fresh Labour Brexit split over the customs union"
      ],
      "text/plain": [
       "<IPython.core.display.Markdown object>"
      ]
     },
     "metadata": {},
     "output_type": "display_data"
    },
    {
     "data": {
      "text/markdown": [
       "Exclusive: Jeremy Corbyn distances himself from..."
      ],
      "text/plain": [
       "<IPython.core.display.Markdown object>"
      ]
     },
     "metadata": {},
     "output_type": "display_data"
    },
    {
     "data": {
      "text/markdown": [
       "[![](http://static1.uk.businessinsider.com/image/5977154eefcab976068b53a2-1190-625/jeremy-corbyn-opens-fresh-labour-brexit-split-over-the-customs-union.jpg)](http://uk.businessinsider.com/jeremy-corbyn-labour-international-trade-secretary-customs-union-single-market-hard-brexit-2017-7)"
      ],
      "text/plain": [
       "<IPython.core.display.Markdown object>"
      ]
     },
     "metadata": {},
     "output_type": "display_data"
    },
    {
     "data": {
      "text/markdown": [
       "## Real Madrid to obliterate the transfer world record with £161 million deal for 18-year-old Kylian Mbappé"
      ],
      "text/plain": [
       "<IPython.core.display.Markdown object>"
      ]
     },
     "metadata": {},
     "output_type": "display_data"
    },
    {
     "data": {
      "text/markdown": [
       "Real Madrid and AS Monaco have \"an agreement\"..."
      ],
      "text/plain": [
       "<IPython.core.display.Markdown object>"
      ]
     },
     "metadata": {},
     "output_type": "display_data"
    },
    {
     "data": {
      "text/markdown": [
       "[![](http://static4.uk.businessinsider.com/image/59314336ee2e4326008b49a4-1190-625/real-madrid-to-obliterate-the-transfer-world-record-with-161-million-deal-for-18-year-old-kylian-mbapp.jpg)](http://uk.businessinsider.com/real-madrid-cf-transfer-news-world-record-161-million-deal-kylian-mbappe-2017-7)"
      ],
      "text/plain": [
       "<IPython.core.display.Markdown object>"
      ]
     },
     "metadata": {},
     "output_type": "display_data"
    },
    {
     "data": {
      "text/markdown": [
       "## A chainsaw-wielding criminal who injured 5 in Switzerland is still on the run — and police think this is him carrying his weapon"
      ],
      "text/plain": [
       "<IPython.core.display.Markdown object>"
      ]
     },
     "metadata": {},
     "output_type": "display_data"
    },
    {
     "data": {
      "text/markdown": [
       "A man armed with a chainsaw, who injured 5..."
      ],
      "text/plain": [
       "<IPython.core.display.Markdown object>"
      ]
     },
     "metadata": {},
     "output_type": "display_data"
    },
    {
     "data": {
      "text/markdown": [
       "[![](http://static6.uk.businessinsider.com/image/59770c6aefcab90e018b5492-1190-625/a-chainsaw-wielding-criminal-who-injured-5-in-switzerland-is-still-on-the-run--and-police-think-this-is-him-carrying-his-weapon.jpg)](http://uk.businessinsider.com/switzerland-chainsaw-attack-franz-wrousis-manhunt-2017-7)"
      ],
      "text/plain": [
       "<IPython.core.display.Markdown object>"
      ]
     },
     "metadata": {},
     "output_type": "display_data"
    },
    {
     "data": {
      "text/markdown": [
       "## The Bank of England is warning about a debt-fuelled 'spiral of complacency' that threatens financial stability"
      ],
      "text/plain": [
       "<IPython.core.display.Markdown object>"
      ]
     },
     "metadata": {},
     "output_type": "display_data"
    },
    {
     "data": {
      "text/markdown": [
       "LONDON — The Bank of England's financial..."
      ],
      "text/plain": [
       "<IPython.core.display.Markdown object>"
      ]
     },
     "metadata": {},
     "output_type": "display_data"
    },
    {
     "data": {
      "text/markdown": [
       "[![](http://static1.uk.businessinsider.com/image/56a7997d58c32384008b5308-1190-625/the-bank-of-england-is-warning-about-a-debt-fuelled-spiral-of-complacency-that-threatens-financial-stability.jpg)](http://uk.businessinsider.com/bank-of-england-worried-about-spiral-of-debt-2017-7)"
      ],
      "text/plain": [
       "<IPython.core.display.Markdown object>"
      ]
     },
     "metadata": {},
     "output_type": "display_data"
    },
    {
     "data": {
      "text/markdown": [
       "## Ryanair says its passengers are 'taking the piss' by exploiting this loophole in baggage allowances"
      ],
      "text/plain": [
       "<IPython.core.display.Markdown object>"
      ]
     },
     "metadata": {},
     "output_type": "display_data"
    },
    {
     "data": {
      "text/markdown": [
       "Travellers on budget airlines like Ryanair are..."
      ],
      "text/plain": [
       "<IPython.core.display.Markdown object>"
      ]
     },
     "metadata": {},
     "output_type": "display_data"
    },
    {
     "data": {
      "text/markdown": [
       "[![](http://static2.uk.businessinsider.com/image/597701eeefcab91f008b54f8-1190-625/ryanair-says-its-passengers-are-taking-the-piss-by-exploiting-this-loophole-in-baggage-allowances.jpg)](http://uk.businessinsider.com/ryanair-says-its-passengers-are-exploiting-this-loophole-in-baggage-allowances-2017-7)"
      ],
      "text/plain": [
       "<IPython.core.display.Markdown object>"
      ]
     },
     "metadata": {},
     "output_type": "display_data"
    },
    {
     "data": {
      "text/markdown": [
       "## More on the 'lie' behind the unemployment numbers"
      ],
      "text/plain": [
       "<IPython.core.display.Markdown object>"
      ]
     },
     "metadata": {},
     "output_type": "display_data"
    },
    {
     "data": {
      "text/markdown": [
       "LONDON — Last week, I published a column..."
      ],
      "text/plain": [
       "<IPython.core.display.Markdown object>"
      ]
     },
     "metadata": {},
     "output_type": "display_data"
    },
    {
     "data": {
      "text/markdown": [
       "[![](http://static4.uk.businessinsider.com/image/59722824efcab90e018b521c-1190-625/more-on-the-lie-behind-the-unemployment-numbers.jpg)](http://uk.businessinsider.com/the-lie-behind-the-unemployment-numbers-2017-7)"
      ],
      "text/plain": [
       "<IPython.core.display.Markdown object>"
      ]
     },
     "metadata": {},
     "output_type": "display_data"
    },
    {
     "data": {
      "text/markdown": [
       "## A major change to housing laws could save English homebuyers thousands of pounds a year in 'unfair charges'"
      ],
      "text/plain": [
       "<IPython.core.display.Markdown object>"
      ]
     },
     "metadata": {},
     "output_type": "display_data"
    },
    {
     "data": {
      "text/markdown": [
       "LONDON — The government is considering..."
      ],
      "text/plain": [
       "<IPython.core.display.Markdown object>"
      ]
     },
     "metadata": {},
     "output_type": "display_data"
    },
    {
     "data": {
      "text/markdown": [
       "[![](http://static3.uk.businessinsider.com/image/5976f2644af3fa51058b53ad-1190-625/a-major-change-to-housing-laws-could-save-english-homebuyers-thousands-of-pounds-a-year-in-unfair-charges.jpg)](http://uk.businessinsider.com/uk-government-could-save-homebuyers-thousands-in-unfair-charges-2017-7)"
      ],
      "text/plain": [
       "<IPython.core.display.Markdown object>"
      ]
     },
     "metadata": {},
     "output_type": "display_data"
    },
    {
     "data": {
      "text/markdown": [
       "## Why Chris Froome is so good at winning the Tour de France, according to his boss"
      ],
      "text/plain": [
       "<IPython.core.display.Markdown object>"
      ]
     },
     "metadata": {},
     "output_type": "display_data"
    },
    {
     "data": {
      "text/markdown": [
       "When Chris Froome won the Tour de France on..."
      ],
      "text/plain": [
       "<IPython.core.display.Markdown object>"
      ]
     },
     "metadata": {},
     "output_type": "display_data"
    },
    {
     "data": {
      "text/markdown": [
       "[![](http://static2.uk.businessinsider.com/image/5976a3c656152c3b0506f4fe-1190-625/why-chris-froome-is-so-good-at-winning-the-tour-de-france-according-to-his-boss.jpg)](http://uk.businessinsider.com/chris-froome-tour-de-france-expert-brailsford-2017-7)"
      ],
      "text/plain": [
       "<IPython.core.display.Markdown object>"
      ]
     },
     "metadata": {},
     "output_type": "display_data"
    },
    {
     "data": {
      "text/markdown": [
       "# Business Insider (UK)"
      ],
      "text/plain": [
       "<IPython.core.display.Markdown object>"
      ]
     },
     "metadata": {},
     "output_type": "display_data"
    },
    {
     "data": {
      "text/markdown": [
       "## Trump Urges GOP Senators to Overturn Affordable Care Act"
      ],
      "text/plain": [
       "<IPython.core.display.Markdown object>"
      ]
     },
     "metadata": {},
     "output_type": "display_data"
    },
    {
     "data": {
      "text/markdown": [
       "President Donald Trump made a last-minute pitch to GOP senators urging them to vote Tuesday to begin debate on the health-care law, an exhortation that added to the pressures facing congressional Republicans."
      ],
      "text/plain": [
       "<IPython.core.display.Markdown object>"
      ]
     },
     "metadata": {},
     "output_type": "display_data"
    },
    {
     "data": {
      "text/markdown": [
       "[![](https://si.wsj.net/public/resources/images/BN-UK216_HEALTH_SOC_20170724161945.jpg)](https://www.wsj.com/articles/trump-urges-gop-senators-to-overturn-affordable-care-act-1500927394)"
      ],
      "text/plain": [
       "<IPython.core.display.Markdown object>"
      ]
     },
     "metadata": {},
     "output_type": "display_data"
    },
    {
     "data": {
      "text/markdown": [
       "## China Prepares for a Crisis Along North Korea Border"
      ],
      "text/plain": [
       "<IPython.core.display.Markdown object>"
      ]
     },
     "metadata": {},
     "output_type": "display_data"
    },
    {
     "data": {
      "text/markdown": [
       "China has been bolstering defenses along its 880-mile frontier with North Korea and realigning forces in surrounding regions to prepare for a potential crisis across their border, including the possibility of a U.S. military strike."
      ],
      "text/plain": [
       "<IPython.core.display.Markdown object>"
      ]
     },
     "metadata": {},
     "output_type": "display_data"
    },
    {
     "data": {
      "text/markdown": [
       "[![](https://si.wsj.net/public/resources/images/BN-UK114_CBORDE_SOC_20170724130253.jpg)](https://www.wsj.com/articles/china-prepares-for-a-crisis-along-north-korea-border-1500928838)"
      ],
      "text/plain": [
       "<IPython.core.display.Markdown object>"
      ]
     },
     "metadata": {},
     "output_type": "display_data"
    },
    {
     "data": {
      "text/markdown": [
       "## More U.S. Cars Are Being Made in Mexico"
      ],
      "text/plain": [
       "<IPython.core.display.Markdown object>"
      ]
     },
     "metadata": {},
     "output_type": "display_data"
    },
    {
     "data": {
      "text/markdown": [
       "Auto production in Mexico has jumped this year, fueled by popular SUVs and pickups, even as U.S. output has fallen and Detroit has told President Trump it will create more jobs in the U.S."
      ],
      "text/plain": [
       "<IPython.core.display.Markdown object>"
      ]
     },
     "metadata": {},
     "output_type": "display_data"
    },
    {
     "data": {
      "text/markdown": [
       "[![](https://si.wsj.net/public/resources/images/BN-UK254_MEXICO_SOC_20170724171248.jpg)](https://www.wsj.com/articles/more-u-s-cars-are-being-made-in-mexico-1500975000)"
      ],
      "text/plain": [
       "<IPython.core.display.Markdown object>"
      ]
     },
     "metadata": {},
     "output_type": "display_data"
    },
    {
     "data": {
      "text/markdown": [
       "## SoftBank Seeks Multibillion-Dollar Stake in Uber"
      ],
      "text/plain": [
       "<IPython.core.display.Markdown object>"
      ]
     },
     "metadata": {},
     "output_type": "display_data"
    },
    {
     "data": {
      "text/markdown": [
       "SoftBank is pushing to take a commanding stake in the ride-hailing market, angling for a piece of Uber after spreading its bets across a trio of Asian startups."
      ],
      "text/plain": [
       "<IPython.core.display.Markdown object>"
      ]
     },
     "metadata": {},
     "output_type": "display_data"
    },
    {
     "data": {
      "text/markdown": [
       "[![](https://si.wsj.net/public/resources/images/BN-UK306_39jX5_TOP_20170725002533.jpg)](https://www.wsj.com/articles/softbank-seeks-multibillion-dollar-stake-in-uber-1500958957)"
      ],
      "text/plain": [
       "<IPython.core.display.Markdown object>"
      ]
     },
     "metadata": {},
     "output_type": "display_data"
    },
    {
     "data": {
      "text/markdown": [
       "## The Boss Wants You Back in the Office"
      ],
      "text/plain": [
       "<IPython.core.display.Markdown object>"
      ]
     },
     "metadata": {},
     "output_type": "display_data"
    },
    {
     "data": {
      "text/markdown": [
       "Employers are ending or reducing remote-work arrangements as managers demand more collaboration, closer contact with customers—and more control over the workday. But bringing workers back to the office isn’t easy."
      ],
      "text/plain": [
       "<IPython.core.display.Markdown object>"
      ]
     },
     "metadata": {},
     "output_type": "display_data"
    },
    {
     "data": {
      "text/markdown": [
       "[![](https://si.wsj.net/public/resources/images/BN-UJ873_REMOTE_SOC_20170723153116.jpg)](https://www.wsj.com/articles/the-boss-wants-you-back-in-the-office-1500975001)"
      ],
      "text/plain": [
       "<IPython.core.display.Markdown object>"
      ]
     },
     "metadata": {},
     "output_type": "display_data"
    },
    {
     "data": {
      "text/markdown": [
       "## Meet the Bank Customers Pushing for a Better Deposit Deal"
      ],
      "text/plain": [
       "<IPython.core.display.Markdown object>"
      ]
     },
     "metadata": {},
     "output_type": "display_data"
    },
    {
     "data": {
      "text/markdown": [
       "With short-term interest rates on the rise, businesses are seeking bigger payouts on their deposit accounts—and in the second quarter, big banks started capitulating."
      ],
      "text/plain": [
       "<IPython.core.display.Markdown object>"
      ]
     },
     "metadata": {},
     "output_type": "display_data"
    },
    {
     "data": {
      "text/markdown": [
       "[![](https://si.wsj.net/public/resources/images/OG-AS057_201707_SOC_20170724193833.jpg)](https://www.wsj.com/articles/meet-the-bank-customers-pushing-for-a-better-deposit-deal-1500975003)"
      ],
      "text/plain": [
       "<IPython.core.display.Markdown object>"
      ]
     },
     "metadata": {},
     "output_type": "display_data"
    },
    {
     "data": {
      "text/markdown": [
       "## GM’s Profit Falls on Sale of Europe Business, Asia Charges"
      ],
      "text/plain": [
       "<IPython.core.display.Markdown object>"
      ]
     },
     "metadata": {},
     "output_type": "display_data"
    },
    {
     "data": {
      "text/markdown": [
       "General Motors’ second-quarter net income plunged 58% on losses related to the sale of its European business and one-time charges linked to the company’s exit from some Asian markets."
      ],
      "text/plain": [
       "<IPython.core.display.Markdown object>"
      ]
     },
     "metadata": {},
     "output_type": "display_data"
    },
    {
     "data": {
      "text/markdown": [
       "[![](https://si.wsj.net/public/resources/images/BN-UK423_36HuD_TOP_20170725071247.jpg)](https://www.wsj.com/articles/gms-profit-falls-on-sale-of-europe-business-asia-charges-1500982734)"
      ],
      "text/plain": [
       "<IPython.core.display.Markdown object>"
      ]
     },
     "metadata": {},
     "output_type": "display_data"
    },
    {
     "data": {
      "text/markdown": [
       "## Michael Kors to Buy Jimmy Choo for $1.2 Billion"
      ],
      "text/plain": [
       "<IPython.core.display.Markdown object>"
      ]
     },
     "metadata": {},
     "output_type": "display_data"
    },
    {
     "data": {
      "text/markdown": [
       "Luxury-fashion company Michael Kors has reached a deal to buy Jimmy Choo for $1.17 billion, giving it a new avenue for growth as its core handbag market slows."
      ],
      "text/plain": [
       "<IPython.core.display.Markdown object>"
      ]
     },
     "metadata": {},
     "output_type": "display_data"
    },
    {
     "data": {
      "text/markdown": [
       "[![](https://si.wsj.net/public/resources/images/BN-UK393_36fBJ_TOP_20170725023005.jpg)](https://www.wsj.com/articles/michael-kors-to-buy-jimmy-choo-for-1-17-billion-in-all-cash-deal-1500965373)"
      ],
      "text/plain": [
       "<IPython.core.display.Markdown object>"
      ]
     },
     "metadata": {},
     "output_type": "display_data"
    },
    {
     "data": {
      "text/markdown": [
       "## Americans Pour Record Sums Into Home Improvements"
      ],
      "text/plain": [
       "<IPython.core.display.Markdown object>"
      ]
     },
     "metadata": {},
     "output_type": "display_data"
    },
    {
     "data": {
      "text/markdown": [
       "A shortage of new single-family homes across the U.S. is pushing up prices and locking many buyers out of the market. The silver lining: a boom in renovations of existing homes."
      ],
      "text/plain": [
       "<IPython.core.display.Markdown object>"
      ]
     },
     "metadata": {},
     "output_type": "display_data"
    },
    {
     "data": {
      "text/markdown": [
       "[![](https://si.wsj.net/public/resources/images/BN-UK276_RENOVA_SOC_20170724183205.jpg)](https://www.wsj.com/articles/americans-pour-record-sums-into-home-improvements-1500975001)"
      ],
      "text/plain": [
       "<IPython.core.display.Markdown object>"
      ]
     },
     "metadata": {},
     "output_type": "display_data"
    },
    {
     "data": {
      "text/markdown": [
       "## Scaramucci’s White House Role Raises Questions for Planned Sale of His Investment Firm"
      ],
      "text/plain": [
       "<IPython.core.display.Markdown object>"
      ]
     },
     "metadata": {},
     "output_type": "display_data"
    },
    {
     "data": {
      "text/markdown": [
       "Anthony Scaramucci’s appointment as White House communications director presents a sensitive situation for the planned sale of an investment company he founded to a Chinese conglomerate—a deal that is now under government review."
      ],
      "text/plain": [
       "<IPython.core.display.Markdown object>"
      ]
     },
     "metadata": {},
     "output_type": "display_data"
    },
    {
     "data": {
      "text/markdown": [
       "[![](https://si.wsj.net/public/resources/images/BN-UK263_39G8t_TOP_20170724175344.jpg)](https://www.wsj.com/articles/scaramuccis-white-house-role-raises-questions-on-u-s-review-of-deal-1500938880)"
      ],
      "text/plain": [
       "<IPython.core.display.Markdown object>"
      ]
     },
     "metadata": {},
     "output_type": "display_data"
    },
    {
     "data": {
      "text/markdown": [
       "# Financial Times"
      ],
      "text/plain": [
       "<IPython.core.display.Markdown object>"
      ]
     },
     "metadata": {},
     "output_type": "display_data"
    },
    {
     "data": {
      "text/markdown": [
       "## Google parent company weighed down by EU fine"
      ],
      "text/plain": [
       "<IPython.core.display.Markdown object>"
      ]
     },
     "metadata": {},
     "output_type": "display_data"
    },
    {
     "data": {
      "text/plain": [
       "<IPython.core.display.Markdown object>"
      ]
     },
     "metadata": {},
     "output_type": "display_data"
    },
    {
     "data": {
      "text/markdown": [
       "[![](https://www.ft.com/__assets/creatives/brand-ft/icons/v2/favicon-194x194.png)](https://www.ft.com/content/b46de9d6-70aa-11e7-aca6-c6bd07df1a3c)"
      ],
      "text/plain": [
       "<IPython.core.display.Markdown object>"
      ]
     },
     "metadata": {},
     "output_type": "display_data"
    },
    {
     "data": {
      "text/markdown": [
       "## Wang Qishan: China’s enforcer"
      ],
      "text/plain": [
       "<IPython.core.display.Markdown object>"
      ]
     },
     "metadata": {},
     "output_type": "display_data"
    },
    {
     "data": {
      "text/plain": [
       "<IPython.core.display.Markdown object>"
      ]
     },
     "metadata": {},
     "output_type": "display_data"
    },
    {
     "data": {
      "text/markdown": [
       "[![](https://www.ft.com/__assets/creatives/brand-ft/icons/v2/favicon-194x194.png)](https://www.ft.com/content/d82964ba-6d42-11e7-bfeb-33fe0c5b7eaa)"
      ],
      "text/plain": [
       "<IPython.core.display.Markdown object>"
      ]
     },
     "metadata": {},
     "output_type": "display_data"
    },
    {
     "data": {
      "text/markdown": [
       "## Trump hits out at ‘very weak’ attorney-general"
      ],
      "text/plain": [
       "<IPython.core.display.Markdown object>"
      ]
     },
     "metadata": {},
     "output_type": "display_data"
    },
    {
     "data": {
      "text/plain": [
       "<IPython.core.display.Markdown object>"
      ]
     },
     "metadata": {},
     "output_type": "display_data"
    },
    {
     "data": {
      "text/markdown": [
       "[![](https://www.ft.com/__assets/creatives/brand-ft/icons/v2/favicon-194x194.png)](http://www.ft.com/fastft/2017/07/25/trump-steps-up-pressure-on-sessions-in-rambling-tweets/)"
      ],
      "text/plain": [
       "<IPython.core.display.Markdown object>"
      ]
     },
     "metadata": {},
     "output_type": "display_data"
    },
    {
     "data": {
      "text/markdown": [
       "## Akzo Nobel makes peace offering to shareholders"
      ],
      "text/plain": [
       "<IPython.core.display.Markdown object>"
      ]
     },
     "metadata": {},
     "output_type": "display_data"
    },
    {
     "data": {
      "text/plain": [
       "<IPython.core.display.Markdown object>"
      ]
     },
     "metadata": {},
     "output_type": "display_data"
    },
    {
     "data": {
      "text/markdown": [
       "[![](https://www.ft.com/__assets/creatives/brand-ft/icons/v2/favicon-194x194.png)](https://www.ft.com/content/6d59e2ee-7108-11e7-aca6-c6bd07df1a3c)"
      ],
      "text/plain": [
       "<IPython.core.display.Markdown object>"
      ]
     },
     "metadata": {},
     "output_type": "display_data"
    },
    {
     "data": {
      "text/markdown": [
       "## Michael Kors to buy shoemaker Jimmy Choo for £896m"
      ],
      "text/plain": [
       "<IPython.core.display.Markdown object>"
      ]
     },
     "metadata": {},
     "output_type": "display_data"
    },
    {
     "data": {
      "text/plain": [
       "<IPython.core.display.Markdown object>"
      ]
     },
     "metadata": {},
     "output_type": "display_data"
    },
    {
     "data": {
      "text/markdown": [
       "[![](https://www.ft.com/__assets/creatives/brand-ft/icons/v2/favicon-194x194.png)](https://www.ft.com/content/c04ca84e-7106-11e7-aca6-c6bd07df1a3c)"
      ],
      "text/plain": [
       "<IPython.core.display.Markdown object>"
      ]
     },
     "metadata": {},
     "output_type": "display_data"
    },
    {
     "data": {
      "text/markdown": [
       "## Chinese warships join Russia in Baltic naval drill"
      ],
      "text/plain": [
       "<IPython.core.display.Markdown object>"
      ]
     },
     "metadata": {},
     "output_type": "display_data"
    },
    {
     "data": {
      "text/plain": [
       "<IPython.core.display.Markdown object>"
      ]
     },
     "metadata": {},
     "output_type": "display_data"
    },
    {
     "data": {
      "text/markdown": [
       "[![](https://www.ft.com/__assets/creatives/brand-ft/icons/v2/favicon-194x194.png)](https://www.ft.com/content/1dfabf08-7076-11e7-93ff-99f383b09ff9)"
      ],
      "text/plain": [
       "<IPython.core.display.Markdown object>"
      ]
     },
     "metadata": {},
     "output_type": "display_data"
    },
    {
     "data": {
      "text/markdown": [
       "## Duda’s defiance leads Poland into new territory"
      ],
      "text/plain": [
       "<IPython.core.display.Markdown object>"
      ]
     },
     "metadata": {},
     "output_type": "display_data"
    },
    {
     "data": {
      "text/plain": [
       "<IPython.core.display.Markdown object>"
      ]
     },
     "metadata": {},
     "output_type": "display_data"
    },
    {
     "data": {
      "text/markdown": [
       "[![](https://www.ft.com/__assets/creatives/brand-ft/icons/v2/favicon-194x194.png)](https://www.ft.com/content/8f2ae24c-7072-11e7-93ff-99f383b09ff9)"
      ],
      "text/plain": [
       "<IPython.core.display.Markdown object>"
      ]
     },
     "metadata": {},
     "output_type": "display_data"
    },
    {
     "data": {
      "text/markdown": [
       "## Venezuela’s economic and political crisis in charts"
      ],
      "text/plain": [
       "<IPython.core.display.Markdown object>"
      ]
     },
     "metadata": {},
     "output_type": "display_data"
    },
    {
     "data": {
      "text/plain": [
       "<IPython.core.display.Markdown object>"
      ]
     },
     "metadata": {},
     "output_type": "display_data"
    },
    {
     "data": {
      "text/markdown": [
       "[![](https://www.ft.com/__assets/creatives/brand-ft/icons/v2/favicon-194x194.png)](https://www.ft.com/content/0228db48-6e4b-11e7-bfeb-33fe0c5b7eaa)"
      ],
      "text/plain": [
       "<IPython.core.display.Markdown object>"
      ]
     },
     "metadata": {},
     "output_type": "display_data"
    },
    {
     "data": {
      "text/markdown": [
       "## CDS: a $10tn market that leaves few happy"
      ],
      "text/plain": [
       "<IPython.core.display.Markdown object>"
      ]
     },
     "metadata": {},
     "output_type": "display_data"
    },
    {
     "data": {
      "text/plain": [
       "<IPython.core.display.Markdown object>"
      ]
     },
     "metadata": {},
     "output_type": "display_data"
    },
    {
     "data": {
      "text/markdown": [
       "[![](https://www.ft.com/__assets/creatives/brand-ft/icons/v2/favicon-194x194.png)](https://www.ft.com/content/10af64da-7075-11e7-93ff-99f383b09ff9)"
      ],
      "text/plain": [
       "<IPython.core.display.Markdown object>"
      ]
     },
     "metadata": {},
     "output_type": "display_data"
    },
    {
     "data": {
      "text/markdown": [
       "## HNA chief shrugs off ownership concerns"
      ],
      "text/plain": [
       "<IPython.core.display.Markdown object>"
      ]
     },
     "metadata": {},
     "output_type": "display_data"
    },
    {
     "data": {
      "text/plain": [
       "<IPython.core.display.Markdown object>"
      ]
     },
     "metadata": {},
     "output_type": "display_data"
    },
    {
     "data": {
      "text/markdown": [
       "[![](https://www.ft.com/__assets/creatives/brand-ft/icons/v2/favicon-194x194.png)](https://www.ft.com/content/d9bc0760-70d0-11e7-aca6-c6bd07df1a3c)"
      ],
      "text/plain": [
       "<IPython.core.display.Markdown object>"
      ]
     },
     "metadata": {},
     "output_type": "display_data"
    },
    {
     "data": {
      "text/markdown": [
       "# Fortune"
      ],
      "text/plain": [
       "<IPython.core.display.Markdown object>"
      ]
     },
     "metadata": {},
     "output_type": "display_data"
    },
    {
     "data": {
      "text/markdown": [
       "## LedgerX Just Gave Us Another Way to Bet Against Bitcoin"
      ],
      "text/plain": [
       "<IPython.core.display.Markdown object>"
      ]
     },
     "metadata": {},
     "output_type": "display_data"
    },
    {
     "data": {
      "text/markdown": [
       "A federally regulated one."
      ],
      "text/plain": [
       "<IPython.core.display.Markdown object>"
      ]
     },
     "metadata": {},
     "output_type": "display_data"
    },
    {
     "data": {
      "text/markdown": [
       "[![](https://fortunedotcom.files.wordpress.com/2017/07/gettyimages-453930219.jpg?w=720)](http://fortune.com/2017/07/25/ledgerx-short-bitcoin-cryptocurrency/)"
      ],
      "text/plain": [
       "<IPython.core.display.Markdown object>"
      ]
     },
     "metadata": {},
     "output_type": "display_data"
    },
    {
     "data": {
      "text/markdown": [
       "## Calm Down, Internet: Microsoft Paint Isn’t Going Anywhere"
      ],
      "text/plain": [
       "<IPython.core.display.Markdown object>"
      ]
     },
     "metadata": {},
     "output_type": "display_data"
    },
    {
     "data": {
      "text/markdown": [
       "The original digital drawing app is here to stay."
      ],
      "text/plain": [
       "<IPython.core.display.Markdown object>"
      ]
     },
     "metadata": {},
     "output_type": "display_data"
    },
    {
     "data": {
      "text/markdown": [
       "[![](https://fortunedotcom.files.wordpress.com/2017/07/gettyimages-618295542.jpg?w=720)](http://fortune.com/2017/07/25/microsoft-paint-not-killed-windows/)"
      ],
      "text/plain": [
       "<IPython.core.display.Markdown object>"
      ]
     },
     "metadata": {},
     "output_type": "display_data"
    },
    {
     "data": {
      "text/markdown": [
       "## Deutsche Bank May Take $350 Billion Out of London Post-Brexit"
      ],
      "text/plain": [
       "<IPython.core.display.Markdown object>"
      ]
     },
     "metadata": {},
     "output_type": "display_data"
    },
    {
     "data": {
      "text/markdown": [
       "The specifics of Brexit haven't been ironed out yet, but some banks are considering a move."
      ],
      "text/plain": [
       "<IPython.core.display.Markdown object>"
      ]
     },
     "metadata": {},
     "output_type": "display_data"
    },
    {
     "data": {
      "text/markdown": [
       "[![](https://fortunedotcom.files.wordpress.com/2017/07/gettyimages-123871039.jpg?w=720)](http://fortune.com/2017/07/25/deutsche-bank-brexit-frankfurt/)"
      ],
      "text/plain": [
       "<IPython.core.display.Markdown object>"
      ]
     },
     "metadata": {},
     "output_type": "display_data"
    },
    {
     "data": {
      "text/markdown": [
       "## You’ve Never Heard of HNA Group. Here’s Why You Will."
      ],
      "text/plain": [
       "<IPython.core.display.Markdown object>"
      ]
     },
     "metadata": {},
     "output_type": "display_data"
    },
    {
     "data": {
      "text/markdown": [
       "The ambitious $53 billion Chinese conglomerate already owns a company near you."
      ],
      "text/plain": [
       "<IPython.core.display.Markdown object>"
      ]
     },
     "metadata": {},
     "output_type": "display_data"
    },
    {
     "data": {
      "text/markdown": [
       "[![](https://fortunedotcom.files.wordpress.com/2017/07/hna_08-01-17_web.jpg?w=720)](http://fortune.com/2017/07/24/fortune-global-500-hna-group-china/)"
      ],
      "text/plain": [
       "<IPython.core.display.Markdown object>"
      ]
     },
     "metadata": {},
     "output_type": "display_data"
    },
    {
     "data": {
      "text/markdown": [
       "## Anthony Scaramucci’s ‘Hair and Makeup’ Advice Didn’t Go Over Well"
      ],
      "text/plain": [
       "<IPython.core.display.Markdown object>"
      ]
     },
     "metadata": {},
     "output_type": "display_data"
    },
    {
     "data": {
      "text/markdown": [
       "It’s drawing cries of sexism."
      ],
      "text/plain": [
       "<IPython.core.display.Markdown object>"
      ]
     },
     "metadata": {},
     "output_type": "display_data"
    },
    {
     "data": {
      "text/markdown": [
       "[![](https://fortunedotcom.files.wordpress.com/2017/07/mucci.gif?w=820&h=570&crop=1)](http://fortune.com/video/2017/07/24/anthony-scaramucci-sexism/)"
      ],
      "text/plain": [
       "<IPython.core.display.Markdown object>"
      ]
     },
     "metadata": {},
     "output_type": "display_data"
    },
    {
     "data": {
      "text/markdown": [
       "## Women Are Not ‘Discount Items,’ Says BBC Host Amid Broadcaster’s Equal Pay Fight"
      ],
      "text/plain": [
       "<IPython.core.display.Markdown object>"
      ]
     },
     "metadata": {},
     "output_type": "display_data"
    },
    {
     "data": {
      "text/markdown": [
       "Anchor Clare Balding is part of a new working group aimed at addressing the network's pay gap."
      ],
      "text/plain": [
       "<IPython.core.display.Markdown object>"
      ]
     },
     "metadata": {},
     "output_type": "display_data"
    },
    {
     "data": {
      "text/markdown": [
       "[![](https://fortunedotcom.files.wordpress.com/2017/07/666986946.jpg?w=720)](http://fortune.com/2017/07/25/bbc-gender-pay-gap-clare-balding/)"
      ],
      "text/plain": [
       "<IPython.core.display.Markdown object>"
      ]
     },
     "metadata": {},
     "output_type": "display_data"
    },
    {
     "data": {
      "text/markdown": [
       "## Uber Has a New Insurance Plan in France"
      ],
      "text/plain": [
       "<IPython.core.display.Markdown object>"
      ]
     },
     "metadata": {},
     "output_type": "display_data"
    },
    {
     "data": {
      "text/markdown": [
       "On top of a new benefit package in various countries."
      ],
      "text/plain": [
       "<IPython.core.display.Markdown object>"
      ]
     },
     "metadata": {},
     "output_type": "display_data"
    },
    {
     "data": {
      "text/markdown": [
       "[![](https://fortunedotcom.files.wordpress.com/2014/12/94908721.jpg?w=720)](http://fortune.com/2017/07/25/uber-insurance-france-axa/)"
      ],
      "text/plain": [
       "<IPython.core.display.Markdown object>"
      ]
     },
     "metadata": {},
     "output_type": "display_data"
    },
    {
     "data": {
      "text/markdown": [
       "## Girl Scouts Can Now Earn Badges for Designing Race Cars and Programming Robots"
      ],
      "text/plain": [
       "<IPython.core.display.Markdown object>"
      ]
     },
     "metadata": {},
     "output_type": "display_data"
    },
    {
     "data": {
      "text/markdown": [
       "Girls can start earning them today."
      ],
      "text/plain": [
       "<IPython.core.display.Markdown object>"
      ]
     },
     "metadata": {},
     "output_type": "display_data"
    },
    {
     "data": {
      "text/markdown": [
       "[![](https://fortunedotcom.files.wordpress.com/2016/03/gettyimages-161612293.jpg?w=720)](http://fortune.com/2017/07/25/girl-scouts-new-badges-stem-outdoors/)"
      ],
      "text/plain": [
       "<IPython.core.display.Markdown object>"
      ]
     },
     "metadata": {},
     "output_type": "display_data"
    },
    {
     "data": {
      "text/markdown": [
       "## Why Amazon Isn’t Fazed by Brexit"
      ],
      "text/plain": [
       "<IPython.core.display.Markdown object>"
      ]
     },
     "metadata": {},
     "output_type": "display_data"
    },
    {
     "data": {
      "text/markdown": [
       "It’s not having having problems recruiting staff, either."
      ],
      "text/plain": [
       "<IPython.core.display.Markdown object>"
      ]
     },
     "metadata": {},
     "output_type": "display_data"
    },
    {
     "data": {
      "text/markdown": [
       "[![](https://fortunedotcom.files.wordpress.com/2017/02/2017-02-20t001651z_1344428742_rc1c17bf28e0_rtrmadp_3_amazon-com-employment.jpg?w=720)](http://fortune.com/2017/07/25/amazon-uk-jobs-brexit/)"
      ],
      "text/plain": [
       "<IPython.core.display.Markdown object>"
      ]
     },
     "metadata": {},
     "output_type": "display_data"
    },
    {
     "data": {
      "text/markdown": [
       "# Business Insider"
      ],
      "text/plain": [
       "<IPython.core.display.Markdown object>"
      ]
     },
     "metadata": {},
     "output_type": "display_data"
    },
    {
     "data": {
      "text/markdown": [
       "## Öffentlicher Haushalt: Warum die Politik immer mehr Geld ausgibt"
      ],
      "text/plain": [
       "<IPython.core.display.Markdown object>"
      ]
     },
     "metadata": {},
     "output_type": "display_data"
    },
    {
     "data": {
      "text/markdown": [
       "In diesem Jahr wird der Bund so viel Geld ausgeben wie nie zuvor, 2018 sogar noch mehr. Warum wachsende Staatsausgaben eine Art Naturgesetz sind und Sparen keine Lobby hat – Geld ausgeben aber schon."
      ],
      "text/plain": [
       "<IPython.core.display.Markdown object>"
      ]
     },
     "metadata": {},
     "output_type": "display_data"
    },
    {
     "data": {
      "text/markdown": [
       "[![](http://www.wiwo.de/images/staatsausgaben-oeffentlicher-haushalt-2017-get/20102240/3-format2101.png)](http://www.wiwo.de/politik/konjunktur/oeffentlicher-haushalt-warum-die-politik-immer-mehr-geld-ausgibt/20083154.html)"
      ],
      "text/plain": [
       "<IPython.core.display.Markdown object>"
      ]
     },
     "metadata": {},
     "output_type": "display_data"
    },
    {
     "data": {
      "text/markdown": [
       "## Drillisch: Aktionäre genehmigen Übernahme durch United Internet"
      ],
      "text/plain": [
       "<IPython.core.display.Markdown object>"
      ]
     },
     "metadata": {},
     "output_type": "display_data"
    },
    {
     "data": {
      "text/markdown": [
       "Die Aktionäre des Mobilfunkanbieters Drillisch geben grünes Licht für die Übernahme durch United Internet. Gemeinsam wollen die beiden Unternehmen den Marktführeren Telekom, Vodafone und O2 näherrücken."
      ],
      "text/plain": [
       "<IPython.core.display.Markdown object>"
      ]
     },
     "metadata": {},
     "output_type": "display_data"
    },
    {
     "data": {
      "text/markdown": [
       "[![](http://www.handelsblatt.com/images/ralph-dommermuth/20104274/3-format2101.jpg)](http://www.handelsblatt.com/unternehmen/it-medien/drillisch-aktionaere-genehmigen-uebernahme-durch-united-internet/20104244.html)"
      ],
      "text/plain": [
       "<IPython.core.display.Markdown object>"
      ]
     },
     "metadata": {},
     "output_type": "display_data"
    },
    {
     "data": {
      "text/markdown": [
       "## Studie warnt: Brexit kann deutsche Lieferketten sprengen"
      ],
      "text/plain": [
       "<IPython.core.display.Markdown object>"
      ]
     },
     "metadata": {},
     "output_type": "display_data"
    },
    {
     "data": {
      "text/markdown": [
       "Laut einer Studie könnte der Brexit die weit verzweigten Lieferketten der deutschen Schlüsselindustrien gefährden. Zölle und andere Kosten könnten die Preise in die Höhe treiben."
      ],
      "text/plain": [
       "<IPython.core.display.Markdown object>"
      ]
     },
     "metadata": {},
     "output_type": "display_data"
    },
    {
     "data": {
      "text/markdown": [
       "[![](http://www.wiwo.de/images/brexit/20104302/2-format2101.jpg)](http://www.wiwo.de/politik/europa/studie-warnt-brexit-kann-deutsche-lieferketten-sprengen/20104268.html)"
      ],
      "text/plain": [
       "<IPython.core.display.Markdown object>"
      ]
     },
     "metadata": {},
     "output_type": "display_data"
    },
    {
     "data": {
      "text/markdown": [
       "## Düsseldorfer Terrassengespräche: Was tun gegen Lügen im Netz?"
      ],
      "text/plain": [
       "<IPython.core.display.Markdown object>"
      ]
     },
     "metadata": {},
     "output_type": "display_data"
    },
    {
     "data": {
      "text/markdown": [
       "Spätestens seit der US-Präsidentschaftswahl hat es das Schlagwort „Fake-News“ auch nach Deutschland geschafft. Doch was ist dran an der viel beschworenen Gefahr und was steht uns noch bevor? Eine Spurensuche."
      ],
      "text/plain": [
       "<IPython.core.display.Markdown object>"
      ]
     },
     "metadata": {},
     "output_type": "display_data"
    },
    {
     "data": {
      "text/markdown": [
       "[![](http://www.handelsblatt.com/images/fake-news-bundestagswahl-und-die-verantwortung-der-medien/20104098/3-format2101.jpg)](http://www.handelsblatt.com/unternehmen/it-medien/duesseldorfer-terrassengespraeche-was-tun-gegen-luegen-im-netz/20102898.html)"
      ],
      "text/plain": [
       "<IPython.core.display.Markdown object>"
      ]
     },
     "metadata": {},
     "output_type": "display_data"
    },
    {
     "data": {
      "text/markdown": [
       "## Österreichische Raiffeisen-Bank: Gewinnsprung nach der Megafusion"
      ],
      "text/plain": [
       "<IPython.core.display.Markdown object>"
      ]
     },
     "metadata": {},
     "output_type": "display_data"
    },
    {
     "data": {
      "text/markdown": [
       "Die österreichische Raiffeisen-Bank International hat im zweiten Quartal einen deutlichen Gewinnsprung hingelegt – dank geringer Kreditrücklagen. Das Geldhaus wurde zuletzt mit der Raiffeisen-Zentralbank fusioniert."
      ],
      "text/plain": [
       "<IPython.core.display.Markdown object>"
      ]
     },
     "metadata": {},
     "output_type": "display_data"
    },
    {
     "data": {
      "text/markdown": [
       "[![](http://www.handelsblatt.com/images/raiffeisen-bank-international/20104138/2-format2101.jpg)](http://www.handelsblatt.com/finanzen/banken-versicherungen/oesterreichische-raiffeisen-bank-gewinnsprung-nach-der-megafusion/20104128.html)"
      ],
      "text/plain": [
       "<IPython.core.display.Markdown object>"
      ]
     },
     "metadata": {},
     "output_type": "display_data"
    },
    {
     "data": {
      "text/markdown": [
       "## 1&1, gmx.de & Co.: United Internet kann Drillisch übernehmen"
      ],
      "text/plain": [
       "<IPython.core.display.Markdown object>"
      ]
     },
     "metadata": {},
     "output_type": "display_data"
    },
    {
     "data": {
      "text/markdown": [
       "Fast 98 Prozent der Drillisch-Aktionäre stimmen für die Übernahme durch United Internet. Durch den Schulterschluss entsteht ein Konzern mit mehr als drei Milliarden Euro Umsatz und rund acht Millionen Handy-Nutzern."
      ],
      "text/plain": [
       "<IPython.core.display.Markdown object>"
      ]
     },
     "metadata": {},
     "output_type": "display_data"
    },
    {
     "data": {
      "text/markdown": [
       "[![](http://www.wiwo.de/images/internetunternehmen-1und1/20104262/2-format2101.jpg)](http://www.wiwo.de/unternehmen/it/1und1-gmx-de-und-co-united-internet-kann-drillisch-uebernehmen/20104238.html)"
      ],
      "text/plain": [
       "<IPython.core.display.Markdown object>"
      ]
     },
     "metadata": {},
     "output_type": "display_data"
    },
    {
     "data": {
      "text/markdown": [
       "## NSU-Prozess: Bundesanwalt fordert Verurteilung Zschäpes als Mittäterin"
      ],
      "text/plain": [
       "<IPython.core.display.Markdown object>"
      ]
     },
     "metadata": {},
     "output_type": "display_data"
    },
    {
     "data": {
      "text/markdown": [
       "Die Bundesanwaltschaft hat zu Beginn ihres Plädoyers im NSU-Prozess die Verurteilung der Hauptangeklagten Beate Zschäpe gefordert. Die Vorwürfe der Anklage gegen sie und ihre Mitangeklagten hätten sich in allen Punkten bestätigt."
      ],
      "text/plain": [
       "<IPython.core.display.Markdown object>"
      ]
     },
     "metadata": {},
     "output_type": "display_data"
    },
    {
     "data": {
      "text/markdown": [
       "[![](http://www.handelsblatt.com/images/beate-zschaepe/20104236/2-format2101.jpg)](http://www.handelsblatt.com/politik/deutschland/nsu-prozess-bundesanwalt-fordert-verurteilung-zschaepes-als-mittaeterin/20104206.html)"
      ],
      "text/plain": [
       "<IPython.core.display.Markdown object>"
      ]
     },
     "metadata": {},
     "output_type": "display_data"
    },
    {
     "data": {
      "text/markdown": [
       "## Berliner Flughafenchef: „Tegel-Sanierung würde eine Milliarde kosten“"
      ],
      "text/plain": [
       "<IPython.core.display.Markdown object>"
      ]
     },
     "metadata": {},
     "output_type": "display_data"
    },
    {
     "data": {
      "text/markdown": [
       "In Berlin wird offen darüber debattiert, ob der Flughafen Tegel nach der Eröffnung des BER weiterbetrieben werden soll. Der Berliner Flughafenchef Lütke-Daldrup ist da skeptisch. Ein Doppelbetrieb sei „unwirtschaftlich“."
      ],
      "text/plain": [
       "<IPython.core.display.Markdown object>"
      ]
     },
     "metadata": {},
     "output_type": "display_data"
    },
    {
     "data": {
      "text/markdown": [
       "[![](http://www.handelsblatt.com/images/flughafen-tegel/20104208/2-format2101.jpg)](http://www.handelsblatt.com/unternehmen/handel-konsumgueter/berliner-flughafenchef-tegel-sanierung-wuerde-eine-milliarde-kosten/20104196.html)"
      ],
      "text/plain": [
       "<IPython.core.display.Markdown object>"
      ]
     },
     "metadata": {},
     "output_type": "display_data"
    },
    {
     "data": {
      "text/markdown": [
       "## Kampf gegen Cyberkriminalität: Luft- und Raumfahrtagentur DLR erweitert Forschungstätigkeit"
      ],
      "text/plain": [
       "<IPython.core.display.Markdown object>"
      ]
     },
     "metadata": {},
     "output_type": "display_data"
    },
    {
     "data": {
      "text/markdown": [
       "Das Deutsche Zentrum für Luft- und Raumfahrt will künftig Lösungen im Kampf gegen Cyberkriminalität anbieten. Die Raumfahrtagentur will sich fit für die Zukunft machen – und erschließt auch weitere Forschungsfelder."
      ],
      "text/plain": [
       "<IPython.core.display.Markdown object>"
      ]
     },
     "metadata": {},
     "output_type": "display_data"
    },
    {
     "data": {
      "text/markdown": [
       "[![](http://www.handelsblatt.com/images/dlr/20103100/2-format2101.jpg)](http://www.handelsblatt.com/technik/forschung-innovation/kampf-gegen-cyberkriminalitaet-luft-und-raumfahrtagentur-dlr-erweitert-forschungstaetigkeit/20103082.html)"
      ],
      "text/plain": [
       "<IPython.core.display.Markdown object>"
      ]
     },
     "metadata": {},
     "output_type": "display_data"
    },
    {
     "data": {
      "text/markdown": [
       "## Angriff auf Sessions: Trump knöpft sich erneut seinen Justizminister vor"
      ],
      "text/plain": [
       "<IPython.core.display.Markdown object>"
      ]
     },
     "metadata": {},
     "output_type": "display_data"
    },
    {
     "data": {
      "text/markdown": [
       "„Sehr schwach“: So äußert sich Donald Trump über seinen Justizminister auf Twitter. Der US-Präsident hat sich auf Jeff Sessions eingeschossen, der auch eine wichtige Rolle in Trumps Russland-Affäre spielen soll."
      ],
      "text/plain": [
       "<IPython.core.display.Markdown object>"
      ]
     },
     "metadata": {},
     "output_type": "display_data"
    },
    {
     "data": {
      "text/markdown": [
       "[![](http://www.handelsblatt.com/images/sessions-unter-druck/20104142/2-format2101.jpg)](http://www.handelsblatt.com/politik/international/angriff-auf-sessions-trump-knoepft-sich-erneut-seinen-justizminister-vor/20104086.html)"
      ],
      "text/plain": [
       "<IPython.core.display.Markdown object>"
      ]
     },
     "metadata": {},
     "output_type": "display_data"
    },
    {
     "data": {
      "text/markdown": [
       "# Die Zeit"
      ],
      "text/plain": [
       "<IPython.core.display.Markdown object>"
      ]
     },
     "metadata": {},
     "output_type": "display_data"
    },
    {
     "data": {
      "text/markdown": [
       "## Energiedienstleister: Hongkong-Investor hat bei Ista gute Karten"
      ],
      "text/plain": [
       "<IPython.core.display.Markdown object>"
      ]
     },
     "metadata": {},
     "output_type": "display_data"
    },
    {
     "data": {
      "text/markdown": [
       "Im Bieterstreit um den Energiedienstleister Ista hat der chinesische Investor CK Infrastructure offenbar gute Chancen. Der Kaufpreis für das Essener Unternehmen liegt laut einem Bericht bei mehr als 4,5 Milliarden Euro."
      ],
      "text/plain": [
       "<IPython.core.display.Markdown object>"
      ]
     },
     "metadata": {},
     "output_type": "display_data"
    },
    {
     "data": {
      "text/markdown": [
       "[![](http://www.handelsblatt.com/images/energiedienstleister-ista/20104294/3-format2010.jpg)](http://www.handelsblatt.com/unternehmen/energie/energiedienstleister-hongkong-investor-hat-bei-ista-gute-karten/20104272.html)"
      ],
      "text/plain": [
       "<IPython.core.display.Markdown object>"
      ]
     },
     "metadata": {},
     "output_type": "display_data"
    },
    {
     "data": {
      "text/markdown": [
       "## Drillisch: Aktionäre genehmigen Übernahme durch United Internet"
      ],
      "text/plain": [
       "<IPython.core.display.Markdown object>"
      ]
     },
     "metadata": {},
     "output_type": "display_data"
    },
    {
     "data": {
      "text/markdown": [
       "Die Aktionäre des Mobilfunkanbieters Drillisch geben grünes Licht für die Übernahme durch United Internet. Gemeinsam wollen die beiden Unternehmen den Marktführeren Telekom, Vodafone und O2 näherrücken."
      ],
      "text/plain": [
       "<IPython.core.display.Markdown object>"
      ]
     },
     "metadata": {},
     "output_type": "display_data"
    },
    {
     "data": {
      "text/markdown": [
       "[![](http://www.handelsblatt.com/images/ralph-dommermuth/20104274/3-format2010.jpg)](http://www.handelsblatt.com/unternehmen/it-medien/drillisch-aktionaere-genehmigen-uebernahme-durch-united-internet/20104244.html)"
      ],
      "text/plain": [
       "<IPython.core.display.Markdown object>"
      ]
     },
     "metadata": {},
     "output_type": "display_data"
    },
    {
     "data": {
      "text/markdown": [
       "## Düsseldorfer Terrassengespräche: Was tun gegen Lügen im Netz?"
      ],
      "text/plain": [
       "<IPython.core.display.Markdown object>"
      ]
     },
     "metadata": {},
     "output_type": "display_data"
    },
    {
     "data": {
      "text/markdown": [
       "Spätestens seit der US-Präsidentschaftswahl hat es das Schlagwort „Fake-News“ auch nach Deutschland geschafft. Doch was ist dran an der viel beschworenen Gefahr und was steht uns noch bevor? Eine Spurensuche."
      ],
      "text/plain": [
       "<IPython.core.display.Markdown object>"
      ]
     },
     "metadata": {},
     "output_type": "display_data"
    },
    {
     "data": {
      "text/markdown": [
       "[![](http://www.handelsblatt.com/images/fake-news-bundestagswahl-und-die-verantwortung-der-medien/20104098/3-format2010.jpg)](http://www.handelsblatt.com/unternehmen/it-medien/duesseldorfer-terrassengespraeche-was-tun-gegen-luegen-im-netz/20102898.html)"
      ],
      "text/plain": [
       "<IPython.core.display.Markdown object>"
      ]
     },
     "metadata": {},
     "output_type": "display_data"
    },
    {
     "data": {
      "text/markdown": [
       "## Düsseldorfer Terrassengespräche: Hilfe gegen Falschnachrichten"
      ],
      "text/plain": [
       "<IPython.core.display.Markdown object>"
      ]
     },
     "metadata": {},
     "output_type": "display_data"
    },
    {
     "data": {
      "text/markdown": [
       "Wie sieht der richtige Umgang mit den sogenannten Fake-News aus? Nicht nur Experten waren gefragt, auch das Publikum der Düsseldorfer Terrassengespräche diskutierte kräftig mit."
      ],
      "text/plain": [
       "<IPython.core.display.Markdown object>"
      ]
     },
     "metadata": {},
     "output_type": "display_data"
    },
    {
     "data": {
      "text/markdown": [
       "[![](http://www.handelsblatt.com/images/was-tun-gegen-fake-news/20103776/4-format2010.jpg)](http://www.handelsblatt.com/unternehmen/it-medien/duesseldorfer-terrassengespraeche-hilfe-gegen-falschnachrichten/20103320.html)"
      ],
      "text/plain": [
       "<IPython.core.display.Markdown object>"
      ]
     },
     "metadata": {},
     "output_type": "display_data"
    },
    {
     "data": {
      "text/markdown": [
       "## Österreichische Raiffeisen-Bank: Gewinnsprung nach der Megafusion"
      ],
      "text/plain": [
       "<IPython.core.display.Markdown object>"
      ]
     },
     "metadata": {},
     "output_type": "display_data"
    },
    {
     "data": {
      "text/markdown": [
       "Die österreichische Raiffeisen-Bank International hat im zweiten Quartal einen deutlichen Gewinnsprung hingelegt – dank geringer Kreditrücklagen. Das Geldhaus wurde zuletzt mit der Raiffeisen-Zentralbank fusioniert."
      ],
      "text/plain": [
       "<IPython.core.display.Markdown object>"
      ]
     },
     "metadata": {},
     "output_type": "display_data"
    },
    {
     "data": {
      "text/markdown": [
       "[![](http://www.handelsblatt.com/images/raiffeisen-bank-international/20104138/2-format2010.jpg)](http://www.handelsblatt.com/finanzen/banken-versicherungen/oesterreichische-raiffeisen-bank-gewinnsprung-nach-der-megafusion/20104128.html)"
      ],
      "text/plain": [
       "<IPython.core.display.Markdown object>"
      ]
     },
     "metadata": {},
     "output_type": "display_data"
    },
    {
     "data": {
      "text/markdown": [
       "## Fußball: Hollands Fußball-Frauen befreien sich aus Schattendasein"
      ],
      "text/plain": [
       "<IPython.core.display.Markdown object>"
      ]
     },
     "metadata": {},
     "output_type": "display_data"
    },
    {
     "data": {
      "text/markdown": [
       "Mit der Maximalausbeute von drei Siegen aus drei Gruppenspielen haben sich die niederländischen Fußballerinnen bei ihrer Heim-EM ins Viertelfinale geschossen, doch von einem Oranje-Fieber ist bisher kaum etwas zu spüren."
      ],
      "text/plain": [
       "<IPython.core.display.Markdown object>"
      ]
     },
     "metadata": {},
     "output_type": "display_data"
    },
    {
     "data": {
      "text/markdown": [
       "[![](http://www.handelsblatt.com/images/weiter/20102396/2-format2010.jpg)](http://www.handelsblatt.com/fussball-hollands-fussball-frauen-befreien-sich-aus-schattendasein/20102402.html)"
      ],
      "text/plain": [
       "<IPython.core.display.Markdown object>"
      ]
     },
     "metadata": {},
     "output_type": "display_data"
    },
    {
     "data": {
      "text/markdown": [
       "## Eishockey: Russischer Eishockey-Star Saripow wegen Dopings gesperrt"
      ],
      "text/plain": [
       "<IPython.core.display.Markdown object>"
      ]
     },
     "metadata": {},
     "output_type": "display_data"
    },
    {
     "data": {
      "text/markdown": [
       "Der Eishockey-Weltverband IIHF hat nach einer positiven Dopingprobe Danis Saripow für zwei Jahre gesperrt, einen der erfolgreichsten Spieler der Kontinentalen Hockey Liga KHL."
      ],
      "text/plain": [
       "<IPython.core.display.Markdown object>"
      ]
     },
     "metadata": {},
     "output_type": "display_data"
    },
    {
     "data": {
      "text/markdown": [
       "[![](http://www.handelsblatt.com/images/danis-saripow/20104252/1-format2010.jpg)](http://www.handelsblatt.com/eishockey-russischer-eishockey-star-saripow-wegen-dopings-gesperrt/20104254.html)"
      ],
      "text/plain": [
       "<IPython.core.display.Markdown object>"
      ]
     },
     "metadata": {},
     "output_type": "display_data"
    },
    {
     "data": {
      "text/markdown": [
       "## NSU-Prozess: Bundesanwalt fordert Verurteilung Zschäpes als Mittäterin"
      ],
      "text/plain": [
       "<IPython.core.display.Markdown object>"
      ]
     },
     "metadata": {},
     "output_type": "display_data"
    },
    {
     "data": {
      "text/markdown": [
       "Die Bundesanwaltschaft hat zu Beginn ihres Plädoyers im NSU-Prozess die Verurteilung der Hauptangeklagten Beate Zschäpe gefordert. Die Vorwürfe der Anklage gegen sie und ihre Mitangeklagten hätten sich in allen Punkten bestätigt."
      ],
      "text/plain": [
       "<IPython.core.display.Markdown object>"
      ]
     },
     "metadata": {},
     "output_type": "display_data"
    },
    {
     "data": {
      "text/markdown": [
       "[![](http://www.handelsblatt.com/images/beate-zschaepe/20104236/2-format2010.jpg)](http://www.handelsblatt.com/politik/deutschland/nsu-prozess-bundesanwalt-fordert-verurteilung-zschaepes-als-mittaeterin/20104206.html)"
      ],
      "text/plain": [
       "<IPython.core.display.Markdown object>"
      ]
     },
     "metadata": {},
     "output_type": "display_data"
    },
    {
     "data": {
      "text/markdown": [
       "## Berliner Flughafenchef: „Tegel-Sanierung würde eine Milliarde kosten“"
      ],
      "text/plain": [
       "<IPython.core.display.Markdown object>"
      ]
     },
     "metadata": {},
     "output_type": "display_data"
    },
    {
     "data": {
      "text/markdown": [
       "In Berlin wird offen darüber debattiert, ob der Flughafen Tegel nach der Eröffnung des BER weiterbetrieben werden soll. Der Berliner Flughafenchef Lütke-Daldrup ist da skeptisch. Ein Doppelbetrieb sei „unwirtschaftlich“."
      ],
      "text/plain": [
       "<IPython.core.display.Markdown object>"
      ]
     },
     "metadata": {},
     "output_type": "display_data"
    },
    {
     "data": {
      "text/markdown": [
       "[![](http://www.handelsblatt.com/images/flughafen-tegel/20104208/2-format2010.jpg)](http://www.handelsblatt.com/unternehmen/handel-konsumgueter/berliner-flughafenchef-tegel-sanierung-wuerde-eine-milliarde-kosten/20104196.html)"
      ],
      "text/plain": [
       "<IPython.core.display.Markdown object>"
      ]
     },
     "metadata": {},
     "output_type": "display_data"
    },
    {
     "data": {
      "text/markdown": [
       "## Kampf gegen Cyberkriminalität: Luft- und Raumfahrtagentur DLR erweitert Forschungstätigkeit"
      ],
      "text/plain": [
       "<IPython.core.display.Markdown object>"
      ]
     },
     "metadata": {},
     "output_type": "display_data"
    },
    {
     "data": {
      "text/markdown": [
       "Das Deutsche Zentrum für Luft- und Raumfahrt will künftig Lösungen im Kampf gegen Cyberkriminalität anbieten. Die Raumfahrtagentur will sich fit für die Zukunft machen – und erschließt auch weitere Forschungsfelder."
      ],
      "text/plain": [
       "<IPython.core.display.Markdown object>"
      ]
     },
     "metadata": {},
     "output_type": "display_data"
    },
    {
     "data": {
      "text/markdown": [
       "[![](http://www.handelsblatt.com/images/dlr/20103100/2-format2010.jpg)](http://www.handelsblatt.com/technik/forschung-innovation/kampf-gegen-cyberkriminalitaet-luft-und-raumfahrtagentur-dlr-erweitert-forschungstaetigkeit/20103082.html)"
      ],
      "text/plain": [
       "<IPython.core.display.Markdown object>"
      ]
     },
     "metadata": {},
     "output_type": "display_data"
    },
    {
     "data": {
      "text/markdown": [
       "# CNBC"
      ],
      "text/plain": [
       "<IPython.core.display.Markdown object>"
      ]
     },
     "metadata": {},
     "output_type": "display_data"
    },
    {
     "data": {
      "text/markdown": [
       "## Schwarzrost: Böses Erwachen"
      ],
      "text/plain": [
       "<IPython.core.display.Markdown object>"
      ]
     },
     "metadata": {},
     "output_type": "display_data"
    },
    {
     "data": {
      "text/markdown": [
       "Weizenschwarzrost – nie gehört? Der Schadpilz galt schon als besiegt. Doch jetzt gibt es eine neue Sorte, die Landwirte in Schrecken versetzt."
      ],
      "text/plain": [
       "<IPython.core.display.Markdown object>"
      ]
     },
     "metadata": {},
     "output_type": "display_data"
    },
    {
     "data": {
      "text/markdown": [
       "[![](http://img.zeit.de/2017/30/n-rostpilze_img-0/wide__1300x731)](http://www.zeit.de/2017/30/schwarzrost-pilz-weizen-berberitze-ug99)"
      ],
      "text/plain": [
       "<IPython.core.display.Markdown object>"
      ]
     },
     "metadata": {},
     "output_type": "display_data"
    },
    {
     "data": {
      "text/markdown": [
       "## Vinyl-Schallplatten: \"Das Knistern gibt eine Wärme\""
      ],
      "text/plain": [
       "<IPython.core.display.Markdown object>"
      ]
     },
     "metadata": {},
     "output_type": "display_data"
    },
    {
     "data": {
      "text/markdown": [
       "In Südafrika fand Sammler Max sein Lieblingsding, als er gar nicht danach gesucht hatte. Über eine ganz besondere Begegnung erzählt er in diesem Video."
      ],
      "text/plain": [
       "<IPython.core.display.Markdown object>"
      ]
     },
     "metadata": {},
     "output_type": "display_data"
    },
    {
     "data": {
      "text/markdown": [
       "[![](http://img.zeit.de/video/2017-06/5481324166001/imagegroup/wide__1300x731)](http://www.zeit.de/video/2017-06/5481324166001/vinyl-schallplatten-das-knistern-gibt-eine-waerme)"
      ],
      "text/plain": [
       "<IPython.core.display.Markdown object>"
      ]
     },
     "metadata": {},
     "output_type": "display_data"
    },
    {
     "data": {
      "text/markdown": [
       "## NSU-Prozess: Anklage fordert Zschäpes Verurteilung als Mittäterin"
      ],
      "text/plain": [
       "<IPython.core.display.Markdown object>"
      ]
     },
     "metadata": {},
     "output_type": "display_data"
    },
    {
     "data": {
      "text/markdown": [
       "Mitgründerin und Mittäterin des NSU: Die Bundesanwaltschaft sieht die Vorwürfe gegen die Hauptangeklagte Zschäpe bestätigt. Damit droht ihr lebenslange Haft wegen Mordes."
      ],
      "text/plain": [
       "<IPython.core.display.Markdown object>"
      ]
     },
     "metadata": {},
     "output_type": "display_data"
    },
    {
     "data": {
      "text/markdown": [
       "[![](http://img.zeit.de/gesellschaft/zeitgeschehen/2017-07/beate-zschaepe-verurteilung-mittaeter/wide__1300x731)](http://www.zeit.de/gesellschaft/zeitgeschehen/2017-07/nsu-prozess-anklage-fordert-zschaepes-verurteilung-als-mittaeterin)"
      ],
      "text/plain": [
       "<IPython.core.display.Markdown object>"
      ]
     },
     "metadata": {},
     "output_type": "display_data"
    },
    {
     "data": {
      "text/markdown": [
       "## Können wir in zwei Menschen gleichzeitig verliebt sein?"
      ],
      "text/plain": [
       "<IPython.core.display.Markdown object>"
      ]
     },
     "metadata": {},
     "output_type": "display_data"
    },
    {
     "data": {
      "text/markdown": [
       "Verliebtsein an sich reicht den Meisten schon, um völlig überfordert zu sein. Was aber, wenn das Herz gleich für zwei Menschen auf einmal schlägt? Kann das überhaupt sein?"
      ],
      "text/plain": [
       "<IPython.core.display.Markdown object>"
      ]
     },
     "metadata": {},
     "output_type": "display_data"
    },
    {
     "data": {
      "text/markdown": [
       "[![](http://ze.tt/wp-content/uploads/2017/07/verliebt_zwei_liebe_single--e1500966646557.jpeg)](http://ze.tt/koennen-wir-in-zwei-menschen-gleichzeitig-verliebt-sein/)"
      ],
      "text/plain": [
       "<IPython.core.display.Markdown object>"
      ]
     },
     "metadata": {},
     "output_type": "display_data"
    },
    {
     "data": {
      "text/markdown": [
       "## Plastikmüll: Nie wieder ohne Beutel zu Aldi"
      ],
      "text/plain": [
       "<IPython.core.display.Markdown object>"
      ]
     },
     "metadata": {},
     "output_type": "display_data"
    },
    {
     "data": {
      "text/markdown": [
       "Auf Plastiktüten verzichten bereits viele Supermärkte. Aldi verbannt sogar die aus Papier. Richtig so. Wie umweltfreundlich Alternativen sind? Eine Kartengeschichte"
      ],
      "text/plain": [
       "<IPython.core.display.Markdown object>"
      ]
     },
     "metadata": {},
     "output_type": "display_data"
    },
    {
     "data": {
      "text/markdown": [
       "[![](http://img.zeit.de/wissen/umwelt/2017-07/meeresschildkroete-plastik-meer/wide__1300x731)](http://www.zeit.de/wissen/umwelt/2017-07/plastikmuell-plastiktuete-aldi-papiertuete-supermarkt-jute-umwelt)"
      ],
      "text/plain": [
       "<IPython.core.display.Markdown object>"
      ]
     },
     "metadata": {},
     "output_type": "display_data"
    },
    {
     "data": {
      "text/markdown": [
       "## NSU-Prozess: Die Plädoyers haben begonnen"
      ],
      "text/plain": [
       "<IPython.core.display.Markdown object>"
      ]
     },
     "metadata": {},
     "output_type": "display_data"
    },
    {
     "data": {
      "text/markdown": [
       "Nach mehr als vier Jahren beginnen die Ankläger im NSU-Prozess mit ihrem Plädoyer. Alle Nachrichten und Hintergründe"
      ],
      "text/plain": [
       "<IPython.core.display.Markdown object>"
      ]
     },
     "metadata": {},
     "output_type": "display_data"
    },
    {
     "data": {
      "text/markdown": [
       "[![](http://img.zeit.de/politik/deutschland/2017-07/nsu-prozess-thema/wide__1300x731)](http://www.zeit.de/thema/nsu-prozess)"
      ],
      "text/plain": [
       "<IPython.core.display.Markdown object>"
      ]
     },
     "metadata": {},
     "output_type": "display_data"
    },
    {
     "data": {
      "text/markdown": [
       "## Japan: Wie nett war Premier Abe zu seinen Freunden?"
      ],
      "text/plain": [
       "<IPython.core.display.Markdown object>"
      ]
     },
     "metadata": {},
     "output_type": "display_data"
    },
    {
     "data": {
      "text/markdown": [
       "Japans Premier Shinzo Abe war lange unangreifbar als Partei- und Regierungschef. Doch sein Rückhalt schwindet: Er soll unter Freunden Gefälligkeiten verteilt haben."
      ],
      "text/plain": [
       "<IPython.core.display.Markdown object>"
      ]
     },
     "metadata": {},
     "output_type": "display_data"
    },
    {
     "data": {
      "text/markdown": [
       "[![](http://img.zeit.de/politik/ausland/2017-07/japan-shinzo-abe/wide__1300x731)](http://www.zeit.de/politik/ausland/2017-07/japan-shinzo-abe-opposition-falschaussage-vorwurf)"
      ],
      "text/plain": [
       "<IPython.core.display.Markdown object>"
      ]
     },
     "metadata": {},
     "output_type": "display_data"
    },
    {
     "data": {
      "text/markdown": [
       "## Polen: Duda stimmt einer der Justizreformen zu"
      ],
      "text/plain": [
       "<IPython.core.display.Markdown object>"
      ]
     },
     "metadata": {},
     "output_type": "display_data"
    },
    {
     "data": {
      "text/markdown": [
       "Teilerfolg für die polnische Regierung: Eines von drei Reformgesetzen wird in Kraft treten. Gegen die anderen beiden hatte Präsident Duda sein Veto angekündigt."
      ],
      "text/plain": [
       "<IPython.core.display.Markdown object>"
      ]
     },
     "metadata": {},
     "output_type": "display_data"
    },
    {
     "data": {
      "text/markdown": [
       "[![](http://img.zeit.de/politik/ausland/2017-07/polen-andrzej-duda-3/wide__1300x731)](http://www.zeit.de/politik/ausland/2017-07/polen-andrzej-duda-justizreform-unterschrift)"
      ],
      "text/plain": [
       "<IPython.core.display.Markdown object>"
      ]
     },
     "metadata": {},
     "output_type": "display_data"
    },
    {
     "data": {
      "text/markdown": [
       "## Onlinebanking: BGH schränkt Bankgebühren für SMS-TAN ein"
      ],
      "text/plain": [
       "<IPython.core.display.Markdown object>"
      ]
     },
     "metadata": {},
     "output_type": "display_data"
    },
    {
     "data": {
      "text/markdown": [
       "Bankkunden müssen nur für SMS-TAN Gebühren zahlen, wenn sie den Code tatsächlich für einen Zahlungsauftrag nutzen. Das hat der Bundesgerichtshof entschieden."
      ],
      "text/plain": [
       "<IPython.core.display.Markdown object>"
      ]
     },
     "metadata": {},
     "output_type": "display_data"
    },
    {
     "data": {
      "text/markdown": [
       "[![](http://img.zeit.de/wirtschaft/geldanlage/2017-07/online-banking-sms-tan/wide__1300x731)](http://www.zeit.de/wirtschaft/geldanlage/2017-07/online-banking-sms-tan-bgh-urteil)"
      ],
      "text/plain": [
       "<IPython.core.display.Markdown object>"
      ]
     },
     "metadata": {},
     "output_type": "display_data"
    },
    {
     "data": {
      "text/markdown": [
       "## EU-Türkei-Gespräche: \"Absichtsbekundungen sind zu wenig\""
      ],
      "text/plain": [
       "<IPython.core.display.Markdown object>"
      ]
     },
     "metadata": {},
     "output_type": "display_data"
    },
    {
     "data": {
      "text/markdown": [
       "Kurz vor seinem Treffen mit türkischen Ministern macht Erweiterungskommissar Hahn die Haltung der EU deutlich: Europa erwarte \"reale Taten\" von der Regierung in Ankara."
      ],
      "text/plain": [
       "<IPython.core.display.Markdown object>"
      ]
     },
     "metadata": {},
     "output_type": "display_data"
    },
    {
     "data": {
      "text/markdown": [
       "[![](http://img.zeit.de/politik/ausland/2017-07/eu-tuerkei-gespraeche/wide__1300x731)](http://www.zeit.de/politik/ausland/2017-07/eu-tuerkei-gespraeche-johannes-hahn-federica-mogherini-aussenminister-treffen)"
      ],
      "text/plain": [
       "<IPython.core.display.Markdown object>"
      ]
     },
     "metadata": {},
     "output_type": "display_data"
    }
   ],
   "source": [
    "#Let's do a loop over all the business news\n",
    "business_source_ids = set([source['id'] for source in sources_doc if source['category']=='business'])\n",
    "business_source_names = set([source['name'] for source in sources_doc if source['category']=='business'])\n",
    "\n",
    "for i, name in zip(business_source_ids, business_source_names):\n",
    "    printmd('# ' + name)\n",
    "    apiMdOutput(source = i);"
   ]
  },
  {
   "cell_type": "code",
   "execution_count": null,
   "metadata": {
    "collapsed": true
   },
   "outputs": [],
   "source": [
    "# Let's see how this looks in html form\n",
    "\n",
    "!jupyter nbconvert --template=nbextensions --to=html News_API.ipynb"
   ]
  },
  {
   "cell_type": "code",
   "execution_count": 54,
   "metadata": {
    "collapsed": true
   },
   "outputs": [],
   "source": [
    "%%capture cap --no-stderr\n",
    "#Let's make a smaller version of this and try to capture it\n",
    "\n",
    "apiMdOutput(source = 'bloomberg');"
   ]
  },
  {
   "cell_type": "code",
   "execution_count": 50,
   "metadata": {},
   "outputs": [
    {
     "data": {
      "text/plain": [
       "<IPython.utils.capture.CapturedIO at 0x7f5346ece860>"
      ]
     },
     "execution_count": 50,
     "metadata": {},
     "output_type": "execute_result"
    }
   ],
   "source": [
    "cap"
   ]
  },
  {
   "cell_type": "code",
   "execution_count": 51,
   "metadata": {},
   "outputs": [
    {
     "data": {
      "text/markdown": [
       "## Trump Continues Criticism of ‘Weak’ Attorney General Sessions"
      ],
      "text/plain": [
       "<IPython.core.display.Markdown object>"
      ]
     },
     "metadata": {},
     "output_type": "display_data"
    },
    {
     "data": {
      "text/markdown": [
       "President Donald Trump sharply criticized his attorney general, Jeff Sessions, on Tuesday, using the word “weak” to describe a man who was one of his earliest and most dedicated supporters."
      ],
      "text/plain": [
       "<IPython.core.display.Markdown object>"
      ]
     },
     "metadata": {},
     "output_type": "display_data"
    },
    {
     "data": {
      "text/markdown": [
       "[![](https://assets.bwbx.io/images/users/iqjWHBFdfxIU/iXVOgj5ZSSPE/v0/1200x675.jpg)](https://www.bloomberg.com/news/articles/2017-07-25/trump-continues-criticism-of-weak-attorney-general-sessions)"
      ],
      "text/plain": [
       "<IPython.core.display.Markdown object>"
      ]
     },
     "metadata": {},
     "output_type": "display_data"
    },
    {
     "data": {
      "text/markdown": [
       "## Senate GOP Set to Roll the Dice on Health Vote at Trump’s Urging"
      ],
      "text/plain": [
       "<IPython.core.display.Markdown object>"
      ]
     },
     "metadata": {},
     "output_type": "display_data"
    },
    {
     "data": {
      "text/markdown": [
       "Senate Republican leaders and President Donald Trump appear determined to begin a floor debate Tuesday on repealing Obamacare in a highly unorthodox way -- without lawmakers knowing what they’ll be voting on or where it might end up."
      ],
      "text/plain": [
       "<IPython.core.display.Markdown object>"
      ]
     },
     "metadata": {},
     "output_type": "display_data"
    },
    {
     "data": {
      "text/markdown": [
       "[![](https://assets.bwbx.io/images/users/iqjWHBFdfxIU/iQ8jkSngGVg4/v0/1200x808.jpg)](https://www.bloomberg.com/news/articles/2017-07-25/senate-gop-set-to-roll-the-dice-on-health-vote-at-trump-s-urging)"
      ],
      "text/plain": [
       "<IPython.core.display.Markdown object>"
      ]
     },
     "metadata": {},
     "output_type": "display_data"
    },
    {
     "data": {
      "text/markdown": [
       "## Tesla Buyers Antsy for Model 3 Keys Months After $1,000 Deposit"
      ],
      "text/plain": [
       "<IPython.core.display.Markdown object>"
      ]
     },
     "metadata": {},
     "output_type": "display_data"
    },
    {
     "data": {
      "text/markdown": [
       "While his high-school classmates were blowing their money on Chipotle burritos and concert tickets, Truman Hale was saving up for a Tesla. In March of last year, after years of penny pinching, he plunked down a $1,000 deposit on a Model 3."
      ],
      "text/plain": [
       "<IPython.core.display.Markdown object>"
      ]
     },
     "metadata": {},
     "output_type": "display_data"
    },
    {
     "data": {
      "text/markdown": [
       "[![](https://assets.bwbx.io/images/users/iqjWHBFdfxIU/ir0FtxLX46to/v0/1200x800.jpg)](https://www.bloomberg.com/news/articles/2017-07-25/tesla-buyers-antsy-for-model-3-keys-months-after-1-000-deposit)"
      ],
      "text/plain": [
       "<IPython.core.display.Markdown object>"
      ]
     },
     "metadata": {},
     "output_type": "display_data"
    },
    {
     "data": {
      "text/markdown": [
       "## Inside Hampton Creek’s Empty Boardroom"
      ],
      "text/plain": [
       "<IPython.core.display.Markdown object>"
      ]
     },
     "metadata": {},
     "output_type": "display_data"
    },
    {
     "data": {
      "text/markdown": [
       "The resignation of all the company’s remaining outside board members was the culmination of a year of turmoil."
      ],
      "text/plain": [
       "<IPython.core.display.Markdown object>"
      ]
     },
     "metadata": {},
     "output_type": "display_data"
    },
    {
     "data": {
      "text/markdown": [
       "[![](https://assets.bwbx.io/images/users/iqjWHBFdfxIU/iSVJOUrR6aqk/v0/1200x736.jpg)](https://www.bloomberg.com/news/articles/2017-07-25/inside-hampton-creek-s-empty-boardroom)"
      ],
      "text/plain": [
       "<IPython.core.display.Markdown object>"
      ]
     },
     "metadata": {},
     "output_type": "display_data"
    },
    {
     "data": {
      "text/markdown": [
       "## Don't Let the Dollar Fool You, Fed"
      ],
      "text/plain": [
       "<IPython.core.display.Markdown object>"
      ]
     },
     "metadata": {},
     "output_type": "display_data"
    },
    {
     "data": {
      "text/markdown": [
       "Its effect on inflation could lure the central bank into removing stimulus too soon."
      ],
      "text/plain": [
       "<IPython.core.display.Markdown object>"
      ]
     },
     "metadata": {},
     "output_type": "display_data"
    },
    {
     "data": {
      "text/markdown": [
       "[![](https://assets.bwbx.io/images/users/iqjWHBFdfxIU/i0ubZKsuseXk/v0/1200x800.jpg)](https://www.bloomberg.com/view/articles/2017-07-25/don-t-let-the-dollar-fool-you-fed)"
      ],
      "text/plain": [
       "<IPython.core.display.Markdown object>"
      ]
     },
     "metadata": {},
     "output_type": "display_data"
    },
    {
     "data": {
      "text/markdown": [
       "## Five Things You Need to Know to Start Your Day"
      ],
      "text/plain": [
       "<IPython.core.display.Markdown object>"
      ]
     },
     "metadata": {},
     "output_type": "display_data"
    },
    {
     "data": {
      "text/markdown": [
       "Get caught up on what's moving markets."
      ],
      "text/plain": [
       "<IPython.core.display.Markdown object>"
      ]
     },
     "metadata": {},
     "output_type": "display_data"
    },
    {
     "data": {
      "text/markdown": [
       "[![](https://assets.bwbx.io/images/users/iqjWHBFdfxIU/izKN9XBleYuc/v0/1200x675.png)](https://www.bloomberg.com/news/articles/2017-07-25/five-things-you-need-to-know-to-start-your-day)"
      ],
      "text/plain": [
       "<IPython.core.display.Markdown object>"
      ]
     },
     "metadata": {},
     "output_type": "display_data"
    },
    {
     "data": {
      "text/markdown": [
       "## Shale Boom May Finally Have Succumbed to Oil’s Price Slump"
      ],
      "text/plain": [
       "<IPython.core.display.Markdown object>"
      ]
     },
     "metadata": {},
     "output_type": "display_data"
    },
    {
     "data": {
      "text/markdown": [
       "Oil’s bear market may finally be taking its toll on the shale boom."
      ],
      "text/plain": [
       "<IPython.core.display.Markdown object>"
      ]
     },
     "metadata": {},
     "output_type": "display_data"
    },
    {
     "data": {
      "text/markdown": [
       "[![](https://assets.bwbx.io/images/users/iqjWHBFdfxIU/iW8VnjDheICc/v1/1200x675.jpg)](https://www.bloomberg.com/news/articles/2017-07-24/anadarko-cuts-drilling-plan-as-oil-explorers-bow-to-price-slump)"
      ],
      "text/plain": [
       "<IPython.core.display.Markdown object>"
      ]
     },
     "metadata": {},
     "output_type": "display_data"
    },
    {
     "data": {
      "text/markdown": [
       "## The Chipotle Corporate Sabotage Theory Returns"
      ],
      "text/plain": [
       "<IPython.core.display.Markdown object>"
      ]
     },
     "metadata": {},
     "output_type": "display_data"
    },
    {
     "data": {
      "text/markdown": [
       "Some people see a simple case of foodborne illness. Others see corporate sabotage."
      ],
      "text/plain": [
       "<IPython.core.display.Markdown object>"
      ]
     },
     "metadata": {},
     "output_type": "display_data"
    },
    {
     "data": {
      "text/markdown": [
       "[![](https://assets.bwbx.io/images/users/iqjWHBFdfxIU/i.zzgyDFx0O0/v0/1200x843.jpg)](https://www.bloomberg.com/news/articles/2017-07-25/the-chipotle-corporate-sabotage-theory-returns)"
      ],
      "text/plain": [
       "<IPython.core.display.Markdown object>"
      ]
     },
     "metadata": {},
     "output_type": "display_data"
    },
    {
     "data": {
      "text/markdown": [
       "## Michael Kors Steps Out With Jimmy Choo in $1.2 Billion Deal"
      ],
      "text/plain": [
       "<IPython.core.display.Markdown object>"
      ]
     },
     "metadata": {},
     "output_type": "display_data"
    },
    {
     "data": {
      "text/markdown": [
       "Michael Kors Holdings Ltd. agreed to buy Jimmy Choo Plc for about 896 million pounds ($1.2 billion), as the maker of handbags popular with the commuter set seeks to restore lost luster by adding “Sex and the City” stilettos."
      ],
      "text/plain": [
       "<IPython.core.display.Markdown object>"
      ]
     },
     "metadata": {},
     "output_type": "display_data"
    },
    {
     "data": {
      "text/markdown": [
       "[![](https://assets.bwbx.io/images/users/iqjWHBFdfxIU/iL.lwkOQHcOc/v0/1200x778.jpg)](https://www.bloomberg.com/news/articles/2017-07-25/michael-kors-in-deal-to-buy-jimmy-choo-for-about-1-2-billion)"
      ],
      "text/plain": [
       "<IPython.core.display.Markdown object>"
      ]
     },
     "metadata": {},
     "output_type": "display_data"
    },
    {
     "data": {
      "text/markdown": [
       "## Can John Cryan Save Deutsche Bank From Itself?"
      ],
      "text/plain": [
       "<IPython.core.display.Markdown object>"
      ]
     },
     "metadata": {},
     "output_type": "display_data"
    },
    {
     "data": {
      "text/markdown": [
       "Despite a legacy of troubles and now questions about Trump, the CEO says the worst is behind Deutsche. His overhaul could be the $1.9 trillion lender’s last, best chance."
      ],
      "text/plain": [
       "<IPython.core.display.Markdown object>"
      ]
     },
     "metadata": {},
     "output_type": "display_data"
    },
    {
     "data": {
      "text/markdown": [
       "[![](https://assets.bwbx.io/images/users/iqjWHBFdfxIU/ioN33Mqx3yoY/v0/-1x-1.jpg)](https://www.bloomberg.com/news/features/2017-07-25/can-john-cryan-save-deutsche-bank-from-itself)"
      ],
      "text/plain": [
       "<IPython.core.display.Markdown object>"
      ]
     },
     "metadata": {},
     "output_type": "display_data"
    }
   ],
   "source": [
    "cap.show()"
   ]
  },
  {
   "cell_type": "code",
   "execution_count": 55,
   "metadata": {
    "collapsed": true
   },
   "outputs": [],
   "source": [
    "with open('output.md', 'w') as f:\n",
    "    f.write(cap.stdout)"
   ]
  },
  {
   "cell_type": "code",
   "execution_count": 53,
   "metadata": {},
   "outputs": [
    {
     "name": "stdout",
     "output_type": "stream",
     "text": [
      "demystifying.R\t\t       Rnotebook.ipynb\r\n",
      "demystifyingR2.Rmd\t       scraped_indeed_links.pkl\r\n",
      "News_API.ipynb\t\t       scraped_indeed_links-python_developer.pkl\r\n",
      "News_API_Workbook.ipynb        scraped_indeed_links_restart_pd.pkl\r\n",
      "output.md\t\t       scraped_indeed_links_restart.pkl\r\n",
      "Pandas-R-Notebok.ipynb\t       Scrape_Polish_Indeed.ipynb\r\n",
      "Pandas_Scraping_Harvard.ipynb  stateData.csv\r\n",
      "reddit.csv\t\t       What_is_a_RMD_file.Rmd\r\n",
      "reddit_pandas\r\n"
     ]
    }
   ],
   "source": [
    "!ls"
   ]
  },
  {
   "cell_type": "code",
   "execution_count": 56,
   "metadata": {
    "collapsed": true
   },
   "outputs": [],
   "source": [
    "with open('output.md', 'r') as f:\n",
    "    f.read()"
   ]
  },
  {
   "cell_type": "code",
   "execution_count": 2,
   "metadata": {
    "collapsed": true
   },
   "outputs": [],
   "source": [
    "import ipywidgets as widgets"
   ]
  },
  {
   "cell_type": "code",
   "execution_count": 3,
   "metadata": {},
   "outputs": [
    {
     "data": {
      "application/vnd.jupyter.widget-view+json": {
       "model_id": "2c845dad9e844adf8125ffd49d3303f9"
      }
     },
     "metadata": {},
     "output_type": "display_data"
    }
   ],
   "source": [
    "widgets.IntSlider()"
   ]
  },
  {
   "cell_type": "code",
   "execution_count": null,
   "metadata": {
    "collapsed": true
   },
   "outputs": [],
   "source": []
  }
 ],
 "metadata": {
  "hide_input": false,
  "kernelspec": {
   "display_name": "Python [default]",
   "language": "python",
   "name": "python3"
  },
  "language_info": {
   "codemirror_mode": {
    "name": "ipython",
    "version": 3
   },
   "file_extension": ".py",
   "mimetype": "text/x-python",
   "name": "python",
   "nbconvert_exporter": "python",
   "pygments_lexer": "ipython3",
   "version": "3.6.0"
  },
  "latex_envs": {
   "LaTeX_envs_menu_present": true,
   "autocomplete": true,
   "bibliofile": "biblio.bib",
   "cite_by": "apalike",
   "current_citInitial": 1,
   "eqLabelWithNumbers": true,
   "eqNumInitial": 1,
   "hotkeys": {
    "equation": "Ctrl-E",
    "itemize": "Ctrl-I"
   },
   "labels_anchors": false,
   "latex_user_defs": false,
   "report_style_numbering": false,
   "user_envs_cfg": false
  },
  "toc": {
   "colors": {
    "hover_highlight": "#DAA520",
    "running_highlight": "#FF0000",
    "selected_highlight": "#FFD700"
   },
   "moveMenuLeft": true,
   "nav_menu": {
    "height": "12px",
    "width": "252px"
   },
   "navigate_menu": true,
   "number_sections": false,
   "sideBar": true,
   "threshold": 4,
   "toc_cell": false,
   "toc_position": {
    "height": "616px",
    "left": "0px",
    "right": "20px",
    "top": "106.995px",
    "width": "235px"
   },
   "toc_section_display": "block",
   "toc_window_display": false,
   "widenNotebook": false
  },
  "varInspector": {
   "cols": {
    "lenName": 16,
    "lenType": 16,
    "lenVar": 40
   },
   "kernels_config": {
    "python": {
     "delete_cmd_postfix": "",
     "delete_cmd_prefix": "del ",
     "library": "var_list.py",
     "varRefreshCmd": "print(var_dic_list())"
    },
    "r": {
     "delete_cmd_postfix": ") ",
     "delete_cmd_prefix": "rm(",
     "library": "var_list.r",
     "varRefreshCmd": "cat(var_dic_list()) "
    }
   },
   "types_to_exclude": [
    "module",
    "function",
    "builtin_function_or_method",
    "instance",
    "_Feature"
   ],
   "window_display": false
  },
  "widgets": {
   "application/vnd.jupyter.widget-state+json": {
    "state": {
     "2c845dad9e844adf8125ffd49d3303f9": {
      "model_module": "jupyter-js-widgets",
      "model_module_version": "~2.1.4",
      "model_name": "IntSliderModel",
      "state": {
       "_model_module_version": "~2.1.4",
       "_view_module_version": "~2.1.4",
       "layout": "IPY_MODEL_7ad1b2b409a644b98bdef85f25b794a1",
       "style": "IPY_MODEL_9bc4ca2318804996b7783e0666832f51",
       "value": 32
      }
     },
     "7ad1b2b409a644b98bdef85f25b794a1": {
      "model_module": "jupyter-js-widgets",
      "model_module_version": "~2.1.4",
      "model_name": "LayoutModel",
      "state": {
       "_model_module_version": "~2.1.4",
       "_view_module_version": "~2.1.4"
      }
     },
     "9bc4ca2318804996b7783e0666832f51": {
      "model_module": "jupyter-js-widgets",
      "model_module_version": "~2.1.4",
      "model_name": "SliderStyleModel",
      "state": {
       "_model_module_version": "~2.1.4",
       "_view_module_version": "~2.1.4"
      }
     }
    },
    "version_major": 1,
    "version_minor": 0
   }
  }
 },
 "nbformat": 4,
 "nbformat_minor": 2
}
