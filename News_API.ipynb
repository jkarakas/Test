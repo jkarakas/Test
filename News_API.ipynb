{
 "cells": [
  {
   "cell_type": "raw",
   "metadata": {},
   "source": [
    "<script>\n",
    "  function code_toggle() {\n",
    "    if (code_shown){\n",
    "      $('div.input').hide('500');\n",
    "      $('#toggleButton').val('Show Code')\n",
    "    } else {\n",
    "      $('div.input').show('500');\n",
    "      $('#toggleButton').val('Hide Code')\n",
    "    }\n",
    "    code_shown = !code_shown\n",
    "  }\n",
    "\n",
    "  $( document ).ready(function(){\n",
    "    code_shown=false;\n",
    "    $('div.input').hide()\n",
    "  });\n",
    "</script>\n",
    "<form action=\"javascript:code_toggle()\"><input type=\"submit\" id=\"toggleButton\" value=\"Show Code\"></form>"
   ]
  },
  {
   "cell_type": "markdown",
   "metadata": {},
   "source": [
    "# Start"
   ]
  },
  {
   "cell_type": "code",
   "execution_count": 10,
   "metadata": {
    "collapsed": true
   },
   "outputs": [],
   "source": [
    "from bs4 import BeautifulSoup\n",
    "import urllib\n",
    "import numpy as np\n",
    "import time\n",
    "import pickle as pkl\n",
    "import socket\n",
    "import re\n",
    "import pandas as pd\n",
    "import matplotlib\n",
    "import matplotlib.pyplot as plt\n",
    "%matplotlib inline\n",
    "import json\n",
    "from IPython.display import display, Markdown"
   ]
  },
  {
   "cell_type": "code",
   "execution_count": 34,
   "metadata": {
    "collapsed": true
   },
   "outputs": [],
   "source": [
    "def printmd(string):\n",
    "    display(Markdown(string))"
   ]
  },
  {
   "cell_type": "markdown",
   "metadata": {
    "collapsed": true
   },
   "source": [
    "# Get the Sources"
   ]
  },
  {
   "cell_type": "code",
   "execution_count": null,
   "metadata": {
    "scrolled": true
   },
   "outputs": [],
   "source": [
    "sourcesUrl = 'https://newsapi.org/v1/sources'\n",
    "\n",
    "news = urllib.request.urlopen(sourcesUrl)\n",
    "sources_doc = news.read()\n",
    "sources_doc = json.loads(sources_doc)\n",
    "sources_doc = sources_doc['sources']\n",
    "#Get the headers\n",
    "sources_headers=[]\n",
    "for item in sources_doc:\n",
    "    if item.keys() not in sources_headers:\n",
    "        sources_headers.append(item.keys())\n",
    "sources_headers"
   ]
  },
  {
   "cell_type": "code",
   "execution_count": null,
   "metadata": {},
   "outputs": [],
   "source": [
    "#Which languages are available\n",
    "set([source['language'] for source in sources_doc])"
   ]
  },
  {
   "cell_type": "code",
   "execution_count": null,
   "metadata": {
    "scrolled": true
   },
   "outputs": [],
   "source": [
    "#Which categories?\n",
    "source_categories = set([source['category'] for source in sources_doc])\n",
    "source_categories"
   ]
  },
  {
   "cell_type": "code",
   "execution_count": 21,
   "metadata": {},
   "outputs": [
    {
     "data": {
      "application/vnd.jupyter.widget-view+json": {
       "model_id": "897b39b0e98149eab6d3be3a3d0a77f2"
      }
     },
     "metadata": {},
     "output_type": "display_data"
    }
   ],
   "source": [
    "widgets.RadioButtons(\n",
    "    options=list(source_categories),\n",
    "    value='general',\n",
    "    description='Categories:',\n",
    "    disabled=False,\n",
    ")\n"
   ]
  },
  {
   "cell_type": "code",
   "execution_count": null,
   "metadata": {},
   "outputs": [],
   "source": [
    "#Which sites in category?\n",
    "source_ids = set([source['id'] for source in sources_doc if source['category']=='business'])\n",
    "source_ids"
   ]
  },
  {
   "cell_type": "code",
   "execution_count": null,
   "metadata": {
    "collapsed": true
   },
   "outputs": [],
   "source": []
  },
  {
   "cell_type": "code",
   "execution_count": null,
   "metadata": {
    "scrolled": true
   },
   "outputs": [],
   "source": [
    "#Get the headers\n",
    "headers=[]\n",
    "for item in doc['articles']:\n",
    "    if item.keys() not in headers:\n",
    "        headers.append(item.keys())\n",
    "headers"
   ]
  },
  {
   "cell_type": "code",
   "execution_count": 36,
   "metadata": {
    "collapsed": true
   },
   "outputs": [],
   "source": [
    "def apiMdOutput(source):\n",
    "    '''\n",
    "    Get json with articles from the news API and display in Markdown format with links\n",
    "    \n",
    "    Input\n",
    "    doc <- The dictionary with the info loaded from json\n",
    "    source <- The news agency source\n",
    "    \n",
    "    Output\n",
    "    A I python Markdown list of the Articles with , title,description, image and link\n",
    "    returns the dictionary\n",
    "    '''\n",
    "    url_api = 'https://newsapi.org/v1/articles?source={}&apiKey=526aeefb458f458eb06b9a4ea4369624'.format(source)\n",
    "    \n",
    "    news = urllib.request.urlopen(url_api)\n",
    "    doc = news.read()\n",
    "    doc = json.loads(doc)\n",
    "    \n",
    "    title = [art['title'] for art in doc['articles']]\n",
    "    description = [art['description'] for art in doc['articles']]\n",
    "    link = [art['url'] for art in doc['articles']]\n",
    "    image = [art['urlToImage'] for art in doc['articles']]\n",
    "\n",
    "    for tit, desc, l, img in zip(title, description, link, image):\n",
    "        show_tit = '## ' + tit\n",
    "        show_desc =  desc\n",
    "        show_img = '[![]({})]({})'.format(img, l)\n",
    "        printmd(show_tit)\n",
    "        printmd(show_desc)\n",
    "        printmd(show_img)\n",
    "        \n",
    "    "
   ]
  },
  {
   "cell_type": "code",
   "execution_count": 54,
   "metadata": {
    "collapsed": true
   },
   "outputs": [],
   "source": [
    "%%capture cap --no-stderr\n",
    "#Let's make a smaller version of this and tddry to capture it\n",
    "\n",
    "apiMdOutput(source = 'bloomberg');"
   ]
  },
  {
   "cell_type": "code",
   "execution_count": 32,
   "metadata": {},
   "outputs": [
    {
     "data": {
      "application/vnd.jupyter.widget-view+json": {
       "model_id": "0e222754c0d64a4d9b9857123f558c45"
      }
     },
     "metadata": {},
     "output_type": "display_data"
    }
   ],
   "source": [
    "cat = widgets.Dropdown(\n",
    "    options=list(source_categories),\n",
    "    value='general',\n",
    "    description='Categories:',\n",
    "    disabled=False,\n",
    ")\n",
    "display(cat)"
   ]
  },
  {
   "cell_type": "code",
   "execution_count": 30,
   "metadata": {},
   "outputs": [
    {
     "data": {
      "application/vnd.jupyter.widget-view+json": {
       "model_id": "d395fcd151634366b75f40999c2021e2"
      }
     },
     "metadata": {},
     "output_type": "display_data"
    }
   ],
   "source": [
    "lan = widgets.Dropdown(\n",
    "    options=list(set([source['language'] for source in sources_doc])),\n",
    "    value='en',\n",
    "    description='Langages:',\n",
    "    disabled=False,\n",
    ")\n",
    "display(lan)"
   ]
  },
  {
   "cell_type": "code",
   "execution_count": null,
   "metadata": {
    "collapsed": true
   },
   "outputs": [],
   "source": [
    "nam = widgets.Dropdown(\n",
    "    options=list(set([source['name'] for source in sources_doc])),\n",
    "    value='en',\n",
    "    description='Names:',\n",
    "    disabled=False,\n",
    ")\n",
    "display(nam)"
   ]
  },
  {
   "cell_type": "raw",
   "metadata": {},
   "source": [
    "<script src=\"https://unpkg.com/jupyter-js-widgets@~2.1.4/dist/embed.js\"></script>\n",
    "<script type=\"application/vnd.jupyter.widget-state+json\">\n",
    "{\n",
    "\"version_major\": 1,\n",
    "\"version_minor\": 0,\n",
    "\"state\": {\n",
    "\"7ad1b2b409a644b98bdef85f25b794a1\": {\n",
    "\"model_name\": \"LayoutModel\",\n",
    "\"model_module\": \"jupyter-js-widgets\",\n",
    "\"model_module_version\": \"~2.1.4\",\n",
    "\"state\": {\n",
    "\"_model_module_version\": \"~2.1.4\",\n",
    "\"_view_module_version\": \"~2.1.4\"\n",
    "}\n",
    "},\n",
    "\"9bc4ca2318804996b7783e0666832f51\": {\n",
    "\"model_name\": \"SliderStyleModel\",\n",
    "\"model_module\": \"jupyter-js-widgets\",\n",
    "\"model_module_version\": \"~2.1.4\",\n",
    "\"state\": {\n",
    "\"_model_module_version\": \"~2.1.4\",\n",
    "\"_view_module_version\": \"~2.1.4\"\n",
    "}\n",
    "},\n",
    "\"2c845dad9e844adf8125ffd49d3303f9\": {\n",
    "\"model_name\": \"IntSliderModel\",\n",
    "\"model_module\": \"jupyter-js-widgets\",\n",
    "\"model_module_version\": \"~2.1.4\",\n",
    "\"state\": {\n",
    "\"_model_module_version\": \"~2.1.4\",\n",
    "\"_view_module_version\": \"~2.1.4\",\n",
    "\"layout\": \"IPY_MODEL_7ad1b2b409a644b98bdef85f25b794a1\",\n",
    "\"style\": \"IPY_MODEL_9bc4ca2318804996b7783e0666832f51\"\n",
    "}\n",
    "},\n",
    "\"64d8d3a9a1874349a5ee834365872baa\": {\n",
    "\"model_name\": \"LayoutModel\",\n",
    "\"model_module\": \"jupyter-js-widgets\",\n",
    "\"model_module_version\": \"~2.1.4\",\n",
    "\"state\": {\n",
    "\"_model_module_version\": \"~2.1.4\",\n",
    "\"_view_module_version\": \"~2.1.4\"\n",
    "}\n",
    "},\n",
    "\"8688824dac864a1bb6cd132b57be143e\": {\n",
    "\"model_name\": \"SliderStyleModel\",\n",
    "\"model_module\": \"jupyter-js-widgets\",\n",
    "\"model_module_version\": \"~2.1.4\",\n",
    "\"state\": {\n",
    "\"_model_module_version\": \"~2.1.4\",\n",
    "\"_view_module_version\": \"~2.1.4\"\n",
    "}\n",
    "},\n",
    "\"e7871ccee081450eb9557ecbbc7782dd\": {\n",
    "\"model_name\": \"IntSliderModel\",\n",
    "\"model_module\": \"jupyter-js-widgets\",\n",
    "\"model_module_version\": \"~2.1.4\",\n",
    "\"state\": {\n",
    "\"_model_module_version\": \"~2.1.4\",\n",
    "\"_view_module_version\": \"~2.1.4\",\n",
    "\"layout\": \"IPY_MODEL_64d8d3a9a1874349a5ee834365872baa\",\n",
    "\"style\": \"IPY_MODEL_8688824dac864a1bb6cd132b57be143e\"\n",
    "}\n",
    "},\"a7d180d6985a4ffb962adf0bd999e913\": {\n",
    "\"model_name\": \"LayoutModel\",\n",
    "\"model_module\": \"jupyter-js-widgets\",\n",
    "\"model_module_version\": \"~2.1.4\",\n",
    "\"state\": {\n",
    "\"_model_module_version\": \"~2.1.4\",\n",
    "\"_view_module_version\": \"~2.1.4\"\n",
    "}\n",
    "},\n",
    "\"36ba545e14bd4e979b81818543520fcb\": {\n",
    "\"model_name\": \"IntTextModel\",\n",
    "\"model_module\": \"jupyter-js-widgets\",\n",
    "\"model_module_version\": \"~2.1.4\",\n",
    "\"state\": {\n",
    "\"_model_module_version\": \"~2.1.4\",\n",
    "\"_view_module_version\": \"~2.1.4\",\n",
    "\"description\": \"Text:\",\n",
    "\"layout\": \"IPY_MODEL_a7d180d6985a4ffb962adf0bd999e913\",\n",
    "\"max\": 10,\n",
    "\"min\": 0,\n",
    "\"step\": 1,\n",
    "\"value\": 7\n",
    "}\n",
    "},\n",
    "\"2b4a8cec46c34272aa68b18fc259e608\": {\n",
    "\"model_name\": \"LayoutModel\",\n",
    "\"model_module\": \"jupyter-js-widgets\",\n",
    "\"model_module_version\": \"~2.1.4\",\n",
    "\"state\": {\n",
    "\"_model_module_version\": \"~2.1.4\",\n",
    "\"_view_module_version\": \"~2.1.4\"\n",
    "}\n",
    "},\n",
    "\"48befa529f624f48af5b6d846006c285\": {\n",
    "\"model_name\": \"FloatTextModel\",\n",
    "\"model_module\": \"jupyter-js-widgets\",\n",
    "\"model_module_version\": \"~2.1.4\",\n",
    "\"state\": {\n",
    "\"_model_module_version\": \"~2.1.4\",\n",
    "\"_view_module_version\": \"~2.1.4\",\n",
    "\"description\": \"Text:\",\n",
    "\"layout\": \"IPY_MODEL_2b4a8cec46c34272aa68b18fc259e608\",\n",
    "\"max\": 10,\n",
    "\"min\": 0,\n",
    "\"step\": 0.1,\n",
    "\"value\": 7.5\n",
    "}\n",
    "},\n",
    "\"7a9da7fcc3df4a94a460267e79859952\": {\n",
    "\"model_name\": \"LayoutModel\",\n",
    "\"model_module\": \"jupyter-js-widgets\",\n",
    "\"model_module_version\": \"~2.1.4\",\n",
    "\"state\": {\n",
    "\"_model_module_version\": \"~2.1.4\",\n",
    "\"_view_module_version\": \"~2.1.4\"\n",
    "}\n",
    "},\n",
    "\"81469490e83c442dbdf046a467d03cff\": {\n",
    "\"model_name\": \"DropdownModel\",\n",
    "\"model_module\": \"jupyter-js-widgets\",\n",
    "\"model_module_version\": \"~2.1.4\",\n",
    "\"state\": {\n",
    "\"_model_module_version\": \"~2.1.4\",\n",
    "\"_options_labels\": [\n",
    "\"1\",\"2\",\n",
    "\"3\"\n",
    "],\n",
    "\"_view_module_version\": \"~2.1.4\",\n",
    "\"description\": \"Number:\",\n",
    "\"layout\": \"IPY_MODEL_7a9da7fcc3df4a94a460267e79859952\",\n",
    "\"value\": \"2\"\n",
    "}\n",
    "},\n",
    "\"e1f0d2bd407b4e4e978640aa3f2473eb\": {\n",
    "\"model_name\": \"LayoutModel\",\n",
    "\"model_module\": \"jupyter-js-widgets\",\n",
    "\"model_module_version\": \"~2.1.4\",\n",
    "\"state\": {\n",
    "\"_model_module_version\": \"~2.1.4\",\n",
    "\"_view_module_version\": \"~2.1.4\"\n",
    "}\n",
    "},\n",
    "\"d01dd0a329354834992a93812d24d52c\": {\n",
    "\"model_name\": \"DropdownModel\",\n",
    "\"model_module\": \"jupyter-js-widgets\",\n",
    "\"model_module_version\": \"~2.1.4\",\n",
    "\"state\": {\n",
    "\"_model_module_version\": \"~2.1.4\",\n",
    "\"_options_labels\": [\n",
    "\"general\",\n",
    "\"sport\",\n",
    "\"science-and-nature\",\n",
    "\"business\",\n",
    "\"gaming\",\n",
    "\"technology\",\n",
    "\"music\",\n",
    "\"politics\",\n",
    "\"entertainment\"\n",
    "],\n",
    "\"_view_module_version\": \"~2.1.4\",\n",
    "\"description\": \"Categories:\",\n",
    "\"layout\": \"IPY_MODEL_e1f0d2bd407b4e4e978640aa3f2473eb\",\n",
    "\"value\": \"business\"\n",
    "}\n",
    "},\n",
    "\"89fee440f8d24b639ad6cb74393be91e\": {\n",
    "\"model_name\": \"LayoutModel\",\n",
    "\"model_module\": \"jupyter-js-widgets\",\n",
    "\"model_module_version\": \"~2.1.4\",\n",
    "\"state\": {\n",
    "\"_model_module_version\": \"~2.1.4\",\n",
    "\"_view_module_version\": \"~2.1.4\"\n",
    "}\n",
    "},\n",
    "\"f31604270c1349bd821e2c7e90fed7f1\": {\n",
    "\"model_name\": \"DropdownModel\",\n",
    "\"model_module\": \"jupyter-js-widgets\",\n",
    "\"model_module_version\": \"~2.1.4\",\n",
    "\"state\": {\n",
    "\"_model_module_version\": \"~2.1.4\",\n",
    "\"_options_labels\": [\n",
    "\"general\",\n",
    "\"sport\",\n",
    "\"science-and-nature\",\n",
    "\"business\",\n",
    "\"gaming\",\n",
    "\"technology\",\n",
    "\"music\",\n",
    "\"politics\",\"entertainment\"\n",
    "],\n",
    "\"_view_module_version\": \"~2.1.4\",\n",
    "\"description\": \"Categories:\",\n",
    "\"layout\": \"IPY_MODEL_89fee440f8d24b639ad6cb74393be91e\",\n",
    "\"value\": \"general\"\n",
    "}\n",
    "},\n",
    "\"3baf204386ec44188eb6b7fa781b3056\": {\n",
    "\"model_name\": \"LayoutModel\",\n",
    "\"model_module\": \"jupyter-js-widgets\",\n",
    "\"model_module_version\": \"~2.1.4\",\n",
    "\"state\": {\n",
    "\"_model_module_version\": \"~2.1.4\",\n",
    "\"_view_module_version\": \"~2.1.4\"\n",
    "}\n",
    "},\n",
    "\"06c8a807f64c4cc5ae45a1cfb644ed8a\": {\n",
    "\"model_name\": \"DropdownModel\",\n",
    "\"model_module\": \"jupyter-js-widgets\",\n",
    "\"model_module_version\": \"~2.1.4\",\n",
    "\"state\": {\n",
    "\"_model_module_version\": \"~2.1.4\",\n",
    "\"_options_labels\": [\n",
    "\"general\",\n",
    "\"sport\",\n",
    "\"science-and-nature\",\n",
    "\"business\",\n",
    "\"gaming\",\n",
    "\"technology\",\n",
    "\"music\",\n",
    "\"politics\",\n",
    "\"entertainment\"\n",
    "],\n",
    "\"_view_module_version\": \"~2.1.4\",\n",
    "\"description\": \"Categories:\",\n",
    "\"layout\": \"IPY_MODEL_3baf204386ec44188eb6b7fa781b3056\",\n",
    "\"value\": \"general\"\n",
    "}\n",
    "},\n",
    "\"2851e29018ef460ebf3c3d09f4a6a743\": {\n",
    "\"model_name\": \"LayoutModel\",\n",
    "\"model_module\": \"jupyter-js-widgets\",\n",
    "\"model_module_version\": \"~2.1.4\",\n",
    "\"state\": {\n",
    "\"_model_module_version\": \"~2.1.4\",\n",
    "\"_view_module_version\": \"~2.1.4\"\n",
    "}\n",
    "},\n",
    "\"710f6d2a53ea4f178fea2c04c85421a8\": {\n",
    "\"model_name\": \"RadioButtonsModel\",\n",
    "\"model_module\": \"jupyter-js-widgets\",\n",
    "\"model_module_version\": \"~2.1.4\",\n",
    "\"state\": {\n",
    "\"_model_module_version\": \"~2.1.4\",\n",
    "\"_options_labels\": [\n",
    "\"pepperoni\",\n",
    "\"pineapple\",\n",
    "\"anchovies\"\n",
    "],\n",
    "\"_view_module_version\": \"~2.1.4\",\n",
    "\"description\": \"Pizza topping:\",\n",
    "\"layout\": \"IPY_MODEL_2851e29018ef460ebf3c3d09f4a6a743\",\n",
    "\"value\": \"anchovies\"\n",
    "}},\n",
    "\"ddd5abbe99a4422a8112ec5eb012936f\": {\n",
    "\"model_name\": \"LayoutModel\",\n",
    "\"model_module\": \"jupyter-js-widgets\",\n",
    "\"model_module_version\": \"~2.1.4\",\n",
    "\"state\": {\n",
    "\"_model_module_version\": \"~2.1.4\",\n",
    "\"_view_module_version\": \"~2.1.4\"\n",
    "}\n",
    "},\n",
    "\"897b39b0e98149eab6d3be3a3d0a77f2\": {\n",
    "\"model_name\": \"RadioButtonsModel\",\n",
    "\"model_module\": \"jupyter-js-widgets\",\n",
    "\"model_module_version\": \"~2.1.4\",\n",
    "\"state\": {\n",
    "\"_model_module_version\": \"~2.1.4\",\n",
    "\"_options_labels\": [\n",
    "\"general\",\n",
    "\"sport\",\n",
    "\"science-and-nature\",\n",
    "\"business\",\n",
    "\"gaming\",\n",
    "\"technology\",\n",
    "\"music\",\n",
    "\"politics\",\n",
    "\"entertainment\"\n",
    "],\n",
    "\"_view_module_version\": \"~2.1.4\",\n",
    "\"description\": \"Categories:\",\n",
    "\"layout\": \"IPY_MODEL_ddd5abbe99a4422a8112ec5eb012936f\",\n",
    "\"value\": \"science-and-nature\"\n",
    "}\n",
    "},\n",
    "\"9d33c8864084450fa7f5a756124c5ad8\": {\n",
    "\"model_name\": \"LayoutModel\",\n",
    "\"model_module\": \"jupyter-js-widgets\",\n",
    "\"model_module_version\": \"~2.1.4\",\n",
    "\"state\": {\n",
    "\"_model_module_version\": \"~2.1.4\",\n",
    "\"_view_module_version\": \"~2.1.4\"\n",
    "}\n",
    "},\n",
    "\"37e42427a51446bd9b194cd1a3108965\": {\n",
    "\"model_name\": \"DropdownModel\",\n",
    "\"model_module\": \"jupyter-js-widgets\",\n",
    "\"model_module_version\": \"~2.1.4\",\n",
    "\"state\": {\n",
    "\"_model_module_version\": \"~2.1.4\",\n",
    "\"_options_labels\": [\n",
    "\"general\",\n",
    "\"sport\",\n",
    "\"science-and-nature\",\n",
    "\"business\",\n",
    "\"gaming\",\n",
    "\"technology\",\n",
    "\"music\",\n",
    "\"politics\",\n",
    "\"entertainment\"\n",
    "],\n",
    "\"_view_module_version\": \"~2.1.4\",\n",
    "\"description\": \"Categories:\",\n",
    "\"layout\": \"IPY_MODEL_9d33c8864084450fa7f5a756124c5ad8\",\n",
    "\"value\": \"business\"\n",
    "}\n",
    "},\"12c04c83921f49b7833bdbe024f5e113\": {\n",
    "\"model_name\": \"LayoutModel\",\n",
    "\"model_module\": \"jupyter-js-widgets\",\n",
    "\"model_module_version\": \"~2.1.4\",\n",
    "\"state\": {\n",
    "\"_model_module_version\": \"~2.1.4\",\n",
    "\"_view_module_version\": \"~2.1.4\"\n",
    "}\n",
    "},\n",
    "\"7549c946322c46ceb45835f657a181a2\": {\n",
    "\"model_name\": \"DropdownModel\",\n",
    "\"model_module\": \"jupyter-js-widgets\",\n",
    "\"model_module_version\": \"~2.1.4\",\n",
    "\"state\": {\n",
    "\"_model_module_version\": \"~2.1.4\",\n",
    "\"_options_labels\": [\n",
    "\"general\",\n",
    "\"sport\",\n",
    "\"science-and-nature\",\n",
    "\"business\",\n",
    "\"gaming\",\n",
    "\"technology\",\n",
    "\"music\",\n",
    "\"politics\",\n",
    "\"entertainment\"\n",
    "],\n",
    "\"_view_module_version\": \"~2.1.4\",\n",
    "\"description\": \"Categories:\",\n",
    "\"layout\": \"IPY_MODEL_12c04c83921f49b7833bdbe024f5e113\",\n",
    "\"value\": \"general\"\n",
    "}\n",
    "},\n",
    "\"7c6cb86c717f49d495ffd980aa8ecd6b\": {\n",
    "\"model_name\": \"LayoutModel\",\n",
    "\"model_module\": \"jupyter-js-widgets\",\n",
    "\"model_module_version\": \"~2.1.4\",\n",
    "\"state\": {\n",
    "\"_model_module_version\": \"~2.1.4\",\n",
    "\"_view_module_version\": \"~2.1.4\"\n",
    "}\n",
    "},\n",
    "\"85587b020efe41ca84ed344cd0752844\": {\n",
    "\"model_name\": \"SelectModel\",\n",
    "\"model_module\": \"jupyter-js-widgets\",\n",
    "\"model_module_version\": \"~2.1.4\",\n",
    "\"state\": {\n",
    "\"_model_module_version\": \"~2.1.4\",\n",
    "\"_options_labels\": [\n",
    "\"Linux\",\n",
    "\"Windows\",\n",
    "\"OSX\"\n",
    "],\n",
    "\"_view_module_version\": \"~2.1.4\",\n",
    "\"description\": \"OS:\",\n",
    "\"layout\": \"IPY_MODEL_7c6cb86c717f49d495ffd980aa8ecd6b\",\n",
    "\"value\": \"OSX\"\n",
    "}\n",
    "},\n",
    "\"07f6fa7b34a34493b90934d08204c646\": {\n",
    "\"model_name\": \"LayoutModel\",\n",
    "\"model_module\": \"jupyter-js-widgets\",\n",
    "\"model_module_version\": \"~2.1.4\",\n",
    "\"state\": {\n",
    "\"_model_module_version\": \"~2.1.4\",\n",
    "\"_view_module_version\": \"~2.1.4\"}\n",
    "},\n",
    "\"f5a60de5d74a4a3a8ed496904e09b16d\": {\n",
    "\"model_name\": \"SelectModel\",\n",
    "\"model_module\": \"jupyter-js-widgets\",\n",
    "\"model_module_version\": \"~2.1.4\",\n",
    "\"state\": {\n",
    "\"_model_module_version\": \"~2.1.4\",\n",
    "\"_options_labels\": [\n",
    "\"general\",\n",
    "\"sport\",\n",
    "\"science-and-nature\",\n",
    "\"business\",\n",
    "\"gaming\",\n",
    "\"technology\",\n",
    "\"music\",\n",
    "\"politics\",\n",
    "\"entertainment\"\n",
    "],\n",
    "\"_view_module_version\": \"~2.1.4\",\n",
    "\"description\": \"OS:\",\n",
    "\"layout\": \"IPY_MODEL_07f6fa7b34a34493b90934d08204c646\",\n",
    "\"value\": \"general\"\n",
    "}\n",
    "},\n",
    "\"a4e831a093eb499f9deae314e256d4d3\": {\n",
    "\"model_name\": \"LayoutModel\",\n",
    "\"model_module\": \"jupyter-js-widgets\",\n",
    "\"model_module_version\": \"~2.1.4\",\n",
    "\"state\": {\n",
    "\"_model_module_version\": \"~2.1.4\",\n",
    "\"_view_module_version\": \"~2.1.4\"\n",
    "}\n",
    "},\n",
    "\"673e16762e94473a9c4508aab22061d1\": {\n",
    "\"model_name\": \"SelectionSliderModel\",\n",
    "\"model_module\": \"jupyter-js-widgets\",\n",
    "\"model_module_version\": \"~2.1.4\",\n",
    "\"state\": {\n",
    "\"_model_module_version\": \"~2.1.4\",\n",
    "\"_options_labels\": [\n",
    "\"scrambled\",\n",
    "\"sunny side up\",\n",
    "\"poached\",\n",
    "\"over easy\"\n",
    "],\n",
    "\"_view_module_version\": \"~2.1.4\",\n",
    "\"continuous_update\": false,\n",
    "\"description\": \"I like my eggs ...\",\n",
    "\"layout\": \"IPY_MODEL_a4e831a093eb499f9deae314e256d4d3\",\n",
    "\"value\": \"scrambled\"\n",
    "}\n",
    "},\n",
    "\"b83899fdddcf4e51b272808de7f11cf2\": {\n",
    "\"model_name\": \"LayoutModel\",\n",
    "\"model_module\": \"jupyter-js-widgets\",\n",
    "\"model_module_version\": \"~2.1.4\",\n",
    "\"state\": {\n",
    "\"_model_module_version\": \"~2.1.4\",\n",
    "\"_view_module_version\": \"~2.1.4\"\n",
    "}\n",
    "},\n",
    "\"9598c1a349b6403885cb941bcff19b50\": {\n",
    "\"model_name\": \"DropdownModel\",\n",
    "\"model_module\": \"jupyter-js-widgets\",\"model_module_version\": \"~2.1.4\",\n",
    "\"state\": {\n",
    "\"_model_module_version\": \"~2.1.4\",\n",
    "\"_options_labels\": [\n",
    "\"general\",\n",
    "\"sport\",\n",
    "\"science-and-nature\",\n",
    "\"business\",\n",
    "\"gaming\",\n",
    "\"technology\",\n",
    "\"music\",\n",
    "\"politics\",\n",
    "\"entertainment\"\n",
    "],\n",
    "\"_view_module_version\": \"~2.1.4\",\n",
    "\"description\": \"Categories:\",\n",
    "\"layout\": \"IPY_MODEL_b83899fdddcf4e51b272808de7f11cf2\",\n",
    "\"value\": \"general\"\n",
    "}\n",
    "},\n",
    "\"a9306e2e78574cb1af7253e869069617\": {\n",
    "\"model_name\": \"LayoutModel\",\n",
    "\"model_module\": \"jupyter-js-widgets\",\n",
    "\"model_module_version\": \"~2.1.4\",\n",
    "\"state\": {\n",
    "\"_model_module_version\": \"~2.1.4\",\n",
    "\"_view_module_version\": \"~2.1.4\"\n",
    "}\n",
    "},\n",
    "\"dff09ba126c74254b6f8e3b9a6cce9d5\": {\n",
    "\"model_name\": \"DropdownModel\",\n",
    "\"model_module\": \"jupyter-js-widgets\",\n",
    "\"model_module_version\": \"~2.1.4\",\n",
    "\"state\": {\n",
    "\"_model_module_version\": \"~2.1.4\",\n",
    "\"_options_labels\": [\n",
    "\"general\",\n",
    "\"sport\",\n",
    "\"science-and-nature\",\n",
    "\"business\",\n",
    "\"gaming\",\n",
    "\"technology\",\n",
    "\"music\",\n",
    "\"politics\",\n",
    "\"entertainment\"\n",
    "],\n",
    "\"_view_module_version\": \"~2.1.4\",\n",
    "\"description\": \"Categories:\",\n",
    "\"layout\": \"IPY_MODEL_a9306e2e78574cb1af7253e869069617\",\n",
    "\"value\": \"general\"\n",
    "}\n",
    "},\n",
    "\"061cc66efeb0408ebc75b24ad825bb50\": {\n",
    "\"model_name\": \"LayoutModel\",\n",
    "\"model_module\": \"jupyter-js-widgets\",\n",
    "\"model_module_version\": \"~2.1.4\",\n",
    "\"state\": {\n",
    "\"_model_module_version\": \"~2.1.4\",\n",
    "\"_view_module_version\": \"~2.1.4\"\n",
    "}\n",
    "},\n",
    "\"d395fcd151634366b75f40999c2021e2\": {\n",
    "\"model_name\": \"DropdownModel\",\n",
    "\"model_module\": \"jupyter-js-widgets\",\n",
    "\"model_module_version\": \"~2.1.4\",\"state\": {\n",
    "\"_model_module_version\": \"~2.1.4\",\n",
    "\"_options_labels\": [\n",
    "\"de\",\n",
    "\"en\"\n",
    "],\n",
    "\"_view_module_version\": \"~2.1.4\",\n",
    "\"description\": \"Langages:\",\n",
    "\"layout\": \"IPY_MODEL_061cc66efeb0408ebc75b24ad825bb50\",\n",
    "\"value\": \"en\"\n",
    "}\n",
    "},\n",
    "\"9285de0dfc2c41d48731103242a18e1b\": {\n",
    "\"model_name\": \"LayoutModel\",\n",
    "\"model_module\": \"jupyter-js-widgets\",\n",
    "\"model_module_version\": \"~2.1.4\",\n",
    "\"state\": {\n",
    "\"_model_module_version\": \"~2.1.4\",\n",
    "\"_view_module_version\": \"~2.1.4\"\n",
    "}\n",
    "},\n",
    "\"0e222754c0d64a4d9b9857123f558c45\": {\n",
    "\"model_name\": \"DropdownModel\",\n",
    "\"model_module\": \"jupyter-js-widgets\",\n",
    "\"model_module_version\": \"~2.1.4\",\n",
    "\"state\": {\n",
    "\"_model_module_version\": \"~2.1.4\",\n",
    "\"_options_labels\": [\n",
    "\"general\",\n",
    "\"sport\",\n",
    "\"science-and-nature\",\n",
    "\"business\",\n",
    "\"gaming\",\n",
    "\"technology\",\n",
    "\"music\",\n",
    "\"politics\",\n",
    "\"entertainment\"\n",
    "],\n",
    "\"_view_module_version\": \"~2.1.4\",\n",
    "\"description\": \"Categories:\",\n",
    "\"layout\": \"IPY_MODEL_9285de0dfc2c41d48731103242a18e1b\",\n",
    "\"value\": \"general\"\n",
    "}\n",
    "}\n",
    "}\n",
    "}\n",
    "</script>\n",
    "<script type=\"application/vnd.jupyter.widget-view+json\">\n",
    "{\n",
    "\"model_id\": \"897b39b0e98149eab6d3be3a3d0a77f2\"\n",
    "}\n",
    "</script>\n",
    "<script type=\"application/vnd.jupyter.widget-view+json\">\n",
    "{\n",
    "\"model_id\": \"0e222754c0d64a4d9b9857123f558c45\"\n",
    "}\n",
    "</script>\n",
    "<script type=\"application/vnd.jupyter.widget-view+json\">\n",
    "{\n",
    "\"model_id\": \"d395fcd151634366b75f40999c2021e2\"\n",
    "}\n",
    "</script>"
   ]
  },
  {
   "cell_type": "code",
   "execution_count": null,
   "metadata": {},
   "outputs": [
    {
     "data": {
      "text/markdown": [
       "# ABC News (AU)"
      ],
      "text/plain": [
       "<IPython.core.display.Markdown object>"
      ]
     },
     "metadata": {},
     "output_type": "display_data"
    },
    {
     "data": {
      "text/markdown": [
       "## Charlie Gard's parents want to take him home to die"
      ],
      "text/plain": [
       "<IPython.core.display.Markdown object>"
      ]
     },
     "metadata": {},
     "output_type": "display_data"
    },
    {
     "data": {
      "text/markdown": [
       "A day after they abandoned their legal fight to take him to the US for experimental treatment"
      ],
      "text/plain": [
       "<IPython.core.display.Markdown object>"
      ]
     },
     "metadata": {},
     "output_type": "display_data"
    },
    {
     "data": {
      "text/markdown": [
       "[![](https://metrouk2.files.wordpress.com/2017/07/prc_47663686.jpg?quality=80&strip=all&w=1200&h=630&crop=1)](http://metro.co.uk/2017/07/25/charlie-gards-parents-want-to-take-him-home-to-die-6804941/)"
      ],
      "text/plain": [
       "<IPython.core.display.Markdown object>"
      ]
     },
     "metadata": {},
     "output_type": "display_data"
    },
    {
     "data": {
      "text/markdown": [
       "## Charlie Gard court case still isn't over as lawyers return to the High Court"
      ],
      "text/plain": [
       "<IPython.core.display.Markdown object>"
      ]
     },
     "metadata": {},
     "output_type": "display_data"
    },
    {
     "data": {
      "text/markdown": [
       "His parents have said they want to 'spend their last precious moments' with Charlie"
      ],
      "text/plain": [
       "<IPython.core.display.Markdown object>"
      ]
     },
     "metadata": {},
     "output_type": "display_data"
    },
    {
     "data": {
      "text/markdown": [
       "[![](https://metrouk2.files.wordpress.com/2017/07/prc_47663686.jpg?quality=80&strip=all&w=1200&h=630&crop=1)](http://metro.co.uk/2017/07/25/charlie-gard-court-case-still-isnt-over-as-lawyers-return-to-the-high-court-today-6804367/)"
      ],
      "text/plain": [
       "<IPython.core.display.Markdown object>"
      ]
     },
     "metadata": {},
     "output_type": "display_data"
    },
    {
     "data": {
      "text/markdown": [
       "## Liam Fox challenged to eat chlorine-washed chicken on live TV"
      ],
      "text/plain": [
       "<IPython.core.display.Markdown object>"
      ]
     },
     "metadata": {},
     "output_type": "display_data"
    },
    {
     "data": {
      "text/markdown": [
       "'The choice of recipe is up to him, but one serving suggestion might be Chlorination Chicken.'"
      ],
      "text/plain": [
       "<IPython.core.display.Markdown object>"
      ]
     },
     "metadata": {},
     "output_type": "display_data"
    },
    {
     "data": {
      "text/markdown": [
       "[![](http://i2.wp.com/metrouk2.files.wordpress.com/2017/07/prc_47647429.jpg?crop=0px%2C0px%2C1200px%2C630px&resize=1200%2C630&quality=80&strip=all&ssl=1)](http://metro.co.uk/2017/07/25/liam-fox-challenged-to-eat-chlorine-washed-chicken-on-live-tv-6803630/)"
      ],
      "text/plain": [
       "<IPython.core.display.Markdown object>"
      ]
     },
     "metadata": {},
     "output_type": "display_data"
    },
    {
     "data": {
      "text/markdown": [
       "## What is chlorine-washed chicken (and why is it banned)?"
      ],
      "text/plain": [
       "<IPython.core.display.Markdown object>"
      ]
     },
     "metadata": {},
     "output_type": "display_data"
    },
    {
     "data": {
      "text/markdown": [
       "We might be getting it in the UK thanks to Brexit."
      ],
      "text/plain": [
       "<IPython.core.display.Markdown object>"
      ]
     },
     "metadata": {},
     "output_type": "display_data"
    },
    {
     "data": {
      "text/markdown": [
       "[![](http://i0.wp.com/metrouk2.files.wordpress.com/2017/07/aw-chlorine-fried-chicken.jpg?crop=0px%2C108px%2C1200px%2C630px&resize=1200%2C630&quality=80&strip=all&ssl=1)](http://metro.co.uk/2017/07/25/what-is-chlorine-washed-chicken-and-why-is-it-banned-6803564/)"
      ],
      "text/plain": [
       "<IPython.core.display.Markdown object>"
      ]
     },
     "metadata": {},
     "output_type": "display_data"
    },
    {
     "data": {
      "text/markdown": [
       "## Terrifying moment naked man 'high on acid' is arrested after 'chopping off penis'"
      ],
      "text/plain": [
       "<IPython.core.display.Markdown object>"
      ]
     },
     "metadata": {},
     "output_type": "display_data"
    },
    {
     "data": {
      "text/markdown": [
       "WARNING: Graphic content"
      ],
      "text/plain": [
       "<IPython.core.display.Markdown object>"
      ]
     },
     "metadata": {},
     "output_type": "display_data"
    },
    {
     "data": {
      "text/markdown": [
       "[![](http://i1.wp.com/metrouk2.files.wordpress.com/2017/07/arrest-6-1.jpg?crop=0px%2C0px%2C1200px%2C630px&resize=1200%2C630&quality=80&strip=all&ssl=1)](http://metro.co.uk/2017/07/25/terrifying-moment-naked-man-high-on-acid-is-arrested-after-chopping-off-penis-6804619/)"
      ],
      "text/plain": [
       "<IPython.core.display.Markdown object>"
      ]
     },
     "metadata": {},
     "output_type": "display_data"
    },
    {
     "data": {
      "text/markdown": [
       "## How many of these laws have you broken in the last year?"
      ],
      "text/plain": [
       "<IPython.core.display.Markdown object>"
      ]
     },
     "metadata": {},
     "output_type": "display_data"
    },
    {
     "data": {
      "text/markdown": [
       "Sung or chanted a crude football chant in the street? Used someone else’s Wi-Fi without them knowing?"
      ],
      "text/plain": [
       "<IPython.core.display.Markdown object>"
      ]
     },
     "metadata": {},
     "output_type": "display_data"
    },
    {
     "data": {
      "text/markdown": [
       "[![](http://i1.wp.com/metrouk2.files.wordpress.com/2017/07/200014615-001-e1500974882360.jpg?crop=0px%2C900px%2C2809px%2C1476px&resize=1200%2C630&quality=80&strip=all&ssl=1)](http://metro.co.uk/2017/07/25/how-many-of-these-laws-have-you-broken-in-the-last-year-6803780/)"
      ],
      "text/plain": [
       "<IPython.core.display.Markdown object>"
      ]
     },
     "metadata": {},
     "output_type": "display_data"
    },
    {
     "data": {
      "text/markdown": [
       "## Mike Tyson makes severe Floyd Mayweather v Conor McGregor prediction"
      ],
      "text/plain": [
       "<IPython.core.display.Markdown object>"
      ]
     },
     "metadata": {},
     "output_type": "display_data"
    },
    {
     "data": {
      "text/markdown": [
       "Former world heavyweight champion thinks someone will be killed."
      ],
      "text/plain": [
       "<IPython.core.display.Markdown object>"
      ]
     },
     "metadata": {},
     "output_type": "display_data"
    },
    {
     "data": {
      "text/markdown": [
       "[![](https://metrouk2.files.wordpress.com/2017/07/814473650.jpg?quality=80&strip=all)](http://metro.co.uk/2017/07/25/dumb-conor-mcgregor-will-be-killed-by-floyd-mayweather-predicts-mike-tyson-6804042/)"
      ],
      "text/plain": [
       "<IPython.core.display.Markdown object>"
      ]
     },
     "metadata": {},
     "output_type": "display_data"
    },
    {
     "data": {
      "text/markdown": [
       "## Pictured: Victim of 'honour killing because she went out with a Muslim Arab'"
      ],
      "text/plain": [
       "<IPython.core.display.Markdown object>"
      ]
     },
     "metadata": {},
     "output_type": "display_data"
    },
    {
     "data": {
      "text/markdown": [
       "Celine Dookhran, an Indian Muslim, is believed to have started dating an Arab Muslim."
      ],
      "text/plain": [
       "<IPython.core.display.Markdown object>"
      ]
     },
     "metadata": {},
     "output_type": "display_data"
    },
    {
     "data": {
      "text/markdown": [
       "[![](http://i2.wp.com/metrouk2.files.wordpress.com/2017/07/prc_47640917.jpg?crop=0px%2C0px%2C1200px%2C630px&resize=1200%2C630&quality=80&strip=all&ssl=1)](http://metro.co.uk/2017/07/25/pictured-teenager-kidnapped-raped-and-murdered-in-honour-killing-6803485/)"
      ],
      "text/plain": [
       "<IPython.core.display.Markdown object>"
      ]
     },
     "metadata": {},
     "output_type": "display_data"
    },
    {
     "data": {
      "text/markdown": [
       "## Mother pictured 'smoking a bong' while breastfeeding"
      ],
      "text/plain": [
       "<IPython.core.display.Markdown object>"
      ]
     },
     "metadata": {},
     "output_type": "display_data"
    },
    {
     "data": {
      "text/markdown": [
       "The picture has caused anger on Facebook."
      ],
      "text/plain": [
       "<IPython.core.display.Markdown object>"
      ]
     },
     "metadata": {},
     "output_type": "display_data"
    },
    {
     "data": {
      "text/markdown": [
       "[![](https://metrouk2.files.wordpress.com/2017/07/baby2.jpg?quality=80&strip=all&w=1200&h=630&crop=1)](http://metro.co.uk/2017/07/25/mother-pictured-breastfeeding-while-smoking-a-bong-6803432/)"
      ],
      "text/plain": [
       "<IPython.core.display.Markdown object>"
      ]
     },
     "metadata": {},
     "output_type": "display_data"
    },
    {
     "data": {
      "text/markdown": [
       "## Police agree to stop refilling tip after Corrie McKeague's dad blocked entrance"
      ],
      "text/plain": [
       "<IPython.core.display.Markdown object>"
      ]
     },
     "metadata": {},
     "output_type": "display_data"
    },
    {
     "data": {
      "text/markdown": [
       "Police had been filling in the landfill site where they believe to body of Corrie to be located."
      ],
      "text/plain": [
       "<IPython.core.display.Markdown object>"
      ]
     },
     "metadata": {},
     "output_type": "display_data"
    },
    {
     "data": {
      "text/markdown": [
       "[![](http://i1.wp.com/metrouk2.files.wordpress.com/2017/07/corrie3.jpg?crop=0px%2C0px%2C1200px%2C630px&resize=1200%2C630&quality=80&strip=all&ssl=1)](http://metro.co.uk/2017/07/25/police-stop-re-filling-landfill-site-after-corrie-mckeagues-dad-blocked-entrance-6803877/)"
      ],
      "text/plain": [
       "<IPython.core.display.Markdown object>"
      ]
     },
     "metadata": {},
     "output_type": "display_data"
    },
    {
     "data": {
      "text/markdown": [
       "# USA Today"
      ],
      "text/plain": [
       "<IPython.core.display.Markdown object>"
      ]
     },
     "metadata": {},
     "output_type": "display_data"
    },
    {
     "data": {
      "text/markdown": [
       "## EU-Türkei-Verhandlungen: Erdogan wirft Bundesregierung Spionage vor"
      ],
      "text/plain": [
       "<IPython.core.display.Markdown object>"
      ]
     },
     "metadata": {},
     "output_type": "display_data"
    },
    {
     "data": {
      "text/markdown": [
       "In Brüssel sprechen türkische Diplomaten mit der EU über die Zukunft der Beziehungen - und Präsident Erdogan keilt weiter gegen Deutschland: Spione aus Berlin spalteten sein Land."
      ],
      "text/plain": [
       "<IPython.core.display.Markdown object>"
      ]
     },
     "metadata": {},
     "output_type": "display_data"
    },
    {
     "data": {
      "text/markdown": [
       "[![](http://cdn2.spiegel.de/images/image-1169789-galleryV9-qaej-1169789.jpg)](http://www.spiegel.de/politik/ausland/recep-tayyip-erdogan-tuerkischer-praesident-wirft-bundesregierung-spionage-vor-a-1159615.html)"
      ],
      "text/plain": [
       "<IPython.core.display.Markdown object>"
      ]
     },
     "metadata": {},
     "output_type": "display_data"
    },
    {
     "data": {
      "text/markdown": [
       "## FDP-Vize Kubicki: \"Dann rumst es mal kurz\""
      ],
      "text/plain": [
       "<IPython.core.display.Markdown object>"
      ]
     },
     "metadata": {},
     "output_type": "display_data"
    },
    {
     "data": {
      "text/markdown": [
       "Wolfgang Kubicki liebt das offene Wort. Hier spricht der FDP-Vize über alte Vorurteile gegen seine Partei, mögliche Koalitionen nach der Bundestagswahl - und seine Sympathien für Claudia Roth."
      ],
      "text/plain": [
       "<IPython.core.display.Markdown object>"
      ]
     },
     "metadata": {},
     "output_type": "display_data"
    },
    {
     "data": {
      "text/markdown": [
       "[![](http://cdn4.spiegel.de/images/image-1169767-galleryV9-ptdv-1169767.jpg)](http://www.spiegel.de/politik/deutschland/bundestagswahl-wolfgang-kubicki-sieht-fdp-in-der-regierungsverantwortung-a-1159402.html)"
      ],
      "text/plain": [
       "<IPython.core.display.Markdown object>"
      ]
     },
     "metadata": {},
     "output_type": "display_data"
    },
    {
     "data": {
      "text/markdown": [
       "## Abgeschobene Schülerin: Bivsi darf mit ihrer Familie zurück nach Deutschland"
      ],
      "text/plain": [
       "<IPython.core.display.Markdown object>"
      ]
     },
     "metadata": {},
     "output_type": "display_data"
    },
    {
     "data": {
      "text/markdown": [
       "Ihre Abschiebung versetzte Duisburg in Aufruhr, Mitschüler protestierten vehement: Nun darf Bivsi Rana, 15, zurück nach Deutschland. Laut Ministerium ist die gebürtige Nepalesin \"de facto ein deutsches Kind\"."
      ],
      "text/plain": [
       "<IPython.core.display.Markdown object>"
      ]
     },
     "metadata": {},
     "output_type": "display_data"
    },
    {
     "data": {
      "text/markdown": [
       "[![](http://cdn2.spiegel.de/images/image-1161975-galleryV9-qibm-1161975.jpg)](http://www.spiegel.de/politik/deutschland/bivsi-rana-abgeschobene-schuelerin-darf-zurueck-nach-deutschland-a-1159639.html)"
      ],
      "text/plain": [
       "<IPython.core.display.Markdown object>"
      ]
     },
     "metadata": {},
     "output_type": "display_data"
    },
    {
     "data": {
      "text/markdown": [
       "## Erfundene Martin-Schulz-Aussage: SPD lässt Fake-Tweet der Jungen Union Bayern verbieten"
      ],
      "text/plain": [
       "<IPython.core.display.Markdown object>"
      ]
     },
     "metadata": {},
     "output_type": "display_data"
    },
    {
     "data": {
      "text/markdown": [
       "Die Junge Union Bayern muss einen erfundenen Martin-Schulz-Tweet löschen - sonst droht ihr ein Ordnungsgeld von bis zu 250.000 Euro. Das geht aus einer einstweiligen Verfügung des Landgerichts Hamburg hervor."
      ],
      "text/plain": [
       "<IPython.core.display.Markdown object>"
      ]
     },
     "metadata": {},
     "output_type": "display_data"
    },
    {
     "data": {
      "text/markdown": [
       "[![](http://cdn1.spiegel.de/images/image-1169820-galleryV9-jsvj-1169820.jpg)](http://www.spiegel.de/politik/deutschland/spd-laesst-fake-tweet-durch-einstweilige-verfuegung-gegen-csu-verbieten-a-1159608.html)"
      ],
      "text/plain": [
       "<IPython.core.display.Markdown object>"
      ]
     },
     "metadata": {},
     "output_type": "display_data"
    },
    {
     "data": {
      "text/markdown": [
       "## Trotz Brexit: BMW will Elektro-Mini in Oxford montieren"
      ],
      "text/plain": [
       "<IPython.core.display.Markdown object>"
      ]
     },
     "metadata": {},
     "output_type": "display_data"
    },
    {
     "data": {
      "text/markdown": [
       "Auch nach dem EU-Ausstieg will BMW Großbritannien treu bleiben: Der neue Elektro-Mini soll ab 2019 im Stammwerk Oxford vom Band laufen."
      ],
      "text/plain": [
       "<IPython.core.display.Markdown object>"
      ]
     },
     "metadata": {},
     "output_type": "display_data"
    },
    {
     "data": {
      "text/markdown": [
       "[![](http://cdn2.spiegel.de/images/image-1015399-galleryV9-clbl-1015399.jpg)](http://www.spiegel.de/wirtschaft/unternehmen/brexit-bmw-will-elektro-mini-trotzdem-in-oxford-montieren-a-1159659.html)"
      ],
      "text/plain": [
       "<IPython.core.display.Markdown object>"
      ]
     },
     "metadata": {},
     "output_type": "display_data"
    },
    {
     "data": {
      "text/markdown": [
       "## Plädoyer im NSU-Prozess: Verunsichern, erschüttern, ängstigen"
      ],
      "text/plain": [
       "<IPython.core.display.Markdown object>"
      ]
     },
     "metadata": {},
     "output_type": "display_data"
    },
    {
     "data": {
      "text/markdown": [
       "Im NSU-Prozess hat die Bundesanwaltschaft mit ihrem Plädoyer begonnen: Für sie hat die Beweisaufnahme belegt, dass Beate Zschäpe als Mittäterin schuldig ist. Es gehe um die \"infamsten Terroranschläge\" seit der RAF."
      ],
      "text/plain": [
       "<IPython.core.display.Markdown object>"
      ]
     },
     "metadata": {},
     "output_type": "display_data"
    },
    {
     "data": {
      "text/markdown": [
       "[![](http://cdn3.spiegel.de/images/image-1169796-galleryV9-frbp-1169796.jpg)](http://www.spiegel.de/panorama/justiz/nsu-prozess-plaedoyers-beginnen-mit-gelaechter-a-1159622.html)"
      ],
      "text/plain": [
       "<IPython.core.display.Markdown object>"
      ]
     },
     "metadata": {},
     "output_type": "display_data"
    },
    {
     "data": {
      "text/markdown": [
       "## Neuer Tech-Podcast \"Netzteil\": Alexa, Siri und Co. - löst Sprechen bald das Tippen ab?"
      ],
      "text/plain": [
       "<IPython.core.display.Markdown object>"
      ]
     },
     "metadata": {},
     "output_type": "display_data"
    },
    {
     "data": {
      "text/markdown": [
       "Im neuen Podcast \"Netzteil\" wirft das Netzwelt-Ressort ab jetzt wöchentlich einen Blick in die Zukunft. In der ersten Folge geht es um Sprachsteuerung - und Siri und Alexa reden mit."
      ],
      "text/plain": [
       "<IPython.core.display.Markdown object>"
      ]
     },
     "metadata": {},
     "output_type": "display_data"
    },
    {
     "data": {
      "text/markdown": [
       "[![](http://cdn4.spiegel.de/images/image-1164597-galleryV9-nmuy-1164597.jpg)](http://www.spiegel.de/netzwelt/web/alexa-siri-und-co-loest-sprechen-bald-das-tippen-ab-a-1159604.html)"
      ],
      "text/plain": [
       "<IPython.core.display.Markdown object>"
      ]
     },
     "metadata": {},
     "output_type": "display_data"
    },
    {
     "data": {
      "text/markdown": [
       "## Sommer in Deutschland: Regen, Regen, Regen - und noch mehr Regen"
      ],
      "text/plain": [
       "<IPython.core.display.Markdown object>"
      ]
     },
     "metadata": {},
     "output_type": "display_data"
    },
    {
     "data": {
      "text/markdown": [
       "Überflutete Straßen, vollgelaufene Keller, über die Ufer getretene Bäche: In vielen Teilen des Landes haben die Menschen mit Dauerregen zu kämpfen. Und die Vorhersage verheißt kaum Besserung."
      ],
      "text/plain": [
       "<IPython.core.display.Markdown object>"
      ]
     },
     "metadata": {},
     "output_type": "display_data"
    },
    {
     "data": {
      "text/markdown": [
       "[![](http://cdn3.spiegel.de/images/image-1169686-galleryV9-libd-1169686.jpg)](http://www.spiegel.de/panorama/wetter-regen-sorgt-fuer-ueberschwemmungen-in-niedersachsen-und-thueringen-a-1159598.html)"
      ],
      "text/plain": [
       "<IPython.core.display.Markdown object>"
      ]
     },
     "metadata": {},
     "output_type": "display_data"
    },
    {
     "data": {
      "text/markdown": [
       "## Wechsel in die Formel E: Das bedeutet der Mercedes-Ausstieg für die DTM"
      ],
      "text/plain": [
       "<IPython.core.display.Markdown object>"
      ]
     },
     "metadata": {},
     "output_type": "display_data"
    },
    {
     "data": {
      "text/markdown": [
       "Zwei Hersteller bleiben nach dem Abschied von Mercedes übrig - zu wenig für die Tourenwagen-Serie DTM. Die Rennserie kämpft auch mit anderen Problemen."
      ],
      "text/plain": [
       "<IPython.core.display.Markdown object>"
      ]
     },
     "metadata": {},
     "output_type": "display_data"
    },
    {
     "data": {
      "text/markdown": [
       "[![](http://cdn1.spiegel.de/images/image-1169794-galleryV9-xshc-1169794.jpg)](http://www.spiegel.de/sport/sonst/mercedes-steigt-aus-die-zukunft-der-dtm-a-1159618.html)"
      ],
      "text/plain": [
       "<IPython.core.display.Markdown object>"
      ]
     },
     "metadata": {},
     "output_type": "display_data"
    },
    {
     "data": {
      "text/markdown": [
       "## Schwimmerin Sjöström: Die Schmetterlingskönigin kann auch anders"
      ],
      "text/plain": [
       "<IPython.core.display.Markdown object>"
      ]
     },
     "metadata": {},
     "output_type": "display_data"
    },
    {
     "data": {
      "text/markdown": [
       "Sarah Sjöström ist in Top-Form: Einen Weltrekord und einmal Gold hat sie bei der Schwimm-WM in Budapest schon geholt. Weil die Schwedin inzwischen auch im Freistil glänzt, zittert Britta Steffen um einen Rekord."
      ],
      "text/plain": [
       "<IPython.core.display.Markdown object>"
      ]
     },
     "metadata": {},
     "output_type": "display_data"
    },
    {
     "data": {
      "text/markdown": [
       "[![](http://cdn3.spiegel.de/images/image-1169806-galleryV9-hjvb-1169806.jpg)](http://www.spiegel.de/sport/sonst/schwimm-wm-budapest-das-ist-superstar-sarah-sjoestroem-a-1159620.html)"
      ],
      "text/plain": [
       "<IPython.core.display.Markdown object>"
      ]
     },
     "metadata": {},
     "output_type": "display_data"
    },
    {
     "data": {
      "text/markdown": [
       "# Independent"
      ],
      "text/plain": [
       "<IPython.core.display.Markdown object>"
      ]
     },
     "metadata": {},
     "output_type": "display_data"
    },
    {
     "data": {
      "text/markdown": [
       "## Trump leaves Sessions twisting in the wind while berating him publicly"
      ],
      "text/plain": [
       "<IPython.core.display.Markdown object>"
      ]
     },
     "metadata": {},
     "output_type": "display_data"
    },
    {
     "data": {
      "text/markdown": [
       "People close to the president are exploring other possible attorney-general candidates."
      ],
      "text/plain": [
       "<IPython.core.display.Markdown object>"
      ]
     },
     "metadata": {},
     "output_type": "display_data"
    },
    {
     "data": {
      "text/markdown": [
       "[![](https://img.washingtonpost.com/rf/image_1484w/2010-2019/WashingtonPost/2017/07/24/National-Security/Images/06098996-0817.jpg?t=20170517)](https://www.washingtonpost.com/world/national-security/trump-leaves-sessions-twisting-in-the-wind-while-berating-him-publicly/2017/07/24/ce3bf142-708b-11e7-9eac-d56bd5568db8_story.html)"
      ],
      "text/plain": [
       "<IPython.core.display.Markdown object>"
      ]
     },
     "metadata": {},
     "output_type": "display_data"
    },
    {
     "data": {
      "text/markdown": [
       "## Trump renews Twitter attacks on Attorney General Jeff Sessions"
      ],
      "text/plain": [
       "<IPython.core.display.Markdown object>"
      ]
     },
     "metadata": {},
     "output_type": "display_data"
    },
    {
     "data": {
      "text/markdown": [
       "In a series of Tuesday morning tweets, the president said Sessions has responded weakly to alleged “crimes” by Hillary Clinton."
      ],
      "text/plain": [
       "<IPython.core.display.Markdown object>"
      ]
     },
     "metadata": {},
     "output_type": "display_data"
    },
    {
     "data": {
      "text/markdown": [
       "[![](https://img.washingtonpost.com/rf/image_1484w/2010-2019/WashingtonPost/2017/07/25/National-Politics/Images/Trump_Sessions_Beleaugred_67618-d4236.jpg?t=20170517)](https://www.washingtonpost.com/politics/trump-renews-twitter-attacks-on-attorney-general-jeff-sessions/2017/07/25/003d15ca-7124-11e7-8839-ec48ec4cae25_story.html)"
      ],
      "text/plain": [
       "<IPython.core.display.Markdown object>"
      ]
     },
     "metadata": {},
     "output_type": "display_data"
    },
    {
     "data": {
      "text/markdown": [
       "## Analysis | The Daily 202: Trump’s pick to run DOJ criminal division worked for Russia bank"
      ],
      "text/plain": [
       "<IPython.core.display.Markdown object>"
      ]
     },
     "metadata": {},
     "output_type": "display_data"
    },
    {
     "data": {
      "text/markdown": [
       "POTUS steps up pressure on Sessions, considers replacements who could fire Mueller."
      ],
      "text/plain": [
       "<IPython.core.display.Markdown object>"
      ]
     },
     "metadata": {},
     "output_type": "display_data"
    },
    {
     "data": {
      "text/markdown": [
       "[![](https://img.washingtonpost.com/pbox.php?url=https://palomaimages.washingtonpost.com/pr2/f17a1878d8cb69c24f0f1cbbe79c7c2e-2549-1731-CROPBenczkowski.jpg&w=1484&op=resize&opt=1&filter=antialias&t=20170517)](https://www.washingtonpost.com/news/powerpost/paloma/daily-202/2017/07/25/daily-202-trump-s-pick-to-run-doj-criminal-division-worked-for-russia-bank/59769c1630fb04367954322c/)"
      ],
      "text/plain": [
       "<IPython.core.display.Markdown object>"
      ]
     },
     "metadata": {},
     "output_type": "display_data"
    },
    {
     "data": {
      "text/markdown": [
       "## Cooperation with Russia becomes central to Trump strategy in Syria"
      ],
      "text/plain": [
       "<IPython.core.display.Markdown object>"
      ]
     },
     "metadata": {},
     "output_type": "display_data"
    },
    {
     "data": {
      "text/markdown": [
       "Some argue that the Kremlin cannot be trusted to implement a deal that would allow the U.S. to focus on the Islamic State."
      ],
      "text/plain": [
       "<IPython.core.display.Markdown object>"
      ]
     },
     "metadata": {},
     "output_type": "display_data"
    },
    {
     "data": {
      "text/markdown": [
       "[![](https://img.washingtonpost.com/rf/image_1484w/2010-2019/WashingtonPost/2017/07/24/National-Security/Images/Jordan-Israel-Syria_Truce_40813-eff61-0815.jpg?t=20170517)](https://www.washingtonpost.com/world/national-security/cooperation-with-russia-becomes-central-to-trump-strategy-in-syria/2017/07/24/ba6172be-6e38-11e7-9c15-177740635e83_story.html)"
      ],
      "text/plain": [
       "<IPython.core.display.Markdown object>"
      ]
     },
     "metadata": {},
     "output_type": "display_data"
    },
    {
     "data": {
      "text/markdown": [
       "## Trump blasts ‘fabricated’ Syria story, appears to confirm covert CIA program"
      ],
      "text/plain": [
       "<IPython.core.display.Markdown object>"
      ]
     },
     "metadata": {},
     "output_type": "display_data"
    },
    {
     "data": {
      "text/markdown": [
       "Trump tweet acknowledges secret U.S. program to aid Syrian rebels."
      ],
      "text/plain": [
       "<IPython.core.display.Markdown object>"
      ]
     },
     "metadata": {},
     "output_type": "display_data"
    },
    {
     "data": {
      "text/markdown": [
       "[![](https://img.washingtonpost.com/pbox.php?url=http://img.washingtonpost.com/news/morning-mix/wp-content/uploads/sites/21/2017/07/trump-mic.jpg&w=1484&op=resize&opt=1&filter=antialias&t=20170517)](https://www.washingtonpost.com/news/morning-mix/wp/2017/07/25/trump-blasts-fabricated-syria-story-appears-to-confirm-covert-cia-program/)"
      ],
      "text/plain": [
       "<IPython.core.display.Markdown object>"
      ]
     },
     "metadata": {},
     "output_type": "display_data"
    },
    {
     "data": {
      "text/markdown": [
       "## From ‘fake media’ to Clinton, Trump brings political attacks to the Scout Jamboree"
      ],
      "text/plain": [
       "<IPython.core.display.Markdown object>"
      ]
     },
     "metadata": {},
     "output_type": "display_data"
    },
    {
     "data": {
      "text/markdown": [
       "Thousands of boys gathered in W. Va. booed and chanted in support as Trump went after his enemies."
      ],
      "text/plain": [
       "<IPython.core.display.Markdown object>"
      ]
     },
     "metadata": {},
     "output_type": "display_data"
    },
    {
     "data": {
      "text/markdown": [
       "[![](https://img.washingtonpost.com/rf/image_1484w/2010-2019/WashingtonPost/2017/07/25/National-Politics/Images/AFP_QW9KH.jpg?t=20170517)](https://www.washingtonpost.com/politics/from-fake-media-to-clinton-trump-brings-political-attacks-to-the-scout-jamboree/2017/07/24/a77fca64-70c8-11e7-8839-ec48ec4cae25_story.html)"
      ],
      "text/plain": [
       "<IPython.core.display.Markdown object>"
      ]
     },
     "metadata": {},
     "output_type": "display_data"
    },
    {
     "data": {
      "text/markdown": [
       "## After Trump’s partisan speech, Boy Scouts of America reiterates that it is ‘wholly non-partisan’"
      ],
      "text/plain": [
       "<IPython.core.display.Markdown object>"
      ]
     },
     "metadata": {},
     "output_type": "display_data"
    },
    {
     "data": {
      "text/markdown": [
       "In a statement, the nonprofit organization said inviting the sitting president to speak “is in no way an endorsement of any political party or specific policies.\""
      ],
      "text/plain": [
       "<IPython.core.display.Markdown object>"
      ]
     },
     "metadata": {},
     "output_type": "display_data"
    },
    {
     "data": {
      "text/markdown": [
       "[![](https://img.washingtonpost.com/pbox.php?url=http://img.washingtonpost.com/blogs/post-politics/files/2017/07/AFP_QW9KH.jpg&w=1484&op=resize&opt=1&filter=antialias&t=20170517)](https://www.washingtonpost.com/news/post-politics/wp/2017/07/25/after-trumps-partisan-speech-boy-scouts-of-america-reiterates-that-it-is-wholly-non-partisan/)"
      ],
      "text/plain": [
       "<IPython.core.display.Markdown object>"
      ]
     },
     "metadata": {},
     "output_type": "display_data"
    },
    {
     "data": {
      "text/markdown": [
       "## GOP leaders press ahead with health care vote, in hopes of sustaining repeal effort"
      ],
      "text/plain": [
       "<IPython.core.display.Markdown object>"
      ]
     },
     "metadata": {},
     "output_type": "display_data"
    },
    {
     "data": {
      "text/markdown": [
       "Sen. John McCain’s (R-Ariz.) return to D.C. could boost procedural motion’s chances"
      ],
      "text/plain": [
       "<IPython.core.display.Markdown object>"
      ]
     },
     "metadata": {},
     "output_type": "display_data"
    },
    {
     "data": {
      "text/markdown": [
       "[![](https://img.washingtonpost.com/rf/image_1484w/2010-2019/WashingtonPost/2017/07/25/National-Politics/Images/Senate_McCain_Former_Rival_84054-4d815.jpg?t=20170517)](https://www.washingtonpost.com/powerpost/gop-leaders-press-ahead-with-health-care-vote-in-hopes-of-sustaining-repeal-effort/2017/07/25/2525470c-7126-11e7-8839-ec48ec4cae25_story.html)"
      ],
      "text/plain": [
       "<IPython.core.display.Markdown object>"
      ]
     },
     "metadata": {},
     "output_type": "display_data"
    },
    {
     "data": {
      "text/markdown": [
       "## The Health 202: Today is a huge turning point in the GOP's long struggle to repeal Obamacare"
      ],
      "text/plain": [
       "<IPython.core.display.Markdown object>"
      ]
     },
     "metadata": {},
     "output_type": "display_data"
    },
    {
     "data": {
      "text/markdown": [
       "McCain's return could affect he equation."
      ],
      "text/plain": [
       "<IPython.core.display.Markdown object>"
      ]
     },
     "metadata": {},
     "output_type": "display_data"
    },
    {
     "data": {
      "text/markdown": [
       "[![](https://img.washingtonpost.com/pbox.php?url=https://palomaimages.washingtonpost.com/pr2/63736be556fae55c023f70940942c293-5472-3648-Congress_Health_Overhaul_Pass_or_Fail_64664ddbcb2342.jpg&w=1484&op=resize&opt=1&filter=antialias&t=20170517)](https://www.washingtonpost.com/news/powerpost/paloma/the-health-202/2017/07/25/the-health-202-today-is-a-huge-turning-point-in-the-gop-s-long-struggle-to-repeal-obamacare/597622ad30fb043679543220/)"
      ],
      "text/plain": [
       "<IPython.core.display.Markdown object>"
      ]
     },
     "metadata": {},
     "output_type": "display_data"
    },
    {
     "data": {
      "text/markdown": [
       "## Boehner predicts Republicans will ‘never’ repeal and replace Obamacare"
      ],
      "text/plain": [
       "<IPython.core.display.Markdown object>"
      ]
     },
     "metadata": {},
     "output_type": "display_data"
    },
    {
     "data": {
      "text/markdown": [
       "The former House speaker also warned in a private speech that the GOP could ‘get annihilated’ in 2018."
      ],
      "text/plain": [
       "<IPython.core.display.Markdown object>"
      ]
     },
     "metadata": {},
     "output_type": "display_data"
    },
    {
     "data": {
      "text/markdown": [
       "[![](https://img.washingtonpost.com/rf/image_1484w/2010-2019/WashingtonPost/2017/07/25/Production/Daily/A-Section/Images/Boehners_New_Job-d9794.jpg?t=20170517)](https://www.washingtonpost.com/politics/boehner-predicts-republicans-will-never-repeal-and-replace-obamacare/2017/07/24/e4190718-70d9-11e7-8f39-eeb7d3a2d304_story.html)"
      ],
      "text/plain": [
       "<IPython.core.display.Markdown object>"
      ]
     },
     "metadata": {},
     "output_type": "display_data"
    },
    {
     "data": {
      "text/markdown": [
       "# Newsweek"
      ],
      "text/plain": [
       "<IPython.core.display.Markdown object>"
      ]
     },
     "metadata": {},
     "output_type": "display_data"
    },
    {
     "data": {
      "text/markdown": [
       "## ‘I Did Not Collude,’ Kushner Says After Meeting Senate Investigators"
      ],
      "text/plain": [
       "<IPython.core.display.Markdown object>"
      ]
     },
     "metadata": {},
     "output_type": "display_data"
    },
    {
     "data": {
      "text/markdown": [
       "Jared Kushner’s rare public comments about Russia were an attempt to steer the White House through a political storm. But they carried legal risk."
      ],
      "text/plain": [
       "<IPython.core.display.Markdown object>"
      ]
     },
     "metadata": {},
     "output_type": "display_data"
    },
    {
     "data": {
      "text/markdown": [
       "[![](https://static01.nyt.com/images/2017/07/24/us/24kushnerlive2/24kushnerlive2-facebookJumbo.jpg)](https://www.nytimes.com/2017/07/24/us/politics/jared-kushner-russia-senate.html)"
      ],
      "text/plain": [
       "<IPython.core.display.Markdown object>"
      ]
     },
     "metadata": {},
     "output_type": "display_data"
    },
    {
     "data": {
      "text/markdown": [
       "## ‘Game of Thrones’ Season 7, Episode 2 Recap: ‘Stormborn’"
      ],
      "text/plain": [
       "<IPython.core.display.Markdown object>"
      ]
     },
     "metadata": {},
     "output_type": "display_data"
    },
    {
     "data": {
      "text/markdown": [
       "On Sunday, characters connected in new and surprising ways all over Westeros."
      ],
      "text/plain": [
       "<IPython.core.display.Markdown object>"
      ]
     },
     "metadata": {},
     "output_type": "display_data"
    },
    {
     "data": {
      "text/markdown": [
       "[![](https://static01.nyt.com/images/2017/07/25/arts/television/24thrones2/24thrones2-facebookJumbo.jpg)](https://www.nytimes.com/2017/07/23/arts/television/game-of-thrones-season-7-episode-2-jon-snow-sand-snakes-daenerys-sansa-arya.html)"
      ],
      "text/plain": [
       "<IPython.core.display.Markdown object>"
      ]
     },
     "metadata": {},
     "output_type": "display_data"
    },
    {
     "data": {
      "text/markdown": [
       "## Woman Pleads Guilty in Fiancé’s Kayak Death on Hudson River"
      ],
      "text/plain": [
       "<IPython.core.display.Markdown object>"
      ]
     },
     "metadata": {},
     "output_type": "display_data"
    },
    {
     "data": {
      "text/markdown": [
       "Angelika Graswald pleaded guilty to a reduced charge of criminally negligent homicide after her fiancé, Vincent Viafore, was killed in 2015."
      ],
      "text/plain": [
       "<IPython.core.display.Markdown object>"
      ]
     },
     "metadata": {},
     "output_type": "display_data"
    },
    {
     "data": {
      "text/markdown": [
       "[![](https://static01.nyt.com/images/2017/07/25/nyregion/25kayak1/25kayak1-facebookJumbo.jpg)](https://www.nytimes.com/2017/07/24/nyregion/angelika-graswald-kayak-vincent-viafore.html)"
      ],
      "text/plain": [
       "<IPython.core.display.Markdown object>"
      ]
     },
     "metadata": {},
     "output_type": "display_data"
    },
    {
     "data": {
      "text/markdown": [
       "## In Taking Aim at His Attorney General, Trump Tests Sessions’s Views"
      ],
      "text/plain": [
       "<IPython.core.display.Markdown object>"
      ]
     },
     "metadata": {},
     "output_type": "display_data"
    },
    {
     "data": {
      "text/markdown": [
       "Mr. Trump’s latest public rebuke was met with silence by Mr. Sessions, who has historically been vocal about keeping the Justice Department independent of the president."
      ],
      "text/plain": [
       "<IPython.core.display.Markdown object>"
      ]
     },
     "metadata": {},
     "output_type": "display_data"
    },
    {
     "data": {
      "text/markdown": [
       "[![](https://static01.nyt.com/images/2017/07/25/us/25dc-sessions/25dc-sessions-facebookJumbo.jpg)](https://www.nytimes.com/2017/07/24/us/politics/trump-tweet-sessions.html)"
      ],
      "text/plain": [
       "<IPython.core.display.Markdown object>"
      ]
     },
     "metadata": {},
     "output_type": "display_data"
    },
    {
     "data": {
      "text/markdown": [
       "## Michael Phelps ‘Raced’ a ‘Shark,’ Kind Of. Not Really."
      ],
      "text/plain": [
       "<IPython.core.display.Markdown object>"
      ]
     },
     "metadata": {},
     "output_type": "display_data"
    },
    {
     "data": {
      "text/markdown": [
       "A televised match race between the 23-time Olympic gold medalist and a great white shark seemed about as realistic as a sharknado."
      ],
      "text/plain": [
       "<IPython.core.display.Markdown object>"
      ]
     },
     "metadata": {},
     "output_type": "display_data"
    },
    {
     "data": {
      "text/markdown": [
       "[![](https://static01.nyt.com/images/2017/07/25/sports/25sharkWEB2/25sharkWEB2-facebookJumbo.jpg)](https://www.nytimes.com/2017/07/24/sports/shark-week-michael-phelps.html)"
      ],
      "text/plain": [
       "<IPython.core.display.Markdown object>"
      ]
     },
     "metadata": {},
     "output_type": "display_data"
    },
    {
     "data": {
      "text/markdown": [
       "## Opinion | G.O.P. Support for Trump Is Starting to Crack"
      ],
      "text/plain": [
       "<IPython.core.display.Markdown object>"
      ]
     },
     "metadata": {},
     "output_type": "display_data"
    },
    {
     "data": {
      "text/markdown": [
       "Members of Congress are defending him much less than is typical for a new president, and his level of popular support is declining."
      ],
      "text/plain": [
       "<IPython.core.display.Markdown object>"
      ]
     },
     "metadata": {},
     "output_type": "display_data"
    },
    {
     "data": {
      "text/markdown": [
       "[![](https://static01.nyt.com/images/2017/07/25/opinion/25leonhardtWeb/25leonhardtWeb-facebookJumbo.jpg)](https://www.nytimes.com/2017/07/24/opinion/republican-support-donald-trump.html)"
      ],
      "text/plain": [
       "<IPython.core.display.Markdown object>"
      ]
     },
     "metadata": {},
     "output_type": "display_data"
    },
    {
     "data": {
      "text/markdown": [
       "## Parents of Charlie Gard, Ill British Infant, Abandon Effort to Prolong His Life"
      ],
      "text/plain": [
       "<IPython.core.display.Markdown object>"
      ]
     },
     "metadata": {},
     "output_type": "display_data"
    },
    {
     "data": {
      "text/markdown": [
       "His parents accepted medical experts’ consensus that there was no realistic hope that an experimental therapy might save their son."
      ],
      "text/plain": [
       "<IPython.core.display.Markdown object>"
      ]
     },
     "metadata": {},
     "output_type": "display_data"
    },
    {
     "data": {
      "text/markdown": [
       "[![](https://static01.nyt.com/images/2017/07/25/world/25Infant1/25Infant1-facebookJumbo.jpg)](https://www.nytimes.com/2017/07/24/world/europe/uk-charlie-gard-parents.html)"
      ],
      "text/plain": [
       "<IPython.core.display.Markdown object>"
      ]
     },
     "metadata": {},
     "output_type": "display_data"
    },
    {
     "data": {
      "text/markdown": [
       "## The New Presidential Interview"
      ],
      "text/plain": [
       "<IPython.core.display.Markdown object>"
      ]
     },
     "metadata": {},
     "output_type": "display_data"
    },
    {
     "data": {
      "text/markdown": [
       "“I have now interviewed seven presidents — and with Mr. Trump the experience is strikingly different in almost every respect.”"
      ],
      "text/plain": [
       "<IPython.core.display.Markdown object>"
      ]
     },
     "metadata": {},
     "output_type": "display_data"
    },
    {
     "data": {
      "text/markdown": [
       "[![](https://static01.nyt.com/images/2017/07/25/insider/25baker-insider-image/25baker-insider-image-facebookJumbo.jpg)](https://www.nytimes.com/2017/07/24/insider/the-new-presidential-interview.html)"
      ],
      "text/plain": [
       "<IPython.core.display.Markdown object>"
      ]
     },
     "metadata": {},
     "output_type": "display_data"
    },
    {
     "data": {
      "text/markdown": [
       "## Snopes, in Heated Legal Battle, Asks Readers for Money to Survive"
      ],
      "text/plain": [
       "<IPython.core.display.Markdown object>"
      ]
     },
     "metadata": {},
     "output_type": "display_data"
    },
    {
     "data": {
      "text/markdown": [
       "The website, known for debunking viral misinformation, claims a vendor is withholding its advertising revenue. The vendor has a different story."
      ],
      "text/plain": [
       "<IPython.core.display.Markdown object>"
      ]
     },
     "metadata": {},
     "output_type": "display_data"
    },
    {
     "data": {
      "text/markdown": [
       "[![](https://static01.nyt.com/images/2017/07/24/us/25xp-snopes/25xp-snopes-facebookJumbo.png)](https://www.nytimes.com/2017/07/24/business/media/snopes-crowdfunding-proper-media.html)"
      ],
      "text/plain": [
       "<IPython.core.display.Markdown object>"
      ]
     },
     "metadata": {},
     "output_type": "display_data"
    },
    {
     "data": {
      "text/markdown": [
       "## The Company Behind Many Surprise Emergency Room Bills"
      ],
      "text/plain": [
       "<IPython.core.display.Markdown object>"
      ]
     },
     "metadata": {},
     "output_type": "display_data"
    },
    {
     "data": {
      "text/markdown": [
       "A study by Yale researchers found that the rate of out-of-network doctor’s bills for customers of a big insurer jumped when EmCare entered a hospital."
      ],
      "text/plain": [
       "<IPython.core.display.Markdown object>"
      ]
     },
     "metadata": {},
     "output_type": "display_data"
    },
    {
     "data": {
      "text/markdown": [
       "[![](https://static01.nyt.com/images/2017/07/20/upshot/up-erdocs2-1500683515385/up-erdocs2-1500683515385-facebookJumbo-v6.png)](https://www.nytimes.com/2017/07/24/upshot/the-company-behind-many-surprise-emergency-room-bills.html)"
      ],
      "text/plain": [
       "<IPython.core.display.Markdown object>"
      ]
     },
     "metadata": {},
     "output_type": "display_data"
    },
    {
     "data": {
      "text/markdown": [
       "# Al Jazeera English"
      ],
      "text/plain": [
       "<IPython.core.display.Markdown object>"
      ]
     },
     "metadata": {},
     "output_type": "display_data"
    },
    {
     "data": {
      "text/markdown": [
       "## Trump tweets, McCain return set stage for health bill vote"
      ],
      "text/plain": [
       "<IPython.core.display.Markdown object>"
      ]
     },
     "metadata": {},
     "output_type": "display_data"
    },
    {
     "data": {
      "text/markdown": [
       "WASHINGTON (AP) — President Donald Trump urged Republicans to \"step up to the plate\" for Tuesday's crucial Senate vote on their bill eviscerating much of the Obama health care law. The stage was set for high drama, with Sen. John McCain returning to the Capitol to cast his first vote since being diagnosed with brain cancer. No stranger to heroic episodes, the Navy pilot who persevered through five years of captivity during the Vietnam War announced through his office that he would be back in Washington for the critical roll call on beginning debate on the legislation. The 80-year-old has been at home in Arizona since he revealed last week that he's undergoing treatment for brain cancer, but a statement said he \"looks forward\" to returning for work on health care and other legislation."
      ],
      "text/plain": [
       "<IPython.core.display.Markdown object>"
      ]
     },
     "metadata": {},
     "output_type": "display_data"
    },
    {
     "data": {
      "text/markdown": [
       "[![](https://storage.googleapis.com/afs-prod/media/media:e53a1cc8c0b548e5bffd44727507671f/3000.jpeg)](https://apnews.com/9f6f74362c284d3f8fa267818b0a173e)"
      ],
      "text/plain": [
       "<IPython.core.display.Markdown object>"
      ]
     },
     "metadata": {},
     "output_type": "display_data"
    },
    {
     "data": {
      "text/markdown": [
       "## Trump asks about firing Sessions, calls his position 'weak'"
      ],
      "text/plain": [
       "<IPython.core.display.Markdown object>"
      ]
     },
     "metadata": {},
     "output_type": "display_data"
    },
    {
     "data": {
      "text/markdown": [
       "WASHINGTON (AP) — President Donald Trump has spoken with advisers about firing Attorney General Jeff Sessions and launched a fresh Twitter tirade Tuesday against the man who was the first U.S. senator to endorse his candidacy. \"Attorney General Jeff Sessions has taken a VERY weak position on Hillary Clinton crimes (where are E-mails &amp; DNC server) &amp; Intel leakers!\" Trump tweeted. Trump's intensifying criticism of Sessions has fueled speculation that Sessions may resign even if Trump opts not to fire him. The president's anger over Sessions' decision to recuse himself from the government's investigation of Russian meddling in the U.S. election had burst into public view Monday when he referred to Sessions in a tweet as \"beleaguered.\""
      ],
      "text/plain": [
       "<IPython.core.display.Markdown object>"
      ]
     },
     "metadata": {},
     "output_type": "display_data"
    },
    {
     "data": {
      "text/markdown": [
       "[![](https://storage.googleapis.com/afs-prod/media/media:eea660462e4e419e92fdd3da0cfcddf4/3000.jpeg)](https://apnews.com/57704677b2b740b6a3dcd265da781215)"
      ],
      "text/plain": [
       "<IPython.core.display.Markdown object>"
      ]
     },
     "metadata": {},
     "output_type": "display_data"
    },
    {
     "data": {
      "text/markdown": [
       "## The Latest: Kushner on Hill to meet with House intel panel"
      ],
      "text/plain": [
       "<IPython.core.display.Markdown object>"
      ]
     },
     "metadata": {},
     "output_type": "display_data"
    },
    {
     "data": {
      "text/markdown": [
       "WASHINGTON (AP) — The Latest on probes into Russian meddling in the 2016 election and possible ties to the Trump campaign (all times local): 10:05 a.m. President Donald Trump's son-in-law is talking with a House committee investigating Russian interference in the 2016 presidential campaign and possible involvement of Trump associates. Senior White House adviser Jared Kushner arrived on Capitol Hill on Tuesday to meet with the House intelligence committee a day after talking with a Senate committee. Kushner faces questions about his involvement in a June 2016 meeting with a Russian lawyer. The meeting was billed in emails to Donald Trump Jr. as a Russian government attempt to help Trump's campaign. Kushner said Monday that he did not collude with Russians. He also said he was unaware of anyone in the campaign who did."
      ],
      "text/plain": [
       "<IPython.core.display.Markdown object>"
      ]
     },
     "metadata": {},
     "output_type": "display_data"
    },
    {
     "data": {
      "text/markdown": [
       "[![](https://storage.googleapis.com/afs-prod/media/media:157d841ac76d4cb7938a8ee3ac7dab31/3000.jpeg)](https://apnews.com/80f2d72a97464507bb67fc8e623ad3b2)"
      ],
      "text/plain": [
       "<IPython.core.display.Markdown object>"
      ]
     },
     "metadata": {},
     "output_type": "display_data"
    },
    {
     "data": {
      "text/markdown": [
       "## Official: US Navy ship fires warning shots near Iranian ship"
      ],
      "text/plain": [
       "<IPython.core.display.Markdown object>"
      ]
     },
     "metadata": {},
     "output_type": "display_data"
    },
    {
     "data": {
      "text/markdown": [
       "DUBAI, United Arab Emirates (AP) — A U.S. Navy patrol boat fired warning shots Tuesday near an Iranian vessel that came close to it during a tense encounter in the Persian Gulf, an American defense official said. The incident involving the USS Thunderbolt, a Cyclone-class patrol ship based in Bahrain as part of the U.S. Navy's 5th Fleet, is the latest confrontation between Iranian vessels and American warships."
      ],
      "text/plain": [
       "<IPython.core.display.Markdown object>"
      ]
     },
     "metadata": {},
     "output_type": "display_data"
    },
    {
     "data": {
      "text/markdown": [
       "[![]()](https://apnews.com/da2bc2bf3b0e4bebb3b2fe4a42d98afd)"
      ],
      "text/plain": [
       "<IPython.core.display.Markdown object>"
      ]
     },
     "metadata": {},
     "output_type": "display_data"
    },
    {
     "data": {
      "text/markdown": [
       "## AP: US church goes to Brazil; instills fear, splits families"
      ],
      "text/plain": [
       "<IPython.core.display.Markdown object>"
      ]
     },
     "metadata": {},
     "output_type": "display_data"
    },
    {
     "data": {
      "text/markdown": [
       "SAO JOAQUIM DE BICAS, Brazil (AP) — At the Word of Faith Fellowship churches in the Brazilian cities of Sao Joaquim de Bicas and Franco da Rocha, the signs of broken families are everywhere: parents separated from their children, siblings who no longer speak, grandparents who wonder if they will ever know their grandchildren. Over the course of two decades, the U.S.-based mother church took command of both congregations in Brazil, applying a strict interpretation of the Bible and enforcing it through rigorous controls and physical punishment, The Associated Press has found."
      ],
      "text/plain": [
       "<IPython.core.display.Markdown object>"
      ]
     },
     "metadata": {},
     "output_type": "display_data"
    },
    {
     "data": {
      "text/markdown": [
       "[![](https://storage.googleapis.com/afs-prod/media/media:259be89553b04cfab58f2a722e2e0ddd/1519.jpeg)](https://apnews.com/0e08dc6e99664522963df62948e06496)"
      ],
      "text/plain": [
       "<IPython.core.display.Markdown object>"
      ]
     },
     "metadata": {},
     "output_type": "display_data"
    },
    {
     "data": {
      "text/markdown": [
       "## Muslims keep up shrine boycott despite Israeli concessions"
      ],
      "text/plain": [
       "<IPython.core.display.Markdown object>"
      ]
     },
     "metadata": {},
     "output_type": "display_data"
    },
    {
     "data": {
      "text/markdown": [
       "JERUSALEM (AP) — Muslim leaders urged the faithful on Tuesday to keep up their prayer protests and avoid entering a contested Jerusalem shrine, even after Israel dismantled metal detectors that initially triggered the tensions. Israel said it would replace the metal detectors with new security arrangements based on \"advanced technology,\" reportedly including sophisticated cameras, but said it could take up to six months to install them. Muslim clerics have demanded that Israel restore the situation at the shrine — the third holiest in Islam and the holiest in Judaism — to what it was before it installed the metal detectors last week."
      ],
      "text/plain": [
       "<IPython.core.display.Markdown object>"
      ]
     },
     "metadata": {},
     "output_type": "display_data"
    },
    {
     "data": {
      "text/markdown": [
       "[![](https://storage.googleapis.com/afs-prod/media/media:7b9fbf79b06f464d86ce52891230b0d6/3000.jpeg)](https://apnews.com/fbe6188b124a496d8d39e133150cc9bf)"
      ],
      "text/plain": [
       "<IPython.core.display.Markdown object>"
      ]
     },
     "metadata": {},
     "output_type": "display_data"
    },
    {
     "data": {
      "text/markdown": [
       "## Parents ask court to let them take Charlie Gard home to die"
      ],
      "text/plain": [
       "<IPython.core.display.Markdown object>"
      ]
     },
     "metadata": {},
     "output_type": "display_data"
    },
    {
     "data": {
      "text/markdown": [
       "LONDON (AP) — Charlie Gard's mother returned to a London court Tuesday to ask a judge to let her and the baby's father take their critically ill son home to die. Lawyers for the family of the 11-month-old infant and the hospital treating him appeared in Britain's High Court, a day after Charlie's parents said they were dropping their long legal battle to get him experimental treatment. The family attorney, Grant Armstrong, told a judge that parents Chris Gard and Connie Yates have held discussions with Great Ormond Street Hospital about sending Charlie home, but that there were obstacles. The hospital had suggested a hospice option."
      ],
      "text/plain": [
       "<IPython.core.display.Markdown object>"
      ]
     },
     "metadata": {},
     "output_type": "display_data"
    },
    {
     "data": {
      "text/markdown": [
       "[![](https://storage.googleapis.com/afs-prod/media/media:25cbb3ff39254bd8b512d266f50bacce/3000.jpeg)](https://apnews.com/255157abbce34279b8cb6ef19c66fafd)"
      ],
      "text/plain": [
       "<IPython.core.display.Markdown object>"
      ]
     },
     "metadata": {},
     "output_type": "display_data"
    },
    {
     "data": {
      "text/markdown": [
       "## Black seniors stroll down memory lane aiming to stay sharp"
      ],
      "text/plain": [
       "<IPython.core.display.Markdown object>"
      ]
     },
     "metadata": {},
     "output_type": "display_data"
    },
    {
     "data": {
      "text/markdown": [
       "Sharon Steen dons her tennis shoes and, with two fellow seniors, walks streets that in her youth were a vibrant center of Portland, Oregon's African-American community. Wasn't this the corner where an NAACP march began in 1963? Look, the record store is now a fancy high-rise. It's more than a stroll down memory lane. Steen enrolled in a small but unique study to see if jogging memories where they were made can help older African-Americans stay mentally sharp and slow early memory loss."
      ],
      "text/plain": [
       "<IPython.core.display.Markdown object>"
      ]
     },
     "metadata": {},
     "output_type": "display_data"
    },
    {
     "data": {
      "text/markdown": [
       "[![](https://storage.googleapis.com/afs-prod/media/media:a1c50eaa93874e8895a12506554954fc/3000.jpeg)](https://apnews.com/67a687ce83d44615bff0e5cdd586169d)"
      ],
      "text/plain": [
       "<IPython.core.display.Markdown object>"
      ]
     },
     "metadata": {},
     "output_type": "display_data"
    },
    {
     "data": {
      "text/markdown": [
       "## Pressure mounts to curtail surgery on intersex children"
      ],
      "text/plain": [
       "<IPython.core.display.Markdown object>"
      ]
     },
     "metadata": {},
     "output_type": "display_data"
    },
    {
     "data": {
      "text/markdown": [
       "NEW YORK (AP) — Children whose sexual characteristics don't neatly align with the norm have for decades faced surgery to rearrange their anatomy to resemble that of more typical boys and girls — long before they were old enough to have a say in the decision. But now the practice is under assault, as never before. The American Medical Association is considering a proposal discouraging it. Three former U.S. surgeons general say it's unjustified. And on Tuesday, Human Rights Watch and InterACT a group advocating for intersex youth — are releasing a detailed report assailing the practice and urging Congress to ban it."
      ],
      "text/plain": [
       "<IPython.core.display.Markdown object>"
      ]
     },
     "metadata": {},
     "output_type": "display_data"
    },
    {
     "data": {
      "text/markdown": [
       "[![](https://storage.googleapis.com/afs-prod/media/media:904b67b4bd8948f3baaaac615857299e/3000.jpeg)](https://apnews.com/35ec1c6e57404f708f9888d0e103d1c8)"
      ],
      "text/plain": [
       "<IPython.core.display.Markdown object>"
      ]
     },
     "metadata": {},
     "output_type": "display_data"
    },
    {
     "data": {
      "text/markdown": [
       "## AP PHOTOS: Icebreaker leaves behind jagged Arctic icescape"
      ],
      "text/plain": [
       "<IPython.core.display.Markdown object>"
      ]
     },
     "metadata": {},
     "output_type": "display_data"
    },
    {
     "data": {
      "text/markdown": [
       "THE ARCTIC CIRCLE (AP) — There's ice, and then there's ice. We encountered the first floes around Point Barrow, the northernmost tip of Alaska. Much of it was already rotten, as our ice navigator David \"Duke\" Snider explained. The ice was fraying at the edges. Some of it was covered in sand and dirt from crashing against the coast, while larger floes had pools of turquoise meltwater on top. A trained eye can tell how old the ice is and where it is likely to have come from."
      ],
      "text/plain": [
       "<IPython.core.display.Markdown object>"
      ]
     },
     "metadata": {},
     "output_type": "display_data"
    },
    {
     "data": {
      "text/markdown": [
       "[![](https://storage.googleapis.com/afs-prod/media/media:254c05cb377a4ddb990e61bded27fde0/3000.jpeg)](https://apnews.com/c789958d84aa4431ae931e39c7c53ced)"
      ],
      "text/plain": [
       "<IPython.core.display.Markdown object>"
      ]
     },
     "metadata": {},
     "output_type": "display_data"
    },
    {
     "data": {
      "text/markdown": [
       "# The New York Times"
      ],
      "text/plain": [
       "<IPython.core.display.Markdown object>"
      ]
     },
     "metadata": {},
     "output_type": "display_data"
    },
    {
     "data": {
      "text/markdown": [
       "## Trump slams Sessions, rips DOJ in Twitter outburst"
      ],
      "text/plain": [
       "<IPython.core.display.Markdown object>"
      ]
     },
     "metadata": {},
     "output_type": "display_data"
    },
    {
     "data": {
      "text/markdown": [
       "President Donald Trump lashed out at his attorney general and Justice Department in an extraordinary outburst on Twitter Tuesday morning, continuing his public shaming of Jeff Sessions while appearing to prod the nation's top law enforcement official to investigate Hillary Clinton, his 2016 election opponent."
      ],
      "text/plain": [
       "<IPython.core.display.Markdown object>"
      ]
     },
     "metadata": {},
     "output_type": "display_data"
    },
    {
     "data": {
      "text/markdown": [
       "[![](http://i2.cdn.cnn.com/cnnnext/dam/assets/170720142107-27-jeff-sessions-life-and-career-gallery-super-tease.jpg)](http://www.cnn.com/2017/07/25/politics/donald-trump-jeff-sessions-hillary-clinton/index.html)"
      ],
      "text/plain": [
       "<IPython.core.display.Markdown object>"
      ]
     },
     "metadata": {},
     "output_type": "display_data"
    },
    {
     "data": {
      "text/markdown": [
       "## Trump's public bullying of Sessions is embarrassing"
      ],
      "text/plain": [
       "<IPython.core.display.Markdown object>"
      ]
     },
     "metadata": {},
     "output_type": "display_data"
    },
    {
     "data": {
      "text/markdown": [
       "At 6:12 a.m. ET, the President of the United States tweeted this:"
      ],
      "text/plain": [
       "<IPython.core.display.Markdown object>"
      ]
     },
     "metadata": {},
     "output_type": "display_data"
    },
    {
     "data": {
      "text/markdown": [
       "[![](http://i2.cdn.cnn.com/cnnnext/dam/assets/170306121729-01-jeff-sessions-travel-ban-0306-super-tease.jpg)](http://www.cnn.com/2017/07/25/politics/trump-sessions-bullying/index.html)"
      ],
      "text/plain": [
       "<IPython.core.display.Markdown object>"
      ]
     },
     "metadata": {},
     "output_type": "display_data"
    },
    {
     "data": {
      "text/markdown": [
       "## Officials: Days since Trump, Sessions talked - CNN Video"
      ],
      "text/plain": [
       "<IPython.core.display.Markdown object>"
      ]
     },
     "metadata": {},
     "output_type": "display_data"
    },
    {
     "data": {
      "text/markdown": [
       "President Donald Trump and Attorney General Jeff Sessions haven't spoken in days, according to White House officials."
      ],
      "text/plain": [
       "<IPython.core.display.Markdown object>"
      ]
     },
     "metadata": {},
     "output_type": "display_data"
    },
    {
     "data": {
      "text/markdown": [
       "[![](http://i2.cdn.cnn.com/cnnnext/dam/assets/170720142101-23-jeff-sessions-life-and-career-gallery-super-tease.jpg)](http://www.cnn.com/videos/politics/2017/07/24/trump-sessions-beleaguered-russia-investigation-wolf-dnt-zeleny.cnn)"
      ],
      "text/plain": [
       "<IPython.core.display.Markdown object>"
      ]
     },
     "metadata": {},
     "output_type": "display_data"
    },
    {
     "data": {
      "text/markdown": [
       "## Trump to Boy Scouts: 'We could use some more loyalty'"
      ],
      "text/plain": [
       "<IPython.core.display.Markdown object>"
      ]
     },
     "metadata": {},
     "output_type": "display_data"
    },
    {
     "data": {
      "text/markdown": [
       "President Donald Trump turned a Boy Scouts event into a campaign-style rally Monday, starting off by saying he'd put aside the \"fake news\" and other issues in Washington while addressing the Boy Scouts of America 2017 National Scout Jamboree."
      ],
      "text/plain": [
       "<IPython.core.display.Markdown object>"
      ]
     },
     "metadata": {},
     "output_type": "display_data"
    },
    {
     "data": {
      "text/markdown": [
       "[![](http://i2.cdn.cnn.com/cnnnext/dam/assets/170623093956-donald-trump-0621-super-tease.jpg)](http://www.cnn.com/2017/07/24/politics/trump-boy-scouts-rally/index.html)"
      ],
      "text/plain": [
       "<IPython.core.display.Markdown object>"
      ]
     },
     "metadata": {},
     "output_type": "display_data"
    },
    {
     "data": {
      "text/markdown": [
       "## Giuliani: Sessions was right to recuse - CNN Video"
      ],
      "text/plain": [
       "<IPython.core.display.Markdown object>"
      ]
     },
     "metadata": {},
     "output_type": "display_data"
    },
    {
     "data": {
      "text/markdown": [
       "Rudy Giuliani tells CNN he believes Attorney General Jeff Sessions \"made the right decision under the rules of the Justice Department\" in recusing himself on the Russia investigation."
      ],
      "text/plain": [
       "<IPython.core.display.Markdown object>"
      ]
     },
     "metadata": {},
     "output_type": "display_data"
    },
    {
     "data": {
      "text/markdown": [
       "[![](http://i2.cdn.cnn.com/cnnnext/dam/assets/161209163409-rudy-giuliani-smile-super-tease.jpg)](http://www.cnn.com/videos/politics/2017/07/24/giuliani-sessions-made-right-decision-recuse-nr.cnn)"
      ],
      "text/plain": [
       "<IPython.core.display.Markdown object>"
      ]
     },
     "metadata": {},
     "output_type": "display_data"
    },
    {
     "data": {
      "text/markdown": [
       "## How the Trump-Sessions connection fell apart"
      ],
      "text/plain": [
       "<IPython.core.display.Markdown object>"
      ]
     },
     "metadata": {},
     "output_type": "display_data"
    },
    {
     "data": {
      "text/markdown": [
       "Playing pundit again on Monday morning, President Donald Trump delivered a bleak assessment of Attorney General Jeff Sessions' standing in his administration."
      ],
      "text/plain": [
       "<IPython.core.display.Markdown object>"
      ]
     },
     "metadata": {},
     "output_type": "display_data"
    },
    {
     "data": {
      "text/markdown": [
       "[![](http://i2.cdn.cnn.com/cnnnext/dam/assets/170720142106-26-jeff-sessions-life-and-career-gallery-super-tease.jpg)](http://www.cnn.com/2017/07/24/politics/donald-trump-jeff-sessions-relationship/index.html)"
      ],
      "text/plain": [
       "<IPython.core.display.Markdown object>"
      ]
     },
     "metadata": {},
     "output_type": "display_data"
    },
    {
     "data": {
      "text/markdown": [
       "## Senate poised to vote today on health care"
      ],
      "text/plain": [
       "<IPython.core.display.Markdown object>"
      ]
     },
     "metadata": {},
     "output_type": "display_data"
    },
    {
     "data": {
      "text/markdown": [
       "Majority Leader Mitch McConnell has the Senate set to vote Tuesday on the first major test for the GOP effort to repeal and replace Obamacare."
      ],
      "text/plain": [
       "<IPython.core.display.Markdown object>"
      ]
     },
     "metadata": {},
     "output_type": "display_data"
    },
    {
     "data": {
      "text/markdown": [
       "[![](http://i2.cdn.cnn.com/cnnnext/dam/assets/170718160057-mcconnell-07-18-2017-super-tease.jpg)](http://www.cnn.com/2017/07/25/politics/senate-poised-to-vote-today-on-health-care/index.html)"
      ],
      "text/plain": [
       "<IPython.core.display.Markdown object>"
      ]
     },
     "metadata": {},
     "output_type": "display_data"
    },
    {
     "data": {
      "text/markdown": [
       "## Charlie Gard's parents in court to bring son home to die"
      ],
      "text/plain": [
       "<IPython.core.display.Markdown object>"
      ]
     },
     "metadata": {},
     "output_type": "display_data"
    },
    {
     "data": {
      "text/markdown": [
       "The parents of the terminally ill British child Charlie Gard return to court Tuesday to seek permission to bring their son home from hospital to die."
      ],
      "text/plain": [
       "<IPython.core.display.Markdown object>"
      ]
     },
     "metadata": {},
     "output_type": "display_data"
    },
    {
     "data": {
      "text/markdown": [
       "[![](http://i2.cdn.cnn.com/cnnnext/dam/assets/170613123630-06-charlie-gard-court-case-super-tease.jpeg)](http://www.cnn.com/2017/07/25/health/charlie-gard-us-doctor/index.html)"
      ],
      "text/plain": [
       "<IPython.core.display.Markdown object>"
      ]
     },
     "metadata": {},
     "output_type": "display_data"
    },
    {
     "data": {
      "text/markdown": [
       "## The 29 most cringe-worthy lines from Donald Trump's hyper-political speech to the Boy Scouts"
      ],
      "text/plain": [
       "<IPython.core.display.Markdown object>"
      ]
     },
     "metadata": {},
     "output_type": "display_data"
    },
    {
     "data": {
      "text/markdown": [
       "On Monday night, President Donald Trump jetted to West Virginia to address the annual Boy Scout Jamboree. And oh what a speech it was!"
      ],
      "text/plain": [
       "<IPython.core.display.Markdown object>"
      ]
     },
     "metadata": {},
     "output_type": "display_data"
    },
    {
     "data": {
      "text/markdown": [
       "[![](http://i2.cdn.cnn.com/cnnnext/dam/assets/170724182232-01-trump-boy-scouts-0724-screengrab-super-tease.jpg)](http://www.cnn.com/2017/07/25/politics/donald-trump-boy-scouts-speech/index.html)"
      ],
      "text/plain": [
       "<IPython.core.display.Markdown object>"
      ]
     },
     "metadata": {},
     "output_type": "display_data"
    },
    {
     "data": {
      "text/markdown": [
       "## The return of John McCain"
      ],
      "text/plain": [
       "<IPython.core.display.Markdown object>"
      ]
     },
     "metadata": {},
     "output_type": "display_data"
    },
    {
     "data": {
      "text/markdown": [
       "It will take more than a devastating diagnosis to keep John McCain out of the heat of political battle."
      ],
      "text/plain": [
       "<IPython.core.display.Markdown object>"
      ]
     },
     "metadata": {},
     "output_type": "display_data"
    },
    {
     "data": {
      "text/markdown": [
       "[![](http://i2.cdn.cnn.com/cnnnext/dam/assets/170720110604-01-john-mccain-lead-image-super-tease.jpg)](http://www.cnn.com/2017/07/25/politics/john-mccain-returns/index.html)"
      ],
      "text/plain": [
       "<IPython.core.display.Markdown object>"
      ]
     },
     "metadata": {},
     "output_type": "display_data"
    },
    {
     "data": {
      "text/markdown": [
       "# The Telegraph"
      ],
      "text/plain": [
       "<IPython.core.display.Markdown object>"
      ]
     },
     "metadata": {},
     "output_type": "display_data"
    },
    {
     "data": {
      "text/markdown": [
       "## Hope in Australian cricket pay dispute with agreement ‘closer than it appears’ | Jonathan Howcroft"
      ],
      "text/plain": [
       "<IPython.core.display.Markdown object>"
      ]
     },
     "metadata": {},
     "output_type": "display_data"
    },
    {
     "data": {
      "text/markdown": [
       "Cricket Australia confident Ashes series will go ahead as planned but players’ union remains cautious with new MoU still not in place"
      ],
      "text/plain": [
       "<IPython.core.display.Markdown object>"
      ]
     },
     "metadata": {},
     "output_type": "display_data"
    },
    {
     "data": {
      "text/markdown": [
       "[![](https://i.guim.co.uk/img/media/c69ce9583be6c408d9cd24d6b04776ce1157d3e0/0_200_3000_1800/master/3000.jpg?w=1200&h=630&q=55&auto=format&usm=12&fit=crop&crop=faces%2Centropy&bm=normal&ba=bottom%2Cleft&blend64=aHR0cHM6Ly91cGxvYWRzLmd1aW0uY28udWsvMjAxNi8wNS8yNS9vdmVybGF5LWxvZ28tMTIwMC05MF9vcHQucG5n&s=3227a17398de7d8f33674a4181ac6057)](https://www.theguardian.com/sport/2017/jul/25/hope-in-australian-cricket-pay-dispute-with-agreement-closer-than-it-appears)"
      ],
      "text/plain": [
       "<IPython.core.display.Markdown object>"
      ]
     },
     "metadata": {},
     "output_type": "display_data"
    },
    {
     "data": {
      "text/markdown": [
       "## Matt Canavan quits cabinet over Italian dual citizenship"
      ],
      "text/plain": [
       "<IPython.core.display.Markdown object>"
      ]
     },
     "metadata": {},
     "output_type": "display_data"
    },
    {
     "data": {
      "text/markdown": [
       "Resources minister’s citizenship puts his political future in doubt following resignation of two Greens senators over same issue"
      ],
      "text/plain": [
       "<IPython.core.display.Markdown object>"
      ]
     },
     "metadata": {},
     "output_type": "display_data"
    },
    {
     "data": {
      "text/markdown": [
       "[![](https://i.guim.co.uk/img/media/f76bfdcf22f688b2433a576fb1ebc46e94f701c6/0_45_4500_2701/master/4500.jpg?w=1200&h=630&q=55&auto=format&usm=12&fit=crop&crop=faces%2Centropy&bm=normal&ba=bottom%2Cleft&blend64=aHR0cHM6Ly91cGxvYWRzLmd1aW0uY28udWsvMjAxNi8wNS8yNS9vdmVybGF5LWxvZ28tMTIwMC05MF9vcHQucG5n&s=e13e2f11449ea4761c0e7c3bf0ef7a4d)](https://www.theguardian.com/australia-news/2017/jul/25/matt-canavan-quits-cabinet-over-dual-citizenship-uncertainty)"
      ],
      "text/plain": [
       "<IPython.core.display.Markdown object>"
      ]
     },
     "metadata": {},
     "output_type": "display_data"
    },
    {
     "data": {
      "text/markdown": [
       "## Trump denounces Jeff Sessions for being 'weak' on Hillary Clinton"
      ],
      "text/plain": [
       "<IPython.core.display.Markdown object>"
      ]
     },
     "metadata": {},
     "output_type": "display_data"
    },
    {
     "data": {
      "text/markdown": [
       "On Twitter Trump criticized the investigation into Russian meddling into last year’s US election and slammed the attorney general for not investigating Clinton"
      ],
      "text/plain": [
       "<IPython.core.display.Markdown object>"
      ]
     },
     "metadata": {},
     "output_type": "display_data"
    },
    {
     "data": {
      "text/markdown": [
       "[![](https://i.guim.co.uk/img/media/8a2ae2c3a545a9c26fea9025b423067db99a89b2/0_0_5157_3094/master/5157.jpg?w=1200&h=630&q=55&auto=format&usm=12&fit=crop&crop=faces%2Centropy&bm=normal&ba=bottom%2Cleft&blend64=aHR0cHM6Ly91cGxvYWRzLmd1aW0uY28udWsvMjAxNi8wNS8yNS9vdmVybGF5LWxvZ28tMTIwMC05MF9vcHQucG5n&s=6ebee60c04c5a7834aa198a157a4babc)](https://www.theguardian.com/us-news/2017/jul/25/donald-trump-jeff-sessions-weak-on-hillary-clinton-twitter-russia)"
      ],
      "text/plain": [
       "<IPython.core.display.Markdown object>"
      ]
     },
     "metadata": {},
     "output_type": "display_data"
    },
    {
     "data": {
      "text/markdown": [
       "## Woman 'slapped' Minnesota police car before Justine Damond shooting"
      ],
      "text/plain": [
       "<IPython.core.display.Markdown object>"
      ]
     },
     "metadata": {},
     "output_type": "display_data"
    },
    {
     "data": {
      "text/markdown": [
       "Search warrant says ‘upon police arrival, a female slaps the back of the patrol squad’, but does not say if the women was Damond, whom police shot and killed"
      ],
      "text/plain": [
       "<IPython.core.display.Markdown object>"
      ]
     },
     "metadata": {},
     "output_type": "display_data"
    },
    {
     "data": {
      "text/markdown": [
       "[![](https://i.guim.co.uk/img/media/e5dc7cfa4e0bfd50bcd2692d4198898883ea3d37/0_0_4912_2947/master/4912.jpg?w=1200&h=630&q=55&auto=format&usm=12&fit=crop&crop=faces%2Centropy&bm=normal&ba=bottom%2Cleft&blend64=aHR0cHM6Ly91cGxvYWRzLmd1aW0uY28udWsvMjAxNi8wNS8yNS9vdmVybGF5LWxvZ28tMTIwMC05MF9vcHQucG5n&s=9796800ac114b3cec4205066ca8e7bfa)](https://www.theguardian.com/us-news/2017/jul/25/woman-slapped-minnesota-police-car-before-justine-damond-shooting)"
      ],
      "text/plain": [
       "<IPython.core.display.Markdown object>"
      ]
     },
     "metadata": {},
     "output_type": "display_data"
    },
    {
     "data": {
      "text/markdown": [
       "## Sirius building gets second chance after decision not to heritage list it ruled invalid"
      ],
      "text/plain": [
       "<IPython.core.display.Markdown object>"
      ]
     },
     "metadata": {},
     "output_type": "display_data"
    },
    {
     "data": {
      "text/markdown": [
       "Court says minister had not properly considered recommendation to heritage list the public housing building"
      ],
      "text/plain": [
       "<IPython.core.display.Markdown object>"
      ]
     },
     "metadata": {},
     "output_type": "display_data"
    },
    {
     "data": {
      "text/markdown": [
       "[![](https://i.guim.co.uk/img/media/f5ff6fdb6dfc6c2c26e3bca9092723ca02387c0c/0_28_4928_2956/master/4928.jpg?w=1200&h=630&q=55&auto=format&usm=12&fit=crop&crop=faces%2Centropy&bm=normal&ba=bottom%2Cleft&blend64=aHR0cHM6Ly91cGxvYWRzLmd1aW0uY28udWsvMjAxNi8wNS8yNS9vdmVybGF5LWxvZ28tMTIwMC05MF9vcHQucG5n&s=195ec901904041bc2c03994cd1d1cff4)](https://www.theguardian.com/australia-news/2017/jul/25/sirius-building-gets-second-chance-after-decision-not-to-heritage-list-it-ruled-invalid)"
      ],
      "text/plain": [
       "<IPython.core.display.Markdown object>"
      ]
     },
     "metadata": {},
     "output_type": "display_data"
    },
    {
     "data": {
      "text/markdown": [
       "## Cardinal George Pell expected to appear in person before magistrate"
      ],
      "text/plain": [
       "<IPython.core.display.Markdown object>"
      ]
     },
     "metadata": {},
     "output_type": "display_data"
    },
    {
     "data": {
      "text/markdown": [
       "Third-highest ranking official in Vatican has returned from Rome vowing to clear his name over sexual offence charges"
      ],
      "text/plain": [
       "<IPython.core.display.Markdown object>"
      ]
     },
     "metadata": {},
     "output_type": "display_data"
    },
    {
     "data": {
      "text/markdown": [
       "[![](https://i.guim.co.uk/img/media/d04374063eef19439d7badb59af368245dba8add/0_205_3072_1843/master/3072.jpg?w=1200&h=630&q=55&auto=format&usm=12&fit=crop&crop=faces%2Centropy&bm=normal&ba=bottom%2Cleft&blend64=aHR0cHM6Ly91cGxvYWRzLmd1aW0uY28udWsvMjAxNi8wNS8yNS9vdmVybGF5LWxvZ28tMTIwMC05MF9vcHQucG5n&s=e64640ba1693feda18d999605a5288cc)](https://www.theguardian.com/australia-news/2017/jul/25/cardinal-george-pell-expected-to-appear-in-person-before-magistrate)"
      ],
      "text/plain": [
       "<IPython.core.display.Markdown object>"
      ]
     },
     "metadata": {},
     "output_type": "display_data"
    },
    {
     "data": {
      "text/markdown": [
       "## Charlie Gard's parents spend 'last precious moments' with their son"
      ],
      "text/plain": [
       "<IPython.core.display.Markdown object>"
      ]
     },
     "metadata": {},
     "output_type": "display_data"
    },
    {
     "data": {
      "text/markdown": [
       "Connie Yates and Chris Gard ask for privacy after ending legal battle for critically ill boy to receive nucleoside bypass treatment"
      ],
      "text/plain": [
       "<IPython.core.display.Markdown object>"
      ]
     },
     "metadata": {},
     "output_type": "display_data"
    },
    {
     "data": {
      "text/markdown": [
       "[![](https://i.guim.co.uk/img/media/92b458f2b62c808786ce5517118ea5cb897d50ef/0_92_3500_2100/master/3500.jpg?w=1200&h=630&q=55&auto=format&usm=12&fit=crop&crop=faces%2Centropy&bm=normal&ba=bottom%2Cleft&blend64=aHR0cHM6Ly91cGxvYWRzLmd1aW0uY28udWsvMjAxNi8wNS8yNS9vdmVybGF5LWxvZ28tMTIwMC05MF9vcHQucG5n&s=f97d3b5b776cb8dd878337cbcd29ed25)](https://www.theguardian.com/uk-news/2017/jul/25/charlie-gard-parents-spend-last-precious-moments-with-critically-ill-son)"
      ],
      "text/plain": [
       "<IPython.core.display.Markdown object>"
      ]
     },
     "metadata": {},
     "output_type": "display_data"
    },
    {
     "data": {
      "text/markdown": [
       "## Judge refuses to taste Heinz snack at centre of misleading advertising case"
      ],
      "text/plain": [
       "<IPython.core.display.Markdown object>"
      ]
     },
     "metadata": {},
     "output_type": "display_data"
    },
    {
     "data": {
      "text/markdown": [
       "ACCC alleges food company engaged in false and misleading representations in relation to its Little Kids Shredz products"
      ],
      "text/plain": [
       "<IPython.core.display.Markdown object>"
      ]
     },
     "metadata": {},
     "output_type": "display_data"
    },
    {
     "data": {
      "text/markdown": [
       "[![](https://i.guim.co.uk/img/media/dc5063581f931678044f685d94baac542ce28468/0_135_721_432/master/721.jpg?w=1200&h=630&q=55&auto=format&usm=12&fit=crop&crop=faces%2Centropy&bm=normal&ba=bottom%2Cleft&blend64=aHR0cHM6Ly91cGxvYWRzLmd1aW0uY28udWsvMjAxNi8wNS8yNS9vdmVybGF5LWxvZ28tMTIwMC05MF9vcHQucG5n&s=1b90801eee68da67564a7ae1174f40c5)](https://www.theguardian.com/australia-news/2017/jul/25/judge-refuses-to-taste-heinz-snack-at-centre-of-misleading-advertising-case)"
      ],
      "text/plain": [
       "<IPython.core.display.Markdown object>"
      ]
     },
     "metadata": {},
     "output_type": "display_data"
    },
    {
     "data": {
      "text/markdown": [
       "## Man tipped as China's future president ousted as Xi Jinping wields 'iron discipline'"
      ],
      "text/plain": [
       "<IPython.core.display.Markdown object>"
      ]
     },
     "metadata": {},
     "output_type": "display_data"
    },
    {
     "data": {
      "text/markdown": [
       "Sun Zhengcai rose from farming studies in Hertfordshire to Communist party elite. Many fear his downfall signals turbulent times in Beijing"
      ],
      "text/plain": [
       "<IPython.core.display.Markdown object>"
      ]
     },
     "metadata": {},
     "output_type": "display_data"
    },
    {
     "data": {
      "text/markdown": [
       "[![](https://i.guim.co.uk/img/media/bfa5e04a9f8004f4fe232903608d2ae85fd21860/0_122_3684_2210/master/3684.jpg?w=1200&h=630&q=55&auto=format&usm=12&fit=crop&crop=faces%2Centropy&bm=normal&ba=bottom%2Cleft&blend64=aHR0cHM6Ly91cGxvYWRzLmd1aW0uY28udWsvMjAxNi8wNS8yNS9vdmVybGF5LWxvZ28tMTIwMC05MF9vcHQucG5n&s=5873651ea5b65999e941691abdef058c)](https://www.theguardian.com/world/2017/jul/25/china-future-president-ousted-xi-jinping-iron-discipline-sun-zhengcai)"
      ],
      "text/plain": [
       "<IPython.core.display.Markdown object>"
      ]
     },
     "metadata": {},
     "output_type": "display_data"
    },
    {
     "data": {
      "text/markdown": [
       "## Roomba maker may share maps of users' homes with Google, Amazon or Apple"
      ],
      "text/plain": [
       "<IPython.core.display.Markdown object>"
      ]
     },
     "metadata": {},
     "output_type": "display_data"
    },
    {
     "data": {
      "text/markdown": [
       "iRobot’s chief executive says company could share or sell maps of robot vacuum users’ homes to US tech firms as part of smart home and profit push"
      ],
      "text/plain": [
       "<IPython.core.display.Markdown object>"
      ]
     },
     "metadata": {},
     "output_type": "display_data"
    },
    {
     "data": {
      "text/markdown": [
       "[![](https://i.guim.co.uk/img/media/9d50f7f0ab0de078e15a7986c59965b7039917af/0_147_3000_1801/master/3000.jpg?w=1200&h=630&q=55&auto=format&usm=12&fit=crop&crop=faces%2Centropy&bm=normal&ba=bottom%2Cleft&blend64=aHR0cHM6Ly91cGxvYWRzLmd1aW0uY28udWsvMjAxNi8wNS8yNS9vdmVybGF5LWxvZ28tMTIwMC05MF9vcHQucG5n&s=fd812173d85772c670c5f7bba1788fb0)](https://www.theguardian.com/technology/2017/jul/25/roomba-maker-could-share-maps-users-homes-google-amazon-apple-irobot-robot-vacuum)"
      ],
      "text/plain": [
       "<IPython.core.display.Markdown object>"
      ]
     },
     "metadata": {},
     "output_type": "display_data"
    },
    {
     "data": {
      "text/markdown": [
       "# Der Tagesspiegel"
      ],
      "text/plain": [
       "<IPython.core.display.Markdown object>"
      ]
     },
     "metadata": {},
     "output_type": "display_data"
    },
    {
     "data": {
      "text/markdown": [
       "## First picture of 'gunman holding woman hostage and threatening to blow up house'"
      ],
      "text/plain": [
       "<IPython.core.display.Markdown object>"
      ]
     },
     "metadata": {},
     "output_type": "display_data"
    },
    {
     "data": {
      "text/markdown": [
       "Several neighbours described tattooed Marc Schofield as the man in the flat that is on lockdown and at the centre of a 50m cordon"
      ],
      "text/plain": [
       "<IPython.core.display.Markdown object>"
      ]
     },
     "metadata": {},
     "output_type": "display_data"
    },
    {
     "data": {
      "text/markdown": [
       "[![](http://i4.mirror.co.uk/incoming/article10866922.ece/ALTERNATES/s1200/Oldham-Hostage-situation-first-pics.jpg)](http://www.mirror.co.uk/news/uk-news/first-picture-gunman-holding-woman-10866949)"
      ],
      "text/plain": [
       "<IPython.core.display.Markdown object>"
      ]
     },
     "metadata": {},
     "output_type": "display_data"
    },
    {
     "data": {
      "text/markdown": [
       "## Charlie Gard's mum returns to High Court in fight to take son home to die"
      ],
      "text/plain": [
       "<IPython.core.display.Markdown object>"
      ]
     },
     "metadata": {},
     "output_type": "display_data"
    },
    {
     "data": {
      "text/markdown": [
       "The hearing comes just one day after Charlie's parents abandoned attempts to persuade a judge to allow him to travel to the US for experimental therapy"
      ],
      "text/plain": [
       "<IPython.core.display.Markdown object>"
      ]
     },
     "metadata": {},
     "output_type": "display_data"
    },
    {
     "data": {
      "text/markdown": [
       "[![](http://i3.mirror.co.uk/incoming/article10868016.ece/ALTERNATES/s1200/Charlie-Gard-court-case.jpg)](http://www.mirror.co.uk/news/uk-news/charlie-gard-hearing-live-updates-10867701)"
      ],
      "text/plain": [
       "<IPython.core.display.Markdown object>"
      ]
     },
     "metadata": {},
     "output_type": "display_data"
    },
    {
     "data": {
      "text/markdown": [
       "## Danielle Lloyd's mum breaks down as she opens up about her devastating diagnosis"
      ],
      "text/plain": [
       "<IPython.core.display.Markdown object>"
      ]
     },
     "metadata": {},
     "output_type": "display_data"
    },
    {
     "data": {
      "text/markdown": [
       "Jackie was diagnosed with fibromyalgia two years ago"
      ],
      "text/plain": [
       "<IPython.core.display.Markdown object>"
      ]
     },
     "metadata": {},
     "output_type": "display_data"
    },
    {
     "data": {
      "text/markdown": [
       "[![](http://i4.mirror.co.uk/incoming/article10866248.ece/ALTERNATES/s1200/MAIN-SLP_MDG_250717SLUG_seqnseqnLORGJPG.jpg)](http://www.mirror.co.uk/tv/tv-news/danielle-lloyds-mum-breaks-down-10866279)"
      ],
      "text/plain": [
       "<IPython.core.display.Markdown object>"
      ]
     },
     "metadata": {},
     "output_type": "display_data"
    },
    {
     "data": {
      "text/markdown": [
       "## 5 things we learned from Chelsea 2-3 Bayern Munich"
      ],
      "text/plain": [
       "<IPython.core.display.Markdown object>"
      ]
     },
     "metadata": {},
     "output_type": "display_data"
    },
    {
     "data": {
      "text/markdown": [
       "The Premier League champions were 2-0 down within 11 minutes through goals from right-back Rafinha and Germany striker Thomas Muller"
      ],
      "text/plain": [
       "<IPython.core.display.Markdown object>"
      ]
     },
     "metadata": {},
     "output_type": "display_data"
    },
    {
     "data": {
      "text/markdown": [
       "[![](http://i2.mirror.co.uk/incoming/article10867611.ece/ALTERNATES/s1200/Football-Soccer-Chelsea-v-Bayern-Munich-International-Champions-Cup-Singapore.jpg)](http://www.mirror.co.uk/sport/football/match-reports/chelsea-2-3-bayern-muller-10867869)"
      ],
      "text/plain": [
       "<IPython.core.display.Markdown object>"
      ]
     },
     "metadata": {},
     "output_type": "display_data"
    },
    {
     "data": {
      "text/markdown": [
       "## Tom Sturridge collapsed on stage performing George Orwell's 1984"
      ],
      "text/plain": [
       "<IPython.core.display.Markdown object>"
      ]
     },
     "metadata": {},
     "output_type": "display_data"
    },
    {
     "data": {
      "text/markdown": [
       "The actor is said to have been carried out of the theatre on a stretcher"
      ],
      "text/plain": [
       "<IPython.core.display.Markdown object>"
      ]
     },
     "metadata": {},
     "output_type": "display_data"
    },
    {
     "data": {
      "text/markdown": [
       "[![](http://i4.mirror.co.uk/incoming/article10867844.ece/ALTERNATES/s1200/Olivia-Wilde-and-Tom-Sturridge-at-the-after-party-for-the-Opening-Night-of-1984-in-NYC.jpg)](http://www.mirror.co.uk/3am/celebrity-news/tom-sturridge-collapsed-stage-performing-10867837)"
      ],
      "text/plain": [
       "<IPython.core.display.Markdown object>"
      ]
     },
     "metadata": {},
     "output_type": "display_data"
    },
    {
     "data": {
      "text/markdown": [
       "## 'Bullied' girl who missed prom finally gets to wear dress thanks to 120 bikers"
      ],
      "text/plain": [
       "<IPython.core.display.Markdown object>"
      ]
     },
     "metadata": {},
     "output_type": "display_data"
    },
    {
     "data": {
      "text/markdown": [
       "Shannon Purcifer's story touched the hearts of the nation after her mum posted heartbreaking pictures of her wearing her unused, £470 prom dress"
      ],
      "text/plain": [
       "<IPython.core.display.Markdown object>"
      ]
     },
     "metadata": {},
     "output_type": "display_data"
    },
    {
     "data": {
      "text/markdown": [
       "[![](http://i1.mirror.co.uk/incoming/article10867051.ece/ALTERNATES/s1200/PAY-GIRL-WHO-MISSED-PROM-BECAUSE-OF-BULLIES-THROWS-OWN-PARTY-COMPLETE-WITH-120-LEATHER-CLAD-BIKERS.jpg)](http://www.mirror.co.uk/news/uk-news/bullied-teen-who-missed-school-10866888)"
      ],
      "text/plain": [
       "<IPython.core.display.Markdown object>"
      ]
     },
     "metadata": {},
     "output_type": "display_data"
    },
    {
     "data": {
      "text/markdown": [
       "## CCTV footage proves Jordanian soldier murdered 3 innocent US Army Green Berets"
      ],
      "text/plain": [
       "<IPython.core.display.Markdown object>"
      ]
     },
     "metadata": {},
     "output_type": "display_data"
    },
    {
     "data": {
      "text/markdown": [
       "WARNING - DISTRESSING FOOTAGE: Jordan had initially claimed the Americans triggered the shooting by disobeying entry rules - and the soldier claimed he'd been acting under orders"
      ],
      "text/plain": [
       "<IPython.core.display.Markdown object>"
      ]
     },
     "metadata": {},
     "output_type": "display_data"
    },
    {
     "data": {
      "text/markdown": [
       "[![](http://i4.mirror.co.uk/incoming/article10867906.ece/ALTERNATES/s1200/Jordan-Soldier-killing-three-US-Army-Green-Berets.jpg)](http://www.mirror.co.uk/news/world-news/shocking-cctv-footage-proves-jordanian-10867420)"
      ],
      "text/plain": [
       "<IPython.core.display.Markdown object>"
      ]
     },
     "metadata": {},
     "output_type": "display_data"
    },
    {
     "data": {
      "text/markdown": [
       "## Horrific moment girl, 16, falls 75ft off college roof during 'zip-line training'"
      ],
      "text/plain": [
       "<IPython.core.display.Markdown object>"
      ]
     },
     "metadata": {},
     "output_type": "display_data"
    },
    {
     "data": {
      "text/markdown": [
       "WARNING: DISTRESSING CONTENT - Aditi Sanghi was sitting on the edge of a six-storey building helping other pupils fasten their harnesses when she lost her balance and tumbled over the edge"
      ],
      "text/plain": [
       "<IPython.core.display.Markdown object>"
      ]
     },
     "metadata": {},
     "output_type": "display_data"
    },
    {
     "data": {
      "text/markdown": [
       "[![](http://i3.mirror.co.uk/incoming/article10866448.ece/ALTERNATES/s1200/PAY-NEWSLINK0294848_79919.jpg)](http://www.mirror.co.uk/news/world-news/horrific-moment-16-year-old-10866341)"
      ],
      "text/plain": [
       "<IPython.core.display.Markdown object>"
      ]
     },
     "metadata": {},
     "output_type": "display_data"
    },
    {
     "data": {
      "text/markdown": [
       "## Latest transfer news, gossip, rumours and all of the done deals as they happen"
      ],
      "text/plain": [
       "<IPython.core.display.Markdown object>"
      ]
     },
     "metadata": {},
     "output_type": "display_data"
    },
    {
     "data": {
      "text/markdown": [
       "All the latest transfer news as Chelsea pursue more signings and Liverpool continue to chase Naby Keita against the odds"
      ],
      "text/plain": [
       "<IPython.core.display.Markdown object>"
      ]
     },
     "metadata": {},
     "output_type": "display_data"
    },
    {
     "data": {
      "text/markdown": [
       "[![](http://i3.mirror.co.uk/incoming/article10866424.ece/ALTERNATES/s1200/MAIN-Transfer-Live-Blog.jpg)](http://www.mirror.co.uk/sport/football/transfer-news/transfer-news-live-mbappe-madrid-10865179)"
      ],
      "text/plain": [
       "<IPython.core.display.Markdown object>"
      ]
     },
     "metadata": {},
     "output_type": "display_data"
    },
    {
     "data": {
      "text/markdown": [
       "## Lynda Bellingham's son claims late mum would be 'disgusted' by 'vile' stepfather"
      ],
      "text/plain": [
       "<IPython.core.display.Markdown object>"
      ]
     },
     "metadata": {},
     "output_type": "display_data"
    },
    {
     "data": {
      "text/markdown": [
       "The 34-year-old was very upset as he spoke on Loose Women"
      ],
      "text/plain": [
       "<IPython.core.display.Markdown object>"
      ]
     },
     "metadata": {},
     "output_type": "display_data"
    },
    {
     "data": {
      "text/markdown": [
       "[![](http://i4.mirror.co.uk/incoming/article10867666.ece/ALTERNATES/s1200/Loose-Women-TV-show-London-UK-25-Jul-2017.jpg)](http://www.mirror.co.uk/tv/tv-news/lynda-bellinghams-furious-son-michael-10867678)"
      ],
      "text/plain": [
       "<IPython.core.display.Markdown object>"
      ]
     },
     "metadata": {},
     "output_type": "display_data"
    },
    {
     "data": {
      "text/markdown": [
       "# Reddit /r/all"
      ],
      "text/plain": [
       "<IPython.core.display.Markdown object>"
      ]
     },
     "metadata": {},
     "output_type": "display_data"
    },
    {
     "data": {
      "text/markdown": [
       "## GOP Sets Senate Health Care Vote Buoyed by John McCain's Return to D.C."
      ],
      "text/plain": [
       "<IPython.core.display.Markdown object>"
      ]
     },
     "metadata": {},
     "output_type": "display_data"
    },
    {
     "data": {
      "text/markdown": [
       "McCain's presence could make it harder for wavering Republicans to cast a vote against even considering the bill"
      ],
      "text/plain": [
       "<IPython.core.display.Markdown object>"
      ]
     },
     "metadata": {},
     "output_type": "display_data"
    },
    {
     "data": {
      "text/markdown": [
       "[![](https://timedotcom.files.wordpress.com/2017/07/healthcare-trump-republican-vote.jpg?w=720)](http://time.com/4872245/senate-gop-health-care-vote-mccain/)"
      ],
      "text/plain": [
       "<IPython.core.display.Markdown object>"
      ]
     },
     "metadata": {},
     "output_type": "display_data"
    },
    {
     "data": {
      "text/markdown": [
       "## Jared Kushner Returns to Capitol Hill for a Second Day of Closed-Door Russia Interviews"
      ],
      "text/plain": [
       "<IPython.core.display.Markdown object>"
      ]
     },
     "metadata": {},
     "output_type": "display_data"
    },
    {
     "data": {
      "text/markdown": [
       "He'll be meeting the House Intelligence Committee behind closed doors"
      ],
      "text/plain": [
       "<IPython.core.display.Markdown object>"
      ]
     },
     "metadata": {},
     "output_type": "display_data"
    },
    {
     "data": {
      "text/markdown": [
       "[![](https://timedotcom.files.wordpress.com/2017/07/gettyimages-821616766.jpg?w=720)](http://time.com/4872188/jared-kushner-russia-probe-ouse-intelligence-committe/)"
      ],
      "text/plain": [
       "<IPython.core.display.Markdown object>"
      ]
     },
     "metadata": {},
     "output_type": "display_data"
    },
    {
     "data": {
      "text/markdown": [
       "## President Trump Brags About His Election Victory During Boy Scout Jamboree Speech"
      ],
      "text/plain": [
       "<IPython.core.display.Markdown object>"
      ]
     },
     "metadata": {},
     "output_type": "display_data"
    },
    {
     "data": {
      "text/markdown": [
       "He referred to election night as \"that famous night on television\""
      ],
      "text/plain": [
       "<IPython.core.display.Markdown object>"
      ]
     },
     "metadata": {},
     "output_type": "display_data"
    },
    {
     "data": {
      "text/markdown": [
       "[![](https://timedotcom.files.wordpress.com/2017/07/2017-07-24t233042z_196680722_rc1d5ca5d.jpg?w=720)](http://time.com/4871947/donald-trump-boy-scout-jamboree/)"
      ],
      "text/plain": [
       "<IPython.core.display.Markdown object>"
      ]
     },
     "metadata": {},
     "output_type": "display_data"
    },
    {
     "data": {
      "text/markdown": [
       "## Norovirus Likely Caused Illness Outbreak at Chipotle, Health Officials Say"
      ],
      "text/plain": [
       "<IPython.core.display.Markdown object>"
      ]
     },
     "metadata": {},
     "output_type": "display_data"
    },
    {
     "data": {
      "text/markdown": [
       "A second person tested positive for norovirus"
      ],
      "text/plain": [
       "<IPython.core.display.Markdown object>"
      ]
     },
     "metadata": {},
     "output_type": "display_data"
    },
    {
     "data": {
      "text/markdown": [
       "[![](https://timedotcom.files.wordpress.com/2016/09/chipotle-tweet-sex-drugs.jpg?w=720)](http://time.com/4871855/chipotle-norovirus-outbreak-virginia/)"
      ],
      "text/plain": [
       "<IPython.core.display.Markdown object>"
      ]
     },
     "metadata": {},
     "output_type": "display_data"
    },
    {
     "data": {
      "text/markdown": [
       "## John McCain Will Return to the Senate on Tuesday"
      ],
      "text/plain": [
       "<IPython.core.display.Markdown object>"
      ]
     },
     "metadata": {},
     "output_type": "display_data"
    },
    {
     "data": {
      "text/markdown": [
       "He was diagnosed with brain cancer following surgery to remove a blood clot"
      ],
      "text/plain": [
       "<IPython.core.display.Markdown object>"
      ]
     },
     "metadata": {},
     "output_type": "display_data"
    },
    {
     "data": {
      "text/markdown": [
       "[![](https://timedotcom.files.wordpress.com/2017/07/gettyimages-6967580081.jpg?w=720)](http://time.com/4872010/john-mccain-cancer-senate/)"
      ],
      "text/plain": [
       "<IPython.core.display.Markdown object>"
      ]
     },
     "metadata": {},
     "output_type": "display_data"
    },
    {
     "data": {
      "text/markdown": [
       "## President Trump Says Obamacare Has 'Wreaked Havoc' on Americans"
      ],
      "text/plain": [
       "<IPython.core.display.Markdown object>"
      ]
     },
     "metadata": {},
     "output_type": "display_data"
    },
    {
     "data": {
      "text/markdown": [
       "He called the law \"big, fat, ugly lie.\""
      ],
      "text/plain": [
       "<IPython.core.display.Markdown object>"
      ]
     },
     "metadata": {},
     "output_type": "display_data"
    },
    {
     "data": {
      "text/markdown": [
       "[![](https://timedotcom.files.wordpress.com/2017/07/donald-trump-senate-health-care-vote.jpg?w=720)](http://time.com/4871630/donald-trump-repeal-replace-obamacare/)"
      ],
      "text/plain": [
       "<IPython.core.display.Markdown object>"
      ]
     },
     "metadata": {},
     "output_type": "display_data"
    },
    {
     "data": {
      "text/markdown": [
       "## A Former Canadian Sect Leader Has Been Found Guilty of Having 25 Wives"
      ],
      "text/plain": [
       "<IPython.core.display.Markdown object>"
      ]
     },
     "metadata": {},
     "output_type": "display_data"
    },
    {
     "data": {
      "text/markdown": [
       "Winston Blackmore and James Oler have been fighting a decades-long legal battle"
      ],
      "text/plain": [
       "<IPython.core.display.Markdown object>"
      ]
     },
     "metadata": {},
     "output_type": "display_data"
    },
    {
     "data": {
      "text/markdown": [
       "[![](https://timedotcom.files.wordpress.com/2017/07/rtx3cq3o.jpg?w=720)](http://time.com/4872020/canadia-polygamy-winston-blackmore-james-olger/)"
      ],
      "text/plain": [
       "<IPython.core.display.Markdown object>"
      ]
     },
     "metadata": {},
     "output_type": "display_data"
    },
    {
     "data": {
      "text/markdown": [
       "## Israel Removes Metal Detectors From Major Jerusalem Holy Site"
      ],
      "text/plain": [
       "<IPython.core.display.Markdown object>"
      ]
     },
     "metadata": {},
     "output_type": "display_data"
    },
    {
     "data": {
      "text/markdown": [
       "Israel erected the metal detectors after Arab gunmen killed two policemen"
      ],
      "text/plain": [
       "<IPython.core.display.Markdown object>"
      ]
     },
     "metadata": {},
     "output_type": "display_data"
    },
    {
     "data": {
      "text/markdown": [
       "[![](https://timedotcom.files.wordpress.com/2017/07/israel-palesinians.jpg?w=720)](http://time.com/4871974/israel-jerusalem-old-city-metal-detectors/)"
      ],
      "text/plain": [
       "<IPython.core.display.Markdown object>"
      ]
     },
     "metadata": {},
     "output_type": "display_data"
    },
    {
     "data": {
      "text/markdown": [
       "## 'Despacito' Singers Condemn Venezuelan President Nicolas Maduro for Remixing Their Song"
      ],
      "text/plain": [
       "<IPython.core.display.Markdown object>"
      ]
     },
     "metadata": {},
     "output_type": "display_data"
    },
    {
     "data": {
      "text/markdown": [
       "\"My music is for everyone to listen to and enjoy, not to be used as propaganda\""
      ],
      "text/plain": [
       "<IPython.core.display.Markdown object>"
      ]
     },
     "metadata": {},
     "output_type": "display_data"
    },
    {
     "data": {
      "text/markdown": [
       "[![](https://timedotcom.files.wordpress.com/2017/07/gettyimages-684217366.jpg?w=720)](http://time.com/4872027/despacito-venezuela-nicolas-maduro/)"
      ],
      "text/plain": [
       "<IPython.core.display.Markdown object>"
      ]
     },
     "metadata": {},
     "output_type": "display_data"
    },
    {
     "data": {
      "text/markdown": [
       "## Truck Driver Accused of Smuggling Immigrants Could Face the Death Penalty"
      ],
      "text/plain": [
       "<IPython.core.display.Markdown object>"
      ]
     },
     "metadata": {},
     "output_type": "display_data"
    },
    {
     "data": {
      "text/markdown": [
       "At least 10 people in the truck have died"
      ],
      "text/plain": [
       "<IPython.core.display.Markdown object>"
      ]
     },
     "metadata": {},
     "output_type": "display_data"
    },
    {
     "data": {
      "text/markdown": [
       "[![](https://timedotcom.files.wordpress.com/2017/07/texas-smuggling-immigrants-driver-charged.jpg?w=720)](http://time.com/4871452/texas-deadly-immigrant-smuggling-truck-charges/)"
      ],
      "text/plain": [
       "<IPython.core.display.Markdown object>"
      ]
     },
     "metadata": {},
     "output_type": "display_data"
    },
    {
     "data": {
      "text/markdown": [
       "# The Guardian (AU)"
      ],
      "text/plain": [
       "<IPython.core.display.Markdown object>"
      ]
     },
     "metadata": {},
     "output_type": "display_data"
    },
    {
     "data": {
      "text/markdown": [
       "## Chinese state media divided over outcome of Ajit Doval's visit - Times of India"
      ],
      "text/plain": [
       "<IPython.core.display.Markdown object>"
      ]
     },
     "metadata": {},
     "output_type": "display_data"
    },
    {
     "data": {
      "text/markdown": [
       "Ahead of NSA Ajit Doval's visit, China's state media struck two different notes with the China Daily hopeful of a peaceful resolution to the deadlock with India while the Global Times said the \"main schemer's\" trip wouldn't sway Beijing."
      ],
      "text/plain": [
       "<IPython.core.display.Markdown object>"
      ]
     },
     "metadata": {},
     "output_type": "display_data"
    },
    {
     "data": {
      "text/markdown": [
       "[![](http://timesofindia.indiatimes.com/photo/msid-59754587/59754587.jpg?55009)](http://timesofindia.indiatimes.com/world/china/chinese-state-media-divided-over-outcome-of-ajit-dovals-visit/articleshow/59754567.cms)"
      ],
      "text/plain": [
       "<IPython.core.display.Markdown object>"
      ]
     },
     "metadata": {},
     "output_type": "display_data"
    },
    {
     "data": {
      "text/markdown": [
       "## India should 'conscientiously withdraw' to end Doklam standoff: Chinese foreign minister - Times of India"
      ],
      "text/plain": [
       "<IPython.core.display.Markdown object>"
      ]
     },
     "metadata": {},
     "output_type": "display_data"
    },
    {
     "data": {
      "text/markdown": [
       "The standoff has happened in the southernmost part of Tibet in an area also claimed by Bhutan after the Chinese army tried to build a road in the disputed area. India has said the \"unilateral\" Chinese action to change the status quo near the Bhutan trijunction poses a challenge to India's security."
      ],
      "text/plain": [
       "<IPython.core.display.Markdown object>"
      ]
     },
     "metadata": {},
     "output_type": "display_data"
    },
    {
     "data": {
      "text/markdown": [
       "[![](http://timesofindia.indiatimes.com/photo/msid-59756220/59756220.jpg?38115)](http://timesofindia.indiatimes.com/india/india-should-conscientiously-withdraw-to-end-doklam-standoff-chinese-foreign-minister/articleshow/59756200.cms)"
      ],
      "text/plain": [
       "<IPython.core.display.Markdown object>"
      ]
     },
     "metadata": {},
     "output_type": "display_data"
    },
    {
     "data": {
      "text/markdown": [
       "## Aerial intercepts: China urges US to stop 'unfriendly, dangerous' military activities - Times of India"
      ],
      "text/plain": [
       "<IPython.core.display.Markdown object>"
      ]
     },
     "metadata": {},
     "output_type": "display_data"
    },
    {
     "data": {
      "text/markdown": [
       "\"The US military aircraft coming near China's border and carrying out reconnaissance has threatened China's national security, damaged Sino-US military air and sea safety, endangered the personal safety of both pilots,\" China said in a statement."
      ],
      "text/plain": [
       "<IPython.core.display.Markdown object>"
      ]
     },
     "metadata": {},
     "output_type": "display_data"
    },
    {
     "data": {
      "text/markdown": [
       "[![](http://timesofindia.indiatimes.com/photo/msid-59758125/59758125.jpg?133487)](http://timesofindia.indiatimes.com/world/china/aerial-intercepts-china-urges-us-to-stop-unfriendly-dangerous-military-activities/articleshow/59755673.cms)"
      ],
      "text/plain": [
       "<IPython.core.display.Markdown object>"
      ]
     },
     "metadata": {},
     "output_type": "display_data"
    },
    {
     "data": {
      "text/markdown": [
       "## 'I am accepting this position with all humility,' says President Kovind in first speech after being sworn in - Times of India"
      ],
      "text/plain": [
       "<IPython.core.display.Markdown object>"
      ]
     },
     "metadata": {},
     "output_type": "display_data"
    },
    {
     "data": {
      "text/markdown": [
       "NEW DELHI: Ram Nath Kovind was on Tuesday sworn in as the new President of India."
      ],
      "text/plain": [
       "<IPython.core.display.Markdown object>"
      ]
     },
     "metadata": {},
     "output_type": "display_data"
    },
    {
     "data": {
      "text/markdown": [
       "[![](http://timesofindia.indiatimes.com/photo/msid-59752385/59752385.jpg?311573)](http://timesofindia.indiatimes.com/india/i-am-accepting-this-position-with-all-humility-says-president-kovind-in-first-speech-after-being-sworn-in/articleshow/59752400.cms)"
      ],
      "text/plain": [
       "<IPython.core.display.Markdown object>"
      ]
     },
     "metadata": {},
     "output_type": "display_data"
    },
    {
     "data": {
      "text/markdown": [
       "## Ram Nath Kovind: Top 10 things to know about new President - Times of India"
      ],
      "text/plain": [
       "<IPython.core.display.Markdown object>"
      ]
     },
     "metadata": {},
     "output_type": "display_data"
    },
    {
     "data": {
      "text/markdown": [
       "Ram Nath Kovind was on Tuesday sworn in as the new President of India. Kovind is the country's 14th President and only the second Dalit to hold the office. Here are the top ten things to know bout the new President:"
      ],
      "text/plain": [
       "<IPython.core.display.Markdown object>"
      ]
     },
     "metadata": {},
     "output_type": "display_data"
    },
    {
     "data": {
      "text/markdown": [
       "[![](http://timesofindia.indiatimes.com/photo/59752919.cms)](http://timesofindia.indiatimes.com/india/ram-nath-kovind-top-10-things-to-know-about-new-president/articleshow/59752919.cms)"
      ],
      "text/plain": [
       "<IPython.core.display.Markdown object>"
      ]
     },
     "metadata": {},
     "output_type": "display_data"
    },
    {
     "data": {
      "text/markdown": [
       "## Mark Zuckerberg’s knowledge of artificial intelligence ‘limited': Elon Musk - Times of India"
      ],
      "text/plain": [
       "<IPython.core.display.Markdown object>"
      ]
     },
     "metadata": {},
     "output_type": "display_data"
    },
    {
     "data": {
      "text/markdown": [
       "“I've talked to Mark (Zuckerberg) about this. His understanding of the subject is limited,” Musk said on micro-blogging site Twitter. Musk was responding to Zuckerberg’s comment during a Facebook live on Sunday where he criticised the Tesla chief’s views on artificial intelligence."
      ],
      "text/plain": [
       "<IPython.core.display.Markdown object>"
      ]
     },
     "metadata": {},
     "output_type": "display_data"
    },
    {
     "data": {
      "text/markdown": [
       "[![](http://timesofindia.indiatimes.com/photo/msid-59755776/59755776.jpg?912489)](http://timesofindia.indiatimes.com/business/international-business/mark-zuckerbergs-knowledge-of-artificial-intelligence-limited-elon-musk/articleshow/59755683.cms)"
      ],
      "text/plain": [
       "<IPython.core.display.Markdown object>"
      ]
     },
     "metadata": {},
     "output_type": "display_data"
    },
    {
     "data": {
      "text/markdown": [
       "# Focus"
      ],
      "text/plain": [
       "<IPython.core.display.Markdown object>"
      ]
     },
     "metadata": {},
     "output_type": "display_data"
    },
    {
     "data": {
      "text/markdown": [
       "## Donald Trump says he is working on 'major' trade deal with UK: 'Could be very big and exciting'"
      ],
      "text/plain": [
       "<IPython.core.display.Markdown object>"
      ]
     },
     "metadata": {},
     "output_type": "display_data"
    },
    {
     "data": {
      "text/markdown": [
       "Donald Trump has promised a “very big and exciting” trade deal with the UK after Brexit.  In a tweet on Tuesday lunchtime, the US President said his administration was “working on a major trade deal”, adding: \"Could be very big & exciting. JOBS!\" He also accused the EU of being “very protectionist” and told the bloc to \"STOP!\""
      ],
      "text/plain": [
       "<IPython.core.display.Markdown object>"
      ]
     },
     "metadata": {},
     "output_type": "display_data"
    },
    {
     "data": {
      "text/markdown": [
       "[![](https://static.independent.co.uk/s3fs-public/thumbnails/image/2017/07/25/13/trump-flag.jpg)](http://www.independent.co.uk/news/world/americas/us-politics/donald-trump-us-uk-trade-deal-uk-brexit-leave-eu-protections-liam-fox-twitter-a7859101.html)"
      ],
      "text/plain": [
       "<IPython.core.display.Markdown object>"
      ]
     },
     "metadata": {},
     "output_type": "display_data"
    },
    {
     "data": {
      "text/markdown": [
       "## Former British EU negotiator: Brexit would have been terrible even if done well. It's not being done well"
      ],
      "text/plain": [
       "<IPython.core.display.Markdown object>"
      ]
     },
     "metadata": {},
     "output_type": "display_data"
    },
    {
     "data": {
      "text/markdown": [
       "Britain’s chances of securing a deal with the EU in the Brexit negotiations in the 20 months that remain “look minimal”, according to a former UK-EU negotiator.  Steve Bullock, who worked at the UK Representation to the EU from 2010 to 2014, also accused Government ministers of an “appalling dereliction of duty” over a failure to understand the complexities of Britain’s exit."
      ],
      "text/plain": [
       "<IPython.core.display.Markdown object>"
      ]
     },
     "metadata": {},
     "output_type": "display_data"
    },
    {
     "data": {
      "text/markdown": [
       "[![](https://static.independent.co.uk/s3fs-public/thumbnails/image/2017/07/20/12/david-davis-michel-barnier.jpg)](http://www.independent.co.uk/news/uk/politics/brexit-latest-news-uk-eu-deal-talks-negotiations-secure-talks-european-union-steve-bullock-david-a7859106.html)"
      ],
      "text/plain": [
       "<IPython.core.display.Markdown object>"
      ]
     },
     "metadata": {},
     "output_type": "display_data"
    },
    {
     "data": {
      "text/markdown": [
       "## American Navy fires warning shots at Iranian ship"
      ],
      "text/plain": [
       "<IPython.core.display.Markdown object>"
      ]
     },
     "metadata": {},
     "output_type": "display_data"
    },
    {
     "data": {
      "text/markdown": [
       "The United States Navy has reportedly fired warning shots at an Iranian vessel. The US Navy patrol boat the USS Thunderbolt, a Cyclone-class patrol ship involved in an exercise in the Persian Gulf, reportedly shot the warnings during a tense encounter with the Iranian ship. A US official said that the Iranian naval vessel came within 150 yards (137 meters) of the Thunderbolt. The Iranian vessel reportedly didn't respond to radio calls, flares, or warning sirens. That forced the sailors aboard the US ship to use weapons to send their signal."
      ],
      "text/plain": [
       "<IPython.core.display.Markdown object>"
      ]
     },
     "metadata": {},
     "output_type": "display_data"
    },
    {
     "data": {
      "text/markdown": [
       "[![](https://static.independent.co.uk/s3fs-public/thumbnails/image/2017/04/10/22/tomahawk-missile.jpg)](http://www.independent.co.uk/news/world/americas/us-politics/us-ship-iran-navy-warning-shots-fired-latest-news-updates-a7859386.html)"
      ],
      "text/plain": [
       "<IPython.core.display.Markdown object>"
      ]
     },
     "metadata": {},
     "output_type": "display_data"
    },
    {
     "data": {
      "text/markdown": [
       "## Donald Trump just launched a public attack on his 'very weak' Attorney General"
      ],
      "text/plain": [
       "<IPython.core.display.Markdown object>"
      ]
     },
     "metadata": {},
     "output_type": "display_data"
    },
    {
     "data": {
      "text/markdown": [
       "Donald Trump has launched his strongest attack yet on his \"very weak\" Attorney General Jeff Sessions, fuelling speculation he is preparing to fire him. The US President took issue with Mr Sessions apparent reluctance to investigate presidential rival Hillary Clinton's alleged \"crimes\". His early morning tweet followed a similar barb on Monday when he branded Mr Sessions \"beleaguered\"."
      ],
      "text/plain": [
       "<IPython.core.display.Markdown object>"
      ]
     },
     "metadata": {},
     "output_type": "display_data"
    },
    {
     "data": {
      "text/markdown": [
       "[![](https://static.independent.co.uk/s3fs-public/thumbnails/image/2017/07/25/11/jeff-sessions.jpg)](http://www.independent.co.uk/news/world/americas/us-politics/donald-trump-jeff-sessions-attack-fire-attorney-general-tweet-russia-investigation-sack-jr-jared-a7858746.html)"
      ],
      "text/plain": [
       "<IPython.core.display.Markdown object>"
      ]
     },
     "metadata": {},
     "output_type": "display_data"
    },
    {
     "data": {
      "text/markdown": [
       "## Donald Trump tells reporter 'be quiet' when she asks him about healthcare"
      ],
      "text/plain": [
       "<IPython.core.display.Markdown object>"
      ]
     },
     "metadata": {},
     "output_type": "display_data"
    },
    {
     "data": {
      "text/markdown": [
       "Donald Trump has derided reporters in front of a group of White House interns, after facing questions on Attorney General Jeff Sessions and healthcare. During a photo opportunity with the White House's latest group of interns, he was asked by a reporter if he had anything to say about the current healthcare battle in the Senate. He replied with two words: \"Be quiet\"."
      ],
      "text/plain": [
       "<IPython.core.display.Markdown object>"
      ]
     },
     "metadata": {},
     "output_type": "display_data"
    },
    {
     "data": {
      "text/markdown": [
       "[![](https://static.independent.co.uk/s3fs-public/thumbnails/image/2017/07/24/18/donald-trump.jpg)](http://www.independent.co.uk/news/world/americas/us-politics/trump-be-quiet-reporter-healthcare-question-response-white-house-video-a7857996.html)"
      ],
      "text/plain": [
       "<IPython.core.display.Markdown object>"
      ]
     },
     "metadata": {},
     "output_type": "display_data"
    },
    {
     "data": {
      "text/markdown": [
       "## Charlie Gard's parents return to High Court"
      ],
      "text/plain": [
       "<IPython.core.display.Markdown object>"
      ]
     },
     "metadata": {},
     "output_type": "display_data"
    },
    {
     "data": {
      "text/markdown": [
       "Charlie Gard's parents are reportedly to return to the High Court to request permission to take him home to die. They will attend a hearing to decide whether their son should have his life support withdrawn at home or in hospital, The Daily Mail reported."
      ],
      "text/plain": [
       "<IPython.core.display.Markdown object>"
      ]
     },
     "metadata": {},
     "output_type": "display_data"
    },
    {
     "data": {
      "text/markdown": [
       "[![](https://static.independent.co.uk/s3fs-public/thumbnails/image/2017/07/25/13/charlie-gard.jpg)](http://www.independent.co.uk/news/uk/home-news/charlie-gard-parents-take-home-die-high-court-return-us-treatment-request-chris-gosh-great-ormond-a7859046.html)"
      ],
      "text/plain": [
       "<IPython.core.display.Markdown object>"
      ]
     },
     "metadata": {},
     "output_type": "display_data"
    },
    {
     "data": {
      "text/markdown": [
       "## The world's 'most useless airport' is finally getting its first scheduled flight"
      ],
      "text/plain": [
       "<IPython.core.display.Markdown object>"
      ]
     },
     "metadata": {},
     "output_type": "display_data"
    },
    {
     "data": {
      "text/markdown": [
       "The £285m airport dubbed “the world’s most useless” is finally going to get a scheduled flight — but no-one knows when, nor how much flights will cost. St Helena airport was built at UK taxpayers' expense to provide a lifeline for the remote South Atlantic community. Despite warnings about tricky weather conditions, the runway was constructed to allow passenger jets such as the Boeing 737 and Airbus A320 to land."
      ],
      "text/plain": [
       "<IPython.core.display.Markdown object>"
      ]
     },
     "metadata": {},
     "output_type": "display_data"
    },
    {
     "data": {
      "text/markdown": [
       "[![](https://static.independent.co.uk/s3fs-public/thumbnails/image/2017/07/25/10/sthelena-0.png)](http://www.independent.co.uk/travel/news-and-advice/st-helena-flights-most-useless-airport-south-atlantic-johannesburg-airlink-windshear-a7858581.html)"
      ],
      "text/plain": [
       "<IPython.core.display.Markdown object>"
      ]
     },
     "metadata": {},
     "output_type": "display_data"
    },
    {
     "data": {
      "text/markdown": [
       "## Channel 4 to show extracts from recordings during which Princess Diana recalled sex life with Prince Charles"
      ],
      "text/plain": [
       "<IPython.core.display.Markdown object>"
      ]
     },
     "metadata": {},
     "output_type": "display_data"
    },
    {
     "data": {
      "text/markdown": [
       "Extracts from a series of video recordings during which Princess Diana discussed her sex life with Prince Charles are to be broadcast on British television for the first time."
      ],
      "text/plain": [
       "<IPython.core.display.Markdown object>"
      ]
     },
     "metadata": {},
     "output_type": "display_data"
    },
    {
     "data": {
      "text/markdown": [
       "[![](https://static.independent.co.uk/s3fs-public/thumbnails/image/2017/03/01/11/princess-diana-prince-charles-0.jpg)](http://www.independent.co.uk/news/uk/home-news/princess-diana-sex-life-prince-charles-video-tapes-confessions-channel-4-documentary-first-time-a7859136.html)"
      ],
      "text/plain": [
       "<IPython.core.display.Markdown object>"
      ]
     },
     "metadata": {},
     "output_type": "display_data"
    },
    {
     "data": {
      "text/markdown": [
       "## Fears flights between Britain and the EU could be halted after Brexit"
      ],
      "text/plain": [
       "<IPython.core.display.Markdown object>"
      ]
     },
     "metadata": {},
     "output_type": "display_data"
    },
    {
     "data": {
      "text/markdown": [
       "Ryanair's finance chief has lambasted the lack of progress on aviation rules after Brexit, saying: “We’re hearing an awful lot about it all be right on the night. But nobody can actually tell me how it’s going to be right on the night.” Neil Sorahan, the Chief Financial Officer of Europe’s biggest budget airline, told The Independent: “We absolutely want to keep Britain flying, we want to continue to have operations between the UK and Europe."
      ],
      "text/plain": [
       "<IPython.core.display.Markdown object>"
      ]
     },
     "metadata": {},
     "output_type": "display_data"
    },
    {
     "data": {
      "text/markdown": [
       "[![](https://static.independent.co.uk/s3fs-public/thumbnails/image/2017/07/24/17/img-8174.jpg)](http://www.independent.co.uk/travel/news-and-advice/ryanair-flights-britain-eu-brexit-open-skies-transport-secretary-chris-grayling-a7857906.html)"
      ],
      "text/plain": [
       "<IPython.core.display.Markdown object>"
      ]
     },
     "metadata": {},
     "output_type": "display_data"
    },
    {
     "data": {
      "text/markdown": [
       "## Erdogan just urged all Muslims to visit Jerusalem to protect holy mosque"
      ],
      "text/plain": [
       "<IPython.core.display.Markdown object>"
      ]
     },
     "metadata": {},
     "output_type": "display_data"
    },
    {
     "data": {
      "text/markdown": [
       "Turkish President Recep Tayyip Erdogan has urged Muslims across the world to \"visit\" and \"protect\" Jerusalem, slamming what he said was an \"unacceptable\" infringement on Palestinians' rights to a holy site. The leader's comments on Tuesday came after days of violence sparked over access to the al-Aqsa mosque in the city's Noble Sanctuary, known as the Temple Mount in Judaism."
      ],
      "text/plain": [
       "<IPython.core.display.Markdown object>"
      ]
     },
     "metadata": {},
     "output_type": "display_data"
    },
    {
     "data": {
      "text/markdown": [
       "[![](https://static.independent.co.uk/s3fs-public/thumbnails/image/2017/07/25/13/jerusalem-25-july.jpg)](http://www.independent.co.uk/news/world/middle-east/recep-tayyip-erdogan-jerusalem-turkey-president-muslims-temple-mount-mosque-haram-esh-sharif-a7858691.html)"
      ],
      "text/plain": [
       "<IPython.core.display.Markdown object>"
      ]
     },
     "metadata": {},
     "output_type": "display_data"
    },
    {
     "data": {
      "text/markdown": [
       "# Metro"
      ],
      "text/plain": [
       "<IPython.core.display.Markdown object>"
      ]
     },
     "metadata": {},
     "output_type": "display_data"
    },
    {
     "data": {
      "text/markdown": [
       "## House seen passing Russia sanctions bill limiting Trump's power"
      ],
      "text/plain": [
       "<IPython.core.display.Markdown object>"
      ]
     },
     "metadata": {},
     "output_type": "display_data"
    },
    {
     "data": {
      "text/markdown": [
       "The U.S. House of Representatives is expected to vote overwhelmingly on Tuesday for a bill that would slap new sanctions on Russia, Iran and North Korea, potentially complicating President Donald Trump's hopes of pursuing improved relations with Moscow."
      ],
      "text/plain": [
       "<IPython.core.display.Markdown object>"
      ]
     },
     "metadata": {},
     "output_type": "display_data"
    },
    {
     "data": {
      "text/markdown": [
       "[![](https://s4.reutersmedia.net/resources/r/?m=02&d=20170725&t=2&i=1194278932&w=&fh=545px&fw=&ll=&pl=&sq=&r=LYNXMPED6O05X)](http://www.reuters.com/article/us-usa-trump-russia-idUSKBN1AA0C3)"
      ],
      "text/plain": [
       "<IPython.core.display.Markdown object>"
      ]
     },
     "metadata": {},
     "output_type": "display_data"
    },
    {
     "data": {
      "text/markdown": [
       "## Trump, without evidence, cites Ukraine ties to ex-rival Clinton"
      ],
      "text/plain": [
       "<IPython.core.display.Markdown object>"
      ]
     },
     "metadata": {},
     "output_type": "display_data"
    },
    {
     "data": {
      "text/markdown": [
       "U.S. President Donald Trump on Tuesday blasted the investigation into alleged Russian meddling in last year's U.S. election and raised questions, without offering evidence, about Ukrainian  support for his Democratic presidential rival."
      ],
      "text/plain": [
       "<IPython.core.display.Markdown object>"
      ]
     },
     "metadata": {},
     "output_type": "display_data"
    },
    {
     "data": {
      "text/markdown": [
       "[![](https://s2.reutersmedia.net/resources/r/?m=02&d=20170725&t=2&i=1194308826&w=&fh=545px&fw=&ll=&pl=&sq=&r=LYNXMPED6O0KB)](http://www.reuters.com/article/us-usa-trump-russia-ukraine-idUSKBN1AA14Y)"
      ],
      "text/plain": [
       "<IPython.core.display.Markdown object>"
      ]
     },
     "metadata": {},
     "output_type": "display_data"
    },
    {
     "data": {
      "text/markdown": [
       "## McCain to return for pivotal U.S. Senate vote on healthcare"
      ],
      "text/plain": [
       "<IPython.core.display.Markdown object>"
      ]
     },
     "metadata": {},
     "output_type": "display_data"
    },
    {
     "data": {
      "text/markdown": [
       "Senator John McCain will return to the U.S. Capitol on Tuesday to play what could be a crucial role in salvaging Republican efforts to repeal Obamacare and keep their years-long pledge to unwind the 2010 healthcare overhaul."
      ],
      "text/plain": [
       "<IPython.core.display.Markdown object>"
      ]
     },
     "metadata": {},
     "output_type": "display_data"
    },
    {
     "data": {
      "text/markdown": [
       "[![](https://s2.reutersmedia.net/resources/r/?m=02&d=20170725&t=2&i=1194322390&w=&fh=545px&fw=&ll=&pl=&sq=&r=LYNXMPED6O0SE)](http://www.reuters.com/article/us-usa-healthcare-idUSKBN1AA0BQ)"
      ],
      "text/plain": [
       "<IPython.core.display.Markdown object>"
      ]
     },
     "metadata": {},
     "output_type": "display_data"
    },
    {
     "data": {
      "text/markdown": [
       "## Fire crews battle to halt spread of Montana blaze, largest in the U.S."
      ],
      "text/plain": [
       "<IPython.core.display.Markdown object>"
      ]
     },
     "metadata": {},
     "output_type": "display_data"
    },
    {
     "data": {
      "text/markdown": [
       "More than 600 firefighters in Montana on Tuesday battled to halt the spread of the biggest wildfire in the United States after it torched buildings, raced through forests and drove scores of people from their homes."
      ],
      "text/plain": [
       "<IPython.core.display.Markdown object>"
      ]
     },
     "metadata": {},
     "output_type": "display_data"
    },
    {
     "data": {
      "text/markdown": [
       "[![](https://s2.reutersmedia.net/resources/r/?m=02&d=20170725&t=2&i=1194325057&w=&fh=545px&fw=&ll=&pl=&sq=&r=LYNXMPED6O0TF)](http://www.reuters.com/article/us-usa-wildfires-idUSKBN1AA1EJ)"
      ],
      "text/plain": [
       "<IPython.core.display.Markdown object>"
      ]
     },
     "metadata": {},
     "output_type": "display_data"
    },
    {
     "data": {
      "text/markdown": [
       "## U.S. Navy ship fires warning shots at Iranian vessel: official"
      ],
      "text/plain": [
       "<IPython.core.display.Markdown object>"
      ]
     },
     "metadata": {},
     "output_type": "display_data"
    },
    {
     "data": {
      "text/markdown": [
       "A U.S. Navy ship fired warning shots toward an Iranian vessel near the northern Arabian Gulf on Tuesday after the vessel came within 150 yards (137 meters), a U.S. official told Reuters."
      ],
      "text/plain": [
       "<IPython.core.display.Markdown object>"
      ]
     },
     "metadata": {},
     "output_type": "display_data"
    },
    {
     "data": {
      "text/markdown": [
       "[![](https://s4.reutersmedia.net/resources_v2/images/rcom-default.png)](http://www.reuters.com/article/us-usa-iran-military-idUSKBN1AA1P3)"
      ],
      "text/plain": [
       "<IPython.core.display.Markdown object>"
      ]
     },
     "metadata": {},
     "output_type": "display_data"
    },
    {
     "data": {
      "text/markdown": [
       "## U.S. judge halts deportation of more than 1,400 Iraqi nationals"
      ],
      "text/plain": [
       "<IPython.core.display.Markdown object>"
      ]
     },
     "metadata": {},
     "output_type": "display_data"
    },
    {
     "data": {
      "text/markdown": [
       "A federal judge in Michigan halted on Monday the deportation of more than 1,400 Iraqi nationals from the United States, the latest legal victory for the Iraqi nationals facing deportation in a closely watched case."
      ],
      "text/plain": [
       "<IPython.core.display.Markdown object>"
      ]
     },
     "metadata": {},
     "output_type": "display_data"
    },
    {
     "data": {
      "text/markdown": [
       "[![](https://s4.reutersmedia.net/resources/r/?m=02&d=20170725&t=2&i=1194270109&w=&fh=545px&fw=&ll=&pl=&sq=&r=LYNXMPED6O03S)](http://www.reuters.com/article/us-usa-immigration-iraqis-idUSKBN1AA04Z)"
      ],
      "text/plain": [
       "<IPython.core.display.Markdown object>"
      ]
     },
     "metadata": {},
     "output_type": "display_data"
    },
    {
     "data": {
      "text/markdown": [
       "## Unrest bubbles among Trump's key foreign policy aides: sources"
      ],
      "text/plain": [
       "<IPython.core.display.Markdown object>"
      ]
     },
     "metadata": {},
     "output_type": "display_data"
    },
    {
     "data": {
      "text/markdown": [
       "Frustration is mounting among leading foreign policy officials in President Donald Trump's administration as they chafe at some policy and bureaucratic defeats and complain they lack independence to do their jobs, officials say."
      ],
      "text/plain": [
       "<IPython.core.display.Markdown object>"
      ]
     },
     "metadata": {},
     "output_type": "display_data"
    },
    {
     "data": {
      "text/markdown": [
       "[![](https://s3.reutersmedia.net/resources/r/?m=02&d=20170725&t=2&i=1194302810&w=&fh=545px&fw=&ll=&pl=&sq=&r=LYNXMPED6O00K)](http://www.reuters.com/article/us-usa-trump-nationalsecurity-idUSKBN1AA00P)"
      ],
      "text/plain": [
       "<IPython.core.display.Markdown object>"
      ]
     },
     "metadata": {},
     "output_type": "display_data"
    },
    {
     "data": {
      "text/markdown": [
       "## Exclusive: Australia to accept first Central American refugees under U.S. deal - sources"
      ],
      "text/plain": [
       "<IPython.core.display.Markdown object>"
      ]
     },
     "metadata": {},
     "output_type": "display_data"
    },
    {
     "data": {
      "text/markdown": [
       "Australia will accept several dozen Central American refugees within the next few months, two sources familiar with the process told Reuters, the first transfers under a controversial refugee swap arrangement agreed with the United States."
      ],
      "text/plain": [
       "<IPython.core.display.Markdown object>"
      ]
     },
     "metadata": {},
     "output_type": "display_data"
    },
    {
     "data": {
      "text/markdown": [
       "[![](https://s3.reutersmedia.net/resources/r/?m=02&d=20170725&t=2&i=1194289681&w=&fh=545px&fw=&ll=&pl=&sq=&r=LYNXMPED6O0BK)](http://www.reuters.com/article/us-usa-trump-australia-refugees-idUSKBN1AA0NO)"
      ],
      "text/plain": [
       "<IPython.core.display.Markdown object>"
      ]
     },
     "metadata": {},
     "output_type": "display_data"
    },
    {
     "data": {
      "text/markdown": [
       "## Prospect of Trump tariff casts pall over U.S. solar industry"
      ],
      "text/plain": [
       "<IPython.core.display.Markdown object>"
      ]
     },
     "metadata": {},
     "output_type": "display_data"
    },
    {
     "data": {
      "text/markdown": [
       "U.S. solar companies are snapping up cheap imported solar panels ahead of a trade decision by the Trump administration that could drive up costs and cloud the fortunes of one of the economy's brightest stars."
      ],
      "text/plain": [
       "<IPython.core.display.Markdown object>"
      ]
     },
     "metadata": {},
     "output_type": "display_data"
    },
    {
     "data": {
      "text/markdown": [
       "[![](https://s3.reutersmedia.net/resources/r/?m=02&d=20170725&t=2&i=1194306116&w=&fh=545px&fw=&ll=&pl=&sq=&r=LYNXMPED6O05J)](http://www.reuters.com/article/us-usa-trade-solar-insight-idUSKBN1AA0BI)"
      ],
      "text/plain": [
       "<IPython.core.display.Markdown object>"
      ]
     },
     "metadata": {},
     "output_type": "display_data"
    },
    {
     "data": {
      "text/markdown": [
       "## Israel removes Jerusalem metal detectors, Palestinians reject new measures"
      ],
      "text/plain": [
       "<IPython.core.display.Markdown object>"
      ]
     },
     "metadata": {},
     "output_type": "display_data"
    },
    {
     "data": {
      "text/markdown": [
       "Israel removed metal detectors from entrances to the Aqsa mosque compound in Jerusalem's Old City on Tuesday in favour of CCTV cameras, hoping to calm days of bloodshed, but Palestinians said the modified security measures were still unacceptable."
      ],
      "text/plain": [
       "<IPython.core.display.Markdown object>"
      ]
     },
     "metadata": {},
     "output_type": "display_data"
    },
    {
     "data": {
      "text/markdown": [
       "[![](https://s4.reutersmedia.net/resources/r/?m=02&d=20170725&t=2&i=1194262017&w=&fh=545px&fw=&ll=&pl=&sq=&r=LYNXMPED6N1OW)](http://www.reuters.com/article/us-israel-palestinians-idUSKBN1A92Q5)"
      ],
      "text/plain": [
       "<IPython.core.display.Markdown object>"
      ]
     },
     "metadata": {},
     "output_type": "display_data"
    },
    {
     "data": {
      "text/markdown": [
       "# Reuters"
      ],
      "text/plain": [
       "<IPython.core.display.Markdown object>"
      ]
     },
     "metadata": {},
     "output_type": "display_data"
    },
    {
     "data": {
      "text/markdown": [
       "## Canavan resigns from Turnbull ministry over Italian citizenship"
      ],
      "text/plain": [
       "<IPython.core.display.Markdown object>"
      ]
     },
     "metadata": {},
     "output_type": "display_data"
    },
    {
     "data": {
      "text/markdown": [
       "Resources Minister Matt Canavan quits Cabinet after learning that his mother registered him to be an Italian citizen without his knowledge."
      ],
      "text/plain": [
       "<IPython.core.display.Markdown object>"
      ]
     },
     "metadata": {},
     "output_type": "display_data"
    },
    {
     "data": {
      "text/markdown": [
       "[![](http://www.abc.net.au/news/image/8742710-1x1-700x700.jpg)](http://www.abc.net.au/news/2017-07-25/matt-canavan-citizenship-crisis-resigns-from-cabinet/8742702)"
      ],
      "text/plain": [
       "<IPython.core.display.Markdown object>"
      ]
     },
     "metadata": {},
     "output_type": "display_data"
    },
    {
     "data": {
      "text/markdown": [
       "## Antony Green: The High Court's question after Canavan's resignation"
      ],
      "text/plain": [
       "<IPython.core.display.Markdown object>"
      ]
     },
     "metadata": {},
     "output_type": "display_data"
    },
    {
     "data": {
      "text/markdown": [
       "After Matt Canavan's resignation, the question the High Court will consider in this case is whether citizenship-by-descent is a disqualification for being a member of parliament."
      ],
      "text/plain": [
       "<IPython.core.display.Markdown object>"
      ]
     },
     "metadata": {},
     "output_type": "display_data"
    },
    {
     "data": {
      "text/markdown": [
       "[![](http://www.abc.net.au/news/image/8742998-1x1-700x700.jpg)](http://www.abc.net.au/news/2017-07-25/antony-green-high-courts-question-after-matt-canavan-resignation/8742912)"
      ],
      "text/plain": [
       "<IPython.core.display.Markdown object>"
      ]
     },
     "metadata": {},
     "output_type": "display_data"
    },
    {
     "data": {
      "text/markdown": [
       "## Trump denounces Sessions in Twitter tirade for being 'weak' on Clinton"
      ],
      "text/plain": [
       "<IPython.core.display.Markdown object>"
      ]
     },
     "metadata": {},
     "output_type": "display_data"
    },
    {
     "data": {
      "text/markdown": [
       "US President Donald Trump launches a fresh tirade on Twitter against Attorney-General Jeff Sessions."
      ],
      "text/plain": [
       "<IPython.core.display.Markdown object>"
      ]
     },
     "metadata": {},
     "output_type": "display_data"
    },
    {
     "data": {
      "text/markdown": [
       "[![](http://www.abc.net.au/news/image/8743288-1x1-700x700.jpg)](http://www.abc.net.au/news/2017-07-25/trump-denounces-sessions-for-being-weak-on-clinton/8743132)"
      ],
      "text/plain": [
       "<IPython.core.display.Markdown object>"
      ]
     },
     "metadata": {},
     "output_type": "display_data"
    },
    {
     "data": {
      "text/markdown": [
       "## Toyota, Honda and Mazda facing class action over faulty Takata airbags"
      ],
      "text/plain": [
       "<IPython.core.display.Markdown object>"
      ]
     },
     "metadata": {},
     "output_type": "display_data"
    },
    {
     "data": {
      "text/markdown": [
       "A Sydney lawyer has announced a class action lawsuit against Toyota, Honda and Mazda, seeking refunds for cars fitted with faulty airbags from Takata linked to 18 deaths around the world."
      ],
      "text/plain": [
       "<IPython.core.display.Markdown object>"
      ]
     },
     "metadata": {},
     "output_type": "display_data"
    },
    {
     "data": {
      "text/markdown": [
       "[![](http://www.abc.net.au/news/image/7158204-1x1-700x700.jpg)](http://www.abc.net.au/news/2017-07-25/lawsuit-against-car-manufacturers-for-using-takata-airbags/8742966)"
      ],
      "text/plain": [
       "<IPython.core.display.Markdown object>"
      ]
     },
     "metadata": {},
     "output_type": "display_data"
    },
    {
     "data": {
      "text/markdown": [
       "## 'Sorry' Soliola suspended for five matches for high tackle on Slater"
      ],
      "text/plain": [
       "<IPython.core.display.Markdown object>"
      ]
     },
     "metadata": {},
     "output_type": "display_data"
    },
    {
     "data": {
      "text/markdown": [
       "Canberra Raiders player Sia Soliola says he respects and accepts his punishment for a tackle on Melbourne Storm star Billy Slater that he admits was both high and late."
      ],
      "text/plain": [
       "<IPython.core.display.Markdown object>"
      ]
     },
     "metadata": {},
     "output_type": "display_data"
    },
    {
     "data": {
      "text/markdown": [
       "[![](http://www.abc.net.au/news/image/8743164-1x1-700x700.jpg)](http://www.abc.net.au/news/2017-07-25/sia-soliola-suspended-for-5-matches-by-nrl-for-slater-tackle/8743152)"
      ],
      "text/plain": [
       "<IPython.core.display.Markdown object>"
      ]
     },
     "metadata": {},
     "output_type": "display_data"
    },
    {
     "data": {
      "text/markdown": [
       "## 'CASA needs to get off its butt': Second Angel Flight crash prompts demand for crackdown"
      ],
      "text/plain": [
       "<IPython.core.display.Markdown object>"
      ]
     },
     "metadata": {},
     "output_type": "display_data"
    },
    {
     "data": {
      "text/markdown": [
       "A man left devastated after his wife and daughter were killed in an Angel Flight crash in 2011 is demanding safety be improved after another fatal charity flight accident."
      ],
      "text/plain": [
       "<IPython.core.display.Markdown object>"
      ]
     },
     "metadata": {},
     "output_type": "display_data"
    },
    {
     "data": {
      "text/markdown": [
       "[![](http://www.abc.net.au/news/image/8724242-1x1-700x700.jpg)](http://www.abc.net.au/news/2017-07-25/angel-flight-second-fatal-crash-prompts-demand-casa-crackdown/8723500)"
      ],
      "text/plain": [
       "<IPython.core.display.Markdown object>"
      ]
     },
     "metadata": {},
     "output_type": "display_data"
    },
    {
     "data": {
      "text/markdown": [
       "## AFP hunts Australian dark net users after sites taken down"
      ],
      "text/plain": [
       "<IPython.core.display.Markdown object>"
      ]
     },
     "metadata": {},
     "output_type": "display_data"
    },
    {
     "data": {
      "text/markdown": [
       "Despite the closure of two of the biggest dark net marketplaces, many users continue to buy and sell illegal products, including bank account logins and drugs."
      ],
      "text/plain": [
       "<IPython.core.display.Markdown object>"
      ]
     },
     "metadata": {},
     "output_type": "display_data"
    },
    {
     "data": {
      "text/markdown": [
       "[![](http://www.abc.net.au/news/image/8742816-1x1-700x700.jpg)](http://www.abc.net.au/news/2017-07-25/afp-on-hunt-for-aussie-dark-net-users-after-sites-taken-down/8740852)"
      ],
      "text/plain": [
       "<IPython.core.display.Markdown object>"
      ]
     },
     "metadata": {},
     "output_type": "display_data"
    },
    {
     "data": {
      "text/markdown": [
       "## NSW to investigate Murray-Darling Four Corners allegations"
      ],
      "text/plain": [
       "<IPython.core.display.Markdown object>"
      ]
     },
     "metadata": {},
     "output_type": "display_data"
    },
    {
     "data": {
      "text/markdown": [
       "The NSW Government will conduct an inquiry into allegations around the Murray-Darling Basin Plan broadcast by the ABC's Four Corners program."
      ],
      "text/plain": [
       "<IPython.core.display.Markdown object>"
      ]
     },
     "metadata": {},
     "output_type": "display_data"
    },
    {
     "data": {
      "text/markdown": [
       "[![](http://www.abc.net.au/cm/rimage/8654252-1x1-large.jpg?v=4)](http://www.abc.net.au/news/rural/2017-07-25/nsw-announces-inquiry-into-murray-darling-basin-plan-management/8742036)"
      ],
      "text/plain": [
       "<IPython.core.display.Markdown object>"
      ]
     },
     "metadata": {},
     "output_type": "display_data"
    },
    {
     "data": {
      "text/markdown": [
       "## An 'extraordinary, ordinary' modern family — mum, baby and transgender dad"
      ],
      "text/plain": [
       "<IPython.core.display.Markdown object>"
      ]
     },
     "metadata": {},
     "output_type": "display_data"
    },
    {
     "data": {
      "text/markdown": [
       "Lucky and Emma Price are just like any new parents — happy, proud and tired. The one difference is that new dad Lucky started life as a girl."
      ],
      "text/plain": [
       "<IPython.core.display.Markdown object>"
      ]
     },
     "metadata": {},
     "output_type": "display_data"
    },
    {
     "data": {
      "text/markdown": [
       "[![](http://www.abc.net.au/news/image/8700500-1x1-700x700.jpg)](http://www.abc.net.au/news/2017-07-25/meet-the-modern-family-mother-baby-and-transgender-father/8700284)"
      ],
      "text/plain": [
       "<IPython.core.display.Markdown object>"
      ]
     },
     "metadata": {},
     "output_type": "display_data"
    },
    {
     "data": {
      "text/markdown": [
       "## Four illusions that reveal the hidden workings of your brain"
      ],
      "text/plain": [
       "<IPython.core.display.Markdown object>"
      ]
     },
     "metadata": {},
     "output_type": "display_data"
    },
    {
     "data": {
      "text/markdown": [
       "Rather than delivering information from our eyes in nearly raw form as a camera would, the brain tries to determine what is actually out there."
      ],
      "text/plain": [
       "<IPython.core.display.Markdown object>"
      ]
     },
     "metadata": {},
     "output_type": "display_data"
    },
    {
     "data": {
      "text/markdown": [
       "[![](http://www.abc.net.au/news/image/8742448-1x1-700x700.jpg)](http://www.abc.net.au/news/2017-07-25/four-optical-illusions-reveal-the-hidden-workings-of-your-brain/8742310)"
      ],
      "text/plain": [
       "<IPython.core.display.Markdown object>"
      ]
     },
     "metadata": {},
     "output_type": "display_data"
    },
    {
     "data": {
      "text/markdown": [
       "# The Hindu"
      ],
      "text/plain": [
       "<IPython.core.display.Markdown object>"
      ]
     },
     "metadata": {},
     "output_type": "display_data"
    },
    {
     "data": {
      "text/markdown": [
       "## John McCain Is Returning to the Senate, Probably to Help Destroy Obamacare"
      ],
      "text/plain": [
       "<IPython.core.display.Markdown object>"
      ]
     },
     "metadata": {},
     "output_type": "display_data"
    },
    {
     "data": {
      "text/markdown": [
       "His return on Tuesday, following surgery and a diagnosis of brain cancer, shows Republicans think they’re close to reviving their health-care bill."
      ],
      "text/plain": [
       "<IPython.core.display.Markdown object>"
      ]
     },
     "metadata": {},
     "output_type": "display_data"
    },
    {
     "data": {
      "text/markdown": [
       "[![](https://pixel.nymag.com/imgs/daily/intelligencer/2017/07/24/24-mccain.w1200.h630.jpg)](http://nymag.com/daily/intelligencer/2017/07/mccain-head-back-to-d-c-probably-to-help-destroy-obamacare.html)"
      ],
      "text/plain": [
       "<IPython.core.display.Markdown object>"
      ]
     },
     "metadata": {},
     "output_type": "display_data"
    },
    {
     "data": {
      "text/markdown": [
       "## The 14 Most Inappropriate Moments From Trump’s Speech at the Boy Scout Jamboree"
      ],
      "text/plain": [
       "<IPython.core.display.Markdown object>"
      ]
     },
     "metadata": {},
     "output_type": "display_data"
    },
    {
     "data": {
      "text/markdown": [
       "Trump playfully threatened to fire a cabinet member, attacked President Obama, and thanked the kids for voting for him in November."
      ],
      "text/plain": [
       "<IPython.core.display.Markdown object>"
      ]
     },
     "metadata": {},
     "output_type": "display_data"
    },
    {
     "data": {
      "text/markdown": [
       "[![](https://pixel.nymag.com/imgs/daily/intelligencer/2017/07/25/25-trump-boy-scout-jamboree.w1200.h630.jpg)](http://nymag.com/daily/intelligencer/2017/07/inappropriate-moments-trump-boy-scout-speech.html)"
      ],
      "text/plain": [
       "<IPython.core.display.Markdown object>"
      ]
     },
     "metadata": {},
     "output_type": "display_data"
    },
    {
     "data": {
      "text/markdown": [
       "## HBO’s Diana, Our Mother Tells Her Story Through William and Harry"
      ],
      "text/plain": [
       "<IPython.core.display.Markdown object>"
      ]
     },
     "metadata": {},
     "output_type": "display_data"
    },
    {
     "data": {
      "text/markdown": [
       "A measured but moving tribute that’s as much about William and Harry as it is about the late princess."
      ],
      "text/plain": [
       "<IPython.core.display.Markdown object>"
      ]
     },
     "metadata": {},
     "output_type": "display_data"
    },
    {
     "data": {
      "text/markdown": [
       "[![](https://pixel.nymag.com/imgs/daily/vulture/2017/07/24/24-diana-mother.w1200.h630.jpg)](http://www.vulture.com/2017/07/diana-our-mother-her-life-and-legacy-review.html)"
      ],
      "text/plain": [
       "<IPython.core.display.Markdown object>"
      ]
     },
     "metadata": {},
     "output_type": "display_data"
    },
    {
     "data": {
      "text/markdown": [
       "## Our 13 Biggest Questions About the Game of Thrones Season 7 Episode ‘Stormborn’"
      ],
      "text/plain": [
       "<IPython.core.display.Markdown object>"
      ]
     },
     "metadata": {},
     "output_type": "display_data"
    },
    {
     "data": {
      "text/markdown": [
       "Is Varys lying to Daenerys? Can a crossbow really kill a dragon? Does Grey Worm have a penis?"
      ],
      "text/plain": [
       "<IPython.core.display.Markdown object>"
      ]
     },
     "metadata": {},
     "output_type": "display_data"
    },
    {
     "data": {
      "text/markdown": [
       "[![](https://pixel.nymag.com/imgs/daily/vulture/2017/07/11/got/got-s1-024.w1200.h630.jpg)](http://www.vulture.com/2017/07/game-of-thrones-season-7-stormborn-questions.html)"
      ],
      "text/plain": [
       "<IPython.core.display.Markdown object>"
      ]
     },
     "metadata": {},
     "output_type": "display_data"
    },
    {
     "data": {
      "text/markdown": [
       "## We’re Approaching a Major Turning Point in Trump-Era Pop Culture"
      ],
      "text/plain": [
       "<IPython.core.display.Markdown object>"
      ]
     },
     "metadata": {},
     "output_type": "display_data"
    },
    {
     "data": {
      "text/markdown": [
       "Trump parallels in movies and TV will soon be intentional instead of just coincidental."
      ],
      "text/plain": [
       "<IPython.core.display.Markdown object>"
      ]
     },
     "metadata": {},
     "output_type": "display_data"
    },
    {
     "data": {
      "text/markdown": [
       "[![](https://pixel.nymag.com/imgs/daily/vulture/2017/07/24/24-trump-parallels.w1200.h630.jpg)](http://www.vulture.com/2017/07/were-approaching-a-turning-point-in-trump-era-pop-culture.html)"
      ],
      "text/plain": [
       "<IPython.core.display.Markdown object>"
      ]
     },
     "metadata": {},
     "output_type": "display_data"
    },
    {
     "data": {
      "text/markdown": [
       "## Democrats Unveil Populist Economic Agenda for 2018"
      ],
      "text/plain": [
       "<IPython.core.display.Markdown object>"
      ]
     },
     "metadata": {},
     "output_type": "display_data"
    },
    {
     "data": {
      "text/markdown": [
       "The Donkey Party promises to secure Americans a “better deal” by taking on Big Pharma and concentrated corporate power."
      ],
      "text/plain": [
       "<IPython.core.display.Markdown object>"
      ]
     },
     "metadata": {},
     "output_type": "display_data"
    },
    {
     "data": {
      "text/markdown": [
       "[![](https://pixel.nymag.com/imgs/daily/intelligencer/2017/07/24/24-chuck-schumer.w1200.h630.jpg)](http://nymag.com/daily/intelligencer/2017/07/democrats-unveil-populist-economic-agenda-for-2018.html)"
      ],
      "text/plain": [
       "<IPython.core.display.Markdown object>"
      ]
     },
     "metadata": {},
     "output_type": "display_data"
    },
    {
     "data": {
      "text/markdown": [
       "## T.J. Miller Knows You Think He’s Crazy for Leaving Silicon Valley"
      ],
      "text/plain": [
       "<IPython.core.display.Markdown object>"
      ]
     },
     "metadata": {},
     "output_type": "display_data"
    },
    {
     "data": {
      "text/markdown": [
       "A candid conversation with the actor and former HBO star."
      ],
      "text/plain": [
       "<IPython.core.display.Markdown object>"
      ]
     },
     "metadata": {},
     "output_type": "display_data"
    },
    {
     "data": {
      "text/markdown": [
       "[![](https://pixel.nymag.com/imgs/daily/vulture/2017/07/20/magazine/21-tjmiller-feature-lede.w1200.h630.jpg)](http://www.vulture.com/2017/07/t-j-miller-on-leaving-hbo-silicon-valley.html)"
      ],
      "text/plain": [
       "<IPython.core.display.Markdown object>"
      ]
     },
     "metadata": {},
     "output_type": "display_data"
    },
    {
     "data": {
      "text/markdown": [
       "## Insecure’s Yvonne Orji Is Living Single"
      ],
      "text/plain": [
       "<IPython.core.display.Markdown object>"
      ]
     },
     "metadata": {},
     "output_type": "display_data"
    },
    {
     "data": {
      "text/markdown": [
       "How Insecure and Yvonne Orji are reinventing TV’s single woman."
      ],
      "text/plain": [
       "<IPython.core.display.Markdown object>"
      ]
     },
     "metadata": {},
     "output_type": "display_data"
    },
    {
     "data": {
      "text/markdown": [
       "[![](https://pixel.nymag.com/imgs/fashion/daily/2017/07/YvonneOrji/YvonneOrji_11.w1200.h630.jpg)](https://www.thecut.com/2017/07/insecures-yvonne-orji-is-your-favorite-single-lady.html)"
      ],
      "text/plain": [
       "<IPython.core.display.Markdown object>"
      ]
     },
     "metadata": {},
     "output_type": "display_data"
    },
    {
     "data": {
      "text/markdown": [
       "## The Hottest Cosplayers at Comic-Con"
      ],
      "text/plain": [
       "<IPython.core.display.Markdown object>"
      ]
     },
     "metadata": {},
     "output_type": "display_data"
    },
    {
     "data": {
      "text/markdown": [
       "▶️  These cosplayers are sizzling."
      ],
      "text/plain": [
       "<IPython.core.display.Markdown object>"
      ]
     },
     "metadata": {},
     "output_type": "display_data"
    },
    {
     "data": {
      "text/markdown": [
       "[![](https://pixel.nymag.com/imgs/daily/vulture/2017/07/21/cosplayers.w1200.h630.png)](http://www.vulture.com/2017/07/the-hottest-cosplayers-at-comic-con.html)"
      ],
      "text/plain": [
       "<IPython.core.display.Markdown object>"
      ]
     },
     "metadata": {},
     "output_type": "display_data"
    },
    {
     "data": {
      "text/markdown": [
       "## An Insanely Useful Concealer Hack From Adele’s Makeup Artist"
      ],
      "text/plain": [
       "<IPython.core.display.Markdown object>"
      ]
     },
     "metadata": {},
     "output_type": "display_data"
    },
    {
     "data": {
      "text/markdown": [
       "How to make your makeup last longer."
      ],
      "text/plain": [
       "<IPython.core.display.Markdown object>"
      ]
     },
     "metadata": {},
     "output_type": "display_data"
    },
    {
     "data": {
      "text/markdown": [
       "[![](https://pixel.nymag.com/imgs/fashion/daily/2017/07/21/21-marc-jacobs-primer.w1200.h630.jpg)](https://www.thecut.com/2017/07/best-concealer-eyes-adele-makeup.html)"
      ],
      "text/plain": [
       "<IPython.core.display.Markdown object>"
      ]
     },
     "metadata": {},
     "output_type": "display_data"
    },
    {
     "data": {
      "text/markdown": [
       "# BBC News"
      ],
      "text/plain": [
       "<IPython.core.display.Markdown object>"
      ]
     },
     "metadata": {},
     "output_type": "display_data"
    },
    {
     "data": {
      "text/markdown": [
       "## Keiner will die A21 markieren - Einer Autobahn fehlt jede Spur"
      ],
      "text/plain": [
       "<IPython.core.display.Markdown object>"
      ]
     },
     "metadata": {},
     "output_type": "display_data"
    },
    {
     "data": {
      "text/markdown": [
       "Wir fahr'n fahr'n fahr'n auf der Autobahn... Aber nicht auf diesem Teilstück der A21 in Schleswig-Holstein! Dabei ist es frisch geteert und saniert, sieht gut aus und wartet eigentlich nur noch auf"
      ],
      "text/plain": [
       "<IPython.core.display.Markdown object>"
      ]
     },
     "metadata": {},
     "output_type": "display_data"
    },
    {
     "data": {
      "text/markdown": [
       "[![](http://bilder.bild.de/fotos/ein-teilabschnitt-der-a21-200462950-52655864/Bild/3.bild.jpg)](http://www.bild.de/news/inland/autobahnen/autobahn-a21-sucht-markierung-52655646.bild.html)"
      ],
      "text/plain": [
       "<IPython.core.display.Markdown object>"
      ]
     },
     "metadata": {},
     "output_type": "display_data"
    },
    {
     "data": {
      "text/markdown": [
       "## Nach Tod des Darknet-Häuptlings - Jetzt jagt die Polizei die Nutzer von „AlphaBay“"
      ],
      "text/plain": [
       "<IPython.core.display.Markdown object>"
      ]
     },
     "metadata": {},
     "output_type": "display_data"
    },
    {
     "data": {
      "text/markdown": [
       "Am 5. Juli 2017 schloss das US-Justizministerium „AlphaBay“, die größte Verkaufs-Plattform im Darknetz. Noch am gleichen Tag stürmte die thailändische Polizei die Villa von „AlphaBay“-Chef Alexandre"
      ],
      "text/plain": [
       "<IPython.core.display.Markdown object>"
      ]
     },
     "metadata": {},
     "output_type": "display_data"
    },
    {
     "data": {
      "text/markdown": [
       "[![](http://bilder.bild.de/fotos/erst-schaltete-das-us-justizministerium-die-darknet-plattform-alpha-bay-dann-nahm-sich-der-darknet-200462627-52652660/Bild/4.bild.jpg)](http://www.bild.de/news/ausland/darknet/darknet-die-jagd-geht-weiter-52652042.bild.html)"
      ],
      "text/plain": [
       "<IPython.core.display.Markdown object>"
      ]
     },
     "metadata": {},
     "output_type": "display_data"
    },
    {
     "data": {
      "text/markdown": [
       "## Schwänze als Trophäen an Baum genagelt - Neonazi erschießt Eichhörnchen"
      ],
      "text/plain": [
       "<IPython.core.display.Markdown object>"
      ]
     },
     "metadata": {},
     "output_type": "display_data"
    },
    {
     "data": {
      "text/markdown": [
       "Wandlitz (Brandenburg) – Flink flitzen die possierlichen Tierchen von Baum zu Baum. Doch in Wandlitz in Brandenburg rennen sie am vergangenen Wochenende um ihr Leben: Ein Rechtsradikaler schießt auf"
      ],
      "text/plain": [
       "<IPython.core.display.Markdown object>"
      ]
     },
     "metadata": {},
     "output_type": "display_data"
    },
    {
     "data": {
      "text/markdown": [
       "[![](http://bilder.bild.de/fotos/neonazi-erschiesst-eichhoernchen-200462516-52651736/Bild/2.bild.jpg)](http://www.bild.de/regional/berlin/schiessen/rechtsradikaler-erschiesst-drei-erichhoernchen-52643716.bild.html)"
      ],
      "text/plain": [
       "<IPython.core.display.Markdown object>"
      ]
     },
     "metadata": {},
     "output_type": "display_data"
    },
    {
     "data": {
      "text/markdown": [
       "## Plädoyer im NSU-Prozess: Bundesanwalt hält Beate Zschäpe für Mittäterin"
      ],
      "text/plain": [
       "<IPython.core.display.Markdown object>"
      ]
     },
     "metadata": {},
     "output_type": "display_data"
    },
    {
     "data": {
      "text/markdown": [
       "München – Für die Bundesanwaltschaft steht fest: Beate Zschäpe ist Mittäterin an allen Morden und Anschlägen des NSU!Bundesanwalt Herbert Diemer sagte, als er sein Plädoyers am Dienstag im Münchner"
      ],
      "text/plain": [
       "<IPython.core.display.Markdown object>"
      ]
     },
     "metadata": {},
     "output_type": "display_data"
    },
    {
     "data": {
      "text/markdown": [
       "[![](http://bilder.bild.de/fotos/zwischen-ihre-anwaelten-hermann-borchert-l-und-mathias-grasel--200462752-52654020/Bild/4.bild.jpg)](http://www.bild.de/regional/muenchen/nsu-prozess/nsu-plaedoyers-52653910.bild.html)"
      ],
      "text/plain": [
       "<IPython.core.display.Markdown object>"
      ]
     },
     "metadata": {},
     "output_type": "display_data"
    },
    {
     "data": {
      "text/markdown": [
       "## Baby Charlie Gard darf sterben: Eltern schreiben bitteren Abschiedsbrief"
      ],
      "text/plain": [
       "<IPython.core.display.Markdown object>"
      ]
     },
     "metadata": {},
     "output_type": "display_data"
    },
    {
     "data": {
      "text/markdown": [
       "Liebe, Trauer und Wut. Nachdem die Eltern des schwerkranken Babys Charlie Gard (elf Monate) sich entschlossen haben, ihr Kind sterben zu lassen, offenbaren sie jetzt ihr Gefühlschaos in einem"
      ],
      "text/plain": [
       "<IPython.core.display.Markdown object>"
      ]
     },
     "metadata": {},
     "output_type": "display_data"
    },
    {
     "data": {
      "text/markdown": [
       "[![](http://bilder.bild.de/fotos/baby-charlie-gard-darf-sterben-eltern-schreiben-bitteren-abschiedsbrief-200462506-52651584/Bild/4.bild.jpg)](http://www.bild.de/news/ausland/gard-charlie/emotionaler-brief-seiner-eltern-52651306.bild.html)"
      ],
      "text/plain": [
       "<IPython.core.display.Markdown object>"
      ]
     },
     "metadata": {},
     "output_type": "display_data"
    },
    {
     "data": {
      "text/markdown": [
       "# Google News"
      ],
      "text/plain": [
       "<IPython.core.display.Markdown object>"
      ]
     },
     "metadata": {},
     "output_type": "display_data"
    },
    {
     "data": {
      "text/markdown": [
       "## Will Democrats Create New Jobs? Their economic plan has good ideas, but is anyone listening?"
      ],
      "text/plain": [
       "<IPython.core.display.Markdown object>"
      ]
     },
     "metadata": {},
     "output_type": "display_data"
    },
    {
     "data": {
      "text/markdown": [
       "Their plan emphasizes antitrust oversight and worker training."
      ],
      "text/plain": [
       "<IPython.core.display.Markdown object>"
      ]
     },
     "metadata": {},
     "output_type": "display_data"
    },
    {
     "data": {
      "text/markdown": [
       "[![](http://s.newsweek.com/sites/www.newsweek.com/files/2017/06/13/chuck-schumer.jpg)](http://www.newsweek.com/will-democrats-economic-plan-work-641294)"
      ],
      "text/plain": [
       "<IPython.core.display.Markdown object>"
      ]
     },
     "metadata": {},
     "output_type": "display_data"
    },
    {
     "data": {
      "text/markdown": [
       "## Kellyanne Conway's attacks on the Russia investigation team deserve punishment, says Bush ethics chief"
      ],
      "text/plain": [
       "<IPython.core.display.Markdown object>"
      ]
     },
     "metadata": {},
     "output_type": "display_data"
    },
    {
     "data": {
      "text/markdown": [
       "The White House has characterized special counsel Robert Mueller and his team as Democratic partisans—but Mueller is a registered Republican."
      ],
      "text/plain": [
       "<IPython.core.display.Markdown object>"
      ]
     },
     "metadata": {},
     "output_type": "display_data"
    },
    {
     "data": {
      "text/markdown": [
       "[![](http://s.newsweek.com/sites/www.newsweek.com/files/2017/07/25/rtx353v7.jpg)](http://www.newsweek.com/trumps-kellyanne-conway-ought-be-fired-says-bush-ethics-chief-641434)"
      ],
      "text/plain": [
       "<IPython.core.display.Markdown object>"
      ]
     },
     "metadata": {},
     "output_type": "display_data"
    },
    {
     "data": {
      "text/markdown": [
       "## Best Personal Injury Attorneys 2017"
      ],
      "text/plain": [
       "<IPython.core.display.Markdown object>"
      ]
     },
     "metadata": {},
     "output_type": "display_data"
    },
    {
     "data": {
      "text/markdown": [
       "It is an unfortunate fact of modern life that many of us can find ourselves, through no fault of our own, involved in an accident resulting in injury. The trauma caused in dealing with an incident can"
      ],
      "text/plain": [
       "<IPython.core.display.Markdown object>"
      ]
     },
     "metadata": {},
     "output_type": "display_data"
    },
    {
     "data": {
      "text/markdown": [
       "[![](None)](http://www.newsweek.com/insights/best-personal-injury-attorneys-2017)"
      ],
      "text/plain": [
       "<IPython.core.display.Markdown object>"
      ]
     },
     "metadata": {},
     "output_type": "display_data"
    },
    {
     "data": {
      "text/markdown": [
       "## Trump jokes that Senate should grill 11-year-old Barron over Russia as investigations probe his family"
      ],
      "text/plain": [
       "<IPython.core.display.Markdown object>"
      ]
     },
     "metadata": {},
     "output_type": "display_data"
    },
    {
     "data": {
      "text/markdown": [
       "The youngest Trump child’s closest known connection with Russia thus far is a shared penchant for caviar—albeit in expensive moisturizer form."
      ],
      "text/plain": [
       "<IPython.core.display.Markdown object>"
      ]
     },
     "metadata": {},
     "output_type": "display_data"
    },
    {
     "data": {
      "text/markdown": [
       "[![](http://s.newsweek.com/sites/www.newsweek.com/files/2017/07/25/donald-and-barron-trump.jpg)](http://www.newsweek.com/donald-trump-russian-interference-barron-trump-641534)"
      ],
      "text/plain": [
       "<IPython.core.display.Markdown object>"
      ]
     },
     "metadata": {},
     "output_type": "display_data"
    },
    {
     "data": {
      "text/markdown": [
       "## Africa’s commits to sustainable tourism while keeping China in its sights at recent UNWTO meeting in Ethiopia"
      ],
      "text/plain": [
       "<IPython.core.display.Markdown object>"
      ]
     },
     "metadata": {},
     "output_type": "display_data"
    },
    {
     "data": {
      "text/markdown": [
       "Sponsor InsightAfrica’s commits to sustainable tourism while keeping China in its si"
      ],
      "text/plain": [
       "<IPython.core.display.Markdown object>"
      ]
     },
     "metadata": {},
     "output_type": "display_data"
    },
    {
     "data": {
      "text/markdown": [
       "[![](None)](http://www.newsweek.com/sponsored/importance-of-sustainability)"
      ],
      "text/plain": [
       "<IPython.core.display.Markdown object>"
      ]
     },
     "metadata": {},
     "output_type": "display_data"
    },
    {
     "data": {
      "text/markdown": [
       "## Fox News refuses to apologize to New York Times for Baghdadi segment"
      ],
      "text/plain": [
       "<IPython.core.display.Markdown object>"
      ]
     },
     "metadata": {},
     "output_type": "display_data"
    },
    {
     "data": {
      "text/markdown": [
       "Fox News only issued an \"update\" to the segment that angered the newspaper, which demanded an on-air apology."
      ],
      "text/plain": [
       "<IPython.core.display.Markdown object>"
      ]
     },
     "metadata": {},
     "output_type": "display_data"
    },
    {
     "data": {
      "text/markdown": [
       "[![](http://s.newsweek.com/sites/www.newsweek.com/files/2017/05/09/new-york-times.jpg)](http://www.newsweek.com/trump-vs-new-york-times-fox-news-refuses-apologize-baghdadi-foiled-641412)"
      ],
      "text/plain": [
       "<IPython.core.display.Markdown object>"
      ]
     },
     "metadata": {},
     "output_type": "display_data"
    },
    {
     "data": {
      "text/markdown": [
       "## North Korea says it will strike U.S. with \"'powerful nuclear hammer\" should anything happen to Kim Jong Un"
      ],
      "text/plain": [
       "<IPython.core.display.Markdown object>"
      ]
     },
     "metadata": {},
     "output_type": "display_data"
    },
    {
     "data": {
      "text/markdown": [
       "North Korea's response to the CIA Director's comments on regime change comes amid rumors of a new nuclear test scheduled for this week."
      ],
      "text/plain": [
       "<IPython.core.display.Markdown object>"
      ]
     },
     "metadata": {},
     "output_type": "display_data"
    },
    {
     "data": {
      "text/markdown": [
       "[![](http://s.newsweek.com/sites/www.newsweek.com/files/2017/07/25/north-korea-parades-missile.jpg)](http://www.newsweek.com/north-korea-threatens-strike-us-heart-powerful-nuclear-hammer-honed-and-641482)"
      ],
      "text/plain": [
       "<IPython.core.display.Markdown object>"
      ]
     },
     "metadata": {},
     "output_type": "display_data"
    },
    {
     "data": {
      "text/markdown": [
       "## Can Trump pardon himself? Governors and a drunk mayor have"
      ],
      "text/plain": [
       "<IPython.core.display.Markdown object>"
      ]
     },
     "metadata": {},
     "output_type": "display_data"
    },
    {
     "data": {
      "text/markdown": [
       "Before the state of Washington existed, the governor of the territory granted himself a pardon to avoid punishment for contempt of court."
      ],
      "text/plain": [
       "<IPython.core.display.Markdown object>"
      ]
     },
     "metadata": {},
     "output_type": "display_data"
    },
    {
     "data": {
      "text/markdown": [
       "[![](http://s.newsweek.com/sites/www.newsweek.com/files/2017/07/24/0724governorspardonedthemselves02.jpg)](http://www.newsweek.com/trump-granting-himself-pardon-governors-641150)"
      ],
      "text/plain": [
       "<IPython.core.display.Markdown object>"
      ]
     },
     "metadata": {},
     "output_type": "display_data"
    },
    {
     "data": {
      "text/markdown": [
       "## Jeff Sessions’s opponent on marijuana is a bit tougher than Trump"
      ],
      "text/plain": [
       "<IPython.core.display.Markdown object>"
      ]
     },
     "metadata": {},
     "output_type": "display_data"
    },
    {
     "data": {
      "text/markdown": [
       "The Super Bowl XXXIII champion Marvin Washington is one of five plaintiffs suing the attorney general over marijuana legislation."
      ],
      "text/plain": [
       "<IPython.core.display.Markdown object>"
      ]
     },
     "metadata": {},
     "output_type": "display_data"
    },
    {
     "data": {
      "text/markdown": [
       "[![](http://s.newsweek.com/sites/www.newsweek.com/files/2017/07/25/jeff-sessions.jpg)](http://www.newsweek.com/jeff-sessions-medical-marijuana-marvin-washington-641446)"
      ],
      "text/plain": [
       "<IPython.core.display.Markdown object>"
      ]
     },
     "metadata": {},
     "output_type": "display_data"
    },
    {
     "data": {
      "text/markdown": [
       "## New and biggest species of sunfish found in New Zealand after 130 years of searching"
      ],
      "text/plain": [
       "<IPython.core.display.Markdown object>"
      ]
     },
     "metadata": {},
     "output_type": "display_data"
    },
    {
     "data": {
      "text/markdown": [
       "The two-ton Hoodwinker sunfish doesn't have lumps, bumps or a snout, as other sunfish have."
      ],
      "text/plain": [
       "<IPython.core.display.Markdown object>"
      ]
     },
     "metadata": {},
     "output_type": "display_data"
    },
    {
     "data": {
      "text/markdown": [
       "[![](http://s.newsweek.com/sites/www.newsweek.com/files/2017/07/24/giant-sunfish-found-new-zealand-first-new-species-discovered-130-years.png)](http://www.newsweek.com/sunfish-new-zealand-new-species-hoodwinker-641194)"
      ],
      "text/plain": [
       "<IPython.core.display.Markdown object>"
      ]
     },
     "metadata": {},
     "output_type": "display_data"
    },
    {
     "data": {
      "text/markdown": [
       "# Associated Press"
      ],
      "text/plain": [
       "<IPython.core.display.Markdown object>"
      ]
     },
     "metadata": {},
     "output_type": "display_data"
    },
    {
     "data": {
      "text/markdown": [
       "## EZB-Niedrigzinsen schläfern Politiker ein: „Trügerische Sicherheit“: Bundesbank-Rechnung zeigt Desaster hinter Wirtschaftswunder"
      ],
      "text/plain": [
       "<IPython.core.display.Markdown object>"
      ]
     },
     "metadata": {},
     "output_type": "display_data"
    },
    {
     "data": {
      "text/markdown": [
       "Sparer ächzen unter den Niedrigzinsen. Für die Staaten im Euro-Raum erweist sich die ultralockere Geldpolitik der Europäischen Zentralbank dagegen als Segen. Und Banken greifen zunehmend zu einer kreativen Methode, um Strafzinsen fürs Parken von Geld zu entgehen."
      ],
      "text/plain": [
       "<IPython.core.display.Markdown object>"
      ]
     },
     "metadata": {},
     "output_type": "display_data"
    },
    {
     "data": {
      "text/markdown": [
       "[![](http://p5.focus.de/img/fotos/crop7389570/9682711911-w1200-h627-o-q75-p5/urn-newsml-dpa-com-20090101-170724-99-363024-large-4-3.jpg)](http://www.focus.de/finanzen/news/staatsverschuldung/niedrigzinsen-entlasten-euro-staaten-um-fast-eine-billion-bundesbank-rechnung-zeigt-so-zerbrechlich-ist-das-neue-deutsche-wirtschaftswunder_id_7394360.html)"
      ],
      "text/plain": [
       "<IPython.core.display.Markdown object>"
      ]
     },
     "metadata": {},
     "output_type": "display_data"
    },
    {
     "data": {
      "text/markdown": [
       "## Türkei-Präsident wirft Bundesregierung Spionage vor: Erdogan zu Steudtner: \"Agenten zerteilen mein Land\""
      ],
      "text/plain": [
       "<IPython.core.display.Markdown object>"
      ]
     },
     "metadata": {},
     "output_type": "display_data"
    },
    {
     "data": {
      "text/markdown": [
       "Recep Tayyip Erdogan hat Spionagevorwürfe gegen die Bundesregierung erhoben. Vor dem Parlament in Ankara spricht der türkische Staatspräsident von Agenten, die sich in den Hotels tummeln und sein Land zerteilen."
      ],
      "text/plain": [
       "<IPython.core.display.Markdown object>"
      ]
     },
     "metadata": {},
     "output_type": "display_data"
    },
    {
     "data": {
      "text/markdown": [
       "[![](http://p5.focus.de/img/fotos/crop7396345/78427145-w1200-h627-o-q75-p5/erdogan.jpg)](http://www.focus.de/politik/videos/tuerkei-praesident-wirft-bundesregierung-spionage-vor-erdogan-zu-steudtner-agenten-zerteilen-mein-land_id_7396271.html)"
      ],
      "text/plain": [
       "<IPython.core.display.Markdown object>"
      ]
     },
     "metadata": {},
     "output_type": "display_data"
    },
    {
     "data": {
      "text/markdown": [
       "## FC Bayern schlägt Chelsea in Singapur : Müller trifft doppelt: Münchner machen Milan-Debakel vergessen"
      ],
      "text/plain": [
       "<IPython.core.display.Markdown object>"
      ]
     },
     "metadata": {},
     "output_type": "display_data"
    },
    {
     "data": {
      "text/markdown": [
       "Nach dem 0:4-Debakel gegen den AC Mailand meldet sich der deutsche Rekordmeister eindrucksvoll zurück. In Singapur bezwingt der FC Bayern England-Meister FC Chelsea verdient. Vor allem Thomas Müller tankt Selbstvertrauen für die kommenden Wochen."
      ],
      "text/plain": [
       "<IPython.core.display.Markdown object>"
      ]
     },
     "metadata": {},
     "output_type": "display_data"
    },
    {
     "data": {
      "text/markdown": [
       "[![](http://p5.focus.de/img/fotos/crop7396453/3602717205-w1200-h627-o-q75-p5/bayern-chelsea.jpg)](http://www.focus.de/sport/fussball/fc-bayern-gegen-fc-chelsea-im-live-ticker-muenchner-muessen-in-singapur-wiedergutmachung-leisten_id_7394664.html)"
      ],
      "text/plain": [
       "<IPython.core.display.Markdown object>"
      ]
     },
     "metadata": {},
     "output_type": "display_data"
    },
    {
     "data": {
      "text/markdown": [
       "## Europa war nie das Ziel: Studie zeigt deutlich: Mehrheit der Afrikaner flieht wegen schlimmer Lebensbedingungen"
      ],
      "text/plain": [
       "<IPython.core.display.Markdown object>"
      ]
     },
     "metadata": {},
     "output_type": "display_data"
    },
    {
     "data": {
      "text/markdown": [
       "Sie wollten nie nach Europa und traten dennoch den lebensgefährlichen Weg nach Italien an: Eine Studie zeigt nun, dass viele afrikanische Jugendliche vor ihren erschreckenden Lebensumständen fliehen mussten - oft, ohne das Wissen ihrer Familien. „Wenn der Löwe hinter dir steht und das Meer vor dir liegt, gehst du auf's Meer“, erklärte etwa ein Jugendlicher."
      ],
      "text/plain": [
       "<IPython.core.display.Markdown object>"
      ]
     },
     "metadata": {},
     "output_type": "display_data"
    },
    {
     "data": {
      "text/markdown": [
       "[![](http://p5.focus.de/img/fotos/crop7397278/3162715934-w1200-h627-o-q75-p5/5977373ce4b08a9b6c81ea2e-568x320-1-jul-25-2017-13-32-53-poster.jpg)](http://www.focus.de/politik/videos/europa-war-nie-das-ziel-afrikanische-jugendliche-fluechten-nach-europa-um-aussichtslosigkeit-zu-entkommen_id_7397279.html)"
      ],
      "text/plain": [
       "<IPython.core.display.Markdown object>"
      ]
     },
     "metadata": {},
     "output_type": "display_data"
    },
    {
     "data": {
      "text/markdown": [
       "## Günstige Finanzierung sichern: Drei Wege, wie sich Hausbesitzer jetzt vor der Zinswende retten"
      ],
      "text/plain": [
       "<IPython.core.display.Markdown object>"
      ]
     },
     "metadata": {},
     "output_type": "display_data"
    },
    {
     "data": {
      "text/markdown": [
       "Die Zinswende ist eingeläutet. Schon erhöhen erste Banken die Zinsen. Für Hausbesitzer, deren Finanzierung in den kommenden Jahren ausläuft, könnten Anschlusskredite dadurch deutlich teurer werden als geplant. FOCUS Online erklärt, wie Sie Ihr Darlehen jetzt am besten absichern."
      ],
      "text/plain": [
       "<IPython.core.display.Markdown object>"
      ]
     },
     "metadata": {},
     "output_type": "display_data"
    },
    {
     "data": {
      "text/markdown": [
       "[![](http://p5.focus.de/img/fotos/crop430658/2452712509-w1200-h627-o-q75-p5/traumhaus5-colourbox.jpg)](http://www.focus.de/immobilien/finanzieren/guenstige-finanzierung-sichern-drei-wege-wie-sich-hausbesitzer-jetzt-vor-der-zinswende-retten_id_7395833.html)"
      ],
      "text/plain": [
       "<IPython.core.display.Markdown object>"
      ]
     },
     "metadata": {},
     "output_type": "display_data"
    },
    {
     "data": {
      "text/markdown": [
       "## Gastbeitrag von Ralph Ghadban: Es wird eng für die kriminellen Clans"
      ],
      "text/plain": [
       "<IPython.core.display.Markdown object>"
      ]
     },
     "metadata": {},
     "output_type": "display_data"
    },
    {
     "data": {
      "text/markdown": [
       "Gegen die Stimmen der Linken und der Grünen haben die CDU/CSU und die SPD das „Gesetz zur Reform der strafrechtlichen Vermögensabschöpfung“ verabschiedet. Es trifft den Nerv. Denn kriminelle Clans haben in der Vergangenheit eine völlig neue Funktion entwickelt, der das neue Gesetz nun entgegenwirkt."
      ],
      "text/plain": [
       "<IPython.core.display.Markdown object>"
      ]
     },
     "metadata": {},
     "output_type": "display_data"
    },
    {
     "data": {
      "text/markdown": [
       "[![](http://p5.focus.de/img/incoming/crop5094303/7562713647-w1200-h627-o-q75-p5/kriminalitaet-in-dui-47378943.jpg)](http://www.focus.de/politik/experten/ghadban/gastbeitrag-von-ralph-ghadban-es-wird-eng-fuer-die-kriminellen-clans_id_7396061.html)"
      ],
      "text/plain": [
       "<IPython.core.display.Markdown object>"
      ]
     },
     "metadata": {},
     "output_type": "display_data"
    },
    {
     "data": {
      "text/markdown": [
       "## Angst vor Nordkoreas Raketen: Hawaii-Regierung gibt Bürgern Anweisung, wie sie sich vor Kims Atombomben schützen sollen"
      ],
      "text/plain": [
       "<IPython.core.display.Markdown object>"
      ]
     },
     "metadata": {},
     "output_type": "display_data"
    },
    {
     "data": {
      "text/markdown": [
       "Nachdem das Regime in Pjöngjang erfolgreich eine Langstreckenrakete getestet hat, wächst in den USA die Angst vor einem Atomangriff der Nordkoreaner. Der US-Bundesstaat Hawaii trifft ganz konkrete Vorkehrungen - und gibt seinen Einwohnern Tipps an die Hand, die im Ernstfall ihr Leben retten soll."
      ],
      "text/plain": [
       "<IPython.core.display.Markdown object>"
      ]
     },
     "metadata": {},
     "output_type": "display_data"
    },
    {
     "data": {
      "text/markdown": [
       "[![](http://p5.focus.de/img/fotos/crop7396326/0512719370-w1200-h627-o-q75-p5/59770f1ee4b08a9b6c81e939-568x320-1-jul-25-2017-11-35-59-poster.jpg)](http://www.focus.de/politik/videos/hawaii-regierung-empfiehlt-so-sollen-sich-buerger-vor-nordkoreas-atombomben-schuetzen_id_7396327.html)"
      ],
      "text/plain": [
       "<IPython.core.display.Markdown object>"
      ]
     },
     "metadata": {},
     "output_type": "display_data"
    },
    {
     "data": {
      "text/markdown": [
       "## Neues Handy bei Aldi: Hier halten Nord und Süd zusammen"
      ],
      "text/plain": [
       "<IPython.core.display.Markdown object>"
      ]
     },
     "metadata": {},
     "output_type": "display_data"
    },
    {
     "data": {
      "text/markdown": [
       "Aldi verkauft ab Donnerstag, den 27. Juli, das Android-Smartphone Huawei Y6 2017. Der Preis liegt bei attraktiven 149 Euro. Wer will, nutzt das beiliegende Aldi-Talk Starter-Set im Wert von 10 Euro."
      ],
      "text/plain": [
       "<IPython.core.display.Markdown object>"
      ]
     },
     "metadata": {},
     "output_type": "display_data"
    },
    {
     "data": {
      "text/markdown": [
       "[![](http://www.chip.de/ii/5/8/3/2/2/7/3/7/2bef09ecb057a3dc.jpeg)](http://www.chip.de/news/Neues-Handy-bei-Aldi-Hier-halten-Nord-und-Sued-zusammen_107552086.html)"
      ],
      "text/plain": [
       "<IPython.core.display.Markdown object>"
      ]
     },
     "metadata": {},
     "output_type": "display_data"
    },
    {
     "data": {
      "text/markdown": [
       "## +++ iPhone 8 im News-Ticker +++: Astronomisch hoher Preis: Das iPhone 8 wird wohl so teuer wie nie"
      ],
      "text/plain": [
       "<IPython.core.display.Markdown object>"
      ]
     },
     "metadata": {},
     "output_type": "display_data"
    },
    {
     "data": {
      "text/markdown": [
       "Im Herbst will Apple - genau zehn Jahre nach dem ersten Apple-Smartphone der Geschichte - sein Jubiläums-iPhone präsentieren. Im News-Ticker von FOCUS Online lesen Sie alles Aktuelle zu heißen Gerüchten bis zum Release des iPhone 8."
      ],
      "text/plain": [
       "<IPython.core.display.Markdown object>"
      ]
     },
     "metadata": {},
     "output_type": "display_data"
    },
    {
     "data": {
      "text/markdown": [
       "[![](http://p5.focus.de/img/fotos/crop7202977/5302711616-w1200-h627-o-q75-p5/urn-newsml-dpa-com-20090101-170601-99-679564-large-4-3.jpg)](http://www.focus.de/digital/handy/iphone/iphone-8-im-news-ticker-astronomisch-hoher-preis-die-wichtigsten-infos-sind-jetzt-bekannt_id_7395318.html)"
      ],
      "text/plain": [
       "<IPython.core.display.Markdown object>"
      ]
     },
     "metadata": {},
     "output_type": "display_data"
    },
    {
     "data": {
      "text/markdown": [
       "## Videoüberwachungsschild und Wachdienst: Auf Wunsch seiner Witwe: Sicherheitsvorkehrungen an Kohls Grab verschärft"
      ],
      "text/plain": [
       "<IPython.core.display.Markdown object>"
      ]
     },
     "metadata": {},
     "output_type": "display_data"
    },
    {
     "data": {
      "text/markdown": [
       "Die Witwe von Helmut Kohl sorgt sich offenbar um die Sicherheit seines Grabes in Speyer. Mittlerweile weist dort ein Schild auf eine Überwachung per Video hin. Das ist aber längst nicht die einzige Maßnahme, mit der sie jetzt für Ordnung sorgen will."
      ],
      "text/plain": [
       "<IPython.core.display.Markdown object>"
      ]
     },
     "metadata": {},
     "output_type": "display_data"
    },
    {
     "data": {
      "text/markdown": [
       "[![](http://p5.focus.de/img/fotos/crop7307545/9512716718-w1200-h627-o-q75-p5/1495c4005e66c6ac-1-.jpg)](http://www.focus.de/politik/deutschland/videoueberwachungsschild-und-wachdienst-auf-wunsch-seiner-witwe-sicherheitsvorkehrungen-an-kohls-grab-verschaerft_id_7397284.html)"
      ],
      "text/plain": [
       "<IPython.core.display.Markdown object>"
      ]
     },
     "metadata": {},
     "output_type": "display_data"
    },
    {
     "data": {
      "text/markdown": [
       "# The Huffington Post"
      ],
      "text/plain": [
       "<IPython.core.display.Markdown object>"
      ]
     },
     "metadata": {},
     "output_type": "display_data"
    },
    {
     "data": {
      "text/markdown": [
       "## Tory MPs call for action to avert post-Brexit ports gridlock"
      ],
      "text/plain": [
       "<IPython.core.display.Markdown object>"
      ]
     },
     "metadata": {},
     "output_type": "display_data"
    },
    {
     "data": {
      "text/markdown": [
       "Backbenchers say customs checks need to be improved, roads widened and projects such as new Thames crossing speeded up"
      ],
      "text/plain": [
       "<IPython.core.display.Markdown object>"
      ]
     },
     "metadata": {},
     "output_type": "display_data"
    },
    {
     "data": {
      "text/markdown": [
       "[![](https://i.guim.co.uk/img/media/624dd7f732bc71fffc2e6acf7b7009d1d325c496/231_0_3269_1961/master/3269.jpg?w=1200&h=630&q=55&auto=format&usm=12&fit=crop&crop=faces%2Centropy&bm=normal&ba=bottom%2Cleft&blend64=aHR0cHM6Ly91cGxvYWRzLmd1aW0uY28udWsvMjAxNi8wNS8yNS9vdmVybGF5LWxvZ28tMTIwMC05MF9vcHQucG5n&s=d06995b81815181771094cd1ae263976)](https://www.theguardian.com/politics/2017/jul/25/tory-mps-call-for-action-to-avert-post-brexit-ports-gridlock)"
      ],
      "text/plain": [
       "<IPython.core.display.Markdown object>"
      ]
     },
     "metadata": {},
     "output_type": "display_data"
    },
    {
     "data": {
      "text/markdown": [
       "## Charlie Gard's mother returns to court to ask to let him die at home"
      ],
      "text/plain": [
       "<IPython.core.display.Markdown object>"
      ]
     },
     "metadata": {},
     "output_type": "display_data"
    },
    {
     "data": {
      "text/markdown": [
       "A day after ending five-month legal battle, Connie Yates asks court to decide where critically ill boy will spend final moments"
      ],
      "text/plain": [
       "<IPython.core.display.Markdown object>"
      ]
     },
     "metadata": {},
     "output_type": "display_data"
    },
    {
     "data": {
      "text/markdown": [
       "[![](https://i.guim.co.uk/img/media/85427d753dc4ae2bd37d9c1f871529efec19ea95/0_27_2496_1498/master/2496.jpg?w=1200&h=630&q=55&auto=format&usm=12&fit=crop&crop=faces%2Centropy&bm=normal&ba=bottom%2Cleft&blend64=aHR0cHM6Ly91cGxvYWRzLmd1aW0uY28udWsvMjAxNi8wNS8yNS9vdmVybGF5LWxvZ28tMTIwMC05MF9vcHQucG5n&s=0de7cc6bdd88785b750251f1e0a25d87)](https://www.theguardian.com/uk-news/2017/jul/25/charlie-gard-connie-yates-asks-court-die-at-home)"
      ],
      "text/plain": [
       "<IPython.core.display.Markdown object>"
      ]
     },
     "metadata": {},
     "output_type": "display_data"
    },
    {
     "data": {
      "text/markdown": [
       "## Corbyn joins calls to reclaim UK pseudo-public space from corporate owners"
      ],
      "text/plain": [
       "<IPython.core.display.Markdown object>"
      ]
     },
     "metadata": {},
     "output_type": "display_data"
    },
    {
     "data": {
      "text/markdown": [
       "Labour leader among those voicing concern after Guardian revealed secretive world of privately owned public spaces in London"
      ],
      "text/plain": [
       "<IPython.core.display.Markdown object>"
      ]
     },
     "metadata": {},
     "output_type": "display_data"
    },
    {
     "data": {
      "text/markdown": [
       "[![](https://i.guim.co.uk/img/media/23bed8c3c1a37f25a2d769e0f5c124be8b290f08/0_181_4960_2976/master/4960.jpg?w=1200&h=630&q=55&auto=format&usm=12&fit=crop&crop=faces%2Centropy&bm=normal&ba=bottom%2Cleft&blend64=aHR0cHM6Ly91cGxvYWRzLmd1aW0uY28udWsvMjAxNi8wNS8yNS9vdmVybGF5LWxvZ28tMTIwMC05MF9vcHQucG5n&s=46e403541729ac16e141afb535e59046)](https://www.theguardian.com/cities/2017/jul/25/corbyn-joins-calls-reclaim-uk-public-space-from-corporate-owners)"
      ],
      "text/plain": [
       "<IPython.core.display.Markdown object>"
      ]
     },
     "metadata": {},
     "output_type": "display_data"
    },
    {
     "data": {
      "text/markdown": [
       "## Trump denounces Jeff Sessions for being 'weak' on Hillary Clinton"
      ],
      "text/plain": [
       "<IPython.core.display.Markdown object>"
      ]
     },
     "metadata": {},
     "output_type": "display_data"
    },
    {
     "data": {
      "text/markdown": [
       "On Twitter Trump criticized the investigation into Russian meddling into last year’s US election and slammed the attorney general for not investigating Clinton"
      ],
      "text/plain": [
       "<IPython.core.display.Markdown object>"
      ]
     },
     "metadata": {},
     "output_type": "display_data"
    },
    {
     "data": {
      "text/markdown": [
       "[![](https://i.guim.co.uk/img/media/8a2ae2c3a545a9c26fea9025b423067db99a89b2/0_0_5157_3094/master/5157.jpg?w=1200&h=630&q=55&auto=format&usm=12&fit=crop&crop=faces%2Centropy&bm=normal&ba=bottom%2Cleft&blend64=aHR0cHM6Ly91cGxvYWRzLmd1aW0uY28udWsvMjAxNi8wNS8yNS9vdmVybGF5LWxvZ28tMTIwMC05MF9vcHQucG5n&s=6ebee60c04c5a7834aa198a157a4babc)](https://www.theguardian.com/us-news/2017/jul/25/donald-trump-jeff-sessions-weak-on-hillary-clinton-twitter-russia)"
      ],
      "text/plain": [
       "<IPython.core.display.Markdown object>"
      ]
     },
     "metadata": {},
     "output_type": "display_data"
    },
    {
     "data": {
      "text/markdown": [
       "## France raises hopes of deal between Libyan rival factions"
      ],
      "text/plain": [
       "<IPython.core.display.Markdown object>"
      ]
     },
     "metadata": {},
     "output_type": "display_data"
    },
    {
     "data": {
      "text/markdown": [
       "Draft document says Elysée hopes Libyan PM and eastern commander will agree to truce and to work towards elections"
      ],
      "text/plain": [
       "<IPython.core.display.Markdown object>"
      ]
     },
     "metadata": {},
     "output_type": "display_data"
    },
    {
     "data": {
      "text/markdown": [
       "[![](https://i.guim.co.uk/img/media/5ef9016f8b5d6d35d5a275658f3fa6653f2a0444/973_13_2657_1594/master/2657.jpg?w=1200&h=630&q=55&auto=format&usm=12&fit=crop&crop=faces%2Centropy&bm=normal&ba=bottom%2Cleft&blend64=aHR0cHM6Ly91cGxvYWRzLmd1aW0uY28udWsvMjAxNi8wNS8yNS9vdmVybGF5LWxvZ28tMTIwMC05MF9vcHQucG5n&s=dcd026956699b77ec0c36c4517f5d82c)](https://www.theguardian.com/world/2017/jul/25/france-raises-hopes-of-deal-between-libyan-rival-factions)"
      ],
      "text/plain": [
       "<IPython.core.display.Markdown object>"
      ]
     },
     "metadata": {},
     "output_type": "display_data"
    },
    {
     "data": {
      "text/markdown": [
       "## Soaring NHS vacancies prompt warnings of 'desperate' understaffing"
      ],
      "text/plain": [
       "<IPython.core.display.Markdown object>"
      ]
     },
     "metadata": {},
     "output_type": "display_data"
    },
    {
     "data": {
      "text/markdown": [
       "Data from NHS Digital shows number of available posts rose 12% over last year, and highlights shrinking nursing workforce"
      ],
      "text/plain": [
       "<IPython.core.display.Markdown object>"
      ]
     },
     "metadata": {},
     "output_type": "display_data"
    },
    {
     "data": {
      "text/markdown": [
       "[![](https://i.guim.co.uk/img/media/6813e58ab11d5a717be90fa1e190f2f3e102d76d/66_0_3368_2021/master/3368.jpg?w=1200&h=630&q=55&auto=format&usm=12&fit=crop&crop=faces%2Centropy&bm=normal&ba=bottom%2Cleft&blend64=aHR0cHM6Ly91cGxvYWRzLmd1aW0uY28udWsvMjAxNi8wNS8yNS9vdmVybGF5LWxvZ28tMTIwMC05MF9vcHQucG5n&s=8751c396ac2ddfafbf0ccfc3887730e8)](https://www.theguardian.com/society/2017/jul/25/soaring-nhs-vacancies-prompt-warnings-of-understaffing-nursing)"
      ],
      "text/plain": [
       "<IPython.core.display.Markdown object>"
      ]
     },
     "metadata": {},
     "output_type": "display_data"
    },
    {
     "data": {
      "text/markdown": [
       "## UK factory output grows at fastest rate since mid-1990s"
      ],
      "text/plain": [
       "<IPython.core.display.Markdown object>"
      ]
     },
     "metadata": {},
     "output_type": "display_data"
    },
    {
     "data": {
      "text/markdown": [
       "CBI survey shows manufacturers upping production and feeling optimistic about future orders due to weaker sterling"
      ],
      "text/plain": [
       "<IPython.core.display.Markdown object>"
      ]
     },
     "metadata": {},
     "output_type": "display_data"
    },
    {
     "data": {
      "text/markdown": [
       "[![](https://i.guim.co.uk/img/media/dbb0dae586fe76cf3bec643a0a35d3c79950f26b/0_141_4000_2400/master/4000.jpg?w=1200&h=630&q=55&auto=format&usm=12&fit=crop&crop=faces%2Centropy&bm=normal&ba=bottom%2Cleft&blend64=aHR0cHM6Ly91cGxvYWRzLmd1aW0uY28udWsvMjAxNi8wNS8yNS9vdmVybGF5LWxvZ28tMTIwMC05MF9vcHQucG5n&s=aa189aa912e22176bf328c8fc59d9a8c)](https://www.theguardian.com/business/2017/jul/25/uk-factory-output-grows-fastest-rate-since-mid-1990s)"
      ],
      "text/plain": [
       "<IPython.core.display.Markdown object>"
      ]
     },
     "metadata": {},
     "output_type": "display_data"
    },
    {
     "data": {
      "text/markdown": [
       "## Quarter of personal loan applicants 'seeking half their annual salary'"
      ],
      "text/plain": [
       "<IPython.core.display.Markdown object>"
      ]
     },
     "metadata": {},
     "output_type": "display_data"
    },
    {
     "data": {
      "text/markdown": [
       "Analysis of inquiries to MoneySuperMarket found that 10% of applicants wanted to borrow more than their annual income"
      ],
      "text/plain": [
       "<IPython.core.display.Markdown object>"
      ]
     },
     "metadata": {},
     "output_type": "display_data"
    },
    {
     "data": {
      "text/markdown": [
       "[![](https://i.guim.co.uk/img/media/4d1ea452b17a92aa9fcbd4d99d7622def913afa3/0_284_5616_3370/master/5616.jpg?w=1200&h=630&q=55&auto=format&usm=12&fit=crop&crop=faces%2Centropy&bm=normal&ba=bottom%2Cleft&blend64=aHR0cHM6Ly91cGxvYWRzLmd1aW0uY28udWsvMjAxNi8wNS8yNS9vdmVybGF5LWxvZ28tMTIwMC05MF9vcHQucG5n&s=12db911314c5b29eef5dbd980338042e)](https://www.theguardian.com/money/2017/jul/25/quarter-of-personal-loan-applicants-seeking-half-their-annual-salary)"
      ],
      "text/plain": [
       "<IPython.core.display.Markdown object>"
      ]
     },
     "metadata": {},
     "output_type": "display_data"
    },
    {
     "data": {
      "text/markdown": [
       "## Man who killed five-year-old boy in London park jailed for life"
      ],
      "text/plain": [
       "<IPython.core.display.Markdown object>"
      ]
     },
     "metadata": {},
     "output_type": "display_data"
    },
    {
     "data": {
      "text/markdown": [
       "Marvyn Iheanacho subjected girlfriend’s son Alex Malcolm to brutal attack in Catford after the boy lost a trainer"
      ],
      "text/plain": [
       "<IPython.core.display.Markdown object>"
      ]
     },
     "metadata": {},
     "output_type": "display_data"
    },
    {
     "data": {
      "text/markdown": [
       "[![](https://i.guim.co.uk/img/media/b9c683b18e5da96aeca041d493596a3285abdd22/0_674_1600_960/master/1600.jpg?w=1200&h=630&q=55&auto=format&usm=12&fit=crop&crop=faces%2Centropy&bm=normal&ba=bottom%2Cleft&blend64=aHR0cHM6Ly91cGxvYWRzLmd1aW0uY28udWsvMjAxNi8wNS8yNS9vdmVybGF5LWxvZ28tMTIwMC05MF9vcHQucG5n&s=6cf986b3bec71f57ce9442eca475f94c)](https://www.theguardian.com/uk-news/2017/jul/25/man-who-killed-five-year-old-boy-london-jailed-for-life-marvyn-iheanacho)"
      ],
      "text/plain": [
       "<IPython.core.display.Markdown object>"
      ]
     },
     "metadata": {},
     "output_type": "display_data"
    },
    {
     "data": {
      "text/markdown": [
       "## Music, video and games growth doubles in UK – helped by Ed Sheeran"
      ],
      "text/plain": [
       "<IPython.core.display.Markdown object>"
      ]
     },
     "metadata": {},
     "output_type": "display_data"
    },
    {
     "data": {
      "text/markdown": [
       "Singer’s Divide album is bestselling product this year as entertainment industry reports rising revenue"
      ],
      "text/plain": [
       "<IPython.core.display.Markdown object>"
      ]
     },
     "metadata": {},
     "output_type": "display_data"
    },
    {
     "data": {
      "text/markdown": [
       "[![](https://i.guim.co.uk/img/media/b6d30f084b166a748ca9bafbd29ea4104eced2ae/0_48_3616_2171/master/3616.jpg?w=1200&h=630&q=55&auto=format&usm=12&fit=crop&crop=faces%2Centropy&bm=normal&ba=bottom%2Cleft&blend64=aHR0cHM6Ly91cGxvYWRzLmd1aW0uY28udWsvMjAxNi8wNS8yNS9vdmVybGF5LWxvZ28tMTIwMC05MF9vcHQucG5n&s=3ebe202ff95c1c7eb35640a7080875dd)](https://www.theguardian.com/business/2017/jul/25/music-video-and-games-growth-doubles-in-uk-helped-by-ed-sheeran)"
      ],
      "text/plain": [
       "<IPython.core.display.Markdown object>"
      ]
     },
     "metadata": {},
     "output_type": "display_data"
    },
    {
     "data": {
      "text/markdown": [
       "# The Washington Post"
      ],
      "text/plain": [
       "<IPython.core.display.Markdown object>"
      ]
     },
     "metadata": {},
     "output_type": "display_data"
    }
   ],
   "source": [
    "\n",
    "business_source_ids = set([source['id'] for source in sources_doc if source['category']==cat.value])\n",
    "business_source_names = set([source['name'] for source in sources_doc if source['category']==cat.value])\n",
    "\n",
    "for i, name in zip(business_source_ids, business_source_names):\n",
    "    printmd('# ' + name)\n",
    "    apiMdOutput(source = i);"
   ]
  },
  {
   "cell_type": "code",
   "execution_count": 37,
   "metadata": {},
   "outputs": [
    {
     "data": {
      "text/markdown": [
       "# ABC News (AU)"
      ],
      "text/plain": [
       "<IPython.core.display.Markdown object>"
      ]
     },
     "metadata": {},
     "output_type": "display_data"
    },
    {
     "data": {
      "text/markdown": [
       "## Charlie Gard's parents want to take him home to die"
      ],
      "text/plain": [
       "<IPython.core.display.Markdown object>"
      ]
     },
     "metadata": {},
     "output_type": "display_data"
    },
    {
     "data": {
      "text/markdown": [
       "A day after they abandoned their legal fight to take him to the US for experimental treatment"
      ],
      "text/plain": [
       "<IPython.core.display.Markdown object>"
      ]
     },
     "metadata": {},
     "output_type": "display_data"
    },
    {
     "data": {
      "text/markdown": [
       "[![](https://metrouk2.files.wordpress.com/2017/07/prc_47663686.jpg?quality=80&strip=all&w=1200&h=630&crop=1)](http://metro.co.uk/2017/07/25/charlie-gards-parents-want-to-take-him-home-to-die-6804941/)"
      ],
      "text/plain": [
       "<IPython.core.display.Markdown object>"
      ]
     },
     "metadata": {},
     "output_type": "display_data"
    },
    {
     "data": {
      "text/markdown": [
       "## Charlie Gard court case still isn't over as lawyers return to the High Court"
      ],
      "text/plain": [
       "<IPython.core.display.Markdown object>"
      ]
     },
     "metadata": {},
     "output_type": "display_data"
    },
    {
     "data": {
      "text/markdown": [
       "His parents have said they want to 'spend their last precious moments' with Charlie"
      ],
      "text/plain": [
       "<IPython.core.display.Markdown object>"
      ]
     },
     "metadata": {},
     "output_type": "display_data"
    },
    {
     "data": {
      "text/markdown": [
       "[![](https://metrouk2.files.wordpress.com/2017/07/prc_47663686.jpg?quality=80&strip=all&w=1200&h=630&crop=1)](http://metro.co.uk/2017/07/25/charlie-gard-court-case-still-isnt-over-as-lawyers-return-to-the-high-court-today-6804367/)"
      ],
      "text/plain": [
       "<IPython.core.display.Markdown object>"
      ]
     },
     "metadata": {},
     "output_type": "display_data"
    },
    {
     "data": {
      "text/markdown": [
       "## Liam Fox challenged to eat chlorine-washed chicken on live TV"
      ],
      "text/plain": [
       "<IPython.core.display.Markdown object>"
      ]
     },
     "metadata": {},
     "output_type": "display_data"
    },
    {
     "data": {
      "text/markdown": [
       "'The choice of recipe is up to him, but one serving suggestion might be Chlorination Chicken.'"
      ],
      "text/plain": [
       "<IPython.core.display.Markdown object>"
      ]
     },
     "metadata": {},
     "output_type": "display_data"
    },
    {
     "data": {
      "text/markdown": [
       "[![](http://i2.wp.com/metrouk2.files.wordpress.com/2017/07/prc_47647429.jpg?crop=0px%2C0px%2C1200px%2C630px&resize=1200%2C630&quality=80&strip=all&ssl=1)](http://metro.co.uk/2017/07/25/liam-fox-challenged-to-eat-chlorine-washed-chicken-on-live-tv-6803630/)"
      ],
      "text/plain": [
       "<IPython.core.display.Markdown object>"
      ]
     },
     "metadata": {},
     "output_type": "display_data"
    },
    {
     "data": {
      "text/markdown": [
       "## What is chlorine-washed chicken (and why is it banned)?"
      ],
      "text/plain": [
       "<IPython.core.display.Markdown object>"
      ]
     },
     "metadata": {},
     "output_type": "display_data"
    },
    {
     "data": {
      "text/markdown": [
       "We might be getting it in the UK thanks to Brexit."
      ],
      "text/plain": [
       "<IPython.core.display.Markdown object>"
      ]
     },
     "metadata": {},
     "output_type": "display_data"
    },
    {
     "data": {
      "text/markdown": [
       "[![](http://i0.wp.com/metrouk2.files.wordpress.com/2017/07/aw-chlorine-fried-chicken.jpg?crop=0px%2C108px%2C1200px%2C630px&resize=1200%2C630&quality=80&strip=all&ssl=1)](http://metro.co.uk/2017/07/25/what-is-chlorine-washed-chicken-and-why-is-it-banned-6803564/)"
      ],
      "text/plain": [
       "<IPython.core.display.Markdown object>"
      ]
     },
     "metadata": {},
     "output_type": "display_data"
    },
    {
     "data": {
      "text/markdown": [
       "## Terrifying moment naked man 'high on acid' is arrested after 'chopping off penis'"
      ],
      "text/plain": [
       "<IPython.core.display.Markdown object>"
      ]
     },
     "metadata": {},
     "output_type": "display_data"
    },
    {
     "data": {
      "text/markdown": [
       "WARNING: Graphic content"
      ],
      "text/plain": [
       "<IPython.core.display.Markdown object>"
      ]
     },
     "metadata": {},
     "output_type": "display_data"
    },
    {
     "data": {
      "text/markdown": [
       "[![](http://i1.wp.com/metrouk2.files.wordpress.com/2017/07/arrest-6-1.jpg?crop=0px%2C0px%2C1200px%2C630px&resize=1200%2C630&quality=80&strip=all&ssl=1)](http://metro.co.uk/2017/07/25/terrifying-moment-naked-man-high-on-acid-is-arrested-after-chopping-off-penis-6804619/)"
      ],
      "text/plain": [
       "<IPython.core.display.Markdown object>"
      ]
     },
     "metadata": {},
     "output_type": "display_data"
    },
    {
     "data": {
      "text/markdown": [
       "## How many of these laws have you broken in the last year?"
      ],
      "text/plain": [
       "<IPython.core.display.Markdown object>"
      ]
     },
     "metadata": {},
     "output_type": "display_data"
    },
    {
     "data": {
      "text/markdown": [
       "Sung or chanted a crude football chant in the street? Used someone else’s Wi-Fi without them knowing?"
      ],
      "text/plain": [
       "<IPython.core.display.Markdown object>"
      ]
     },
     "metadata": {},
     "output_type": "display_data"
    },
    {
     "data": {
      "text/markdown": [
       "[![](http://i1.wp.com/metrouk2.files.wordpress.com/2017/07/200014615-001-e1500974882360.jpg?crop=0px%2C900px%2C2809px%2C1476px&resize=1200%2C630&quality=80&strip=all&ssl=1)](http://metro.co.uk/2017/07/25/how-many-of-these-laws-have-you-broken-in-the-last-year-6803780/)"
      ],
      "text/plain": [
       "<IPython.core.display.Markdown object>"
      ]
     },
     "metadata": {},
     "output_type": "display_data"
    },
    {
     "data": {
      "text/markdown": [
       "## Mike Tyson makes severe Floyd Mayweather v Conor McGregor prediction"
      ],
      "text/plain": [
       "<IPython.core.display.Markdown object>"
      ]
     },
     "metadata": {},
     "output_type": "display_data"
    },
    {
     "data": {
      "text/markdown": [
       "Former world heavyweight champion thinks someone will be killed."
      ],
      "text/plain": [
       "<IPython.core.display.Markdown object>"
      ]
     },
     "metadata": {},
     "output_type": "display_data"
    },
    {
     "data": {
      "text/markdown": [
       "[![](https://metrouk2.files.wordpress.com/2017/07/814473650.jpg?quality=80&strip=all)](http://metro.co.uk/2017/07/25/dumb-conor-mcgregor-will-be-killed-by-floyd-mayweather-predicts-mike-tyson-6804042/)"
      ],
      "text/plain": [
       "<IPython.core.display.Markdown object>"
      ]
     },
     "metadata": {},
     "output_type": "display_data"
    },
    {
     "data": {
      "text/markdown": [
       "## Pictured: Victim of 'honour killing because she went out with a Muslim Arab'"
      ],
      "text/plain": [
       "<IPython.core.display.Markdown object>"
      ]
     },
     "metadata": {},
     "output_type": "display_data"
    },
    {
     "data": {
      "text/markdown": [
       "Celine Dookhran, an Indian Muslim, is believed to have started dating an Arab Muslim."
      ],
      "text/plain": [
       "<IPython.core.display.Markdown object>"
      ]
     },
     "metadata": {},
     "output_type": "display_data"
    },
    {
     "data": {
      "text/markdown": [
       "[![](http://i2.wp.com/metrouk2.files.wordpress.com/2017/07/prc_47640917.jpg?crop=0px%2C0px%2C1200px%2C630px&resize=1200%2C630&quality=80&strip=all&ssl=1)](http://metro.co.uk/2017/07/25/pictured-teenager-kidnapped-raped-and-murdered-in-honour-killing-6803485/)"
      ],
      "text/plain": [
       "<IPython.core.display.Markdown object>"
      ]
     },
     "metadata": {},
     "output_type": "display_data"
    },
    {
     "data": {
      "text/markdown": [
       "## Mother pictured 'smoking a bong' while breastfeeding"
      ],
      "text/plain": [
       "<IPython.core.display.Markdown object>"
      ]
     },
     "metadata": {},
     "output_type": "display_data"
    },
    {
     "data": {
      "text/markdown": [
       "The picture has caused anger on Facebook."
      ],
      "text/plain": [
       "<IPython.core.display.Markdown object>"
      ]
     },
     "metadata": {},
     "output_type": "display_data"
    },
    {
     "data": {
      "text/markdown": [
       "[![](https://metrouk2.files.wordpress.com/2017/07/baby2.jpg?quality=80&strip=all&w=1200&h=630&crop=1)](http://metro.co.uk/2017/07/25/mother-pictured-breastfeeding-while-smoking-a-bong-6803432/)"
      ],
      "text/plain": [
       "<IPython.core.display.Markdown object>"
      ]
     },
     "metadata": {},
     "output_type": "display_data"
    },
    {
     "data": {
      "text/markdown": [
       "## Police agree to stop refilling tip after Corrie McKeague's dad blocked entrance"
      ],
      "text/plain": [
       "<IPython.core.display.Markdown object>"
      ]
     },
     "metadata": {},
     "output_type": "display_data"
    },
    {
     "data": {
      "text/markdown": [
       "Police had been filling in the landfill site where they believe to body of Corrie to be located."
      ],
      "text/plain": [
       "<IPython.core.display.Markdown object>"
      ]
     },
     "metadata": {},
     "output_type": "display_data"
    },
    {
     "data": {
      "text/markdown": [
       "[![](http://i1.wp.com/metrouk2.files.wordpress.com/2017/07/corrie3.jpg?crop=0px%2C0px%2C1200px%2C630px&resize=1200%2C630&quality=80&strip=all&ssl=1)](http://metro.co.uk/2017/07/25/police-stop-re-filling-landfill-site-after-corrie-mckeagues-dad-blocked-entrance-6803877/)"
      ],
      "text/plain": [
       "<IPython.core.display.Markdown object>"
      ]
     },
     "metadata": {},
     "output_type": "display_data"
    },
    {
     "data": {
      "text/markdown": [
       "# USA Today"
      ],
      "text/plain": [
       "<IPython.core.display.Markdown object>"
      ]
     },
     "metadata": {},
     "output_type": "display_data"
    },
    {
     "data": {
      "text/markdown": [
       "## EU-Türkei-Verhandlungen: Erdogan wirft Bundesregierung Spionage vor"
      ],
      "text/plain": [
       "<IPython.core.display.Markdown object>"
      ]
     },
     "metadata": {},
     "output_type": "display_data"
    },
    {
     "data": {
      "text/markdown": [
       "In Brüssel sprechen türkische Diplomaten mit der EU über die Zukunft der Beziehungen - und Präsident Erdogan keilt weiter gegen Deutschland: Spione aus Berlin spalteten sein Land."
      ],
      "text/plain": [
       "<IPython.core.display.Markdown object>"
      ]
     },
     "metadata": {},
     "output_type": "display_data"
    },
    {
     "data": {
      "text/markdown": [
       "[![](http://cdn2.spiegel.de/images/image-1169789-galleryV9-qaej-1169789.jpg)](http://www.spiegel.de/politik/ausland/recep-tayyip-erdogan-tuerkischer-praesident-wirft-bundesregierung-spionage-vor-a-1159615.html)"
      ],
      "text/plain": [
       "<IPython.core.display.Markdown object>"
      ]
     },
     "metadata": {},
     "output_type": "display_data"
    },
    {
     "data": {
      "text/markdown": [
       "## FDP-Vize Kubicki: \"Dann rumst es mal kurz\""
      ],
      "text/plain": [
       "<IPython.core.display.Markdown object>"
      ]
     },
     "metadata": {},
     "output_type": "display_data"
    },
    {
     "data": {
      "text/markdown": [
       "Wolfgang Kubicki liebt das offene Wort. Hier spricht der FDP-Vize über alte Vorurteile gegen seine Partei, mögliche Koalitionen nach der Bundestagswahl - und seine Sympathien für Claudia Roth."
      ],
      "text/plain": [
       "<IPython.core.display.Markdown object>"
      ]
     },
     "metadata": {},
     "output_type": "display_data"
    },
    {
     "data": {
      "text/markdown": [
       "[![](http://cdn4.spiegel.de/images/image-1169767-galleryV9-ptdv-1169767.jpg)](http://www.spiegel.de/politik/deutschland/bundestagswahl-wolfgang-kubicki-sieht-fdp-in-der-regierungsverantwortung-a-1159402.html)"
      ],
      "text/plain": [
       "<IPython.core.display.Markdown object>"
      ]
     },
     "metadata": {},
     "output_type": "display_data"
    },
    {
     "data": {
      "text/markdown": [
       "## Abgeschobene Schülerin: Bivsi darf mit ihrer Familie zurück nach Deutschland"
      ],
      "text/plain": [
       "<IPython.core.display.Markdown object>"
      ]
     },
     "metadata": {},
     "output_type": "display_data"
    },
    {
     "data": {
      "text/markdown": [
       "Ihre Abschiebung versetzte Duisburg in Aufruhr, Mitschüler protestierten vehement: Nun darf Bivsi Rana, 15, zurück nach Deutschland. Laut Ministerium ist die gebürtige Nepalesin \"de facto ein deutsches Kind\"."
      ],
      "text/plain": [
       "<IPython.core.display.Markdown object>"
      ]
     },
     "metadata": {},
     "output_type": "display_data"
    },
    {
     "data": {
      "text/markdown": [
       "[![](http://cdn2.spiegel.de/images/image-1161975-galleryV9-qibm-1161975.jpg)](http://www.spiegel.de/politik/deutschland/bivsi-rana-abgeschobene-schuelerin-darf-zurueck-nach-deutschland-a-1159639.html)"
      ],
      "text/plain": [
       "<IPython.core.display.Markdown object>"
      ]
     },
     "metadata": {},
     "output_type": "display_data"
    },
    {
     "data": {
      "text/markdown": [
       "## Erfundene Martin-Schulz-Aussage: SPD lässt Fake-Tweet der Jungen Union Bayern verbieten"
      ],
      "text/plain": [
       "<IPython.core.display.Markdown object>"
      ]
     },
     "metadata": {},
     "output_type": "display_data"
    },
    {
     "data": {
      "text/markdown": [
       "Die Junge Union Bayern muss einen erfundenen Martin-Schulz-Tweet löschen - sonst droht ihr ein Ordnungsgeld von bis zu 250.000 Euro. Das geht aus einer einstweiligen Verfügung des Landgerichts Hamburg hervor."
      ],
      "text/plain": [
       "<IPython.core.display.Markdown object>"
      ]
     },
     "metadata": {},
     "output_type": "display_data"
    },
    {
     "data": {
      "text/markdown": [
       "[![](http://cdn1.spiegel.de/images/image-1169820-galleryV9-jsvj-1169820.jpg)](http://www.spiegel.de/politik/deutschland/spd-laesst-fake-tweet-durch-einstweilige-verfuegung-gegen-csu-verbieten-a-1159608.html)"
      ],
      "text/plain": [
       "<IPython.core.display.Markdown object>"
      ]
     },
     "metadata": {},
     "output_type": "display_data"
    },
    {
     "data": {
      "text/markdown": [
       "## Trotz Brexit: BMW will Elektro-Mini in Oxford montieren"
      ],
      "text/plain": [
       "<IPython.core.display.Markdown object>"
      ]
     },
     "metadata": {},
     "output_type": "display_data"
    },
    {
     "data": {
      "text/markdown": [
       "Auch nach dem EU-Ausstieg will BMW Großbritannien treu bleiben: Der neue Elektro-Mini soll ab 2019 im Stammwerk Oxford vom Band laufen."
      ],
      "text/plain": [
       "<IPython.core.display.Markdown object>"
      ]
     },
     "metadata": {},
     "output_type": "display_data"
    },
    {
     "data": {
      "text/markdown": [
       "[![](http://cdn2.spiegel.de/images/image-1015399-galleryV9-clbl-1015399.jpg)](http://www.spiegel.de/wirtschaft/unternehmen/brexit-bmw-will-elektro-mini-trotzdem-in-oxford-montieren-a-1159659.html)"
      ],
      "text/plain": [
       "<IPython.core.display.Markdown object>"
      ]
     },
     "metadata": {},
     "output_type": "display_data"
    },
    {
     "data": {
      "text/markdown": [
       "## Plädoyer im NSU-Prozess: Verunsichern, erschüttern, ängstigen"
      ],
      "text/plain": [
       "<IPython.core.display.Markdown object>"
      ]
     },
     "metadata": {},
     "output_type": "display_data"
    },
    {
     "data": {
      "text/markdown": [
       "Im NSU-Prozess hat die Bundesanwaltschaft mit ihrem Plädoyer begonnen: Für sie hat die Beweisaufnahme belegt, dass Beate Zschäpe als Mittäterin schuldig ist. Es gehe um die \"infamsten Terroranschläge\" seit der RAF."
      ],
      "text/plain": [
       "<IPython.core.display.Markdown object>"
      ]
     },
     "metadata": {},
     "output_type": "display_data"
    },
    {
     "data": {
      "text/markdown": [
       "[![](http://cdn3.spiegel.de/images/image-1169796-galleryV9-frbp-1169796.jpg)](http://www.spiegel.de/panorama/justiz/nsu-prozess-plaedoyers-beginnen-mit-gelaechter-a-1159622.html)"
      ],
      "text/plain": [
       "<IPython.core.display.Markdown object>"
      ]
     },
     "metadata": {},
     "output_type": "display_data"
    },
    {
     "data": {
      "text/markdown": [
       "## Neuer Tech-Podcast \"Netzteil\": Alexa, Siri und Co. - löst Sprechen bald das Tippen ab?"
      ],
      "text/plain": [
       "<IPython.core.display.Markdown object>"
      ]
     },
     "metadata": {},
     "output_type": "display_data"
    },
    {
     "data": {
      "text/markdown": [
       "Im neuen Podcast \"Netzteil\" wirft das Netzwelt-Ressort ab jetzt wöchentlich einen Blick in die Zukunft. In der ersten Folge geht es um Sprachsteuerung - und Siri und Alexa reden mit."
      ],
      "text/plain": [
       "<IPython.core.display.Markdown object>"
      ]
     },
     "metadata": {},
     "output_type": "display_data"
    },
    {
     "data": {
      "text/markdown": [
       "[![](http://cdn4.spiegel.de/images/image-1164597-galleryV9-nmuy-1164597.jpg)](http://www.spiegel.de/netzwelt/web/alexa-siri-und-co-loest-sprechen-bald-das-tippen-ab-a-1159604.html)"
      ],
      "text/plain": [
       "<IPython.core.display.Markdown object>"
      ]
     },
     "metadata": {},
     "output_type": "display_data"
    },
    {
     "data": {
      "text/markdown": [
       "## Sommer in Deutschland: Regen, Regen, Regen - und noch mehr Regen"
      ],
      "text/plain": [
       "<IPython.core.display.Markdown object>"
      ]
     },
     "metadata": {},
     "output_type": "display_data"
    },
    {
     "data": {
      "text/markdown": [
       "Überflutete Straßen, vollgelaufene Keller, über die Ufer getretene Bäche: In vielen Teilen des Landes haben die Menschen mit Dauerregen zu kämpfen. Und die Vorhersage verheißt kaum Besserung."
      ],
      "text/plain": [
       "<IPython.core.display.Markdown object>"
      ]
     },
     "metadata": {},
     "output_type": "display_data"
    },
    {
     "data": {
      "text/markdown": [
       "[![](http://cdn3.spiegel.de/images/image-1169686-galleryV9-libd-1169686.jpg)](http://www.spiegel.de/panorama/wetter-regen-sorgt-fuer-ueberschwemmungen-in-niedersachsen-und-thueringen-a-1159598.html)"
      ],
      "text/plain": [
       "<IPython.core.display.Markdown object>"
      ]
     },
     "metadata": {},
     "output_type": "display_data"
    },
    {
     "data": {
      "text/markdown": [
       "## Wechsel in die Formel E: Das bedeutet der Mercedes-Ausstieg für die DTM"
      ],
      "text/plain": [
       "<IPython.core.display.Markdown object>"
      ]
     },
     "metadata": {},
     "output_type": "display_data"
    },
    {
     "data": {
      "text/markdown": [
       "Zwei Hersteller bleiben nach dem Abschied von Mercedes übrig - zu wenig für die Tourenwagen-Serie DTM. Die Rennserie kämpft auch mit anderen Problemen."
      ],
      "text/plain": [
       "<IPython.core.display.Markdown object>"
      ]
     },
     "metadata": {},
     "output_type": "display_data"
    },
    {
     "data": {
      "text/markdown": [
       "[![](http://cdn1.spiegel.de/images/image-1169794-galleryV9-xshc-1169794.jpg)](http://www.spiegel.de/sport/sonst/mercedes-steigt-aus-die-zukunft-der-dtm-a-1159618.html)"
      ],
      "text/plain": [
       "<IPython.core.display.Markdown object>"
      ]
     },
     "metadata": {},
     "output_type": "display_data"
    },
    {
     "data": {
      "text/markdown": [
       "## Schwimmerin Sjöström: Die Schmetterlingskönigin kann auch anders"
      ],
      "text/plain": [
       "<IPython.core.display.Markdown object>"
      ]
     },
     "metadata": {},
     "output_type": "display_data"
    },
    {
     "data": {
      "text/markdown": [
       "Sarah Sjöström ist in Top-Form: Einen Weltrekord und einmal Gold hat sie bei der Schwimm-WM in Budapest schon geholt. Weil die Schwedin inzwischen auch im Freistil glänzt, zittert Britta Steffen um einen Rekord."
      ],
      "text/plain": [
       "<IPython.core.display.Markdown object>"
      ]
     },
     "metadata": {},
     "output_type": "display_data"
    },
    {
     "data": {
      "text/markdown": [
       "[![](http://cdn3.spiegel.de/images/image-1169806-galleryV9-hjvb-1169806.jpg)](http://www.spiegel.de/sport/sonst/schwimm-wm-budapest-das-ist-superstar-sarah-sjoestroem-a-1159620.html)"
      ],
      "text/plain": [
       "<IPython.core.display.Markdown object>"
      ]
     },
     "metadata": {},
     "output_type": "display_data"
    },
    {
     "data": {
      "text/markdown": [
       "# Independent"
      ],
      "text/plain": [
       "<IPython.core.display.Markdown object>"
      ]
     },
     "metadata": {},
     "output_type": "display_data"
    },
    {
     "data": {
      "text/markdown": [
       "## Trump leaves Sessions twisting in the wind while berating him publicly"
      ],
      "text/plain": [
       "<IPython.core.display.Markdown object>"
      ]
     },
     "metadata": {},
     "output_type": "display_data"
    },
    {
     "data": {
      "text/markdown": [
       "People close to the president are exploring other possible attorney-general candidates."
      ],
      "text/plain": [
       "<IPython.core.display.Markdown object>"
      ]
     },
     "metadata": {},
     "output_type": "display_data"
    },
    {
     "data": {
      "text/markdown": [
       "[![](https://img.washingtonpost.com/rf/image_1484w/2010-2019/WashingtonPost/2017/07/24/National-Security/Images/06098996-0817.jpg?t=20170517)](https://www.washingtonpost.com/world/national-security/trump-leaves-sessions-twisting-in-the-wind-while-berating-him-publicly/2017/07/24/ce3bf142-708b-11e7-9eac-d56bd5568db8_story.html)"
      ],
      "text/plain": [
       "<IPython.core.display.Markdown object>"
      ]
     },
     "metadata": {},
     "output_type": "display_data"
    },
    {
     "data": {
      "text/markdown": [
       "## Trump renews Twitter attacks on Attorney General Jeff Sessions"
      ],
      "text/plain": [
       "<IPython.core.display.Markdown object>"
      ]
     },
     "metadata": {},
     "output_type": "display_data"
    },
    {
     "data": {
      "text/markdown": [
       "In a series of Tuesday morning tweets, the president said Sessions has responded weakly to alleged “crimes” by Hillary Clinton."
      ],
      "text/plain": [
       "<IPython.core.display.Markdown object>"
      ]
     },
     "metadata": {},
     "output_type": "display_data"
    },
    {
     "data": {
      "text/markdown": [
       "[![](https://img.washingtonpost.com/rf/image_1484w/2010-2019/WashingtonPost/2017/07/25/National-Politics/Images/Trump_Sessions_Beleaugred_67618-d4236.jpg?t=20170517)](https://www.washingtonpost.com/politics/trump-renews-twitter-attacks-on-attorney-general-jeff-sessions/2017/07/25/003d15ca-7124-11e7-8839-ec48ec4cae25_story.html)"
      ],
      "text/plain": [
       "<IPython.core.display.Markdown object>"
      ]
     },
     "metadata": {},
     "output_type": "display_data"
    },
    {
     "data": {
      "text/markdown": [
       "## Analysis | The Daily 202: Trump’s pick to run DOJ criminal division worked for Russia bank"
      ],
      "text/plain": [
       "<IPython.core.display.Markdown object>"
      ]
     },
     "metadata": {},
     "output_type": "display_data"
    },
    {
     "data": {
      "text/markdown": [
       "POTUS steps up pressure on Sessions, considers replacements who could fire Mueller."
      ],
      "text/plain": [
       "<IPython.core.display.Markdown object>"
      ]
     },
     "metadata": {},
     "output_type": "display_data"
    },
    {
     "data": {
      "text/markdown": [
       "[![](https://img.washingtonpost.com/pbox.php?url=https://palomaimages.washingtonpost.com/pr2/f17a1878d8cb69c24f0f1cbbe79c7c2e-2549-1731-CROPBenczkowski.jpg&w=1484&op=resize&opt=1&filter=antialias&t=20170517)](https://www.washingtonpost.com/news/powerpost/paloma/daily-202/2017/07/25/daily-202-trump-s-pick-to-run-doj-criminal-division-worked-for-russia-bank/59769c1630fb04367954322c/)"
      ],
      "text/plain": [
       "<IPython.core.display.Markdown object>"
      ]
     },
     "metadata": {},
     "output_type": "display_data"
    },
    {
     "data": {
      "text/markdown": [
       "## Cooperation with Russia becomes central to Trump strategy in Syria"
      ],
      "text/plain": [
       "<IPython.core.display.Markdown object>"
      ]
     },
     "metadata": {},
     "output_type": "display_data"
    },
    {
     "data": {
      "text/markdown": [
       "Some argue that the Kremlin cannot be trusted to implement a deal that would allow the U.S. to focus on the Islamic State."
      ],
      "text/plain": [
       "<IPython.core.display.Markdown object>"
      ]
     },
     "metadata": {},
     "output_type": "display_data"
    },
    {
     "data": {
      "text/markdown": [
       "[![](https://img.washingtonpost.com/rf/image_1484w/2010-2019/WashingtonPost/2017/07/24/National-Security/Images/Jordan-Israel-Syria_Truce_40813-eff61-0815.jpg?t=20170517)](https://www.washingtonpost.com/world/national-security/cooperation-with-russia-becomes-central-to-trump-strategy-in-syria/2017/07/24/ba6172be-6e38-11e7-9c15-177740635e83_story.html)"
      ],
      "text/plain": [
       "<IPython.core.display.Markdown object>"
      ]
     },
     "metadata": {},
     "output_type": "display_data"
    },
    {
     "data": {
      "text/markdown": [
       "## Trump blasts ‘fabricated’ Syria story, appears to confirm covert CIA program"
      ],
      "text/plain": [
       "<IPython.core.display.Markdown object>"
      ]
     },
     "metadata": {},
     "output_type": "display_data"
    },
    {
     "data": {
      "text/markdown": [
       "Trump tweet acknowledges secret U.S. program to aid Syrian rebels."
      ],
      "text/plain": [
       "<IPython.core.display.Markdown object>"
      ]
     },
     "metadata": {},
     "output_type": "display_data"
    },
    {
     "data": {
      "text/markdown": [
       "[![](https://img.washingtonpost.com/pbox.php?url=http://img.washingtonpost.com/news/morning-mix/wp-content/uploads/sites/21/2017/07/trump-mic.jpg&w=1484&op=resize&opt=1&filter=antialias&t=20170517)](https://www.washingtonpost.com/news/morning-mix/wp/2017/07/25/trump-blasts-fabricated-syria-story-appears-to-confirm-covert-cia-program/)"
      ],
      "text/plain": [
       "<IPython.core.display.Markdown object>"
      ]
     },
     "metadata": {},
     "output_type": "display_data"
    },
    {
     "data": {
      "text/markdown": [
       "## From ‘fake media’ to Clinton, Trump brings political attacks to the Scout Jamboree"
      ],
      "text/plain": [
       "<IPython.core.display.Markdown object>"
      ]
     },
     "metadata": {},
     "output_type": "display_data"
    },
    {
     "data": {
      "text/markdown": [
       "Thousands of boys gathered in W. Va. booed and chanted in support as Trump went after his enemies."
      ],
      "text/plain": [
       "<IPython.core.display.Markdown object>"
      ]
     },
     "metadata": {},
     "output_type": "display_data"
    },
    {
     "data": {
      "text/markdown": [
       "[![](https://img.washingtonpost.com/rf/image_1484w/2010-2019/WashingtonPost/2017/07/25/National-Politics/Images/AFP_QW9KH.jpg?t=20170517)](https://www.washingtonpost.com/politics/from-fake-media-to-clinton-trump-brings-political-attacks-to-the-scout-jamboree/2017/07/24/a77fca64-70c8-11e7-8839-ec48ec4cae25_story.html)"
      ],
      "text/plain": [
       "<IPython.core.display.Markdown object>"
      ]
     },
     "metadata": {},
     "output_type": "display_data"
    },
    {
     "data": {
      "text/markdown": [
       "## After Trump’s partisan speech, Boy Scouts of America reiterates that it is ‘wholly non-partisan’"
      ],
      "text/plain": [
       "<IPython.core.display.Markdown object>"
      ]
     },
     "metadata": {},
     "output_type": "display_data"
    },
    {
     "data": {
      "text/markdown": [
       "In a statement, the nonprofit organization said inviting the sitting president to speak “is in no way an endorsement of any political party or specific policies.\""
      ],
      "text/plain": [
       "<IPython.core.display.Markdown object>"
      ]
     },
     "metadata": {},
     "output_type": "display_data"
    },
    {
     "data": {
      "text/markdown": [
       "[![](https://img.washingtonpost.com/pbox.php?url=http://img.washingtonpost.com/blogs/post-politics/files/2017/07/AFP_QW9KH.jpg&w=1484&op=resize&opt=1&filter=antialias&t=20170517)](https://www.washingtonpost.com/news/post-politics/wp/2017/07/25/after-trumps-partisan-speech-boy-scouts-of-america-reiterates-that-it-is-wholly-non-partisan/)"
      ],
      "text/plain": [
       "<IPython.core.display.Markdown object>"
      ]
     },
     "metadata": {},
     "output_type": "display_data"
    },
    {
     "data": {
      "text/markdown": [
       "## GOP leaders press ahead with health care vote, in hopes of sustaining repeal effort"
      ],
      "text/plain": [
       "<IPython.core.display.Markdown object>"
      ]
     },
     "metadata": {},
     "output_type": "display_data"
    },
    {
     "data": {
      "text/markdown": [
       "Sen. John McCain’s (R-Ariz.) return to D.C. could boost procedural motion’s chances"
      ],
      "text/plain": [
       "<IPython.core.display.Markdown object>"
      ]
     },
     "metadata": {},
     "output_type": "display_data"
    },
    {
     "data": {
      "text/markdown": [
       "[![](https://img.washingtonpost.com/rf/image_1484w/2010-2019/WashingtonPost/2017/07/25/National-Politics/Images/Senate_McCain_Former_Rival_84054-4d815.jpg?t=20170517)](https://www.washingtonpost.com/powerpost/gop-leaders-press-ahead-with-health-care-vote-in-hopes-of-sustaining-repeal-effort/2017/07/25/2525470c-7126-11e7-8839-ec48ec4cae25_story.html)"
      ],
      "text/plain": [
       "<IPython.core.display.Markdown object>"
      ]
     },
     "metadata": {},
     "output_type": "display_data"
    },
    {
     "data": {
      "text/markdown": [
       "## The Health 202: Today is a huge turning point in the GOP's long struggle to repeal Obamacare"
      ],
      "text/plain": [
       "<IPython.core.display.Markdown object>"
      ]
     },
     "metadata": {},
     "output_type": "display_data"
    },
    {
     "data": {
      "text/markdown": [
       "McCain's return could affect he equation."
      ],
      "text/plain": [
       "<IPython.core.display.Markdown object>"
      ]
     },
     "metadata": {},
     "output_type": "display_data"
    },
    {
     "data": {
      "text/markdown": [
       "[![](https://img.washingtonpost.com/pbox.php?url=https://palomaimages.washingtonpost.com/pr2/63736be556fae55c023f70940942c293-5472-3648-Congress_Health_Overhaul_Pass_or_Fail_64664ddbcb2342.jpg&w=1484&op=resize&opt=1&filter=antialias&t=20170517)](https://www.washingtonpost.com/news/powerpost/paloma/the-health-202/2017/07/25/the-health-202-today-is-a-huge-turning-point-in-the-gop-s-long-struggle-to-repeal-obamacare/597622ad30fb043679543220/)"
      ],
      "text/plain": [
       "<IPython.core.display.Markdown object>"
      ]
     },
     "metadata": {},
     "output_type": "display_data"
    },
    {
     "data": {
      "text/markdown": [
       "## Boehner predicts Republicans will ‘never’ repeal and replace Obamacare"
      ],
      "text/plain": [
       "<IPython.core.display.Markdown object>"
      ]
     },
     "metadata": {},
     "output_type": "display_data"
    },
    {
     "data": {
      "text/markdown": [
       "The former House speaker also warned in a private speech that the GOP could ‘get annihilated’ in 2018."
      ],
      "text/plain": [
       "<IPython.core.display.Markdown object>"
      ]
     },
     "metadata": {},
     "output_type": "display_data"
    },
    {
     "data": {
      "text/markdown": [
       "[![](https://img.washingtonpost.com/rf/image_1484w/2010-2019/WashingtonPost/2017/07/25/Production/Daily/A-Section/Images/Boehners_New_Job-d9794.jpg?t=20170517)](https://www.washingtonpost.com/politics/boehner-predicts-republicans-will-never-repeal-and-replace-obamacare/2017/07/24/e4190718-70d9-11e7-8f39-eeb7d3a2d304_story.html)"
      ],
      "text/plain": [
       "<IPython.core.display.Markdown object>"
      ]
     },
     "metadata": {},
     "output_type": "display_data"
    },
    {
     "data": {
      "text/markdown": [
       "# Newsweek"
      ],
      "text/plain": [
       "<IPython.core.display.Markdown object>"
      ]
     },
     "metadata": {},
     "output_type": "display_data"
    },
    {
     "data": {
      "text/markdown": [
       "## ‘I Did Not Collude,’ Kushner Says After Meeting Senate Investigators"
      ],
      "text/plain": [
       "<IPython.core.display.Markdown object>"
      ]
     },
     "metadata": {},
     "output_type": "display_data"
    },
    {
     "data": {
      "text/markdown": [
       "Jared Kushner’s rare public comments about Russia were an attempt to steer the White House through a political storm. But they carried legal risk."
      ],
      "text/plain": [
       "<IPython.core.display.Markdown object>"
      ]
     },
     "metadata": {},
     "output_type": "display_data"
    },
    {
     "data": {
      "text/markdown": [
       "[![](https://static01.nyt.com/images/2017/07/24/us/24kushnerlive2/24kushnerlive2-facebookJumbo.jpg)](https://www.nytimes.com/2017/07/24/us/politics/jared-kushner-russia-senate.html)"
      ],
      "text/plain": [
       "<IPython.core.display.Markdown object>"
      ]
     },
     "metadata": {},
     "output_type": "display_data"
    },
    {
     "data": {
      "text/markdown": [
       "## ‘Game of Thrones’ Season 7, Episode 2 Recap: ‘Stormborn’"
      ],
      "text/plain": [
       "<IPython.core.display.Markdown object>"
      ]
     },
     "metadata": {},
     "output_type": "display_data"
    },
    {
     "data": {
      "text/markdown": [
       "On Sunday, characters connected in new and surprising ways all over Westeros."
      ],
      "text/plain": [
       "<IPython.core.display.Markdown object>"
      ]
     },
     "metadata": {},
     "output_type": "display_data"
    },
    {
     "data": {
      "text/markdown": [
       "[![](https://static01.nyt.com/images/2017/07/25/arts/television/24thrones2/24thrones2-facebookJumbo.jpg)](https://www.nytimes.com/2017/07/23/arts/television/game-of-thrones-season-7-episode-2-jon-snow-sand-snakes-daenerys-sansa-arya.html)"
      ],
      "text/plain": [
       "<IPython.core.display.Markdown object>"
      ]
     },
     "metadata": {},
     "output_type": "display_data"
    },
    {
     "data": {
      "text/markdown": [
       "## Woman Pleads Guilty in Fiancé’s Kayak Death on Hudson River"
      ],
      "text/plain": [
       "<IPython.core.display.Markdown object>"
      ]
     },
     "metadata": {},
     "output_type": "display_data"
    },
    {
     "data": {
      "text/markdown": [
       "Angelika Graswald pleaded guilty to a reduced charge of criminally negligent homicide after her fiancé, Vincent Viafore, was killed in 2015."
      ],
      "text/plain": [
       "<IPython.core.display.Markdown object>"
      ]
     },
     "metadata": {},
     "output_type": "display_data"
    },
    {
     "data": {
      "text/markdown": [
       "[![](https://static01.nyt.com/images/2017/07/25/nyregion/25kayak1/25kayak1-facebookJumbo.jpg)](https://www.nytimes.com/2017/07/24/nyregion/angelika-graswald-kayak-vincent-viafore.html)"
      ],
      "text/plain": [
       "<IPython.core.display.Markdown object>"
      ]
     },
     "metadata": {},
     "output_type": "display_data"
    },
    {
     "data": {
      "text/markdown": [
       "## In Taking Aim at His Attorney General, Trump Tests Sessions’s Views"
      ],
      "text/plain": [
       "<IPython.core.display.Markdown object>"
      ]
     },
     "metadata": {},
     "output_type": "display_data"
    },
    {
     "data": {
      "text/markdown": [
       "Mr. Trump’s latest public rebuke was met with silence by Mr. Sessions, who has historically been vocal about keeping the Justice Department independent of the president."
      ],
      "text/plain": [
       "<IPython.core.display.Markdown object>"
      ]
     },
     "metadata": {},
     "output_type": "display_data"
    },
    {
     "data": {
      "text/markdown": [
       "[![](https://static01.nyt.com/images/2017/07/25/us/25dc-sessions/25dc-sessions-facebookJumbo.jpg)](https://www.nytimes.com/2017/07/24/us/politics/trump-tweet-sessions.html)"
      ],
      "text/plain": [
       "<IPython.core.display.Markdown object>"
      ]
     },
     "metadata": {},
     "output_type": "display_data"
    },
    {
     "data": {
      "text/markdown": [
       "## Michael Phelps ‘Raced’ a ‘Shark,’ Kind Of. Not Really."
      ],
      "text/plain": [
       "<IPython.core.display.Markdown object>"
      ]
     },
     "metadata": {},
     "output_type": "display_data"
    },
    {
     "data": {
      "text/markdown": [
       "A televised match race between the 23-time Olympic gold medalist and a great white shark seemed about as realistic as a sharknado."
      ],
      "text/plain": [
       "<IPython.core.display.Markdown object>"
      ]
     },
     "metadata": {},
     "output_type": "display_data"
    },
    {
     "data": {
      "text/markdown": [
       "[![](https://static01.nyt.com/images/2017/07/25/sports/25sharkWEB2/25sharkWEB2-facebookJumbo.jpg)](https://www.nytimes.com/2017/07/24/sports/shark-week-michael-phelps.html)"
      ],
      "text/plain": [
       "<IPython.core.display.Markdown object>"
      ]
     },
     "metadata": {},
     "output_type": "display_data"
    },
    {
     "data": {
      "text/markdown": [
       "## Opinion | G.O.P. Support for Trump Is Starting to Crack"
      ],
      "text/plain": [
       "<IPython.core.display.Markdown object>"
      ]
     },
     "metadata": {},
     "output_type": "display_data"
    },
    {
     "data": {
      "text/markdown": [
       "Members of Congress are defending him much less than is typical for a new president, and his level of popular support is declining."
      ],
      "text/plain": [
       "<IPython.core.display.Markdown object>"
      ]
     },
     "metadata": {},
     "output_type": "display_data"
    },
    {
     "data": {
      "text/markdown": [
       "[![](https://static01.nyt.com/images/2017/07/25/opinion/25leonhardtWeb/25leonhardtWeb-facebookJumbo.jpg)](https://www.nytimes.com/2017/07/24/opinion/republican-support-donald-trump.html)"
      ],
      "text/plain": [
       "<IPython.core.display.Markdown object>"
      ]
     },
     "metadata": {},
     "output_type": "display_data"
    },
    {
     "data": {
      "text/markdown": [
       "## Parents of Charlie Gard, Ill British Infant, Abandon Effort to Prolong His Life"
      ],
      "text/plain": [
       "<IPython.core.display.Markdown object>"
      ]
     },
     "metadata": {},
     "output_type": "display_data"
    },
    {
     "data": {
      "text/markdown": [
       "His parents accepted medical experts’ consensus that there was no realistic hope that an experimental therapy might save their son."
      ],
      "text/plain": [
       "<IPython.core.display.Markdown object>"
      ]
     },
     "metadata": {},
     "output_type": "display_data"
    },
    {
     "data": {
      "text/markdown": [
       "[![](https://static01.nyt.com/images/2017/07/25/world/25Infant1/25Infant1-facebookJumbo.jpg)](https://www.nytimes.com/2017/07/24/world/europe/uk-charlie-gard-parents.html)"
      ],
      "text/plain": [
       "<IPython.core.display.Markdown object>"
      ]
     },
     "metadata": {},
     "output_type": "display_data"
    },
    {
     "data": {
      "text/markdown": [
       "## The New Presidential Interview"
      ],
      "text/plain": [
       "<IPython.core.display.Markdown object>"
      ]
     },
     "metadata": {},
     "output_type": "display_data"
    },
    {
     "data": {
      "text/markdown": [
       "“I have now interviewed seven presidents — and with Mr. Trump the experience is strikingly different in almost every respect.”"
      ],
      "text/plain": [
       "<IPython.core.display.Markdown object>"
      ]
     },
     "metadata": {},
     "output_type": "display_data"
    },
    {
     "data": {
      "text/markdown": [
       "[![](https://static01.nyt.com/images/2017/07/25/insider/25baker-insider-image/25baker-insider-image-facebookJumbo.jpg)](https://www.nytimes.com/2017/07/24/insider/the-new-presidential-interview.html)"
      ],
      "text/plain": [
       "<IPython.core.display.Markdown object>"
      ]
     },
     "metadata": {},
     "output_type": "display_data"
    },
    {
     "data": {
      "text/markdown": [
       "## Snopes, in Heated Legal Battle, Asks Readers for Money to Survive"
      ],
      "text/plain": [
       "<IPython.core.display.Markdown object>"
      ]
     },
     "metadata": {},
     "output_type": "display_data"
    },
    {
     "data": {
      "text/markdown": [
       "The website, known for debunking viral misinformation, claims a vendor is withholding its advertising revenue. The vendor has a different story."
      ],
      "text/plain": [
       "<IPython.core.display.Markdown object>"
      ]
     },
     "metadata": {},
     "output_type": "display_data"
    },
    {
     "data": {
      "text/markdown": [
       "[![](https://static01.nyt.com/images/2017/07/24/us/25xp-snopes/25xp-snopes-facebookJumbo.png)](https://www.nytimes.com/2017/07/24/business/media/snopes-crowdfunding-proper-media.html)"
      ],
      "text/plain": [
       "<IPython.core.display.Markdown object>"
      ]
     },
     "metadata": {},
     "output_type": "display_data"
    },
    {
     "data": {
      "text/markdown": [
       "## The Company Behind Many Surprise Emergency Room Bills"
      ],
      "text/plain": [
       "<IPython.core.display.Markdown object>"
      ]
     },
     "metadata": {},
     "output_type": "display_data"
    },
    {
     "data": {
      "text/markdown": [
       "A study by Yale researchers found that the rate of out-of-network doctor’s bills for customers of a big insurer jumped when EmCare entered a hospital."
      ],
      "text/plain": [
       "<IPython.core.display.Markdown object>"
      ]
     },
     "metadata": {},
     "output_type": "display_data"
    },
    {
     "data": {
      "text/markdown": [
       "[![](https://static01.nyt.com/images/2017/07/20/upshot/up-erdocs2-1500683515385/up-erdocs2-1500683515385-facebookJumbo-v6.png)](https://www.nytimes.com/2017/07/24/upshot/the-company-behind-many-surprise-emergency-room-bills.html)"
      ],
      "text/plain": [
       "<IPython.core.display.Markdown object>"
      ]
     },
     "metadata": {},
     "output_type": "display_data"
    },
    {
     "data": {
      "text/markdown": [
       "# Al Jazeera English"
      ],
      "text/plain": [
       "<IPython.core.display.Markdown object>"
      ]
     },
     "metadata": {},
     "output_type": "display_data"
    },
    {
     "data": {
      "text/markdown": [
       "## Trump tweets, McCain return set stage for health bill vote"
      ],
      "text/plain": [
       "<IPython.core.display.Markdown object>"
      ]
     },
     "metadata": {},
     "output_type": "display_data"
    },
    {
     "data": {
      "text/markdown": [
       "WASHINGTON (AP) — President Donald Trump urged Republicans to \"step up to the plate\" for Tuesday's crucial Senate vote on their bill eviscerating much of the Obama health care law. The stage was set for high drama, with Sen. John McCain returning to the Capitol to cast his first vote since being diagnosed with brain cancer. No stranger to heroic episodes, the Navy pilot who persevered through five years of captivity during the Vietnam War announced through his office that he would be back in Washington for the critical roll call on beginning debate on the legislation. The 80-year-old has been at home in Arizona since he revealed last week that he's undergoing treatment for brain cancer, but a statement said he \"looks forward\" to returning for work on health care and other legislation."
      ],
      "text/plain": [
       "<IPython.core.display.Markdown object>"
      ]
     },
     "metadata": {},
     "output_type": "display_data"
    },
    {
     "data": {
      "text/markdown": [
       "[![](https://storage.googleapis.com/afs-prod/media/media:e53a1cc8c0b548e5bffd44727507671f/3000.jpeg)](https://apnews.com/9f6f74362c284d3f8fa267818b0a173e)"
      ],
      "text/plain": [
       "<IPython.core.display.Markdown object>"
      ]
     },
     "metadata": {},
     "output_type": "display_data"
    },
    {
     "data": {
      "text/markdown": [
       "## Trump asks about firing Sessions, calls his position 'weak'"
      ],
      "text/plain": [
       "<IPython.core.display.Markdown object>"
      ]
     },
     "metadata": {},
     "output_type": "display_data"
    },
    {
     "data": {
      "text/markdown": [
       "WASHINGTON (AP) — President Donald Trump has spoken with advisers about firing Attorney General Jeff Sessions and launched a fresh Twitter tirade Tuesday against the man who was the first U.S. senator to endorse his candidacy. \"Attorney General Jeff Sessions has taken a VERY weak position on Hillary Clinton crimes (where are E-mails &amp; DNC server) &amp; Intel leakers!\" Trump tweeted. Trump's intensifying criticism of Sessions has fueled speculation that Sessions may resign even if Trump opts not to fire him. The president's anger over Sessions' decision to recuse himself from the government's investigation of Russian meddling in the U.S. election had burst into public view Monday when he referred to Sessions in a tweet as \"beleaguered.\""
      ],
      "text/plain": [
       "<IPython.core.display.Markdown object>"
      ]
     },
     "metadata": {},
     "output_type": "display_data"
    },
    {
     "data": {
      "text/markdown": [
       "[![](https://storage.googleapis.com/afs-prod/media/media:eea660462e4e419e92fdd3da0cfcddf4/3000.jpeg)](https://apnews.com/57704677b2b740b6a3dcd265da781215)"
      ],
      "text/plain": [
       "<IPython.core.display.Markdown object>"
      ]
     },
     "metadata": {},
     "output_type": "display_data"
    },
    {
     "data": {
      "text/markdown": [
       "## The Latest: Kushner on Hill to meet with House intel panel"
      ],
      "text/plain": [
       "<IPython.core.display.Markdown object>"
      ]
     },
     "metadata": {},
     "output_type": "display_data"
    },
    {
     "data": {
      "text/markdown": [
       "WASHINGTON (AP) — The Latest on probes into Russian meddling in the 2016 election and possible ties to the Trump campaign (all times local): 10:05 a.m. President Donald Trump's son-in-law is talking with a House committee investigating Russian interference in the 2016 presidential campaign and possible involvement of Trump associates. Senior White House adviser Jared Kushner arrived on Capitol Hill on Tuesday to meet with the House intelligence committee a day after talking with a Senate committee. Kushner faces questions about his involvement in a June 2016 meeting with a Russian lawyer. The meeting was billed in emails to Donald Trump Jr. as a Russian government attempt to help Trump's campaign. Kushner said Monday that he did not collude with Russians. He also said he was unaware of anyone in the campaign who did."
      ],
      "text/plain": [
       "<IPython.core.display.Markdown object>"
      ]
     },
     "metadata": {},
     "output_type": "display_data"
    },
    {
     "data": {
      "text/markdown": [
       "[![](https://storage.googleapis.com/afs-prod/media/media:157d841ac76d4cb7938a8ee3ac7dab31/3000.jpeg)](https://apnews.com/80f2d72a97464507bb67fc8e623ad3b2)"
      ],
      "text/plain": [
       "<IPython.core.display.Markdown object>"
      ]
     },
     "metadata": {},
     "output_type": "display_data"
    },
    {
     "data": {
      "text/markdown": [
       "## Official: US Navy ship fires warning shots near Iranian ship"
      ],
      "text/plain": [
       "<IPython.core.display.Markdown object>"
      ]
     },
     "metadata": {},
     "output_type": "display_data"
    },
    {
     "data": {
      "text/markdown": [
       "DUBAI, United Arab Emirates (AP) — A U.S. Navy patrol boat fired warning shots Tuesday near an Iranian vessel that came close to it during a tense encounter in the Persian Gulf, an American defense official said. The incident involving the USS Thunderbolt, a Cyclone-class patrol ship based in Bahrain as part of the U.S. Navy's 5th Fleet, is the latest confrontation between Iranian vessels and American warships."
      ],
      "text/plain": [
       "<IPython.core.display.Markdown object>"
      ]
     },
     "metadata": {},
     "output_type": "display_data"
    },
    {
     "data": {
      "text/markdown": [
       "[![]()](https://apnews.com/da2bc2bf3b0e4bebb3b2fe4a42d98afd)"
      ],
      "text/plain": [
       "<IPython.core.display.Markdown object>"
      ]
     },
     "metadata": {},
     "output_type": "display_data"
    },
    {
     "data": {
      "text/markdown": [
       "## AP: US church goes to Brazil; instills fear, splits families"
      ],
      "text/plain": [
       "<IPython.core.display.Markdown object>"
      ]
     },
     "metadata": {},
     "output_type": "display_data"
    },
    {
     "data": {
      "text/markdown": [
       "SAO JOAQUIM DE BICAS, Brazil (AP) — At the Word of Faith Fellowship churches in the Brazilian cities of Sao Joaquim de Bicas and Franco da Rocha, the signs of broken families are everywhere: parents separated from their children, siblings who no longer speak, grandparents who wonder if they will ever know their grandchildren. Over the course of two decades, the U.S.-based mother church took command of both congregations in Brazil, applying a strict interpretation of the Bible and enforcing it through rigorous controls and physical punishment, The Associated Press has found."
      ],
      "text/plain": [
       "<IPython.core.display.Markdown object>"
      ]
     },
     "metadata": {},
     "output_type": "display_data"
    },
    {
     "data": {
      "text/markdown": [
       "[![](https://storage.googleapis.com/afs-prod/media/media:259be89553b04cfab58f2a722e2e0ddd/1519.jpeg)](https://apnews.com/0e08dc6e99664522963df62948e06496)"
      ],
      "text/plain": [
       "<IPython.core.display.Markdown object>"
      ]
     },
     "metadata": {},
     "output_type": "display_data"
    },
    {
     "data": {
      "text/markdown": [
       "## Muslims keep up shrine boycott despite Israeli concessions"
      ],
      "text/plain": [
       "<IPython.core.display.Markdown object>"
      ]
     },
     "metadata": {},
     "output_type": "display_data"
    },
    {
     "data": {
      "text/markdown": [
       "JERUSALEM (AP) — Muslim leaders urged the faithful on Tuesday to keep up their prayer protests and avoid entering a contested Jerusalem shrine, even after Israel dismantled metal detectors that initially triggered the tensions. Israel said it would replace the metal detectors with new security arrangements based on \"advanced technology,\" reportedly including sophisticated cameras, but said it could take up to six months to install them. Muslim clerics have demanded that Israel restore the situation at the shrine — the third holiest in Islam and the holiest in Judaism — to what it was before it installed the metal detectors last week."
      ],
      "text/plain": [
       "<IPython.core.display.Markdown object>"
      ]
     },
     "metadata": {},
     "output_type": "display_data"
    },
    {
     "data": {
      "text/markdown": [
       "[![](https://storage.googleapis.com/afs-prod/media/media:7b9fbf79b06f464d86ce52891230b0d6/3000.jpeg)](https://apnews.com/fbe6188b124a496d8d39e133150cc9bf)"
      ],
      "text/plain": [
       "<IPython.core.display.Markdown object>"
      ]
     },
     "metadata": {},
     "output_type": "display_data"
    },
    {
     "data": {
      "text/markdown": [
       "## Parents ask court to let them take Charlie Gard home to die"
      ],
      "text/plain": [
       "<IPython.core.display.Markdown object>"
      ]
     },
     "metadata": {},
     "output_type": "display_data"
    },
    {
     "data": {
      "text/markdown": [
       "LONDON (AP) — Charlie Gard's mother returned to a London court Tuesday to ask a judge to let her and the baby's father take their critically ill son home to die. Lawyers for the family of the 11-month-old infant and the hospital treating him appeared in Britain's High Court, a day after Charlie's parents said they were dropping their long legal battle to get him experimental treatment. The family attorney, Grant Armstrong, told a judge that parents Chris Gard and Connie Yates have held discussions with Great Ormond Street Hospital about sending Charlie home, but that there were obstacles. The hospital had suggested a hospice option."
      ],
      "text/plain": [
       "<IPython.core.display.Markdown object>"
      ]
     },
     "metadata": {},
     "output_type": "display_data"
    },
    {
     "data": {
      "text/markdown": [
       "[![](https://storage.googleapis.com/afs-prod/media/media:25cbb3ff39254bd8b512d266f50bacce/3000.jpeg)](https://apnews.com/255157abbce34279b8cb6ef19c66fafd)"
      ],
      "text/plain": [
       "<IPython.core.display.Markdown object>"
      ]
     },
     "metadata": {},
     "output_type": "display_data"
    },
    {
     "data": {
      "text/markdown": [
       "## Black seniors stroll down memory lane aiming to stay sharp"
      ],
      "text/plain": [
       "<IPython.core.display.Markdown object>"
      ]
     },
     "metadata": {},
     "output_type": "display_data"
    },
    {
     "data": {
      "text/markdown": [
       "Sharon Steen dons her tennis shoes and, with two fellow seniors, walks streets that in her youth were a vibrant center of Portland, Oregon's African-American community. Wasn't this the corner where an NAACP march began in 1963? Look, the record store is now a fancy high-rise. It's more than a stroll down memory lane. Steen enrolled in a small but unique study to see if jogging memories where they were made can help older African-Americans stay mentally sharp and slow early memory loss."
      ],
      "text/plain": [
       "<IPython.core.display.Markdown object>"
      ]
     },
     "metadata": {},
     "output_type": "display_data"
    },
    {
     "data": {
      "text/markdown": [
       "[![](https://storage.googleapis.com/afs-prod/media/media:a1c50eaa93874e8895a12506554954fc/3000.jpeg)](https://apnews.com/67a687ce83d44615bff0e5cdd586169d)"
      ],
      "text/plain": [
       "<IPython.core.display.Markdown object>"
      ]
     },
     "metadata": {},
     "output_type": "display_data"
    },
    {
     "data": {
      "text/markdown": [
       "## Pressure mounts to curtail surgery on intersex children"
      ],
      "text/plain": [
       "<IPython.core.display.Markdown object>"
      ]
     },
     "metadata": {},
     "output_type": "display_data"
    },
    {
     "data": {
      "text/markdown": [
       "NEW YORK (AP) — Children whose sexual characteristics don't neatly align with the norm have for decades faced surgery to rearrange their anatomy to resemble that of more typical boys and girls — long before they were old enough to have a say in the decision. But now the practice is under assault, as never before. The American Medical Association is considering a proposal discouraging it. Three former U.S. surgeons general say it's unjustified. And on Tuesday, Human Rights Watch and InterACT a group advocating for intersex youth — are releasing a detailed report assailing the practice and urging Congress to ban it."
      ],
      "text/plain": [
       "<IPython.core.display.Markdown object>"
      ]
     },
     "metadata": {},
     "output_type": "display_data"
    },
    {
     "data": {
      "text/markdown": [
       "[![](https://storage.googleapis.com/afs-prod/media/media:904b67b4bd8948f3baaaac615857299e/3000.jpeg)](https://apnews.com/35ec1c6e57404f708f9888d0e103d1c8)"
      ],
      "text/plain": [
       "<IPython.core.display.Markdown object>"
      ]
     },
     "metadata": {},
     "output_type": "display_data"
    },
    {
     "data": {
      "text/markdown": [
       "## AP PHOTOS: Icebreaker leaves behind jagged Arctic icescape"
      ],
      "text/plain": [
       "<IPython.core.display.Markdown object>"
      ]
     },
     "metadata": {},
     "output_type": "display_data"
    },
    {
     "data": {
      "text/markdown": [
       "THE ARCTIC CIRCLE (AP) — There's ice, and then there's ice. We encountered the first floes around Point Barrow, the northernmost tip of Alaska. Much of it was already rotten, as our ice navigator David \"Duke\" Snider explained. The ice was fraying at the edges. Some of it was covered in sand and dirt from crashing against the coast, while larger floes had pools of turquoise meltwater on top. A trained eye can tell how old the ice is and where it is likely to have come from."
      ],
      "text/plain": [
       "<IPython.core.display.Markdown object>"
      ]
     },
     "metadata": {},
     "output_type": "display_data"
    },
    {
     "data": {
      "text/markdown": [
       "[![](https://storage.googleapis.com/afs-prod/media/media:254c05cb377a4ddb990e61bded27fde0/3000.jpeg)](https://apnews.com/c789958d84aa4431ae931e39c7c53ced)"
      ],
      "text/plain": [
       "<IPython.core.display.Markdown object>"
      ]
     },
     "metadata": {},
     "output_type": "display_data"
    },
    {
     "data": {
      "text/markdown": [
       "# The New York Times"
      ],
      "text/plain": [
       "<IPython.core.display.Markdown object>"
      ]
     },
     "metadata": {},
     "output_type": "display_data"
    },
    {
     "data": {
      "text/markdown": [
       "## Trump slams Sessions, rips DOJ in Twitter outburst"
      ],
      "text/plain": [
       "<IPython.core.display.Markdown object>"
      ]
     },
     "metadata": {},
     "output_type": "display_data"
    },
    {
     "data": {
      "text/markdown": [
       "President Donald Trump lashed out at his attorney general and Justice Department in an extraordinary outburst on Twitter Tuesday morning, continuing his public shaming of Jeff Sessions while appearing to prod the nation's top law enforcement official to investigate Hillary Clinton, his 2016 election opponent."
      ],
      "text/plain": [
       "<IPython.core.display.Markdown object>"
      ]
     },
     "metadata": {},
     "output_type": "display_data"
    },
    {
     "data": {
      "text/markdown": [
       "[![](http://i2.cdn.cnn.com/cnnnext/dam/assets/170720142107-27-jeff-sessions-life-and-career-gallery-super-tease.jpg)](http://www.cnn.com/2017/07/25/politics/donald-trump-jeff-sessions-hillary-clinton/index.html)"
      ],
      "text/plain": [
       "<IPython.core.display.Markdown object>"
      ]
     },
     "metadata": {},
     "output_type": "display_data"
    },
    {
     "data": {
      "text/markdown": [
       "## Trump's public bullying of Sessions is embarrassing"
      ],
      "text/plain": [
       "<IPython.core.display.Markdown object>"
      ]
     },
     "metadata": {},
     "output_type": "display_data"
    },
    {
     "data": {
      "text/markdown": [
       "At 6:12 a.m. ET, the President of the United States tweeted this:"
      ],
      "text/plain": [
       "<IPython.core.display.Markdown object>"
      ]
     },
     "metadata": {},
     "output_type": "display_data"
    },
    {
     "data": {
      "text/markdown": [
       "[![](http://i2.cdn.cnn.com/cnnnext/dam/assets/170306121729-01-jeff-sessions-travel-ban-0306-super-tease.jpg)](http://www.cnn.com/2017/07/25/politics/trump-sessions-bullying/index.html)"
      ],
      "text/plain": [
       "<IPython.core.display.Markdown object>"
      ]
     },
     "metadata": {},
     "output_type": "display_data"
    },
    {
     "data": {
      "text/markdown": [
       "## Officials: Days since Trump, Sessions talked - CNN Video"
      ],
      "text/plain": [
       "<IPython.core.display.Markdown object>"
      ]
     },
     "metadata": {},
     "output_type": "display_data"
    },
    {
     "data": {
      "text/markdown": [
       "President Donald Trump and Attorney General Jeff Sessions haven't spoken in days, according to White House officials."
      ],
      "text/plain": [
       "<IPython.core.display.Markdown object>"
      ]
     },
     "metadata": {},
     "output_type": "display_data"
    },
    {
     "data": {
      "text/markdown": [
       "[![](http://i2.cdn.cnn.com/cnnnext/dam/assets/170720142101-23-jeff-sessions-life-and-career-gallery-super-tease.jpg)](http://www.cnn.com/videos/politics/2017/07/24/trump-sessions-beleaguered-russia-investigation-wolf-dnt-zeleny.cnn)"
      ],
      "text/plain": [
       "<IPython.core.display.Markdown object>"
      ]
     },
     "metadata": {},
     "output_type": "display_data"
    },
    {
     "data": {
      "text/markdown": [
       "## Trump to Boy Scouts: 'We could use some more loyalty'"
      ],
      "text/plain": [
       "<IPython.core.display.Markdown object>"
      ]
     },
     "metadata": {},
     "output_type": "display_data"
    },
    {
     "data": {
      "text/markdown": [
       "President Donald Trump turned a Boy Scouts event into a campaign-style rally Monday, starting off by saying he'd put aside the \"fake news\" and other issues in Washington while addressing the Boy Scouts of America 2017 National Scout Jamboree."
      ],
      "text/plain": [
       "<IPython.core.display.Markdown object>"
      ]
     },
     "metadata": {},
     "output_type": "display_data"
    },
    {
     "data": {
      "text/markdown": [
       "[![](http://i2.cdn.cnn.com/cnnnext/dam/assets/170623093956-donald-trump-0621-super-tease.jpg)](http://www.cnn.com/2017/07/24/politics/trump-boy-scouts-rally/index.html)"
      ],
      "text/plain": [
       "<IPython.core.display.Markdown object>"
      ]
     },
     "metadata": {},
     "output_type": "display_data"
    },
    {
     "data": {
      "text/markdown": [
       "## Giuliani: Sessions was right to recuse - CNN Video"
      ],
      "text/plain": [
       "<IPython.core.display.Markdown object>"
      ]
     },
     "metadata": {},
     "output_type": "display_data"
    },
    {
     "data": {
      "text/markdown": [
       "Rudy Giuliani tells CNN he believes Attorney General Jeff Sessions \"made the right decision under the rules of the Justice Department\" in recusing himself on the Russia investigation."
      ],
      "text/plain": [
       "<IPython.core.display.Markdown object>"
      ]
     },
     "metadata": {},
     "output_type": "display_data"
    },
    {
     "data": {
      "text/markdown": [
       "[![](http://i2.cdn.cnn.com/cnnnext/dam/assets/161209163409-rudy-giuliani-smile-super-tease.jpg)](http://www.cnn.com/videos/politics/2017/07/24/giuliani-sessions-made-right-decision-recuse-nr.cnn)"
      ],
      "text/plain": [
       "<IPython.core.display.Markdown object>"
      ]
     },
     "metadata": {},
     "output_type": "display_data"
    },
    {
     "data": {
      "text/markdown": [
       "## How the Trump-Sessions connection fell apart"
      ],
      "text/plain": [
       "<IPython.core.display.Markdown object>"
      ]
     },
     "metadata": {},
     "output_type": "display_data"
    },
    {
     "data": {
      "text/markdown": [
       "Playing pundit again on Monday morning, President Donald Trump delivered a bleak assessment of Attorney General Jeff Sessions' standing in his administration."
      ],
      "text/plain": [
       "<IPython.core.display.Markdown object>"
      ]
     },
     "metadata": {},
     "output_type": "display_data"
    },
    {
     "data": {
      "text/markdown": [
       "[![](http://i2.cdn.cnn.com/cnnnext/dam/assets/170720142106-26-jeff-sessions-life-and-career-gallery-super-tease.jpg)](http://www.cnn.com/2017/07/24/politics/donald-trump-jeff-sessions-relationship/index.html)"
      ],
      "text/plain": [
       "<IPython.core.display.Markdown object>"
      ]
     },
     "metadata": {},
     "output_type": "display_data"
    },
    {
     "data": {
      "text/markdown": [
       "## Senate poised to vote today on health care"
      ],
      "text/plain": [
       "<IPython.core.display.Markdown object>"
      ]
     },
     "metadata": {},
     "output_type": "display_data"
    },
    {
     "data": {
      "text/markdown": [
       "Majority Leader Mitch McConnell has the Senate set to vote Tuesday on the first major test for the GOP effort to repeal and replace Obamacare."
      ],
      "text/plain": [
       "<IPython.core.display.Markdown object>"
      ]
     },
     "metadata": {},
     "output_type": "display_data"
    },
    {
     "data": {
      "text/markdown": [
       "[![](http://i2.cdn.cnn.com/cnnnext/dam/assets/170718160057-mcconnell-07-18-2017-super-tease.jpg)](http://www.cnn.com/2017/07/25/politics/senate-poised-to-vote-today-on-health-care/index.html)"
      ],
      "text/plain": [
       "<IPython.core.display.Markdown object>"
      ]
     },
     "metadata": {},
     "output_type": "display_data"
    },
    {
     "data": {
      "text/markdown": [
       "## Charlie Gard's parents in court to bring son home to die"
      ],
      "text/plain": [
       "<IPython.core.display.Markdown object>"
      ]
     },
     "metadata": {},
     "output_type": "display_data"
    },
    {
     "data": {
      "text/markdown": [
       "The parents of the terminally ill British child Charlie Gard return to court Tuesday to seek permission to bring their son home from hospital to die."
      ],
      "text/plain": [
       "<IPython.core.display.Markdown object>"
      ]
     },
     "metadata": {},
     "output_type": "display_data"
    },
    {
     "data": {
      "text/markdown": [
       "[![](http://i2.cdn.cnn.com/cnnnext/dam/assets/170613123630-06-charlie-gard-court-case-super-tease.jpeg)](http://www.cnn.com/2017/07/25/health/charlie-gard-us-doctor/index.html)"
      ],
      "text/plain": [
       "<IPython.core.display.Markdown object>"
      ]
     },
     "metadata": {},
     "output_type": "display_data"
    },
    {
     "data": {
      "text/markdown": [
       "## The 29 most cringe-worthy lines from Donald Trump's hyper-political speech to the Boy Scouts"
      ],
      "text/plain": [
       "<IPython.core.display.Markdown object>"
      ]
     },
     "metadata": {},
     "output_type": "display_data"
    },
    {
     "data": {
      "text/markdown": [
       "On Monday night, President Donald Trump jetted to West Virginia to address the annual Boy Scout Jamboree. And oh what a speech it was!"
      ],
      "text/plain": [
       "<IPython.core.display.Markdown object>"
      ]
     },
     "metadata": {},
     "output_type": "display_data"
    },
    {
     "data": {
      "text/markdown": [
       "[![](http://i2.cdn.cnn.com/cnnnext/dam/assets/170724182232-01-trump-boy-scouts-0724-screengrab-super-tease.jpg)](http://www.cnn.com/2017/07/25/politics/donald-trump-boy-scouts-speech/index.html)"
      ],
      "text/plain": [
       "<IPython.core.display.Markdown object>"
      ]
     },
     "metadata": {},
     "output_type": "display_data"
    },
    {
     "data": {
      "text/markdown": [
       "## The return of John McCain"
      ],
      "text/plain": [
       "<IPython.core.display.Markdown object>"
      ]
     },
     "metadata": {},
     "output_type": "display_data"
    },
    {
     "data": {
      "text/markdown": [
       "It will take more than a devastating diagnosis to keep John McCain out of the heat of political battle."
      ],
      "text/plain": [
       "<IPython.core.display.Markdown object>"
      ]
     },
     "metadata": {},
     "output_type": "display_data"
    },
    {
     "data": {
      "text/markdown": [
       "[![](http://i2.cdn.cnn.com/cnnnext/dam/assets/170720110604-01-john-mccain-lead-image-super-tease.jpg)](http://www.cnn.com/2017/07/25/politics/john-mccain-returns/index.html)"
      ],
      "text/plain": [
       "<IPython.core.display.Markdown object>"
      ]
     },
     "metadata": {},
     "output_type": "display_data"
    },
    {
     "data": {
      "text/markdown": [
       "# The Telegraph"
      ],
      "text/plain": [
       "<IPython.core.display.Markdown object>"
      ]
     },
     "metadata": {},
     "output_type": "display_data"
    },
    {
     "data": {
      "text/markdown": [
       "## Hope in Australian cricket pay dispute with agreement ‘closer than it appears’ | Jonathan Howcroft"
      ],
      "text/plain": [
       "<IPython.core.display.Markdown object>"
      ]
     },
     "metadata": {},
     "output_type": "display_data"
    },
    {
     "data": {
      "text/markdown": [
       "Cricket Australia confident Ashes series will go ahead as planned but players’ union remains cautious with new MoU still not in place"
      ],
      "text/plain": [
       "<IPython.core.display.Markdown object>"
      ]
     },
     "metadata": {},
     "output_type": "display_data"
    },
    {
     "data": {
      "text/markdown": [
       "[![](https://i.guim.co.uk/img/media/c69ce9583be6c408d9cd24d6b04776ce1157d3e0/0_200_3000_1800/master/3000.jpg?w=1200&h=630&q=55&auto=format&usm=12&fit=crop&crop=faces%2Centropy&bm=normal&ba=bottom%2Cleft&blend64=aHR0cHM6Ly91cGxvYWRzLmd1aW0uY28udWsvMjAxNi8wNS8yNS9vdmVybGF5LWxvZ28tMTIwMC05MF9vcHQucG5n&s=3227a17398de7d8f33674a4181ac6057)](https://www.theguardian.com/sport/2017/jul/25/hope-in-australian-cricket-pay-dispute-with-agreement-closer-than-it-appears)"
      ],
      "text/plain": [
       "<IPython.core.display.Markdown object>"
      ]
     },
     "metadata": {},
     "output_type": "display_data"
    },
    {
     "data": {
      "text/markdown": [
       "## Matt Canavan quits cabinet over Italian dual citizenship"
      ],
      "text/plain": [
       "<IPython.core.display.Markdown object>"
      ]
     },
     "metadata": {},
     "output_type": "display_data"
    },
    {
     "data": {
      "text/markdown": [
       "Resources minister’s citizenship puts his political future in doubt following resignation of two Greens senators over same issue"
      ],
      "text/plain": [
       "<IPython.core.display.Markdown object>"
      ]
     },
     "metadata": {},
     "output_type": "display_data"
    },
    {
     "data": {
      "text/markdown": [
       "[![](https://i.guim.co.uk/img/media/f76bfdcf22f688b2433a576fb1ebc46e94f701c6/0_45_4500_2701/master/4500.jpg?w=1200&h=630&q=55&auto=format&usm=12&fit=crop&crop=faces%2Centropy&bm=normal&ba=bottom%2Cleft&blend64=aHR0cHM6Ly91cGxvYWRzLmd1aW0uY28udWsvMjAxNi8wNS8yNS9vdmVybGF5LWxvZ28tMTIwMC05MF9vcHQucG5n&s=e13e2f11449ea4761c0e7c3bf0ef7a4d)](https://www.theguardian.com/australia-news/2017/jul/25/matt-canavan-quits-cabinet-over-dual-citizenship-uncertainty)"
      ],
      "text/plain": [
       "<IPython.core.display.Markdown object>"
      ]
     },
     "metadata": {},
     "output_type": "display_data"
    },
    {
     "data": {
      "text/markdown": [
       "## Trump denounces Jeff Sessions for being 'weak' on Hillary Clinton"
      ],
      "text/plain": [
       "<IPython.core.display.Markdown object>"
      ]
     },
     "metadata": {},
     "output_type": "display_data"
    },
    {
     "data": {
      "text/markdown": [
       "On Twitter Trump criticized the investigation into Russian meddling into last year’s US election and slammed the attorney general for not investigating Clinton"
      ],
      "text/plain": [
       "<IPython.core.display.Markdown object>"
      ]
     },
     "metadata": {},
     "output_type": "display_data"
    },
    {
     "data": {
      "text/markdown": [
       "[![](https://i.guim.co.uk/img/media/8a2ae2c3a545a9c26fea9025b423067db99a89b2/0_0_5157_3094/master/5157.jpg?w=1200&h=630&q=55&auto=format&usm=12&fit=crop&crop=faces%2Centropy&bm=normal&ba=bottom%2Cleft&blend64=aHR0cHM6Ly91cGxvYWRzLmd1aW0uY28udWsvMjAxNi8wNS8yNS9vdmVybGF5LWxvZ28tMTIwMC05MF9vcHQucG5n&s=6ebee60c04c5a7834aa198a157a4babc)](https://www.theguardian.com/us-news/2017/jul/25/donald-trump-jeff-sessions-weak-on-hillary-clinton-twitter-russia)"
      ],
      "text/plain": [
       "<IPython.core.display.Markdown object>"
      ]
     },
     "metadata": {},
     "output_type": "display_data"
    },
    {
     "data": {
      "text/markdown": [
       "## Woman 'slapped' Minnesota police car before Justine Damond shooting"
      ],
      "text/plain": [
       "<IPython.core.display.Markdown object>"
      ]
     },
     "metadata": {},
     "output_type": "display_data"
    },
    {
     "data": {
      "text/markdown": [
       "Search warrant says ‘upon police arrival, a female slaps the back of the patrol squad’, but does not say if the women was Damond, whom police shot and killed"
      ],
      "text/plain": [
       "<IPython.core.display.Markdown object>"
      ]
     },
     "metadata": {},
     "output_type": "display_data"
    },
    {
     "data": {
      "text/markdown": [
       "[![](https://i.guim.co.uk/img/media/e5dc7cfa4e0bfd50bcd2692d4198898883ea3d37/0_0_4912_2947/master/4912.jpg?w=1200&h=630&q=55&auto=format&usm=12&fit=crop&crop=faces%2Centropy&bm=normal&ba=bottom%2Cleft&blend64=aHR0cHM6Ly91cGxvYWRzLmd1aW0uY28udWsvMjAxNi8wNS8yNS9vdmVybGF5LWxvZ28tMTIwMC05MF9vcHQucG5n&s=9796800ac114b3cec4205066ca8e7bfa)](https://www.theguardian.com/us-news/2017/jul/25/woman-slapped-minnesota-police-car-before-justine-damond-shooting)"
      ],
      "text/plain": [
       "<IPython.core.display.Markdown object>"
      ]
     },
     "metadata": {},
     "output_type": "display_data"
    },
    {
     "data": {
      "text/markdown": [
       "## Sirius building gets second chance after decision not to heritage list it ruled invalid"
      ],
      "text/plain": [
       "<IPython.core.display.Markdown object>"
      ]
     },
     "metadata": {},
     "output_type": "display_data"
    },
    {
     "data": {
      "text/markdown": [
       "Court says minister had not properly considered recommendation to heritage list the public housing building"
      ],
      "text/plain": [
       "<IPython.core.display.Markdown object>"
      ]
     },
     "metadata": {},
     "output_type": "display_data"
    },
    {
     "data": {
      "text/markdown": [
       "[![](https://i.guim.co.uk/img/media/f5ff6fdb6dfc6c2c26e3bca9092723ca02387c0c/0_28_4928_2956/master/4928.jpg?w=1200&h=630&q=55&auto=format&usm=12&fit=crop&crop=faces%2Centropy&bm=normal&ba=bottom%2Cleft&blend64=aHR0cHM6Ly91cGxvYWRzLmd1aW0uY28udWsvMjAxNi8wNS8yNS9vdmVybGF5LWxvZ28tMTIwMC05MF9vcHQucG5n&s=195ec901904041bc2c03994cd1d1cff4)](https://www.theguardian.com/australia-news/2017/jul/25/sirius-building-gets-second-chance-after-decision-not-to-heritage-list-it-ruled-invalid)"
      ],
      "text/plain": [
       "<IPython.core.display.Markdown object>"
      ]
     },
     "metadata": {},
     "output_type": "display_data"
    },
    {
     "data": {
      "text/markdown": [
       "## Cardinal George Pell expected to appear in person before magistrate"
      ],
      "text/plain": [
       "<IPython.core.display.Markdown object>"
      ]
     },
     "metadata": {},
     "output_type": "display_data"
    },
    {
     "data": {
      "text/markdown": [
       "Third-highest ranking official in Vatican has returned from Rome vowing to clear his name over sexual offence charges"
      ],
      "text/plain": [
       "<IPython.core.display.Markdown object>"
      ]
     },
     "metadata": {},
     "output_type": "display_data"
    },
    {
     "data": {
      "text/markdown": [
       "[![](https://i.guim.co.uk/img/media/d04374063eef19439d7badb59af368245dba8add/0_205_3072_1843/master/3072.jpg?w=1200&h=630&q=55&auto=format&usm=12&fit=crop&crop=faces%2Centropy&bm=normal&ba=bottom%2Cleft&blend64=aHR0cHM6Ly91cGxvYWRzLmd1aW0uY28udWsvMjAxNi8wNS8yNS9vdmVybGF5LWxvZ28tMTIwMC05MF9vcHQucG5n&s=e64640ba1693feda18d999605a5288cc)](https://www.theguardian.com/australia-news/2017/jul/25/cardinal-george-pell-expected-to-appear-in-person-before-magistrate)"
      ],
      "text/plain": [
       "<IPython.core.display.Markdown object>"
      ]
     },
     "metadata": {},
     "output_type": "display_data"
    },
    {
     "data": {
      "text/markdown": [
       "## Charlie Gard's parents spend 'last precious moments' with their son"
      ],
      "text/plain": [
       "<IPython.core.display.Markdown object>"
      ]
     },
     "metadata": {},
     "output_type": "display_data"
    },
    {
     "data": {
      "text/markdown": [
       "Connie Yates and Chris Gard ask for privacy after ending legal battle for critically ill boy to receive nucleoside bypass treatment"
      ],
      "text/plain": [
       "<IPython.core.display.Markdown object>"
      ]
     },
     "metadata": {},
     "output_type": "display_data"
    },
    {
     "data": {
      "text/markdown": [
       "[![](https://i.guim.co.uk/img/media/92b458f2b62c808786ce5517118ea5cb897d50ef/0_92_3500_2100/master/3500.jpg?w=1200&h=630&q=55&auto=format&usm=12&fit=crop&crop=faces%2Centropy&bm=normal&ba=bottom%2Cleft&blend64=aHR0cHM6Ly91cGxvYWRzLmd1aW0uY28udWsvMjAxNi8wNS8yNS9vdmVybGF5LWxvZ28tMTIwMC05MF9vcHQucG5n&s=f97d3b5b776cb8dd878337cbcd29ed25)](https://www.theguardian.com/uk-news/2017/jul/25/charlie-gard-parents-spend-last-precious-moments-with-critically-ill-son)"
      ],
      "text/plain": [
       "<IPython.core.display.Markdown object>"
      ]
     },
     "metadata": {},
     "output_type": "display_data"
    },
    {
     "data": {
      "text/markdown": [
       "## Judge refuses to taste Heinz snack at centre of misleading advertising case"
      ],
      "text/plain": [
       "<IPython.core.display.Markdown object>"
      ]
     },
     "metadata": {},
     "output_type": "display_data"
    },
    {
     "data": {
      "text/markdown": [
       "ACCC alleges food company engaged in false and misleading representations in relation to its Little Kids Shredz products"
      ],
      "text/plain": [
       "<IPython.core.display.Markdown object>"
      ]
     },
     "metadata": {},
     "output_type": "display_data"
    },
    {
     "data": {
      "text/markdown": [
       "[![](https://i.guim.co.uk/img/media/dc5063581f931678044f685d94baac542ce28468/0_135_721_432/master/721.jpg?w=1200&h=630&q=55&auto=format&usm=12&fit=crop&crop=faces%2Centropy&bm=normal&ba=bottom%2Cleft&blend64=aHR0cHM6Ly91cGxvYWRzLmd1aW0uY28udWsvMjAxNi8wNS8yNS9vdmVybGF5LWxvZ28tMTIwMC05MF9vcHQucG5n&s=1b90801eee68da67564a7ae1174f40c5)](https://www.theguardian.com/australia-news/2017/jul/25/judge-refuses-to-taste-heinz-snack-at-centre-of-misleading-advertising-case)"
      ],
      "text/plain": [
       "<IPython.core.display.Markdown object>"
      ]
     },
     "metadata": {},
     "output_type": "display_data"
    },
    {
     "data": {
      "text/markdown": [
       "## Man tipped as China's future president ousted as Xi Jinping wields 'iron discipline'"
      ],
      "text/plain": [
       "<IPython.core.display.Markdown object>"
      ]
     },
     "metadata": {},
     "output_type": "display_data"
    },
    {
     "data": {
      "text/markdown": [
       "Sun Zhengcai rose from farming studies in Hertfordshire to Communist party elite. Many fear his downfall signals turbulent times in Beijing"
      ],
      "text/plain": [
       "<IPython.core.display.Markdown object>"
      ]
     },
     "metadata": {},
     "output_type": "display_data"
    },
    {
     "data": {
      "text/markdown": [
       "[![](https://i.guim.co.uk/img/media/bfa5e04a9f8004f4fe232903608d2ae85fd21860/0_122_3684_2210/master/3684.jpg?w=1200&h=630&q=55&auto=format&usm=12&fit=crop&crop=faces%2Centropy&bm=normal&ba=bottom%2Cleft&blend64=aHR0cHM6Ly91cGxvYWRzLmd1aW0uY28udWsvMjAxNi8wNS8yNS9vdmVybGF5LWxvZ28tMTIwMC05MF9vcHQucG5n&s=5873651ea5b65999e941691abdef058c)](https://www.theguardian.com/world/2017/jul/25/china-future-president-ousted-xi-jinping-iron-discipline-sun-zhengcai)"
      ],
      "text/plain": [
       "<IPython.core.display.Markdown object>"
      ]
     },
     "metadata": {},
     "output_type": "display_data"
    },
    {
     "data": {
      "text/markdown": [
       "## Roomba maker may share maps of users' homes with Google, Amazon or Apple"
      ],
      "text/plain": [
       "<IPython.core.display.Markdown object>"
      ]
     },
     "metadata": {},
     "output_type": "display_data"
    },
    {
     "data": {
      "text/markdown": [
       "iRobot’s chief executive says company could share or sell maps of robot vacuum users’ homes to US tech firms as part of smart home and profit push"
      ],
      "text/plain": [
       "<IPython.core.display.Markdown object>"
      ]
     },
     "metadata": {},
     "output_type": "display_data"
    },
    {
     "data": {
      "text/markdown": [
       "[![](https://i.guim.co.uk/img/media/9d50f7f0ab0de078e15a7986c59965b7039917af/0_147_3000_1801/master/3000.jpg?w=1200&h=630&q=55&auto=format&usm=12&fit=crop&crop=faces%2Centropy&bm=normal&ba=bottom%2Cleft&blend64=aHR0cHM6Ly91cGxvYWRzLmd1aW0uY28udWsvMjAxNi8wNS8yNS9vdmVybGF5LWxvZ28tMTIwMC05MF9vcHQucG5n&s=fd812173d85772c670c5f7bba1788fb0)](https://www.theguardian.com/technology/2017/jul/25/roomba-maker-could-share-maps-users-homes-google-amazon-apple-irobot-robot-vacuum)"
      ],
      "text/plain": [
       "<IPython.core.display.Markdown object>"
      ]
     },
     "metadata": {},
     "output_type": "display_data"
    },
    {
     "data": {
      "text/markdown": [
       "# Der Tagesspiegel"
      ],
      "text/plain": [
       "<IPython.core.display.Markdown object>"
      ]
     },
     "metadata": {},
     "output_type": "display_data"
    },
    {
     "data": {
      "text/markdown": [
       "## First picture of 'gunman holding woman hostage and threatening to blow up house'"
      ],
      "text/plain": [
       "<IPython.core.display.Markdown object>"
      ]
     },
     "metadata": {},
     "output_type": "display_data"
    },
    {
     "data": {
      "text/markdown": [
       "Several neighbours described tattooed Marc Schofield as the man in the flat that is on lockdown and at the centre of a 50m cordon"
      ],
      "text/plain": [
       "<IPython.core.display.Markdown object>"
      ]
     },
     "metadata": {},
     "output_type": "display_data"
    },
    {
     "data": {
      "text/markdown": [
       "[![](http://i4.mirror.co.uk/incoming/article10866922.ece/ALTERNATES/s1200/Oldham-Hostage-situation-first-pics.jpg)](http://www.mirror.co.uk/news/uk-news/first-picture-gunman-holding-woman-10866949)"
      ],
      "text/plain": [
       "<IPython.core.display.Markdown object>"
      ]
     },
     "metadata": {},
     "output_type": "display_data"
    },
    {
     "data": {
      "text/markdown": [
       "## Charlie Gard's mum returns to High Court in fight to take son home to die"
      ],
      "text/plain": [
       "<IPython.core.display.Markdown object>"
      ]
     },
     "metadata": {},
     "output_type": "display_data"
    },
    {
     "data": {
      "text/markdown": [
       "The hearing comes just one day after Charlie's parents abandoned attempts to persuade a judge to allow him to travel to the US for experimental therapy"
      ],
      "text/plain": [
       "<IPython.core.display.Markdown object>"
      ]
     },
     "metadata": {},
     "output_type": "display_data"
    },
    {
     "data": {
      "text/markdown": [
       "[![](http://i3.mirror.co.uk/incoming/article10868016.ece/ALTERNATES/s1200/Charlie-Gard-court-case.jpg)](http://www.mirror.co.uk/news/uk-news/charlie-gard-hearing-live-updates-10867701)"
      ],
      "text/plain": [
       "<IPython.core.display.Markdown object>"
      ]
     },
     "metadata": {},
     "output_type": "display_data"
    },
    {
     "data": {
      "text/markdown": [
       "## Danielle Lloyd's mum breaks down as she opens up about her devastating diagnosis"
      ],
      "text/plain": [
       "<IPython.core.display.Markdown object>"
      ]
     },
     "metadata": {},
     "output_type": "display_data"
    },
    {
     "data": {
      "text/markdown": [
       "Jackie was diagnosed with fibromyalgia two years ago"
      ],
      "text/plain": [
       "<IPython.core.display.Markdown object>"
      ]
     },
     "metadata": {},
     "output_type": "display_data"
    },
    {
     "data": {
      "text/markdown": [
       "[![](http://i4.mirror.co.uk/incoming/article10866248.ece/ALTERNATES/s1200/MAIN-SLP_MDG_250717SLUG_seqnseqnLORGJPG.jpg)](http://www.mirror.co.uk/tv/tv-news/danielle-lloyds-mum-breaks-down-10866279)"
      ],
      "text/plain": [
       "<IPython.core.display.Markdown object>"
      ]
     },
     "metadata": {},
     "output_type": "display_data"
    },
    {
     "data": {
      "text/markdown": [
       "## 5 things we learned from Chelsea 2-3 Bayern Munich"
      ],
      "text/plain": [
       "<IPython.core.display.Markdown object>"
      ]
     },
     "metadata": {},
     "output_type": "display_data"
    },
    {
     "data": {
      "text/markdown": [
       "The Premier League champions were 2-0 down within 11 minutes through goals from right-back Rafinha and Germany striker Thomas Muller"
      ],
      "text/plain": [
       "<IPython.core.display.Markdown object>"
      ]
     },
     "metadata": {},
     "output_type": "display_data"
    },
    {
     "data": {
      "text/markdown": [
       "[![](http://i2.mirror.co.uk/incoming/article10867611.ece/ALTERNATES/s1200/Football-Soccer-Chelsea-v-Bayern-Munich-International-Champions-Cup-Singapore.jpg)](http://www.mirror.co.uk/sport/football/match-reports/chelsea-2-3-bayern-muller-10867869)"
      ],
      "text/plain": [
       "<IPython.core.display.Markdown object>"
      ]
     },
     "metadata": {},
     "output_type": "display_data"
    },
    {
     "data": {
      "text/markdown": [
       "## Tom Sturridge collapsed on stage performing George Orwell's 1984"
      ],
      "text/plain": [
       "<IPython.core.display.Markdown object>"
      ]
     },
     "metadata": {},
     "output_type": "display_data"
    },
    {
     "data": {
      "text/markdown": [
       "The actor is said to have been carried out of the theatre on a stretcher"
      ],
      "text/plain": [
       "<IPython.core.display.Markdown object>"
      ]
     },
     "metadata": {},
     "output_type": "display_data"
    },
    {
     "data": {
      "text/markdown": [
       "[![](http://i4.mirror.co.uk/incoming/article10867844.ece/ALTERNATES/s1200/Olivia-Wilde-and-Tom-Sturridge-at-the-after-party-for-the-Opening-Night-of-1984-in-NYC.jpg)](http://www.mirror.co.uk/3am/celebrity-news/tom-sturridge-collapsed-stage-performing-10867837)"
      ],
      "text/plain": [
       "<IPython.core.display.Markdown object>"
      ]
     },
     "metadata": {},
     "output_type": "display_data"
    },
    {
     "data": {
      "text/markdown": [
       "## 'Bullied' girl who missed prom finally gets to wear dress thanks to 120 bikers"
      ],
      "text/plain": [
       "<IPython.core.display.Markdown object>"
      ]
     },
     "metadata": {},
     "output_type": "display_data"
    },
    {
     "data": {
      "text/markdown": [
       "Shannon Purcifer's story touched the hearts of the nation after her mum posted heartbreaking pictures of her wearing her unused, £470 prom dress"
      ],
      "text/plain": [
       "<IPython.core.display.Markdown object>"
      ]
     },
     "metadata": {},
     "output_type": "display_data"
    },
    {
     "data": {
      "text/markdown": [
       "[![](http://i1.mirror.co.uk/incoming/article10867051.ece/ALTERNATES/s1200/PAY-GIRL-WHO-MISSED-PROM-BECAUSE-OF-BULLIES-THROWS-OWN-PARTY-COMPLETE-WITH-120-LEATHER-CLAD-BIKERS.jpg)](http://www.mirror.co.uk/news/uk-news/bullied-teen-who-missed-school-10866888)"
      ],
      "text/plain": [
       "<IPython.core.display.Markdown object>"
      ]
     },
     "metadata": {},
     "output_type": "display_data"
    },
    {
     "data": {
      "text/markdown": [
       "## CCTV footage proves Jordanian soldier murdered 3 innocent US Army Green Berets"
      ],
      "text/plain": [
       "<IPython.core.display.Markdown object>"
      ]
     },
     "metadata": {},
     "output_type": "display_data"
    },
    {
     "data": {
      "text/markdown": [
       "WARNING - DISTRESSING FOOTAGE: Jordan had initially claimed the Americans triggered the shooting by disobeying entry rules - and the soldier claimed he'd been acting under orders"
      ],
      "text/plain": [
       "<IPython.core.display.Markdown object>"
      ]
     },
     "metadata": {},
     "output_type": "display_data"
    },
    {
     "data": {
      "text/markdown": [
       "[![](http://i4.mirror.co.uk/incoming/article10867906.ece/ALTERNATES/s1200/Jordan-Soldier-killing-three-US-Army-Green-Berets.jpg)](http://www.mirror.co.uk/news/world-news/shocking-cctv-footage-proves-jordanian-10867420)"
      ],
      "text/plain": [
       "<IPython.core.display.Markdown object>"
      ]
     },
     "metadata": {},
     "output_type": "display_data"
    },
    {
     "data": {
      "text/markdown": [
       "## Horrific moment girl, 16, falls 75ft off college roof during 'zip-line training'"
      ],
      "text/plain": [
       "<IPython.core.display.Markdown object>"
      ]
     },
     "metadata": {},
     "output_type": "display_data"
    },
    {
     "data": {
      "text/markdown": [
       "WARNING: DISTRESSING CONTENT - Aditi Sanghi was sitting on the edge of a six-storey building helping other pupils fasten their harnesses when she lost her balance and tumbled over the edge"
      ],
      "text/plain": [
       "<IPython.core.display.Markdown object>"
      ]
     },
     "metadata": {},
     "output_type": "display_data"
    },
    {
     "data": {
      "text/markdown": [
       "[![](http://i3.mirror.co.uk/incoming/article10866448.ece/ALTERNATES/s1200/PAY-NEWSLINK0294848_79919.jpg)](http://www.mirror.co.uk/news/world-news/horrific-moment-16-year-old-10866341)"
      ],
      "text/plain": [
       "<IPython.core.display.Markdown object>"
      ]
     },
     "metadata": {},
     "output_type": "display_data"
    },
    {
     "data": {
      "text/markdown": [
       "## Latest transfer news, gossip, rumours and all of the done deals as they happen"
      ],
      "text/plain": [
       "<IPython.core.display.Markdown object>"
      ]
     },
     "metadata": {},
     "output_type": "display_data"
    },
    {
     "data": {
      "text/markdown": [
       "All the latest transfer news as Chelsea pursue more signings and Liverpool continue to chase Naby Keita against the odds"
      ],
      "text/plain": [
       "<IPython.core.display.Markdown object>"
      ]
     },
     "metadata": {},
     "output_type": "display_data"
    },
    {
     "data": {
      "text/markdown": [
       "[![](http://i3.mirror.co.uk/incoming/article10866424.ece/ALTERNATES/s1200/MAIN-Transfer-Live-Blog.jpg)](http://www.mirror.co.uk/sport/football/transfer-news/transfer-news-live-mbappe-madrid-10865179)"
      ],
      "text/plain": [
       "<IPython.core.display.Markdown object>"
      ]
     },
     "metadata": {},
     "output_type": "display_data"
    },
    {
     "data": {
      "text/markdown": [
       "## Lynda Bellingham's son claims late mum would be 'disgusted' by 'vile' stepfather"
      ],
      "text/plain": [
       "<IPython.core.display.Markdown object>"
      ]
     },
     "metadata": {},
     "output_type": "display_data"
    },
    {
     "data": {
      "text/markdown": [
       "The 34-year-old was very upset as he spoke on Loose Women"
      ],
      "text/plain": [
       "<IPython.core.display.Markdown object>"
      ]
     },
     "metadata": {},
     "output_type": "display_data"
    },
    {
     "data": {
      "text/markdown": [
       "[![](http://i4.mirror.co.uk/incoming/article10867666.ece/ALTERNATES/s1200/Loose-Women-TV-show-London-UK-25-Jul-2017.jpg)](http://www.mirror.co.uk/tv/tv-news/lynda-bellinghams-furious-son-michael-10867678)"
      ],
      "text/plain": [
       "<IPython.core.display.Markdown object>"
      ]
     },
     "metadata": {},
     "output_type": "display_data"
    },
    {
     "data": {
      "text/markdown": [
       "# Reddit /r/all"
      ],
      "text/plain": [
       "<IPython.core.display.Markdown object>"
      ]
     },
     "metadata": {},
     "output_type": "display_data"
    },
    {
     "data": {
      "text/markdown": [
       "## GOP Sets Senate Health Care Vote Buoyed by John McCain's Return to D.C."
      ],
      "text/plain": [
       "<IPython.core.display.Markdown object>"
      ]
     },
     "metadata": {},
     "output_type": "display_data"
    },
    {
     "data": {
      "text/markdown": [
       "McCain's presence could make it harder for wavering Republicans to cast a vote against even considering the bill"
      ],
      "text/plain": [
       "<IPython.core.display.Markdown object>"
      ]
     },
     "metadata": {},
     "output_type": "display_data"
    },
    {
     "data": {
      "text/markdown": [
       "[![](https://timedotcom.files.wordpress.com/2017/07/healthcare-trump-republican-vote.jpg?w=720)](http://time.com/4872245/senate-gop-health-care-vote-mccain/)"
      ],
      "text/plain": [
       "<IPython.core.display.Markdown object>"
      ]
     },
     "metadata": {},
     "output_type": "display_data"
    },
    {
     "data": {
      "text/markdown": [
       "## Jared Kushner Returns to Capitol Hill for a Second Day of Closed-Door Russia Interviews"
      ],
      "text/plain": [
       "<IPython.core.display.Markdown object>"
      ]
     },
     "metadata": {},
     "output_type": "display_data"
    },
    {
     "data": {
      "text/markdown": [
       "He'll be meeting the House Intelligence Committee behind closed doors"
      ],
      "text/plain": [
       "<IPython.core.display.Markdown object>"
      ]
     },
     "metadata": {},
     "output_type": "display_data"
    },
    {
     "data": {
      "text/markdown": [
       "[![](https://timedotcom.files.wordpress.com/2017/07/gettyimages-821616766.jpg?w=720)](http://time.com/4872188/jared-kushner-russia-probe-ouse-intelligence-committe/)"
      ],
      "text/plain": [
       "<IPython.core.display.Markdown object>"
      ]
     },
     "metadata": {},
     "output_type": "display_data"
    },
    {
     "data": {
      "text/markdown": [
       "## President Trump Brags About His Election Victory During Boy Scout Jamboree Speech"
      ],
      "text/plain": [
       "<IPython.core.display.Markdown object>"
      ]
     },
     "metadata": {},
     "output_type": "display_data"
    },
    {
     "data": {
      "text/markdown": [
       "He referred to election night as \"that famous night on television\""
      ],
      "text/plain": [
       "<IPython.core.display.Markdown object>"
      ]
     },
     "metadata": {},
     "output_type": "display_data"
    },
    {
     "data": {
      "text/markdown": [
       "[![](https://timedotcom.files.wordpress.com/2017/07/2017-07-24t233042z_196680722_rc1d5ca5d.jpg?w=720)](http://time.com/4871947/donald-trump-boy-scout-jamboree/)"
      ],
      "text/plain": [
       "<IPython.core.display.Markdown object>"
      ]
     },
     "metadata": {},
     "output_type": "display_data"
    },
    {
     "data": {
      "text/markdown": [
       "## Norovirus Likely Caused Illness Outbreak at Chipotle, Health Officials Say"
      ],
      "text/plain": [
       "<IPython.core.display.Markdown object>"
      ]
     },
     "metadata": {},
     "output_type": "display_data"
    },
    {
     "data": {
      "text/markdown": [
       "A second person tested positive for norovirus"
      ],
      "text/plain": [
       "<IPython.core.display.Markdown object>"
      ]
     },
     "metadata": {},
     "output_type": "display_data"
    },
    {
     "data": {
      "text/markdown": [
       "[![](https://timedotcom.files.wordpress.com/2016/09/chipotle-tweet-sex-drugs.jpg?w=720)](http://time.com/4871855/chipotle-norovirus-outbreak-virginia/)"
      ],
      "text/plain": [
       "<IPython.core.display.Markdown object>"
      ]
     },
     "metadata": {},
     "output_type": "display_data"
    },
    {
     "data": {
      "text/markdown": [
       "## John McCain Will Return to the Senate on Tuesday"
      ],
      "text/plain": [
       "<IPython.core.display.Markdown object>"
      ]
     },
     "metadata": {},
     "output_type": "display_data"
    },
    {
     "data": {
      "text/markdown": [
       "He was diagnosed with brain cancer following surgery to remove a blood clot"
      ],
      "text/plain": [
       "<IPython.core.display.Markdown object>"
      ]
     },
     "metadata": {},
     "output_type": "display_data"
    },
    {
     "data": {
      "text/markdown": [
       "[![](https://timedotcom.files.wordpress.com/2017/07/gettyimages-6967580081.jpg?w=720)](http://time.com/4872010/john-mccain-cancer-senate/)"
      ],
      "text/plain": [
       "<IPython.core.display.Markdown object>"
      ]
     },
     "metadata": {},
     "output_type": "display_data"
    },
    {
     "data": {
      "text/markdown": [
       "## President Trump Says Obamacare Has 'Wreaked Havoc' on Americans"
      ],
      "text/plain": [
       "<IPython.core.display.Markdown object>"
      ]
     },
     "metadata": {},
     "output_type": "display_data"
    },
    {
     "data": {
      "text/markdown": [
       "He called the law \"big, fat, ugly lie.\""
      ],
      "text/plain": [
       "<IPython.core.display.Markdown object>"
      ]
     },
     "metadata": {},
     "output_type": "display_data"
    },
    {
     "data": {
      "text/markdown": [
       "[![](https://timedotcom.files.wordpress.com/2017/07/donald-trump-senate-health-care-vote.jpg?w=720)](http://time.com/4871630/donald-trump-repeal-replace-obamacare/)"
      ],
      "text/plain": [
       "<IPython.core.display.Markdown object>"
      ]
     },
     "metadata": {},
     "output_type": "display_data"
    },
    {
     "data": {
      "text/markdown": [
       "## A Former Canadian Sect Leader Has Been Found Guilty of Having 25 Wives"
      ],
      "text/plain": [
       "<IPython.core.display.Markdown object>"
      ]
     },
     "metadata": {},
     "output_type": "display_data"
    },
    {
     "data": {
      "text/markdown": [
       "Winston Blackmore and James Oler have been fighting a decades-long legal battle"
      ],
      "text/plain": [
       "<IPython.core.display.Markdown object>"
      ]
     },
     "metadata": {},
     "output_type": "display_data"
    },
    {
     "data": {
      "text/markdown": [
       "[![](https://timedotcom.files.wordpress.com/2017/07/rtx3cq3o.jpg?w=720)](http://time.com/4872020/canadia-polygamy-winston-blackmore-james-olger/)"
      ],
      "text/plain": [
       "<IPython.core.display.Markdown object>"
      ]
     },
     "metadata": {},
     "output_type": "display_data"
    },
    {
     "data": {
      "text/markdown": [
       "## Israel Removes Metal Detectors From Major Jerusalem Holy Site"
      ],
      "text/plain": [
       "<IPython.core.display.Markdown object>"
      ]
     },
     "metadata": {},
     "output_type": "display_data"
    },
    {
     "data": {
      "text/markdown": [
       "Israel erected the metal detectors after Arab gunmen killed two policemen"
      ],
      "text/plain": [
       "<IPython.core.display.Markdown object>"
      ]
     },
     "metadata": {},
     "output_type": "display_data"
    },
    {
     "data": {
      "text/markdown": [
       "[![](https://timedotcom.files.wordpress.com/2017/07/israel-palesinians.jpg?w=720)](http://time.com/4871974/israel-jerusalem-old-city-metal-detectors/)"
      ],
      "text/plain": [
       "<IPython.core.display.Markdown object>"
      ]
     },
     "metadata": {},
     "output_type": "display_data"
    },
    {
     "data": {
      "text/markdown": [
       "## 'Despacito' Singers Condemn Venezuelan President Nicolas Maduro for Remixing Their Song"
      ],
      "text/plain": [
       "<IPython.core.display.Markdown object>"
      ]
     },
     "metadata": {},
     "output_type": "display_data"
    },
    {
     "data": {
      "text/markdown": [
       "\"My music is for everyone to listen to and enjoy, not to be used as propaganda\""
      ],
      "text/plain": [
       "<IPython.core.display.Markdown object>"
      ]
     },
     "metadata": {},
     "output_type": "display_data"
    },
    {
     "data": {
      "text/markdown": [
       "[![](https://timedotcom.files.wordpress.com/2017/07/gettyimages-684217366.jpg?w=720)](http://time.com/4872027/despacito-venezuela-nicolas-maduro/)"
      ],
      "text/plain": [
       "<IPython.core.display.Markdown object>"
      ]
     },
     "metadata": {},
     "output_type": "display_data"
    },
    {
     "data": {
      "text/markdown": [
       "## Truck Driver Accused of Smuggling Immigrants Could Face the Death Penalty"
      ],
      "text/plain": [
       "<IPython.core.display.Markdown object>"
      ]
     },
     "metadata": {},
     "output_type": "display_data"
    },
    {
     "data": {
      "text/markdown": [
       "At least 10 people in the truck have died"
      ],
      "text/plain": [
       "<IPython.core.display.Markdown object>"
      ]
     },
     "metadata": {},
     "output_type": "display_data"
    },
    {
     "data": {
      "text/markdown": [
       "[![](https://timedotcom.files.wordpress.com/2017/07/texas-smuggling-immigrants-driver-charged.jpg?w=720)](http://time.com/4871452/texas-deadly-immigrant-smuggling-truck-charges/)"
      ],
      "text/plain": [
       "<IPython.core.display.Markdown object>"
      ]
     },
     "metadata": {},
     "output_type": "display_data"
    },
    {
     "data": {
      "text/markdown": [
       "# The Guardian (AU)"
      ],
      "text/plain": [
       "<IPython.core.display.Markdown object>"
      ]
     },
     "metadata": {},
     "output_type": "display_data"
    },
    {
     "data": {
      "text/markdown": [
       "## Chinese state media divided over outcome of Ajit Doval's visit - Times of India"
      ],
      "text/plain": [
       "<IPython.core.display.Markdown object>"
      ]
     },
     "metadata": {},
     "output_type": "display_data"
    },
    {
     "data": {
      "text/markdown": [
       "Ahead of NSA Ajit Doval's visit, China's state media struck two different notes with the China Daily hopeful of a peaceful resolution to the deadlock with India while the Global Times said the \"main schemer's\" trip wouldn't sway Beijing."
      ],
      "text/plain": [
       "<IPython.core.display.Markdown object>"
      ]
     },
     "metadata": {},
     "output_type": "display_data"
    },
    {
     "data": {
      "text/markdown": [
       "[![](http://timesofindia.indiatimes.com/photo/msid-59754587/59754587.jpg?55009)](http://timesofindia.indiatimes.com/world/china/chinese-state-media-divided-over-outcome-of-ajit-dovals-visit/articleshow/59754567.cms)"
      ],
      "text/plain": [
       "<IPython.core.display.Markdown object>"
      ]
     },
     "metadata": {},
     "output_type": "display_data"
    },
    {
     "data": {
      "text/markdown": [
       "## India should 'conscientiously withdraw' to end Doklam standoff: Chinese foreign minister - Times of India"
      ],
      "text/plain": [
       "<IPython.core.display.Markdown object>"
      ]
     },
     "metadata": {},
     "output_type": "display_data"
    },
    {
     "data": {
      "text/markdown": [
       "The standoff has happened in the southernmost part of Tibet in an area also claimed by Bhutan after the Chinese army tried to build a road in the disputed area. India has said the \"unilateral\" Chinese action to change the status quo near the Bhutan trijunction poses a challenge to India's security."
      ],
      "text/plain": [
       "<IPython.core.display.Markdown object>"
      ]
     },
     "metadata": {},
     "output_type": "display_data"
    },
    {
     "data": {
      "text/markdown": [
       "[![](http://timesofindia.indiatimes.com/photo/msid-59756220/59756220.jpg?38115)](http://timesofindia.indiatimes.com/india/india-should-conscientiously-withdraw-to-end-doklam-standoff-chinese-foreign-minister/articleshow/59756200.cms)"
      ],
      "text/plain": [
       "<IPython.core.display.Markdown object>"
      ]
     },
     "metadata": {},
     "output_type": "display_data"
    },
    {
     "data": {
      "text/markdown": [
       "## Aerial intercepts: China urges US to stop 'unfriendly, dangerous' military activities - Times of India"
      ],
      "text/plain": [
       "<IPython.core.display.Markdown object>"
      ]
     },
     "metadata": {},
     "output_type": "display_data"
    },
    {
     "data": {
      "text/markdown": [
       "\"The US military aircraft coming near China's border and carrying out reconnaissance has threatened China's national security, damaged Sino-US military air and sea safety, endangered the personal safety of both pilots,\" China said in a statement."
      ],
      "text/plain": [
       "<IPython.core.display.Markdown object>"
      ]
     },
     "metadata": {},
     "output_type": "display_data"
    },
    {
     "data": {
      "text/markdown": [
       "[![](http://timesofindia.indiatimes.com/photo/msid-59758125/59758125.jpg?133487)](http://timesofindia.indiatimes.com/world/china/aerial-intercepts-china-urges-us-to-stop-unfriendly-dangerous-military-activities/articleshow/59755673.cms)"
      ],
      "text/plain": [
       "<IPython.core.display.Markdown object>"
      ]
     },
     "metadata": {},
     "output_type": "display_data"
    },
    {
     "data": {
      "text/markdown": [
       "## 'I am accepting this position with all humility,' says President Kovind in first speech after being sworn in - Times of India"
      ],
      "text/plain": [
       "<IPython.core.display.Markdown object>"
      ]
     },
     "metadata": {},
     "output_type": "display_data"
    },
    {
     "data": {
      "text/markdown": [
       "NEW DELHI: Ram Nath Kovind was on Tuesday sworn in as the new President of India."
      ],
      "text/plain": [
       "<IPython.core.display.Markdown object>"
      ]
     },
     "metadata": {},
     "output_type": "display_data"
    },
    {
     "data": {
      "text/markdown": [
       "[![](http://timesofindia.indiatimes.com/photo/msid-59752385/59752385.jpg?311573)](http://timesofindia.indiatimes.com/india/i-am-accepting-this-position-with-all-humility-says-president-kovind-in-first-speech-after-being-sworn-in/articleshow/59752400.cms)"
      ],
      "text/plain": [
       "<IPython.core.display.Markdown object>"
      ]
     },
     "metadata": {},
     "output_type": "display_data"
    },
    {
     "data": {
      "text/markdown": [
       "## Ram Nath Kovind: Top 10 things to know about new President - Times of India"
      ],
      "text/plain": [
       "<IPython.core.display.Markdown object>"
      ]
     },
     "metadata": {},
     "output_type": "display_data"
    },
    {
     "data": {
      "text/markdown": [
       "Ram Nath Kovind was on Tuesday sworn in as the new President of India. Kovind is the country's 14th President and only the second Dalit to hold the office. Here are the top ten things to know bout the new President:"
      ],
      "text/plain": [
       "<IPython.core.display.Markdown object>"
      ]
     },
     "metadata": {},
     "output_type": "display_data"
    },
    {
     "data": {
      "text/markdown": [
       "[![](http://timesofindia.indiatimes.com/photo/59752919.cms)](http://timesofindia.indiatimes.com/india/ram-nath-kovind-top-10-things-to-know-about-new-president/articleshow/59752919.cms)"
      ],
      "text/plain": [
       "<IPython.core.display.Markdown object>"
      ]
     },
     "metadata": {},
     "output_type": "display_data"
    },
    {
     "data": {
      "text/markdown": [
       "## Mark Zuckerberg’s knowledge of artificial intelligence ‘limited': Elon Musk - Times of India"
      ],
      "text/plain": [
       "<IPython.core.display.Markdown object>"
      ]
     },
     "metadata": {},
     "output_type": "display_data"
    },
    {
     "data": {
      "text/markdown": [
       "“I've talked to Mark (Zuckerberg) about this. His understanding of the subject is limited,” Musk said on micro-blogging site Twitter. Musk was responding to Zuckerberg’s comment during a Facebook live on Sunday where he criticised the Tesla chief’s views on artificial intelligence."
      ],
      "text/plain": [
       "<IPython.core.display.Markdown object>"
      ]
     },
     "metadata": {},
     "output_type": "display_data"
    },
    {
     "data": {
      "text/markdown": [
       "[![](http://timesofindia.indiatimes.com/photo/msid-59755776/59755776.jpg?912489)](http://timesofindia.indiatimes.com/business/international-business/mark-zuckerbergs-knowledge-of-artificial-intelligence-limited-elon-musk/articleshow/59755683.cms)"
      ],
      "text/plain": [
       "<IPython.core.display.Markdown object>"
      ]
     },
     "metadata": {},
     "output_type": "display_data"
    },
    {
     "data": {
      "text/markdown": [
       "# Focus"
      ],
      "text/plain": [
       "<IPython.core.display.Markdown object>"
      ]
     },
     "metadata": {},
     "output_type": "display_data"
    },
    {
     "data": {
      "text/markdown": [
       "## Donald Trump says he is working on 'major' trade deal with UK: 'Could be very big and exciting'"
      ],
      "text/plain": [
       "<IPython.core.display.Markdown object>"
      ]
     },
     "metadata": {},
     "output_type": "display_data"
    },
    {
     "data": {
      "text/markdown": [
       "Donald Trump has promised a “very big and exciting” trade deal with the UK after Brexit.  In a tweet on Tuesday lunchtime, the US President said his administration was “working on a major trade deal”, adding: \"Could be very big & exciting. JOBS!\" He also accused the EU of being “very protectionist” and told the bloc to \"STOP!\""
      ],
      "text/plain": [
       "<IPython.core.display.Markdown object>"
      ]
     },
     "metadata": {},
     "output_type": "display_data"
    },
    {
     "data": {
      "text/markdown": [
       "[![](https://static.independent.co.uk/s3fs-public/thumbnails/image/2017/07/25/13/trump-flag.jpg)](http://www.independent.co.uk/news/world/americas/us-politics/donald-trump-us-uk-trade-deal-uk-brexit-leave-eu-protections-liam-fox-twitter-a7859101.html)"
      ],
      "text/plain": [
       "<IPython.core.display.Markdown object>"
      ]
     },
     "metadata": {},
     "output_type": "display_data"
    },
    {
     "data": {
      "text/markdown": [
       "## Former British EU negotiator: Brexit would have been terrible even if done well. It's not being done well"
      ],
      "text/plain": [
       "<IPython.core.display.Markdown object>"
      ]
     },
     "metadata": {},
     "output_type": "display_data"
    },
    {
     "data": {
      "text/markdown": [
       "Britain’s chances of securing a deal with the EU in the Brexit negotiations in the 20 months that remain “look minimal”, according to a former UK-EU negotiator.  Steve Bullock, who worked at the UK Representation to the EU from 2010 to 2014, also accused Government ministers of an “appalling dereliction of duty” over a failure to understand the complexities of Britain’s exit."
      ],
      "text/plain": [
       "<IPython.core.display.Markdown object>"
      ]
     },
     "metadata": {},
     "output_type": "display_data"
    },
    {
     "data": {
      "text/markdown": [
       "[![](https://static.independent.co.uk/s3fs-public/thumbnails/image/2017/07/20/12/david-davis-michel-barnier.jpg)](http://www.independent.co.uk/news/uk/politics/brexit-latest-news-uk-eu-deal-talks-negotiations-secure-talks-european-union-steve-bullock-david-a7859106.html)"
      ],
      "text/plain": [
       "<IPython.core.display.Markdown object>"
      ]
     },
     "metadata": {},
     "output_type": "display_data"
    },
    {
     "data": {
      "text/markdown": [
       "## American Navy fires warning shots at Iranian ship"
      ],
      "text/plain": [
       "<IPython.core.display.Markdown object>"
      ]
     },
     "metadata": {},
     "output_type": "display_data"
    },
    {
     "data": {
      "text/markdown": [
       "The United States Navy has reportedly fired warning shots at an Iranian vessel. The US Navy patrol boat the USS Thunderbolt, a Cyclone-class patrol ship involved in an exercise in the Persian Gulf, reportedly shot the warnings during a tense encounter with the Iranian ship. A US official said that the Iranian naval vessel came within 150 yards (137 meters) of the Thunderbolt. The Iranian vessel reportedly didn't respond to radio calls, flares, or warning sirens. That forced the sailors aboard the US ship to use weapons to send their signal."
      ],
      "text/plain": [
       "<IPython.core.display.Markdown object>"
      ]
     },
     "metadata": {},
     "output_type": "display_data"
    },
    {
     "data": {
      "text/markdown": [
       "[![](https://static.independent.co.uk/s3fs-public/thumbnails/image/2017/04/10/22/tomahawk-missile.jpg)](http://www.independent.co.uk/news/world/americas/us-politics/us-ship-iran-navy-warning-shots-fired-latest-news-updates-a7859386.html)"
      ],
      "text/plain": [
       "<IPython.core.display.Markdown object>"
      ]
     },
     "metadata": {},
     "output_type": "display_data"
    },
    {
     "data": {
      "text/markdown": [
       "## Donald Trump just launched a public attack on his 'very weak' Attorney General"
      ],
      "text/plain": [
       "<IPython.core.display.Markdown object>"
      ]
     },
     "metadata": {},
     "output_type": "display_data"
    },
    {
     "data": {
      "text/markdown": [
       "Donald Trump has launched his strongest attack yet on his \"very weak\" Attorney General Jeff Sessions, fuelling speculation he is preparing to fire him. The US President took issue with Mr Sessions apparent reluctance to investigate presidential rival Hillary Clinton's alleged \"crimes\". His early morning tweet followed a similar barb on Monday when he branded Mr Sessions \"beleaguered\"."
      ],
      "text/plain": [
       "<IPython.core.display.Markdown object>"
      ]
     },
     "metadata": {},
     "output_type": "display_data"
    },
    {
     "data": {
      "text/markdown": [
       "[![](https://static.independent.co.uk/s3fs-public/thumbnails/image/2017/07/25/11/jeff-sessions.jpg)](http://www.independent.co.uk/news/world/americas/us-politics/donald-trump-jeff-sessions-attack-fire-attorney-general-tweet-russia-investigation-sack-jr-jared-a7858746.html)"
      ],
      "text/plain": [
       "<IPython.core.display.Markdown object>"
      ]
     },
     "metadata": {},
     "output_type": "display_data"
    },
    {
     "data": {
      "text/markdown": [
       "## Donald Trump tells reporter 'be quiet' when she asks him about healthcare"
      ],
      "text/plain": [
       "<IPython.core.display.Markdown object>"
      ]
     },
     "metadata": {},
     "output_type": "display_data"
    },
    {
     "data": {
      "text/markdown": [
       "Donald Trump has derided reporters in front of a group of White House interns, after facing questions on Attorney General Jeff Sessions and healthcare. During a photo opportunity with the White House's latest group of interns, he was asked by a reporter if he had anything to say about the current healthcare battle in the Senate. He replied with two words: \"Be quiet\"."
      ],
      "text/plain": [
       "<IPython.core.display.Markdown object>"
      ]
     },
     "metadata": {},
     "output_type": "display_data"
    },
    {
     "data": {
      "text/markdown": [
       "[![](https://static.independent.co.uk/s3fs-public/thumbnails/image/2017/07/24/18/donald-trump.jpg)](http://www.independent.co.uk/news/world/americas/us-politics/trump-be-quiet-reporter-healthcare-question-response-white-house-video-a7857996.html)"
      ],
      "text/plain": [
       "<IPython.core.display.Markdown object>"
      ]
     },
     "metadata": {},
     "output_type": "display_data"
    },
    {
     "data": {
      "text/markdown": [
       "## Charlie Gard's parents return to High Court"
      ],
      "text/plain": [
       "<IPython.core.display.Markdown object>"
      ]
     },
     "metadata": {},
     "output_type": "display_data"
    },
    {
     "data": {
      "text/markdown": [
       "Charlie Gard's parents are reportedly to return to the High Court to request permission to take him home to die. They will attend a hearing to decide whether their son should have his life support withdrawn at home or in hospital, The Daily Mail reported."
      ],
      "text/plain": [
       "<IPython.core.display.Markdown object>"
      ]
     },
     "metadata": {},
     "output_type": "display_data"
    },
    {
     "data": {
      "text/markdown": [
       "[![](https://static.independent.co.uk/s3fs-public/thumbnails/image/2017/07/25/13/charlie-gard.jpg)](http://www.independent.co.uk/news/uk/home-news/charlie-gard-parents-take-home-die-high-court-return-us-treatment-request-chris-gosh-great-ormond-a7859046.html)"
      ],
      "text/plain": [
       "<IPython.core.display.Markdown object>"
      ]
     },
     "metadata": {},
     "output_type": "display_data"
    },
    {
     "data": {
      "text/markdown": [
       "## The world's 'most useless airport' is finally getting its first scheduled flight"
      ],
      "text/plain": [
       "<IPython.core.display.Markdown object>"
      ]
     },
     "metadata": {},
     "output_type": "display_data"
    },
    {
     "data": {
      "text/markdown": [
       "The £285m airport dubbed “the world’s most useless” is finally going to get a scheduled flight — but no-one knows when, nor how much flights will cost. St Helena airport was built at UK taxpayers' expense to provide a lifeline for the remote South Atlantic community. Despite warnings about tricky weather conditions, the runway was constructed to allow passenger jets such as the Boeing 737 and Airbus A320 to land."
      ],
      "text/plain": [
       "<IPython.core.display.Markdown object>"
      ]
     },
     "metadata": {},
     "output_type": "display_data"
    },
    {
     "data": {
      "text/markdown": [
       "[![](https://static.independent.co.uk/s3fs-public/thumbnails/image/2017/07/25/10/sthelena-0.png)](http://www.independent.co.uk/travel/news-and-advice/st-helena-flights-most-useless-airport-south-atlantic-johannesburg-airlink-windshear-a7858581.html)"
      ],
      "text/plain": [
       "<IPython.core.display.Markdown object>"
      ]
     },
     "metadata": {},
     "output_type": "display_data"
    },
    {
     "data": {
      "text/markdown": [
       "## Channel 4 to show extracts from recordings during which Princess Diana recalled sex life with Prince Charles"
      ],
      "text/plain": [
       "<IPython.core.display.Markdown object>"
      ]
     },
     "metadata": {},
     "output_type": "display_data"
    },
    {
     "data": {
      "text/markdown": [
       "Extracts from a series of video recordings during which Princess Diana discussed her sex life with Prince Charles are to be broadcast on British television for the first time."
      ],
      "text/plain": [
       "<IPython.core.display.Markdown object>"
      ]
     },
     "metadata": {},
     "output_type": "display_data"
    },
    {
     "data": {
      "text/markdown": [
       "[![](https://static.independent.co.uk/s3fs-public/thumbnails/image/2017/03/01/11/princess-diana-prince-charles-0.jpg)](http://www.independent.co.uk/news/uk/home-news/princess-diana-sex-life-prince-charles-video-tapes-confessions-channel-4-documentary-first-time-a7859136.html)"
      ],
      "text/plain": [
       "<IPython.core.display.Markdown object>"
      ]
     },
     "metadata": {},
     "output_type": "display_data"
    },
    {
     "data": {
      "text/markdown": [
       "## Fears flights between Britain and the EU could be halted after Brexit"
      ],
      "text/plain": [
       "<IPython.core.display.Markdown object>"
      ]
     },
     "metadata": {},
     "output_type": "display_data"
    },
    {
     "data": {
      "text/markdown": [
       "Ryanair's finance chief has lambasted the lack of progress on aviation rules after Brexit, saying: “We’re hearing an awful lot about it all be right on the night. But nobody can actually tell me how it’s going to be right on the night.” Neil Sorahan, the Chief Financial Officer of Europe’s biggest budget airline, told The Independent: “We absolutely want to keep Britain flying, we want to continue to have operations between the UK and Europe."
      ],
      "text/plain": [
       "<IPython.core.display.Markdown object>"
      ]
     },
     "metadata": {},
     "output_type": "display_data"
    },
    {
     "data": {
      "text/markdown": [
       "[![](https://static.independent.co.uk/s3fs-public/thumbnails/image/2017/07/24/17/img-8174.jpg)](http://www.independent.co.uk/travel/news-and-advice/ryanair-flights-britain-eu-brexit-open-skies-transport-secretary-chris-grayling-a7857906.html)"
      ],
      "text/plain": [
       "<IPython.core.display.Markdown object>"
      ]
     },
     "metadata": {},
     "output_type": "display_data"
    },
    {
     "data": {
      "text/markdown": [
       "## Erdogan just urged all Muslims to visit Jerusalem to protect holy mosque"
      ],
      "text/plain": [
       "<IPython.core.display.Markdown object>"
      ]
     },
     "metadata": {},
     "output_type": "display_data"
    },
    {
     "data": {
      "text/markdown": [
       "Turkish President Recep Tayyip Erdogan has urged Muslims across the world to \"visit\" and \"protect\" Jerusalem, slamming what he said was an \"unacceptable\" infringement on Palestinians' rights to a holy site. The leader's comments on Tuesday came after days of violence sparked over access to the al-Aqsa mosque in the city's Noble Sanctuary, known as the Temple Mount in Judaism."
      ],
      "text/plain": [
       "<IPython.core.display.Markdown object>"
      ]
     },
     "metadata": {},
     "output_type": "display_data"
    },
    {
     "data": {
      "text/markdown": [
       "[![](https://static.independent.co.uk/s3fs-public/thumbnails/image/2017/07/25/13/jerusalem-25-july.jpg)](http://www.independent.co.uk/news/world/middle-east/recep-tayyip-erdogan-jerusalem-turkey-president-muslims-temple-mount-mosque-haram-esh-sharif-a7858691.html)"
      ],
      "text/plain": [
       "<IPython.core.display.Markdown object>"
      ]
     },
     "metadata": {},
     "output_type": "display_data"
    },
    {
     "data": {
      "text/markdown": [
       "# Metro"
      ],
      "text/plain": [
       "<IPython.core.display.Markdown object>"
      ]
     },
     "metadata": {},
     "output_type": "display_data"
    },
    {
     "data": {
      "text/markdown": [
       "## House seen passing Russia sanctions bill limiting Trump's power"
      ],
      "text/plain": [
       "<IPython.core.display.Markdown object>"
      ]
     },
     "metadata": {},
     "output_type": "display_data"
    },
    {
     "data": {
      "text/markdown": [
       "The U.S. House of Representatives is expected to vote overwhelmingly on Tuesday for a bill that would slap new sanctions on Russia, Iran and North Korea, potentially complicating President Donald Trump's hopes of pursuing improved relations with Moscow."
      ],
      "text/plain": [
       "<IPython.core.display.Markdown object>"
      ]
     },
     "metadata": {},
     "output_type": "display_data"
    },
    {
     "data": {
      "text/markdown": [
       "[![](https://s4.reutersmedia.net/resources/r/?m=02&d=20170725&t=2&i=1194278932&w=&fh=545px&fw=&ll=&pl=&sq=&r=LYNXMPED6O05X)](http://www.reuters.com/article/us-usa-trump-russia-idUSKBN1AA0C3)"
      ],
      "text/plain": [
       "<IPython.core.display.Markdown object>"
      ]
     },
     "metadata": {},
     "output_type": "display_data"
    },
    {
     "data": {
      "text/markdown": [
       "## Trump, without evidence, cites Ukraine ties to ex-rival Clinton"
      ],
      "text/plain": [
       "<IPython.core.display.Markdown object>"
      ]
     },
     "metadata": {},
     "output_type": "display_data"
    },
    {
     "data": {
      "text/markdown": [
       "U.S. President Donald Trump on Tuesday blasted the investigation into alleged Russian meddling in last year's U.S. election and raised questions, without offering evidence, about Ukrainian  support for his Democratic presidential rival."
      ],
      "text/plain": [
       "<IPython.core.display.Markdown object>"
      ]
     },
     "metadata": {},
     "output_type": "display_data"
    },
    {
     "data": {
      "text/markdown": [
       "[![](https://s2.reutersmedia.net/resources/r/?m=02&d=20170725&t=2&i=1194308826&w=&fh=545px&fw=&ll=&pl=&sq=&r=LYNXMPED6O0KB)](http://www.reuters.com/article/us-usa-trump-russia-ukraine-idUSKBN1AA14Y)"
      ],
      "text/plain": [
       "<IPython.core.display.Markdown object>"
      ]
     },
     "metadata": {},
     "output_type": "display_data"
    },
    {
     "data": {
      "text/markdown": [
       "## McCain to return for pivotal U.S. Senate vote on healthcare"
      ],
      "text/plain": [
       "<IPython.core.display.Markdown object>"
      ]
     },
     "metadata": {},
     "output_type": "display_data"
    },
    {
     "data": {
      "text/markdown": [
       "Senator John McCain will return to the U.S. Capitol on Tuesday to play what could be a crucial role in salvaging Republican efforts to repeal Obamacare and keep their years-long pledge to unwind the 2010 healthcare overhaul."
      ],
      "text/plain": [
       "<IPython.core.display.Markdown object>"
      ]
     },
     "metadata": {},
     "output_type": "display_data"
    },
    {
     "data": {
      "text/markdown": [
       "[![](https://s2.reutersmedia.net/resources/r/?m=02&d=20170725&t=2&i=1194322390&w=&fh=545px&fw=&ll=&pl=&sq=&r=LYNXMPED6O0SE)](http://www.reuters.com/article/us-usa-healthcare-idUSKBN1AA0BQ)"
      ],
      "text/plain": [
       "<IPython.core.display.Markdown object>"
      ]
     },
     "metadata": {},
     "output_type": "display_data"
    },
    {
     "data": {
      "text/markdown": [
       "## Fire crews battle to halt spread of Montana blaze, largest in the U.S."
      ],
      "text/plain": [
       "<IPython.core.display.Markdown object>"
      ]
     },
     "metadata": {},
     "output_type": "display_data"
    },
    {
     "data": {
      "text/markdown": [
       "More than 600 firefighters in Montana on Tuesday battled to halt the spread of the biggest wildfire in the United States after it torched buildings, raced through forests and drove scores of people from their homes."
      ],
      "text/plain": [
       "<IPython.core.display.Markdown object>"
      ]
     },
     "metadata": {},
     "output_type": "display_data"
    },
    {
     "data": {
      "text/markdown": [
       "[![](https://s2.reutersmedia.net/resources/r/?m=02&d=20170725&t=2&i=1194325057&w=&fh=545px&fw=&ll=&pl=&sq=&r=LYNXMPED6O0TF)](http://www.reuters.com/article/us-usa-wildfires-idUSKBN1AA1EJ)"
      ],
      "text/plain": [
       "<IPython.core.display.Markdown object>"
      ]
     },
     "metadata": {},
     "output_type": "display_data"
    },
    {
     "data": {
      "text/markdown": [
       "## U.S. Navy ship fires warning shots at Iranian vessel: official"
      ],
      "text/plain": [
       "<IPython.core.display.Markdown object>"
      ]
     },
     "metadata": {},
     "output_type": "display_data"
    },
    {
     "data": {
      "text/markdown": [
       "A U.S. Navy ship fired warning shots toward an Iranian vessel near the northern Arabian Gulf on Tuesday after the vessel came within 150 yards (137 meters), a U.S. official told Reuters."
      ],
      "text/plain": [
       "<IPython.core.display.Markdown object>"
      ]
     },
     "metadata": {},
     "output_type": "display_data"
    },
    {
     "data": {
      "text/markdown": [
       "[![](https://s4.reutersmedia.net/resources_v2/images/rcom-default.png)](http://www.reuters.com/article/us-usa-iran-military-idUSKBN1AA1P3)"
      ],
      "text/plain": [
       "<IPython.core.display.Markdown object>"
      ]
     },
     "metadata": {},
     "output_type": "display_data"
    },
    {
     "data": {
      "text/markdown": [
       "## U.S. judge halts deportation of more than 1,400 Iraqi nationals"
      ],
      "text/plain": [
       "<IPython.core.display.Markdown object>"
      ]
     },
     "metadata": {},
     "output_type": "display_data"
    },
    {
     "data": {
      "text/markdown": [
       "A federal judge in Michigan halted on Monday the deportation of more than 1,400 Iraqi nationals from the United States, the latest legal victory for the Iraqi nationals facing deportation in a closely watched case."
      ],
      "text/plain": [
       "<IPython.core.display.Markdown object>"
      ]
     },
     "metadata": {},
     "output_type": "display_data"
    },
    {
     "data": {
      "text/markdown": [
       "[![](https://s4.reutersmedia.net/resources/r/?m=02&d=20170725&t=2&i=1194270109&w=&fh=545px&fw=&ll=&pl=&sq=&r=LYNXMPED6O03S)](http://www.reuters.com/article/us-usa-immigration-iraqis-idUSKBN1AA04Z)"
      ],
      "text/plain": [
       "<IPython.core.display.Markdown object>"
      ]
     },
     "metadata": {},
     "output_type": "display_data"
    },
    {
     "data": {
      "text/markdown": [
       "## Unrest bubbles among Trump's key foreign policy aides: sources"
      ],
      "text/plain": [
       "<IPython.core.display.Markdown object>"
      ]
     },
     "metadata": {},
     "output_type": "display_data"
    },
    {
     "data": {
      "text/markdown": [
       "Frustration is mounting among leading foreign policy officials in President Donald Trump's administration as they chafe at some policy and bureaucratic defeats and complain they lack independence to do their jobs, officials say."
      ],
      "text/plain": [
       "<IPython.core.display.Markdown object>"
      ]
     },
     "metadata": {},
     "output_type": "display_data"
    },
    {
     "data": {
      "text/markdown": [
       "[![](https://s3.reutersmedia.net/resources/r/?m=02&d=20170725&t=2&i=1194302810&w=&fh=545px&fw=&ll=&pl=&sq=&r=LYNXMPED6O00K)](http://www.reuters.com/article/us-usa-trump-nationalsecurity-idUSKBN1AA00P)"
      ],
      "text/plain": [
       "<IPython.core.display.Markdown object>"
      ]
     },
     "metadata": {},
     "output_type": "display_data"
    },
    {
     "data": {
      "text/markdown": [
       "## Exclusive: Australia to accept first Central American refugees under U.S. deal - sources"
      ],
      "text/plain": [
       "<IPython.core.display.Markdown object>"
      ]
     },
     "metadata": {},
     "output_type": "display_data"
    },
    {
     "data": {
      "text/markdown": [
       "Australia will accept several dozen Central American refugees within the next few months, two sources familiar with the process told Reuters, the first transfers under a controversial refugee swap arrangement agreed with the United States."
      ],
      "text/plain": [
       "<IPython.core.display.Markdown object>"
      ]
     },
     "metadata": {},
     "output_type": "display_data"
    },
    {
     "data": {
      "text/markdown": [
       "[![](https://s3.reutersmedia.net/resources/r/?m=02&d=20170725&t=2&i=1194289681&w=&fh=545px&fw=&ll=&pl=&sq=&r=LYNXMPED6O0BK)](http://www.reuters.com/article/us-usa-trump-australia-refugees-idUSKBN1AA0NO)"
      ],
      "text/plain": [
       "<IPython.core.display.Markdown object>"
      ]
     },
     "metadata": {},
     "output_type": "display_data"
    },
    {
     "data": {
      "text/markdown": [
       "## Prospect of Trump tariff casts pall over U.S. solar industry"
      ],
      "text/plain": [
       "<IPython.core.display.Markdown object>"
      ]
     },
     "metadata": {},
     "output_type": "display_data"
    },
    {
     "data": {
      "text/markdown": [
       "U.S. solar companies are snapping up cheap imported solar panels ahead of a trade decision by the Trump administration that could drive up costs and cloud the fortunes of one of the economy's brightest stars."
      ],
      "text/plain": [
       "<IPython.core.display.Markdown object>"
      ]
     },
     "metadata": {},
     "output_type": "display_data"
    },
    {
     "data": {
      "text/markdown": [
       "[![](https://s3.reutersmedia.net/resources/r/?m=02&d=20170725&t=2&i=1194306116&w=&fh=545px&fw=&ll=&pl=&sq=&r=LYNXMPED6O05J)](http://www.reuters.com/article/us-usa-trade-solar-insight-idUSKBN1AA0BI)"
      ],
      "text/plain": [
       "<IPython.core.display.Markdown object>"
      ]
     },
     "metadata": {},
     "output_type": "display_data"
    },
    {
     "data": {
      "text/markdown": [
       "## Israel removes Jerusalem metal detectors, Palestinians reject new measures"
      ],
      "text/plain": [
       "<IPython.core.display.Markdown object>"
      ]
     },
     "metadata": {},
     "output_type": "display_data"
    },
    {
     "data": {
      "text/markdown": [
       "Israel removed metal detectors from entrances to the Aqsa mosque compound in Jerusalem's Old City on Tuesday in favour of CCTV cameras, hoping to calm days of bloodshed, but Palestinians said the modified security measures were still unacceptable."
      ],
      "text/plain": [
       "<IPython.core.display.Markdown object>"
      ]
     },
     "metadata": {},
     "output_type": "display_data"
    },
    {
     "data": {
      "text/markdown": [
       "[![](https://s4.reutersmedia.net/resources/r/?m=02&d=20170725&t=2&i=1194262017&w=&fh=545px&fw=&ll=&pl=&sq=&r=LYNXMPED6N1OW)](http://www.reuters.com/article/us-israel-palestinians-idUSKBN1A92Q5)"
      ],
      "text/plain": [
       "<IPython.core.display.Markdown object>"
      ]
     },
     "metadata": {},
     "output_type": "display_data"
    },
    {
     "data": {
      "text/markdown": [
       "# Reuters"
      ],
      "text/plain": [
       "<IPython.core.display.Markdown object>"
      ]
     },
     "metadata": {},
     "output_type": "display_data"
    },
    {
     "data": {
      "text/markdown": [
       "## Canavan resigns from Turnbull ministry over Italian citizenship"
      ],
      "text/plain": [
       "<IPython.core.display.Markdown object>"
      ]
     },
     "metadata": {},
     "output_type": "display_data"
    },
    {
     "data": {
      "text/markdown": [
       "Resources Minister Matt Canavan quits Cabinet after learning that his mother registered him to be an Italian citizen without his knowledge."
      ],
      "text/plain": [
       "<IPython.core.display.Markdown object>"
      ]
     },
     "metadata": {},
     "output_type": "display_data"
    },
    {
     "data": {
      "text/markdown": [
       "[![](http://www.abc.net.au/news/image/8742710-1x1-700x700.jpg)](http://www.abc.net.au/news/2017-07-25/matt-canavan-citizenship-crisis-resigns-from-cabinet/8742702)"
      ],
      "text/plain": [
       "<IPython.core.display.Markdown object>"
      ]
     },
     "metadata": {},
     "output_type": "display_data"
    },
    {
     "data": {
      "text/markdown": [
       "## Antony Green: The High Court's question after Canavan's resignation"
      ],
      "text/plain": [
       "<IPython.core.display.Markdown object>"
      ]
     },
     "metadata": {},
     "output_type": "display_data"
    },
    {
     "data": {
      "text/markdown": [
       "After Matt Canavan's resignation, the question the High Court will consider in this case is whether citizenship-by-descent is a disqualification for being a member of parliament."
      ],
      "text/plain": [
       "<IPython.core.display.Markdown object>"
      ]
     },
     "metadata": {},
     "output_type": "display_data"
    },
    {
     "data": {
      "text/markdown": [
       "[![](http://www.abc.net.au/news/image/8742998-1x1-700x700.jpg)](http://www.abc.net.au/news/2017-07-25/antony-green-high-courts-question-after-matt-canavan-resignation/8742912)"
      ],
      "text/plain": [
       "<IPython.core.display.Markdown object>"
      ]
     },
     "metadata": {},
     "output_type": "display_data"
    },
    {
     "data": {
      "text/markdown": [
       "## Trump denounces Sessions in Twitter tirade for being 'weak' on Clinton"
      ],
      "text/plain": [
       "<IPython.core.display.Markdown object>"
      ]
     },
     "metadata": {},
     "output_type": "display_data"
    },
    {
     "data": {
      "text/markdown": [
       "US President Donald Trump launches a fresh tirade on Twitter against Attorney-General Jeff Sessions."
      ],
      "text/plain": [
       "<IPython.core.display.Markdown object>"
      ]
     },
     "metadata": {},
     "output_type": "display_data"
    },
    {
     "data": {
      "text/markdown": [
       "[![](http://www.abc.net.au/news/image/8743288-1x1-700x700.jpg)](http://www.abc.net.au/news/2017-07-25/trump-denounces-sessions-for-being-weak-on-clinton/8743132)"
      ],
      "text/plain": [
       "<IPython.core.display.Markdown object>"
      ]
     },
     "metadata": {},
     "output_type": "display_data"
    },
    {
     "data": {
      "text/markdown": [
       "## Toyota, Honda and Mazda facing class action over faulty Takata airbags"
      ],
      "text/plain": [
       "<IPython.core.display.Markdown object>"
      ]
     },
     "metadata": {},
     "output_type": "display_data"
    },
    {
     "data": {
      "text/markdown": [
       "A Sydney lawyer has announced a class action lawsuit against Toyota, Honda and Mazda, seeking refunds for cars fitted with faulty airbags from Takata linked to 18 deaths around the world."
      ],
      "text/plain": [
       "<IPython.core.display.Markdown object>"
      ]
     },
     "metadata": {},
     "output_type": "display_data"
    },
    {
     "data": {
      "text/markdown": [
       "[![](http://www.abc.net.au/news/image/7158204-1x1-700x700.jpg)](http://www.abc.net.au/news/2017-07-25/lawsuit-against-car-manufacturers-for-using-takata-airbags/8742966)"
      ],
      "text/plain": [
       "<IPython.core.display.Markdown object>"
      ]
     },
     "metadata": {},
     "output_type": "display_data"
    },
    {
     "data": {
      "text/markdown": [
       "## 'Sorry' Soliola suspended for five matches for high tackle on Slater"
      ],
      "text/plain": [
       "<IPython.core.display.Markdown object>"
      ]
     },
     "metadata": {},
     "output_type": "display_data"
    },
    {
     "data": {
      "text/markdown": [
       "Canberra Raiders player Sia Soliola says he respects and accepts his punishment for a tackle on Melbourne Storm star Billy Slater that he admits was both high and late."
      ],
      "text/plain": [
       "<IPython.core.display.Markdown object>"
      ]
     },
     "metadata": {},
     "output_type": "display_data"
    },
    {
     "data": {
      "text/markdown": [
       "[![](http://www.abc.net.au/news/image/8743164-1x1-700x700.jpg)](http://www.abc.net.au/news/2017-07-25/sia-soliola-suspended-for-5-matches-by-nrl-for-slater-tackle/8743152)"
      ],
      "text/plain": [
       "<IPython.core.display.Markdown object>"
      ]
     },
     "metadata": {},
     "output_type": "display_data"
    },
    {
     "data": {
      "text/markdown": [
       "## 'CASA needs to get off its butt': Second Angel Flight crash prompts demand for crackdown"
      ],
      "text/plain": [
       "<IPython.core.display.Markdown object>"
      ]
     },
     "metadata": {},
     "output_type": "display_data"
    },
    {
     "data": {
      "text/markdown": [
       "A man left devastated after his wife and daughter were killed in an Angel Flight crash in 2011 is demanding safety be improved after another fatal charity flight accident."
      ],
      "text/plain": [
       "<IPython.core.display.Markdown object>"
      ]
     },
     "metadata": {},
     "output_type": "display_data"
    },
    {
     "data": {
      "text/markdown": [
       "[![](http://www.abc.net.au/news/image/8724242-1x1-700x700.jpg)](http://www.abc.net.au/news/2017-07-25/angel-flight-second-fatal-crash-prompts-demand-casa-crackdown/8723500)"
      ],
      "text/plain": [
       "<IPython.core.display.Markdown object>"
      ]
     },
     "metadata": {},
     "output_type": "display_data"
    },
    {
     "data": {
      "text/markdown": [
       "## AFP hunts Australian dark net users after sites taken down"
      ],
      "text/plain": [
       "<IPython.core.display.Markdown object>"
      ]
     },
     "metadata": {},
     "output_type": "display_data"
    },
    {
     "data": {
      "text/markdown": [
       "Despite the closure of two of the biggest dark net marketplaces, many users continue to buy and sell illegal products, including bank account logins and drugs."
      ],
      "text/plain": [
       "<IPython.core.display.Markdown object>"
      ]
     },
     "metadata": {},
     "output_type": "display_data"
    },
    {
     "data": {
      "text/markdown": [
       "[![](http://www.abc.net.au/news/image/8742816-1x1-700x700.jpg)](http://www.abc.net.au/news/2017-07-25/afp-on-hunt-for-aussie-dark-net-users-after-sites-taken-down/8740852)"
      ],
      "text/plain": [
       "<IPython.core.display.Markdown object>"
      ]
     },
     "metadata": {},
     "output_type": "display_data"
    },
    {
     "data": {
      "text/markdown": [
       "## NSW to investigate Murray-Darling Four Corners allegations"
      ],
      "text/plain": [
       "<IPython.core.display.Markdown object>"
      ]
     },
     "metadata": {},
     "output_type": "display_data"
    },
    {
     "data": {
      "text/markdown": [
       "The NSW Government will conduct an inquiry into allegations around the Murray-Darling Basin Plan broadcast by the ABC's Four Corners program."
      ],
      "text/plain": [
       "<IPython.core.display.Markdown object>"
      ]
     },
     "metadata": {},
     "output_type": "display_data"
    },
    {
     "data": {
      "text/markdown": [
       "[![](http://www.abc.net.au/cm/rimage/8654252-1x1-large.jpg?v=4)](http://www.abc.net.au/news/rural/2017-07-25/nsw-announces-inquiry-into-murray-darling-basin-plan-management/8742036)"
      ],
      "text/plain": [
       "<IPython.core.display.Markdown object>"
      ]
     },
     "metadata": {},
     "output_type": "display_data"
    },
    {
     "data": {
      "text/markdown": [
       "## An 'extraordinary, ordinary' modern family — mum, baby and transgender dad"
      ],
      "text/plain": [
       "<IPython.core.display.Markdown object>"
      ]
     },
     "metadata": {},
     "output_type": "display_data"
    },
    {
     "data": {
      "text/markdown": [
       "Lucky and Emma Price are just like any new parents — happy, proud and tired. The one difference is that new dad Lucky started life as a girl."
      ],
      "text/plain": [
       "<IPython.core.display.Markdown object>"
      ]
     },
     "metadata": {},
     "output_type": "display_data"
    },
    {
     "data": {
      "text/markdown": [
       "[![](http://www.abc.net.au/news/image/8700500-1x1-700x700.jpg)](http://www.abc.net.au/news/2017-07-25/meet-the-modern-family-mother-baby-and-transgender-father/8700284)"
      ],
      "text/plain": [
       "<IPython.core.display.Markdown object>"
      ]
     },
     "metadata": {},
     "output_type": "display_data"
    },
    {
     "data": {
      "text/markdown": [
       "## Four illusions that reveal the hidden workings of your brain"
      ],
      "text/plain": [
       "<IPython.core.display.Markdown object>"
      ]
     },
     "metadata": {},
     "output_type": "display_data"
    },
    {
     "data": {
      "text/markdown": [
       "Rather than delivering information from our eyes in nearly raw form as a camera would, the brain tries to determine what is actually out there."
      ],
      "text/plain": [
       "<IPython.core.display.Markdown object>"
      ]
     },
     "metadata": {},
     "output_type": "display_data"
    },
    {
     "data": {
      "text/markdown": [
       "[![](http://www.abc.net.au/news/image/8742448-1x1-700x700.jpg)](http://www.abc.net.au/news/2017-07-25/four-optical-illusions-reveal-the-hidden-workings-of-your-brain/8742310)"
      ],
      "text/plain": [
       "<IPython.core.display.Markdown object>"
      ]
     },
     "metadata": {},
     "output_type": "display_data"
    },
    {
     "data": {
      "text/markdown": [
       "# The Hindu"
      ],
      "text/plain": [
       "<IPython.core.display.Markdown object>"
      ]
     },
     "metadata": {},
     "output_type": "display_data"
    },
    {
     "data": {
      "text/markdown": [
       "## John McCain Is Returning to the Senate, Probably to Help Destroy Obamacare"
      ],
      "text/plain": [
       "<IPython.core.display.Markdown object>"
      ]
     },
     "metadata": {},
     "output_type": "display_data"
    },
    {
     "data": {
      "text/markdown": [
       "His return on Tuesday, following surgery and a diagnosis of brain cancer, shows Republicans think they’re close to reviving their health-care bill."
      ],
      "text/plain": [
       "<IPython.core.display.Markdown object>"
      ]
     },
     "metadata": {},
     "output_type": "display_data"
    },
    {
     "data": {
      "text/markdown": [
       "[![](https://pixel.nymag.com/imgs/daily/intelligencer/2017/07/24/24-mccain.w1200.h630.jpg)](http://nymag.com/daily/intelligencer/2017/07/mccain-head-back-to-d-c-probably-to-help-destroy-obamacare.html)"
      ],
      "text/plain": [
       "<IPython.core.display.Markdown object>"
      ]
     },
     "metadata": {},
     "output_type": "display_data"
    },
    {
     "data": {
      "text/markdown": [
       "## The 14 Most Inappropriate Moments From Trump’s Speech at the Boy Scout Jamboree"
      ],
      "text/plain": [
       "<IPython.core.display.Markdown object>"
      ]
     },
     "metadata": {},
     "output_type": "display_data"
    },
    {
     "data": {
      "text/markdown": [
       "Trump playfully threatened to fire a cabinet member, attacked President Obama, and thanked the kids for voting for him in November."
      ],
      "text/plain": [
       "<IPython.core.display.Markdown object>"
      ]
     },
     "metadata": {},
     "output_type": "display_data"
    },
    {
     "data": {
      "text/markdown": [
       "[![](https://pixel.nymag.com/imgs/daily/intelligencer/2017/07/25/25-trump-boy-scout-jamboree.w1200.h630.jpg)](http://nymag.com/daily/intelligencer/2017/07/inappropriate-moments-trump-boy-scout-speech.html)"
      ],
      "text/plain": [
       "<IPython.core.display.Markdown object>"
      ]
     },
     "metadata": {},
     "output_type": "display_data"
    },
    {
     "data": {
      "text/markdown": [
       "## HBO’s Diana, Our Mother Tells Her Story Through William and Harry"
      ],
      "text/plain": [
       "<IPython.core.display.Markdown object>"
      ]
     },
     "metadata": {},
     "output_type": "display_data"
    },
    {
     "data": {
      "text/markdown": [
       "A measured but moving tribute that’s as much about William and Harry as it is about the late princess."
      ],
      "text/plain": [
       "<IPython.core.display.Markdown object>"
      ]
     },
     "metadata": {},
     "output_type": "display_data"
    },
    {
     "data": {
      "text/markdown": [
       "[![](https://pixel.nymag.com/imgs/daily/vulture/2017/07/24/24-diana-mother.w1200.h630.jpg)](http://www.vulture.com/2017/07/diana-our-mother-her-life-and-legacy-review.html)"
      ],
      "text/plain": [
       "<IPython.core.display.Markdown object>"
      ]
     },
     "metadata": {},
     "output_type": "display_data"
    },
    {
     "data": {
      "text/markdown": [
       "## Our 13 Biggest Questions About the Game of Thrones Season 7 Episode ‘Stormborn’"
      ],
      "text/plain": [
       "<IPython.core.display.Markdown object>"
      ]
     },
     "metadata": {},
     "output_type": "display_data"
    },
    {
     "data": {
      "text/markdown": [
       "Is Varys lying to Daenerys? Can a crossbow really kill a dragon? Does Grey Worm have a penis?"
      ],
      "text/plain": [
       "<IPython.core.display.Markdown object>"
      ]
     },
     "metadata": {},
     "output_type": "display_data"
    },
    {
     "data": {
      "text/markdown": [
       "[![](https://pixel.nymag.com/imgs/daily/vulture/2017/07/11/got/got-s1-024.w1200.h630.jpg)](http://www.vulture.com/2017/07/game-of-thrones-season-7-stormborn-questions.html)"
      ],
      "text/plain": [
       "<IPython.core.display.Markdown object>"
      ]
     },
     "metadata": {},
     "output_type": "display_data"
    },
    {
     "data": {
      "text/markdown": [
       "## We’re Approaching a Major Turning Point in Trump-Era Pop Culture"
      ],
      "text/plain": [
       "<IPython.core.display.Markdown object>"
      ]
     },
     "metadata": {},
     "output_type": "display_data"
    },
    {
     "data": {
      "text/markdown": [
       "Trump parallels in movies and TV will soon be intentional instead of just coincidental."
      ],
      "text/plain": [
       "<IPython.core.display.Markdown object>"
      ]
     },
     "metadata": {},
     "output_type": "display_data"
    },
    {
     "data": {
      "text/markdown": [
       "[![](https://pixel.nymag.com/imgs/daily/vulture/2017/07/24/24-trump-parallels.w1200.h630.jpg)](http://www.vulture.com/2017/07/were-approaching-a-turning-point-in-trump-era-pop-culture.html)"
      ],
      "text/plain": [
       "<IPython.core.display.Markdown object>"
      ]
     },
     "metadata": {},
     "output_type": "display_data"
    },
    {
     "data": {
      "text/markdown": [
       "## Democrats Unveil Populist Economic Agenda for 2018"
      ],
      "text/plain": [
       "<IPython.core.display.Markdown object>"
      ]
     },
     "metadata": {},
     "output_type": "display_data"
    },
    {
     "data": {
      "text/markdown": [
       "The Donkey Party promises to secure Americans a “better deal” by taking on Big Pharma and concentrated corporate power."
      ],
      "text/plain": [
       "<IPython.core.display.Markdown object>"
      ]
     },
     "metadata": {},
     "output_type": "display_data"
    },
    {
     "data": {
      "text/markdown": [
       "[![](https://pixel.nymag.com/imgs/daily/intelligencer/2017/07/24/24-chuck-schumer.w1200.h630.jpg)](http://nymag.com/daily/intelligencer/2017/07/democrats-unveil-populist-economic-agenda-for-2018.html)"
      ],
      "text/plain": [
       "<IPython.core.display.Markdown object>"
      ]
     },
     "metadata": {},
     "output_type": "display_data"
    },
    {
     "data": {
      "text/markdown": [
       "## T.J. Miller Knows You Think He’s Crazy for Leaving Silicon Valley"
      ],
      "text/plain": [
       "<IPython.core.display.Markdown object>"
      ]
     },
     "metadata": {},
     "output_type": "display_data"
    },
    {
     "data": {
      "text/markdown": [
       "A candid conversation with the actor and former HBO star."
      ],
      "text/plain": [
       "<IPython.core.display.Markdown object>"
      ]
     },
     "metadata": {},
     "output_type": "display_data"
    },
    {
     "data": {
      "text/markdown": [
       "[![](https://pixel.nymag.com/imgs/daily/vulture/2017/07/20/magazine/21-tjmiller-feature-lede.w1200.h630.jpg)](http://www.vulture.com/2017/07/t-j-miller-on-leaving-hbo-silicon-valley.html)"
      ],
      "text/plain": [
       "<IPython.core.display.Markdown object>"
      ]
     },
     "metadata": {},
     "output_type": "display_data"
    },
    {
     "data": {
      "text/markdown": [
       "## Insecure’s Yvonne Orji Is Living Single"
      ],
      "text/plain": [
       "<IPython.core.display.Markdown object>"
      ]
     },
     "metadata": {},
     "output_type": "display_data"
    },
    {
     "data": {
      "text/markdown": [
       "How Insecure and Yvonne Orji are reinventing TV’s single woman."
      ],
      "text/plain": [
       "<IPython.core.display.Markdown object>"
      ]
     },
     "metadata": {},
     "output_type": "display_data"
    },
    {
     "data": {
      "text/markdown": [
       "[![](https://pixel.nymag.com/imgs/fashion/daily/2017/07/YvonneOrji/YvonneOrji_11.w1200.h630.jpg)](https://www.thecut.com/2017/07/insecures-yvonne-orji-is-your-favorite-single-lady.html)"
      ],
      "text/plain": [
       "<IPython.core.display.Markdown object>"
      ]
     },
     "metadata": {},
     "output_type": "display_data"
    },
    {
     "data": {
      "text/markdown": [
       "## The Hottest Cosplayers at Comic-Con"
      ],
      "text/plain": [
       "<IPython.core.display.Markdown object>"
      ]
     },
     "metadata": {},
     "output_type": "display_data"
    },
    {
     "data": {
      "text/markdown": [
       "▶️  These cosplayers are sizzling."
      ],
      "text/plain": [
       "<IPython.core.display.Markdown object>"
      ]
     },
     "metadata": {},
     "output_type": "display_data"
    },
    {
     "data": {
      "text/markdown": [
       "[![](https://pixel.nymag.com/imgs/daily/vulture/2017/07/21/cosplayers.w1200.h630.png)](http://www.vulture.com/2017/07/the-hottest-cosplayers-at-comic-con.html)"
      ],
      "text/plain": [
       "<IPython.core.display.Markdown object>"
      ]
     },
     "metadata": {},
     "output_type": "display_data"
    },
    {
     "data": {
      "text/markdown": [
       "## An Insanely Useful Concealer Hack From Adele’s Makeup Artist"
      ],
      "text/plain": [
       "<IPython.core.display.Markdown object>"
      ]
     },
     "metadata": {},
     "output_type": "display_data"
    },
    {
     "data": {
      "text/markdown": [
       "How to make your makeup last longer."
      ],
      "text/plain": [
       "<IPython.core.display.Markdown object>"
      ]
     },
     "metadata": {},
     "output_type": "display_data"
    },
    {
     "data": {
      "text/markdown": [
       "[![](https://pixel.nymag.com/imgs/fashion/daily/2017/07/21/21-marc-jacobs-primer.w1200.h630.jpg)](https://www.thecut.com/2017/07/best-concealer-eyes-adele-makeup.html)"
      ],
      "text/plain": [
       "<IPython.core.display.Markdown object>"
      ]
     },
     "metadata": {},
     "output_type": "display_data"
    },
    {
     "data": {
      "text/markdown": [
       "# BBC News"
      ],
      "text/plain": [
       "<IPython.core.display.Markdown object>"
      ]
     },
     "metadata": {},
     "output_type": "display_data"
    },
    {
     "data": {
      "text/markdown": [
       "## Keiner will die A21 markieren - Einer Autobahn fehlt jede Spur"
      ],
      "text/plain": [
       "<IPython.core.display.Markdown object>"
      ]
     },
     "metadata": {},
     "output_type": "display_data"
    },
    {
     "data": {
      "text/markdown": [
       "Wir fahr'n fahr'n fahr'n auf der Autobahn... Aber nicht auf diesem Teilstück der A21 in Schleswig-Holstein! Dabei ist es frisch geteert und saniert, sieht gut aus und wartet eigentlich nur noch auf"
      ],
      "text/plain": [
       "<IPython.core.display.Markdown object>"
      ]
     },
     "metadata": {},
     "output_type": "display_data"
    },
    {
     "data": {
      "text/markdown": [
       "[![](http://bilder.bild.de/fotos/ein-teilabschnitt-der-a21-200462950-52655864/Bild/3.bild.jpg)](http://www.bild.de/news/inland/autobahnen/autobahn-a21-sucht-markierung-52655646.bild.html)"
      ],
      "text/plain": [
       "<IPython.core.display.Markdown object>"
      ]
     },
     "metadata": {},
     "output_type": "display_data"
    },
    {
     "data": {
      "text/markdown": [
       "## Nach Tod des Darknet-Häuptlings - Jetzt jagt die Polizei die Nutzer von „AlphaBay“"
      ],
      "text/plain": [
       "<IPython.core.display.Markdown object>"
      ]
     },
     "metadata": {},
     "output_type": "display_data"
    },
    {
     "data": {
      "text/markdown": [
       "Am 5. Juli 2017 schloss das US-Justizministerium „AlphaBay“, die größte Verkaufs-Plattform im Darknetz. Noch am gleichen Tag stürmte die thailändische Polizei die Villa von „AlphaBay“-Chef Alexandre"
      ],
      "text/plain": [
       "<IPython.core.display.Markdown object>"
      ]
     },
     "metadata": {},
     "output_type": "display_data"
    },
    {
     "data": {
      "text/markdown": [
       "[![](http://bilder.bild.de/fotos/erst-schaltete-das-us-justizministerium-die-darknet-plattform-alpha-bay-dann-nahm-sich-der-darknet-200462627-52652660/Bild/4.bild.jpg)](http://www.bild.de/news/ausland/darknet/darknet-die-jagd-geht-weiter-52652042.bild.html)"
      ],
      "text/plain": [
       "<IPython.core.display.Markdown object>"
      ]
     },
     "metadata": {},
     "output_type": "display_data"
    },
    {
     "data": {
      "text/markdown": [
       "## Schwänze als Trophäen an Baum genagelt - Neonazi erschießt Eichhörnchen"
      ],
      "text/plain": [
       "<IPython.core.display.Markdown object>"
      ]
     },
     "metadata": {},
     "output_type": "display_data"
    },
    {
     "data": {
      "text/markdown": [
       "Wandlitz (Brandenburg) – Flink flitzen die possierlichen Tierchen von Baum zu Baum. Doch in Wandlitz in Brandenburg rennen sie am vergangenen Wochenende um ihr Leben: Ein Rechtsradikaler schießt auf"
      ],
      "text/plain": [
       "<IPython.core.display.Markdown object>"
      ]
     },
     "metadata": {},
     "output_type": "display_data"
    },
    {
     "data": {
      "text/markdown": [
       "[![](http://bilder.bild.de/fotos/neonazi-erschiesst-eichhoernchen-200462516-52651736/Bild/2.bild.jpg)](http://www.bild.de/regional/berlin/schiessen/rechtsradikaler-erschiesst-drei-erichhoernchen-52643716.bild.html)"
      ],
      "text/plain": [
       "<IPython.core.display.Markdown object>"
      ]
     },
     "metadata": {},
     "output_type": "display_data"
    },
    {
     "data": {
      "text/markdown": [
       "## Plädoyer im NSU-Prozess: Bundesanwalt hält Beate Zschäpe für Mittäterin"
      ],
      "text/plain": [
       "<IPython.core.display.Markdown object>"
      ]
     },
     "metadata": {},
     "output_type": "display_data"
    },
    {
     "data": {
      "text/markdown": [
       "München – Für die Bundesanwaltschaft steht fest: Beate Zschäpe ist Mittäterin an allen Morden und Anschlägen des NSU!Bundesanwalt Herbert Diemer sagte, als er sein Plädoyers am Dienstag im Münchner"
      ],
      "text/plain": [
       "<IPython.core.display.Markdown object>"
      ]
     },
     "metadata": {},
     "output_type": "display_data"
    },
    {
     "data": {
      "text/markdown": [
       "[![](http://bilder.bild.de/fotos/zwischen-ihre-anwaelten-hermann-borchert-l-und-mathias-grasel--200462752-52654020/Bild/4.bild.jpg)](http://www.bild.de/regional/muenchen/nsu-prozess/nsu-plaedoyers-52653910.bild.html)"
      ],
      "text/plain": [
       "<IPython.core.display.Markdown object>"
      ]
     },
     "metadata": {},
     "output_type": "display_data"
    },
    {
     "data": {
      "text/markdown": [
       "## Baby Charlie Gard darf sterben: Eltern schreiben bitteren Abschiedsbrief"
      ],
      "text/plain": [
       "<IPython.core.display.Markdown object>"
      ]
     },
     "metadata": {},
     "output_type": "display_data"
    },
    {
     "data": {
      "text/markdown": [
       "Liebe, Trauer und Wut. Nachdem die Eltern des schwerkranken Babys Charlie Gard (elf Monate) sich entschlossen haben, ihr Kind sterben zu lassen, offenbaren sie jetzt ihr Gefühlschaos in einem"
      ],
      "text/plain": [
       "<IPython.core.display.Markdown object>"
      ]
     },
     "metadata": {},
     "output_type": "display_data"
    },
    {
     "data": {
      "text/markdown": [
       "[![](http://bilder.bild.de/fotos/baby-charlie-gard-darf-sterben-eltern-schreiben-bitteren-abschiedsbrief-200462506-52651584/Bild/4.bild.jpg)](http://www.bild.de/news/ausland/gard-charlie/emotionaler-brief-seiner-eltern-52651306.bild.html)"
      ],
      "text/plain": [
       "<IPython.core.display.Markdown object>"
      ]
     },
     "metadata": {},
     "output_type": "display_data"
    },
    {
     "data": {
      "text/markdown": [
       "# Google News"
      ],
      "text/plain": [
       "<IPython.core.display.Markdown object>"
      ]
     },
     "metadata": {},
     "output_type": "display_data"
    },
    {
     "data": {
      "text/markdown": [
       "## Will Democrats Create New Jobs? Their economic plan has good ideas, but is anyone listening?"
      ],
      "text/plain": [
       "<IPython.core.display.Markdown object>"
      ]
     },
     "metadata": {},
     "output_type": "display_data"
    },
    {
     "data": {
      "text/markdown": [
       "Their plan emphasizes antitrust oversight and worker training."
      ],
      "text/plain": [
       "<IPython.core.display.Markdown object>"
      ]
     },
     "metadata": {},
     "output_type": "display_data"
    },
    {
     "data": {
      "text/markdown": [
       "[![](http://s.newsweek.com/sites/www.newsweek.com/files/2017/06/13/chuck-schumer.jpg)](http://www.newsweek.com/will-democrats-economic-plan-work-641294)"
      ],
      "text/plain": [
       "<IPython.core.display.Markdown object>"
      ]
     },
     "metadata": {},
     "output_type": "display_data"
    },
    {
     "data": {
      "text/markdown": [
       "## Kellyanne Conway's attacks on the Russia investigation team deserve punishment, says Bush ethics chief"
      ],
      "text/plain": [
       "<IPython.core.display.Markdown object>"
      ]
     },
     "metadata": {},
     "output_type": "display_data"
    },
    {
     "data": {
      "text/markdown": [
       "The White House has characterized special counsel Robert Mueller and his team as Democratic partisans—but Mueller is a registered Republican."
      ],
      "text/plain": [
       "<IPython.core.display.Markdown object>"
      ]
     },
     "metadata": {},
     "output_type": "display_data"
    },
    {
     "data": {
      "text/markdown": [
       "[![](http://s.newsweek.com/sites/www.newsweek.com/files/2017/07/25/rtx353v7.jpg)](http://www.newsweek.com/trumps-kellyanne-conway-ought-be-fired-says-bush-ethics-chief-641434)"
      ],
      "text/plain": [
       "<IPython.core.display.Markdown object>"
      ]
     },
     "metadata": {},
     "output_type": "display_data"
    },
    {
     "data": {
      "text/markdown": [
       "## Best Personal Injury Attorneys 2017"
      ],
      "text/plain": [
       "<IPython.core.display.Markdown object>"
      ]
     },
     "metadata": {},
     "output_type": "display_data"
    },
    {
     "data": {
      "text/markdown": [
       "It is an unfortunate fact of modern life that many of us can find ourselves, through no fault of our own, involved in an accident resulting in injury. The trauma caused in dealing with an incident can"
      ],
      "text/plain": [
       "<IPython.core.display.Markdown object>"
      ]
     },
     "metadata": {},
     "output_type": "display_data"
    },
    {
     "data": {
      "text/markdown": [
       "[![](None)](http://www.newsweek.com/insights/best-personal-injury-attorneys-2017)"
      ],
      "text/plain": [
       "<IPython.core.display.Markdown object>"
      ]
     },
     "metadata": {},
     "output_type": "display_data"
    },
    {
     "data": {
      "text/markdown": [
       "## Trump jokes that Senate should grill 11-year-old Barron over Russia as investigations probe his family"
      ],
      "text/plain": [
       "<IPython.core.display.Markdown object>"
      ]
     },
     "metadata": {},
     "output_type": "display_data"
    },
    {
     "data": {
      "text/markdown": [
       "The youngest Trump child’s closest known connection with Russia thus far is a shared penchant for caviar—albeit in expensive moisturizer form."
      ],
      "text/plain": [
       "<IPython.core.display.Markdown object>"
      ]
     },
     "metadata": {},
     "output_type": "display_data"
    },
    {
     "data": {
      "text/markdown": [
       "[![](http://s.newsweek.com/sites/www.newsweek.com/files/2017/07/25/donald-and-barron-trump.jpg)](http://www.newsweek.com/donald-trump-russian-interference-barron-trump-641534)"
      ],
      "text/plain": [
       "<IPython.core.display.Markdown object>"
      ]
     },
     "metadata": {},
     "output_type": "display_data"
    },
    {
     "data": {
      "text/markdown": [
       "## Africa’s commits to sustainable tourism while keeping China in its sights at recent UNWTO meeting in Ethiopia"
      ],
      "text/plain": [
       "<IPython.core.display.Markdown object>"
      ]
     },
     "metadata": {},
     "output_type": "display_data"
    },
    {
     "data": {
      "text/markdown": [
       "Sponsor InsightAfrica’s commits to sustainable tourism while keeping China in its si"
      ],
      "text/plain": [
       "<IPython.core.display.Markdown object>"
      ]
     },
     "metadata": {},
     "output_type": "display_data"
    },
    {
     "data": {
      "text/markdown": [
       "[![](None)](http://www.newsweek.com/sponsored/importance-of-sustainability)"
      ],
      "text/plain": [
       "<IPython.core.display.Markdown object>"
      ]
     },
     "metadata": {},
     "output_type": "display_data"
    },
    {
     "data": {
      "text/markdown": [
       "## Fox News refuses to apologize to New York Times for Baghdadi segment"
      ],
      "text/plain": [
       "<IPython.core.display.Markdown object>"
      ]
     },
     "metadata": {},
     "output_type": "display_data"
    },
    {
     "data": {
      "text/markdown": [
       "Fox News only issued an \"update\" to the segment that angered the newspaper, which demanded an on-air apology."
      ],
      "text/plain": [
       "<IPython.core.display.Markdown object>"
      ]
     },
     "metadata": {},
     "output_type": "display_data"
    },
    {
     "data": {
      "text/markdown": [
       "[![](http://s.newsweek.com/sites/www.newsweek.com/files/2017/05/09/new-york-times.jpg)](http://www.newsweek.com/trump-vs-new-york-times-fox-news-refuses-apologize-baghdadi-foiled-641412)"
      ],
      "text/plain": [
       "<IPython.core.display.Markdown object>"
      ]
     },
     "metadata": {},
     "output_type": "display_data"
    },
    {
     "data": {
      "text/markdown": [
       "## North Korea says it will strike U.S. with \"'powerful nuclear hammer\" should anything happen to Kim Jong Un"
      ],
      "text/plain": [
       "<IPython.core.display.Markdown object>"
      ]
     },
     "metadata": {},
     "output_type": "display_data"
    },
    {
     "data": {
      "text/markdown": [
       "North Korea's response to the CIA Director's comments on regime change comes amid rumors of a new nuclear test scheduled for this week."
      ],
      "text/plain": [
       "<IPython.core.display.Markdown object>"
      ]
     },
     "metadata": {},
     "output_type": "display_data"
    },
    {
     "data": {
      "text/markdown": [
       "[![](http://s.newsweek.com/sites/www.newsweek.com/files/2017/07/25/north-korea-parades-missile.jpg)](http://www.newsweek.com/north-korea-threatens-strike-us-heart-powerful-nuclear-hammer-honed-and-641482)"
      ],
      "text/plain": [
       "<IPython.core.display.Markdown object>"
      ]
     },
     "metadata": {},
     "output_type": "display_data"
    },
    {
     "data": {
      "text/markdown": [
       "## Can Trump pardon himself? Governors and a drunk mayor have"
      ],
      "text/plain": [
       "<IPython.core.display.Markdown object>"
      ]
     },
     "metadata": {},
     "output_type": "display_data"
    },
    {
     "data": {
      "text/markdown": [
       "Before the state of Washington existed, the governor of the territory granted himself a pardon to avoid punishment for contempt of court."
      ],
      "text/plain": [
       "<IPython.core.display.Markdown object>"
      ]
     },
     "metadata": {},
     "output_type": "display_data"
    },
    {
     "data": {
      "text/markdown": [
       "[![](http://s.newsweek.com/sites/www.newsweek.com/files/2017/07/24/0724governorspardonedthemselves02.jpg)](http://www.newsweek.com/trump-granting-himself-pardon-governors-641150)"
      ],
      "text/plain": [
       "<IPython.core.display.Markdown object>"
      ]
     },
     "metadata": {},
     "output_type": "display_data"
    },
    {
     "data": {
      "text/markdown": [
       "## Jeff Sessions’s opponent on marijuana is a bit tougher than Trump"
      ],
      "text/plain": [
       "<IPython.core.display.Markdown object>"
      ]
     },
     "metadata": {},
     "output_type": "display_data"
    },
    {
     "data": {
      "text/markdown": [
       "The Super Bowl XXXIII champion Marvin Washington is one of five plaintiffs suing the attorney general over marijuana legislation."
      ],
      "text/plain": [
       "<IPython.core.display.Markdown object>"
      ]
     },
     "metadata": {},
     "output_type": "display_data"
    },
    {
     "data": {
      "text/markdown": [
       "[![](http://s.newsweek.com/sites/www.newsweek.com/files/2017/07/25/jeff-sessions.jpg)](http://www.newsweek.com/jeff-sessions-medical-marijuana-marvin-washington-641446)"
      ],
      "text/plain": [
       "<IPython.core.display.Markdown object>"
      ]
     },
     "metadata": {},
     "output_type": "display_data"
    },
    {
     "data": {
      "text/markdown": [
       "## New and biggest species of sunfish found in New Zealand after 130 years of searching"
      ],
      "text/plain": [
       "<IPython.core.display.Markdown object>"
      ]
     },
     "metadata": {},
     "output_type": "display_data"
    },
    {
     "data": {
      "text/markdown": [
       "The two-ton Hoodwinker sunfish doesn't have lumps, bumps or a snout, as other sunfish have."
      ],
      "text/plain": [
       "<IPython.core.display.Markdown object>"
      ]
     },
     "metadata": {},
     "output_type": "display_data"
    },
    {
     "data": {
      "text/markdown": [
       "[![](http://s.newsweek.com/sites/www.newsweek.com/files/2017/07/24/giant-sunfish-found-new-zealand-first-new-species-discovered-130-years.png)](http://www.newsweek.com/sunfish-new-zealand-new-species-hoodwinker-641194)"
      ],
      "text/plain": [
       "<IPython.core.display.Markdown object>"
      ]
     },
     "metadata": {},
     "output_type": "display_data"
    },
    {
     "data": {
      "text/markdown": [
       "# Associated Press"
      ],
      "text/plain": [
       "<IPython.core.display.Markdown object>"
      ]
     },
     "metadata": {},
     "output_type": "display_data"
    },
    {
     "data": {
      "text/markdown": [
       "## EZB-Niedrigzinsen schläfern Politiker ein: „Trügerische Sicherheit“: Bundesbank-Rechnung zeigt Desaster hinter Wirtschaftswunder"
      ],
      "text/plain": [
       "<IPython.core.display.Markdown object>"
      ]
     },
     "metadata": {},
     "output_type": "display_data"
    },
    {
     "data": {
      "text/markdown": [
       "Sparer ächzen unter den Niedrigzinsen. Für die Staaten im Euro-Raum erweist sich die ultralockere Geldpolitik der Europäischen Zentralbank dagegen als Segen. Und Banken greifen zunehmend zu einer kreativen Methode, um Strafzinsen fürs Parken von Geld zu entgehen."
      ],
      "text/plain": [
       "<IPython.core.display.Markdown object>"
      ]
     },
     "metadata": {},
     "output_type": "display_data"
    },
    {
     "data": {
      "text/markdown": [
       "[![](http://p5.focus.de/img/fotos/crop7389570/9682711911-w1200-h627-o-q75-p5/urn-newsml-dpa-com-20090101-170724-99-363024-large-4-3.jpg)](http://www.focus.de/finanzen/news/staatsverschuldung/niedrigzinsen-entlasten-euro-staaten-um-fast-eine-billion-bundesbank-rechnung-zeigt-so-zerbrechlich-ist-das-neue-deutsche-wirtschaftswunder_id_7394360.html)"
      ],
      "text/plain": [
       "<IPython.core.display.Markdown object>"
      ]
     },
     "metadata": {},
     "output_type": "display_data"
    },
    {
     "data": {
      "text/markdown": [
       "## Türkei-Präsident wirft Bundesregierung Spionage vor: Erdogan zu Steudtner: \"Agenten zerteilen mein Land\""
      ],
      "text/plain": [
       "<IPython.core.display.Markdown object>"
      ]
     },
     "metadata": {},
     "output_type": "display_data"
    },
    {
     "data": {
      "text/markdown": [
       "Recep Tayyip Erdogan hat Spionagevorwürfe gegen die Bundesregierung erhoben. Vor dem Parlament in Ankara spricht der türkische Staatspräsident von Agenten, die sich in den Hotels tummeln und sein Land zerteilen."
      ],
      "text/plain": [
       "<IPython.core.display.Markdown object>"
      ]
     },
     "metadata": {},
     "output_type": "display_data"
    },
    {
     "data": {
      "text/markdown": [
       "[![](http://p5.focus.de/img/fotos/crop7396345/78427145-w1200-h627-o-q75-p5/erdogan.jpg)](http://www.focus.de/politik/videos/tuerkei-praesident-wirft-bundesregierung-spionage-vor-erdogan-zu-steudtner-agenten-zerteilen-mein-land_id_7396271.html)"
      ],
      "text/plain": [
       "<IPython.core.display.Markdown object>"
      ]
     },
     "metadata": {},
     "output_type": "display_data"
    },
    {
     "data": {
      "text/markdown": [
       "## FC Bayern schlägt Chelsea in Singapur : Müller trifft doppelt: Münchner machen Milan-Debakel vergessen"
      ],
      "text/plain": [
       "<IPython.core.display.Markdown object>"
      ]
     },
     "metadata": {},
     "output_type": "display_data"
    },
    {
     "data": {
      "text/markdown": [
       "Nach dem 0:4-Debakel gegen den AC Mailand meldet sich der deutsche Rekordmeister eindrucksvoll zurück. In Singapur bezwingt der FC Bayern England-Meister FC Chelsea verdient. Vor allem Thomas Müller tankt Selbstvertrauen für die kommenden Wochen."
      ],
      "text/plain": [
       "<IPython.core.display.Markdown object>"
      ]
     },
     "metadata": {},
     "output_type": "display_data"
    },
    {
     "data": {
      "text/markdown": [
       "[![](http://p5.focus.de/img/fotos/crop7396453/3602717205-w1200-h627-o-q75-p5/bayern-chelsea.jpg)](http://www.focus.de/sport/fussball/fc-bayern-gegen-fc-chelsea-im-live-ticker-muenchner-muessen-in-singapur-wiedergutmachung-leisten_id_7394664.html)"
      ],
      "text/plain": [
       "<IPython.core.display.Markdown object>"
      ]
     },
     "metadata": {},
     "output_type": "display_data"
    },
    {
     "data": {
      "text/markdown": [
       "## Europa war nie das Ziel: Studie zeigt deutlich: Mehrheit der Afrikaner flieht wegen schlimmer Lebensbedingungen"
      ],
      "text/plain": [
       "<IPython.core.display.Markdown object>"
      ]
     },
     "metadata": {},
     "output_type": "display_data"
    },
    {
     "data": {
      "text/markdown": [
       "Sie wollten nie nach Europa und traten dennoch den lebensgefährlichen Weg nach Italien an: Eine Studie zeigt nun, dass viele afrikanische Jugendliche vor ihren erschreckenden Lebensumständen fliehen mussten - oft, ohne das Wissen ihrer Familien. „Wenn der Löwe hinter dir steht und das Meer vor dir liegt, gehst du auf's Meer“, erklärte etwa ein Jugendlicher."
      ],
      "text/plain": [
       "<IPython.core.display.Markdown object>"
      ]
     },
     "metadata": {},
     "output_type": "display_data"
    },
    {
     "data": {
      "text/markdown": [
       "[![](http://p5.focus.de/img/fotos/crop7397278/3162715934-w1200-h627-o-q75-p5/5977373ce4b08a9b6c81ea2e-568x320-1-jul-25-2017-13-32-53-poster.jpg)](http://www.focus.de/politik/videos/europa-war-nie-das-ziel-afrikanische-jugendliche-fluechten-nach-europa-um-aussichtslosigkeit-zu-entkommen_id_7397279.html)"
      ],
      "text/plain": [
       "<IPython.core.display.Markdown object>"
      ]
     },
     "metadata": {},
     "output_type": "display_data"
    },
    {
     "data": {
      "text/markdown": [
       "## Günstige Finanzierung sichern: Drei Wege, wie sich Hausbesitzer jetzt vor der Zinswende retten"
      ],
      "text/plain": [
       "<IPython.core.display.Markdown object>"
      ]
     },
     "metadata": {},
     "output_type": "display_data"
    },
    {
     "data": {
      "text/markdown": [
       "Die Zinswende ist eingeläutet. Schon erhöhen erste Banken die Zinsen. Für Hausbesitzer, deren Finanzierung in den kommenden Jahren ausläuft, könnten Anschlusskredite dadurch deutlich teurer werden als geplant. FOCUS Online erklärt, wie Sie Ihr Darlehen jetzt am besten absichern."
      ],
      "text/plain": [
       "<IPython.core.display.Markdown object>"
      ]
     },
     "metadata": {},
     "output_type": "display_data"
    },
    {
     "data": {
      "text/markdown": [
       "[![](http://p5.focus.de/img/fotos/crop430658/2452712509-w1200-h627-o-q75-p5/traumhaus5-colourbox.jpg)](http://www.focus.de/immobilien/finanzieren/guenstige-finanzierung-sichern-drei-wege-wie-sich-hausbesitzer-jetzt-vor-der-zinswende-retten_id_7395833.html)"
      ],
      "text/plain": [
       "<IPython.core.display.Markdown object>"
      ]
     },
     "metadata": {},
     "output_type": "display_data"
    },
    {
     "data": {
      "text/markdown": [
       "## Gastbeitrag von Ralph Ghadban: Es wird eng für die kriminellen Clans"
      ],
      "text/plain": [
       "<IPython.core.display.Markdown object>"
      ]
     },
     "metadata": {},
     "output_type": "display_data"
    },
    {
     "data": {
      "text/markdown": [
       "Gegen die Stimmen der Linken und der Grünen haben die CDU/CSU und die SPD das „Gesetz zur Reform der strafrechtlichen Vermögensabschöpfung“ verabschiedet. Es trifft den Nerv. Denn kriminelle Clans haben in der Vergangenheit eine völlig neue Funktion entwickelt, der das neue Gesetz nun entgegenwirkt."
      ],
      "text/plain": [
       "<IPython.core.display.Markdown object>"
      ]
     },
     "metadata": {},
     "output_type": "display_data"
    },
    {
     "data": {
      "text/markdown": [
       "[![](http://p5.focus.de/img/incoming/crop5094303/7562713647-w1200-h627-o-q75-p5/kriminalitaet-in-dui-47378943.jpg)](http://www.focus.de/politik/experten/ghadban/gastbeitrag-von-ralph-ghadban-es-wird-eng-fuer-die-kriminellen-clans_id_7396061.html)"
      ],
      "text/plain": [
       "<IPython.core.display.Markdown object>"
      ]
     },
     "metadata": {},
     "output_type": "display_data"
    },
    {
     "data": {
      "text/markdown": [
       "## Angst vor Nordkoreas Raketen: Hawaii-Regierung gibt Bürgern Anweisung, wie sie sich vor Kims Atombomben schützen sollen"
      ],
      "text/plain": [
       "<IPython.core.display.Markdown object>"
      ]
     },
     "metadata": {},
     "output_type": "display_data"
    },
    {
     "data": {
      "text/markdown": [
       "Nachdem das Regime in Pjöngjang erfolgreich eine Langstreckenrakete getestet hat, wächst in den USA die Angst vor einem Atomangriff der Nordkoreaner. Der US-Bundesstaat Hawaii trifft ganz konkrete Vorkehrungen - und gibt seinen Einwohnern Tipps an die Hand, die im Ernstfall ihr Leben retten soll."
      ],
      "text/plain": [
       "<IPython.core.display.Markdown object>"
      ]
     },
     "metadata": {},
     "output_type": "display_data"
    },
    {
     "data": {
      "text/markdown": [
       "[![](http://p5.focus.de/img/fotos/crop7396326/0512719370-w1200-h627-o-q75-p5/59770f1ee4b08a9b6c81e939-568x320-1-jul-25-2017-11-35-59-poster.jpg)](http://www.focus.de/politik/videos/hawaii-regierung-empfiehlt-so-sollen-sich-buerger-vor-nordkoreas-atombomben-schuetzen_id_7396327.html)"
      ],
      "text/plain": [
       "<IPython.core.display.Markdown object>"
      ]
     },
     "metadata": {},
     "output_type": "display_data"
    },
    {
     "data": {
      "text/markdown": [
       "## Neues Handy bei Aldi: Hier halten Nord und Süd zusammen"
      ],
      "text/plain": [
       "<IPython.core.display.Markdown object>"
      ]
     },
     "metadata": {},
     "output_type": "display_data"
    },
    {
     "data": {
      "text/markdown": [
       "Aldi verkauft ab Donnerstag, den 27. Juli, das Android-Smartphone Huawei Y6 2017. Der Preis liegt bei attraktiven 149 Euro. Wer will, nutzt das beiliegende Aldi-Talk Starter-Set im Wert von 10 Euro."
      ],
      "text/plain": [
       "<IPython.core.display.Markdown object>"
      ]
     },
     "metadata": {},
     "output_type": "display_data"
    },
    {
     "data": {
      "text/markdown": [
       "[![](http://www.chip.de/ii/5/8/3/2/2/7/3/7/2bef09ecb057a3dc.jpeg)](http://www.chip.de/news/Neues-Handy-bei-Aldi-Hier-halten-Nord-und-Sued-zusammen_107552086.html)"
      ],
      "text/plain": [
       "<IPython.core.display.Markdown object>"
      ]
     },
     "metadata": {},
     "output_type": "display_data"
    },
    {
     "data": {
      "text/markdown": [
       "## +++ iPhone 8 im News-Ticker +++: Astronomisch hoher Preis: Das iPhone 8 wird wohl so teuer wie nie"
      ],
      "text/plain": [
       "<IPython.core.display.Markdown object>"
      ]
     },
     "metadata": {},
     "output_type": "display_data"
    },
    {
     "data": {
      "text/markdown": [
       "Im Herbst will Apple - genau zehn Jahre nach dem ersten Apple-Smartphone der Geschichte - sein Jubiläums-iPhone präsentieren. Im News-Ticker von FOCUS Online lesen Sie alles Aktuelle zu heißen Gerüchten bis zum Release des iPhone 8."
      ],
      "text/plain": [
       "<IPython.core.display.Markdown object>"
      ]
     },
     "metadata": {},
     "output_type": "display_data"
    },
    {
     "data": {
      "text/markdown": [
       "[![](http://p5.focus.de/img/fotos/crop7202977/5302711616-w1200-h627-o-q75-p5/urn-newsml-dpa-com-20090101-170601-99-679564-large-4-3.jpg)](http://www.focus.de/digital/handy/iphone/iphone-8-im-news-ticker-astronomisch-hoher-preis-die-wichtigsten-infos-sind-jetzt-bekannt_id_7395318.html)"
      ],
      "text/plain": [
       "<IPython.core.display.Markdown object>"
      ]
     },
     "metadata": {},
     "output_type": "display_data"
    },
    {
     "data": {
      "text/markdown": [
       "## Videoüberwachungsschild und Wachdienst: Auf Wunsch seiner Witwe: Sicherheitsvorkehrungen an Kohls Grab verschärft"
      ],
      "text/plain": [
       "<IPython.core.display.Markdown object>"
      ]
     },
     "metadata": {},
     "output_type": "display_data"
    },
    {
     "data": {
      "text/markdown": [
       "Die Witwe von Helmut Kohl sorgt sich offenbar um die Sicherheit seines Grabes in Speyer. Mittlerweile weist dort ein Schild auf eine Überwachung per Video hin. Das ist aber längst nicht die einzige Maßnahme, mit der sie jetzt für Ordnung sorgen will."
      ],
      "text/plain": [
       "<IPython.core.display.Markdown object>"
      ]
     },
     "metadata": {},
     "output_type": "display_data"
    },
    {
     "data": {
      "text/markdown": [
       "[![](http://p5.focus.de/img/fotos/crop7307545/9512716718-w1200-h627-o-q75-p5/1495c4005e66c6ac-1-.jpg)](http://www.focus.de/politik/deutschland/videoueberwachungsschild-und-wachdienst-auf-wunsch-seiner-witwe-sicherheitsvorkehrungen-an-kohls-grab-verschaerft_id_7397284.html)"
      ],
      "text/plain": [
       "<IPython.core.display.Markdown object>"
      ]
     },
     "metadata": {},
     "output_type": "display_data"
    },
    {
     "data": {
      "text/markdown": [
       "# The Huffington Post"
      ],
      "text/plain": [
       "<IPython.core.display.Markdown object>"
      ]
     },
     "metadata": {},
     "output_type": "display_data"
    },
    {
     "data": {
      "text/markdown": [
       "## Tory MPs call for action to avert post-Brexit ports gridlock"
      ],
      "text/plain": [
       "<IPython.core.display.Markdown object>"
      ]
     },
     "metadata": {},
     "output_type": "display_data"
    },
    {
     "data": {
      "text/markdown": [
       "Backbenchers say customs checks need to be improved, roads widened and projects such as new Thames crossing speeded up"
      ],
      "text/plain": [
       "<IPython.core.display.Markdown object>"
      ]
     },
     "metadata": {},
     "output_type": "display_data"
    },
    {
     "data": {
      "text/markdown": [
       "[![](https://i.guim.co.uk/img/media/624dd7f732bc71fffc2e6acf7b7009d1d325c496/231_0_3269_1961/master/3269.jpg?w=1200&h=630&q=55&auto=format&usm=12&fit=crop&crop=faces%2Centropy&bm=normal&ba=bottom%2Cleft&blend64=aHR0cHM6Ly91cGxvYWRzLmd1aW0uY28udWsvMjAxNi8wNS8yNS9vdmVybGF5LWxvZ28tMTIwMC05MF9vcHQucG5n&s=d06995b81815181771094cd1ae263976)](https://www.theguardian.com/politics/2017/jul/25/tory-mps-call-for-action-to-avert-post-brexit-ports-gridlock)"
      ],
      "text/plain": [
       "<IPython.core.display.Markdown object>"
      ]
     },
     "metadata": {},
     "output_type": "display_data"
    },
    {
     "data": {
      "text/markdown": [
       "## Charlie Gard's mother returns to court to ask to let him die at home"
      ],
      "text/plain": [
       "<IPython.core.display.Markdown object>"
      ]
     },
     "metadata": {},
     "output_type": "display_data"
    },
    {
     "data": {
      "text/markdown": [
       "A day after ending five-month legal battle, Connie Yates asks court to decide where critically ill boy will spend final moments"
      ],
      "text/plain": [
       "<IPython.core.display.Markdown object>"
      ]
     },
     "metadata": {},
     "output_type": "display_data"
    },
    {
     "data": {
      "text/markdown": [
       "[![](https://i.guim.co.uk/img/media/85427d753dc4ae2bd37d9c1f871529efec19ea95/0_27_2496_1498/master/2496.jpg?w=1200&h=630&q=55&auto=format&usm=12&fit=crop&crop=faces%2Centropy&bm=normal&ba=bottom%2Cleft&blend64=aHR0cHM6Ly91cGxvYWRzLmd1aW0uY28udWsvMjAxNi8wNS8yNS9vdmVybGF5LWxvZ28tMTIwMC05MF9vcHQucG5n&s=0de7cc6bdd88785b750251f1e0a25d87)](https://www.theguardian.com/uk-news/2017/jul/25/charlie-gard-connie-yates-asks-court-die-at-home)"
      ],
      "text/plain": [
       "<IPython.core.display.Markdown object>"
      ]
     },
     "metadata": {},
     "output_type": "display_data"
    },
    {
     "data": {
      "text/markdown": [
       "## Corbyn joins calls to reclaim UK pseudo-public space from corporate owners"
      ],
      "text/plain": [
       "<IPython.core.display.Markdown object>"
      ]
     },
     "metadata": {},
     "output_type": "display_data"
    },
    {
     "data": {
      "text/markdown": [
       "Labour leader among those voicing concern after Guardian revealed secretive world of privately owned public spaces in London"
      ],
      "text/plain": [
       "<IPython.core.display.Markdown object>"
      ]
     },
     "metadata": {},
     "output_type": "display_data"
    },
    {
     "data": {
      "text/markdown": [
       "[![](https://i.guim.co.uk/img/media/23bed8c3c1a37f25a2d769e0f5c124be8b290f08/0_181_4960_2976/master/4960.jpg?w=1200&h=630&q=55&auto=format&usm=12&fit=crop&crop=faces%2Centropy&bm=normal&ba=bottom%2Cleft&blend64=aHR0cHM6Ly91cGxvYWRzLmd1aW0uY28udWsvMjAxNi8wNS8yNS9vdmVybGF5LWxvZ28tMTIwMC05MF9vcHQucG5n&s=46e403541729ac16e141afb535e59046)](https://www.theguardian.com/cities/2017/jul/25/corbyn-joins-calls-reclaim-uk-public-space-from-corporate-owners)"
      ],
      "text/plain": [
       "<IPython.core.display.Markdown object>"
      ]
     },
     "metadata": {},
     "output_type": "display_data"
    },
    {
     "data": {
      "text/markdown": [
       "## Trump denounces Jeff Sessions for being 'weak' on Hillary Clinton"
      ],
      "text/plain": [
       "<IPython.core.display.Markdown object>"
      ]
     },
     "metadata": {},
     "output_type": "display_data"
    },
    {
     "data": {
      "text/markdown": [
       "On Twitter Trump criticized the investigation into Russian meddling into last year’s US election and slammed the attorney general for not investigating Clinton"
      ],
      "text/plain": [
       "<IPython.core.display.Markdown object>"
      ]
     },
     "metadata": {},
     "output_type": "display_data"
    },
    {
     "data": {
      "text/markdown": [
       "[![](https://i.guim.co.uk/img/media/8a2ae2c3a545a9c26fea9025b423067db99a89b2/0_0_5157_3094/master/5157.jpg?w=1200&h=630&q=55&auto=format&usm=12&fit=crop&crop=faces%2Centropy&bm=normal&ba=bottom%2Cleft&blend64=aHR0cHM6Ly91cGxvYWRzLmd1aW0uY28udWsvMjAxNi8wNS8yNS9vdmVybGF5LWxvZ28tMTIwMC05MF9vcHQucG5n&s=6ebee60c04c5a7834aa198a157a4babc)](https://www.theguardian.com/us-news/2017/jul/25/donald-trump-jeff-sessions-weak-on-hillary-clinton-twitter-russia)"
      ],
      "text/plain": [
       "<IPython.core.display.Markdown object>"
      ]
     },
     "metadata": {},
     "output_type": "display_data"
    },
    {
     "data": {
      "text/markdown": [
       "## France raises hopes of deal between Libyan rival factions"
      ],
      "text/plain": [
       "<IPython.core.display.Markdown object>"
      ]
     },
     "metadata": {},
     "output_type": "display_data"
    },
    {
     "data": {
      "text/markdown": [
       "Draft document says Elysée hopes Libyan PM and eastern commander will agree to truce and to work towards elections"
      ],
      "text/plain": [
       "<IPython.core.display.Markdown object>"
      ]
     },
     "metadata": {},
     "output_type": "display_data"
    },
    {
     "data": {
      "text/markdown": [
       "[![](https://i.guim.co.uk/img/media/5ef9016f8b5d6d35d5a275658f3fa6653f2a0444/973_13_2657_1594/master/2657.jpg?w=1200&h=630&q=55&auto=format&usm=12&fit=crop&crop=faces%2Centropy&bm=normal&ba=bottom%2Cleft&blend64=aHR0cHM6Ly91cGxvYWRzLmd1aW0uY28udWsvMjAxNi8wNS8yNS9vdmVybGF5LWxvZ28tMTIwMC05MF9vcHQucG5n&s=dcd026956699b77ec0c36c4517f5d82c)](https://www.theguardian.com/world/2017/jul/25/france-raises-hopes-of-deal-between-libyan-rival-factions)"
      ],
      "text/plain": [
       "<IPython.core.display.Markdown object>"
      ]
     },
     "metadata": {},
     "output_type": "display_data"
    },
    {
     "data": {
      "text/markdown": [
       "## Soaring NHS vacancies prompt warnings of 'desperate' understaffing"
      ],
      "text/plain": [
       "<IPython.core.display.Markdown object>"
      ]
     },
     "metadata": {},
     "output_type": "display_data"
    },
    {
     "data": {
      "text/markdown": [
       "Data from NHS Digital shows number of available posts rose 12% over last year, and highlights shrinking nursing workforce"
      ],
      "text/plain": [
       "<IPython.core.display.Markdown object>"
      ]
     },
     "metadata": {},
     "output_type": "display_data"
    },
    {
     "data": {
      "text/markdown": [
       "[![](https://i.guim.co.uk/img/media/6813e58ab11d5a717be90fa1e190f2f3e102d76d/66_0_3368_2021/master/3368.jpg?w=1200&h=630&q=55&auto=format&usm=12&fit=crop&crop=faces%2Centropy&bm=normal&ba=bottom%2Cleft&blend64=aHR0cHM6Ly91cGxvYWRzLmd1aW0uY28udWsvMjAxNi8wNS8yNS9vdmVybGF5LWxvZ28tMTIwMC05MF9vcHQucG5n&s=8751c396ac2ddfafbf0ccfc3887730e8)](https://www.theguardian.com/society/2017/jul/25/soaring-nhs-vacancies-prompt-warnings-of-understaffing-nursing)"
      ],
      "text/plain": [
       "<IPython.core.display.Markdown object>"
      ]
     },
     "metadata": {},
     "output_type": "display_data"
    },
    {
     "data": {
      "text/markdown": [
       "## UK factory output grows at fastest rate since mid-1990s"
      ],
      "text/plain": [
       "<IPython.core.display.Markdown object>"
      ]
     },
     "metadata": {},
     "output_type": "display_data"
    },
    {
     "data": {
      "text/markdown": [
       "CBI survey shows manufacturers upping production and feeling optimistic about future orders due to weaker sterling"
      ],
      "text/plain": [
       "<IPython.core.display.Markdown object>"
      ]
     },
     "metadata": {},
     "output_type": "display_data"
    },
    {
     "data": {
      "text/markdown": [
       "[![](https://i.guim.co.uk/img/media/dbb0dae586fe76cf3bec643a0a35d3c79950f26b/0_141_4000_2400/master/4000.jpg?w=1200&h=630&q=55&auto=format&usm=12&fit=crop&crop=faces%2Centropy&bm=normal&ba=bottom%2Cleft&blend64=aHR0cHM6Ly91cGxvYWRzLmd1aW0uY28udWsvMjAxNi8wNS8yNS9vdmVybGF5LWxvZ28tMTIwMC05MF9vcHQucG5n&s=aa189aa912e22176bf328c8fc59d9a8c)](https://www.theguardian.com/business/2017/jul/25/uk-factory-output-grows-fastest-rate-since-mid-1990s)"
      ],
      "text/plain": [
       "<IPython.core.display.Markdown object>"
      ]
     },
     "metadata": {},
     "output_type": "display_data"
    },
    {
     "data": {
      "text/markdown": [
       "## Quarter of personal loan applicants 'seeking half their annual salary'"
      ],
      "text/plain": [
       "<IPython.core.display.Markdown object>"
      ]
     },
     "metadata": {},
     "output_type": "display_data"
    },
    {
     "data": {
      "text/markdown": [
       "Analysis of inquiries to MoneySuperMarket found that 10% of applicants wanted to borrow more than their annual income"
      ],
      "text/plain": [
       "<IPython.core.display.Markdown object>"
      ]
     },
     "metadata": {},
     "output_type": "display_data"
    },
    {
     "data": {
      "text/markdown": [
       "[![](https://i.guim.co.uk/img/media/4d1ea452b17a92aa9fcbd4d99d7622def913afa3/0_284_5616_3370/master/5616.jpg?w=1200&h=630&q=55&auto=format&usm=12&fit=crop&crop=faces%2Centropy&bm=normal&ba=bottom%2Cleft&blend64=aHR0cHM6Ly91cGxvYWRzLmd1aW0uY28udWsvMjAxNi8wNS8yNS9vdmVybGF5LWxvZ28tMTIwMC05MF9vcHQucG5n&s=12db911314c5b29eef5dbd980338042e)](https://www.theguardian.com/money/2017/jul/25/quarter-of-personal-loan-applicants-seeking-half-their-annual-salary)"
      ],
      "text/plain": [
       "<IPython.core.display.Markdown object>"
      ]
     },
     "metadata": {},
     "output_type": "display_data"
    },
    {
     "data": {
      "text/markdown": [
       "## Man who killed five-year-old boy in London park jailed for life"
      ],
      "text/plain": [
       "<IPython.core.display.Markdown object>"
      ]
     },
     "metadata": {},
     "output_type": "display_data"
    },
    {
     "data": {
      "text/markdown": [
       "Marvyn Iheanacho subjected girlfriend’s son Alex Malcolm to brutal attack in Catford after the boy lost a trainer"
      ],
      "text/plain": [
       "<IPython.core.display.Markdown object>"
      ]
     },
     "metadata": {},
     "output_type": "display_data"
    },
    {
     "data": {
      "text/markdown": [
       "[![](https://i.guim.co.uk/img/media/b9c683b18e5da96aeca041d493596a3285abdd22/0_674_1600_960/master/1600.jpg?w=1200&h=630&q=55&auto=format&usm=12&fit=crop&crop=faces%2Centropy&bm=normal&ba=bottom%2Cleft&blend64=aHR0cHM6Ly91cGxvYWRzLmd1aW0uY28udWsvMjAxNi8wNS8yNS9vdmVybGF5LWxvZ28tMTIwMC05MF9vcHQucG5n&s=6cf986b3bec71f57ce9442eca475f94c)](https://www.theguardian.com/uk-news/2017/jul/25/man-who-killed-five-year-old-boy-london-jailed-for-life-marvyn-iheanacho)"
      ],
      "text/plain": [
       "<IPython.core.display.Markdown object>"
      ]
     },
     "metadata": {},
     "output_type": "display_data"
    },
    {
     "data": {
      "text/markdown": [
       "## Music, video and games growth doubles in UK – helped by Ed Sheeran"
      ],
      "text/plain": [
       "<IPython.core.display.Markdown object>"
      ]
     },
     "metadata": {},
     "output_type": "display_data"
    },
    {
     "data": {
      "text/markdown": [
       "Singer’s Divide album is bestselling product this year as entertainment industry reports rising revenue"
      ],
      "text/plain": [
       "<IPython.core.display.Markdown object>"
      ]
     },
     "metadata": {},
     "output_type": "display_data"
    },
    {
     "data": {
      "text/markdown": [
       "[![](https://i.guim.co.uk/img/media/b6d30f084b166a748ca9bafbd29ea4104eced2ae/0_48_3616_2171/master/3616.jpg?w=1200&h=630&q=55&auto=format&usm=12&fit=crop&crop=faces%2Centropy&bm=normal&ba=bottom%2Cleft&blend64=aHR0cHM6Ly91cGxvYWRzLmd1aW0uY28udWsvMjAxNi8wNS8yNS9vdmVybGF5LWxvZ28tMTIwMC05MF9vcHQucG5n&s=3ebe202ff95c1c7eb35640a7080875dd)](https://www.theguardian.com/business/2017/jul/25/music-video-and-games-growth-doubles-in-uk-helped-by-ed-sheeran)"
      ],
      "text/plain": [
       "<IPython.core.display.Markdown object>"
      ]
     },
     "metadata": {},
     "output_type": "display_data"
    },
    {
     "data": {
      "text/markdown": [
       "# The Washington Post"
      ],
      "text/plain": [
       "<IPython.core.display.Markdown object>"
      ]
     },
     "metadata": {},
     "output_type": "display_data"
    },
    {
     "ename": "URLError",
     "evalue": "<urlopen error [Errno 110] Connection timed out>",
     "output_type": "error",
     "traceback": [
      "\u001b[0;31m---------------------------------------------------------------------------\u001b[0m",
      "\u001b[0;31mTimeoutError\u001b[0m                              Traceback (most recent call last)",
      "\u001b[0;32m~/anaconda3/lib/python3.6/urllib/request.py\u001b[0m in \u001b[0;36mdo_open\u001b[0;34m(self, http_class, req, **http_conn_args)\u001b[0m\n\u001b[1;32m   1317\u001b[0m                 h.request(req.get_method(), req.selector, req.data, headers,\n\u001b[0;32m-> 1318\u001b[0;31m                           encode_chunked=req.has_header('Transfer-encoding'))\n\u001b[0m\u001b[1;32m   1319\u001b[0m             \u001b[0;32mexcept\u001b[0m \u001b[0mOSError\u001b[0m \u001b[0;32mas\u001b[0m \u001b[0merr\u001b[0m\u001b[0;34m:\u001b[0m \u001b[0;31m# timeout error\u001b[0m\u001b[0;34m\u001b[0m\u001b[0m\n",
      "\u001b[0;32m~/anaconda3/lib/python3.6/http/client.py\u001b[0m in \u001b[0;36mrequest\u001b[0;34m(self, method, url, body, headers, encode_chunked)\u001b[0m\n\u001b[1;32m   1238\u001b[0m         \u001b[0;34m\"\"\"Send a complete request to the server.\"\"\"\u001b[0m\u001b[0;34m\u001b[0m\u001b[0m\n\u001b[0;32m-> 1239\u001b[0;31m         \u001b[0mself\u001b[0m\u001b[0;34m.\u001b[0m\u001b[0m_send_request\u001b[0m\u001b[0;34m(\u001b[0m\u001b[0mmethod\u001b[0m\u001b[0;34m,\u001b[0m \u001b[0murl\u001b[0m\u001b[0;34m,\u001b[0m \u001b[0mbody\u001b[0m\u001b[0;34m,\u001b[0m \u001b[0mheaders\u001b[0m\u001b[0;34m,\u001b[0m \u001b[0mencode_chunked\u001b[0m\u001b[0;34m)\u001b[0m\u001b[0;34m\u001b[0m\u001b[0m\n\u001b[0m\u001b[1;32m   1240\u001b[0m \u001b[0;34m\u001b[0m\u001b[0m\n",
      "\u001b[0;32m~/anaconda3/lib/python3.6/http/client.py\u001b[0m in \u001b[0;36m_send_request\u001b[0;34m(self, method, url, body, headers, encode_chunked)\u001b[0m\n\u001b[1;32m   1284\u001b[0m             \u001b[0mbody\u001b[0m \u001b[0;34m=\u001b[0m \u001b[0m_encode\u001b[0m\u001b[0;34m(\u001b[0m\u001b[0mbody\u001b[0m\u001b[0;34m,\u001b[0m \u001b[0;34m'body'\u001b[0m\u001b[0;34m)\u001b[0m\u001b[0;34m\u001b[0m\u001b[0m\n\u001b[0;32m-> 1285\u001b[0;31m         \u001b[0mself\u001b[0m\u001b[0;34m.\u001b[0m\u001b[0mendheaders\u001b[0m\u001b[0;34m(\u001b[0m\u001b[0mbody\u001b[0m\u001b[0;34m,\u001b[0m \u001b[0mencode_chunked\u001b[0m\u001b[0;34m=\u001b[0m\u001b[0mencode_chunked\u001b[0m\u001b[0;34m)\u001b[0m\u001b[0;34m\u001b[0m\u001b[0m\n\u001b[0m\u001b[1;32m   1286\u001b[0m \u001b[0;34m\u001b[0m\u001b[0m\n",
      "\u001b[0;32m~/anaconda3/lib/python3.6/http/client.py\u001b[0m in \u001b[0;36mendheaders\u001b[0;34m(self, message_body, encode_chunked)\u001b[0m\n\u001b[1;32m   1233\u001b[0m             \u001b[0;32mraise\u001b[0m \u001b[0mCannotSendHeader\u001b[0m\u001b[0;34m(\u001b[0m\u001b[0;34m)\u001b[0m\u001b[0;34m\u001b[0m\u001b[0m\n\u001b[0;32m-> 1234\u001b[0;31m         \u001b[0mself\u001b[0m\u001b[0;34m.\u001b[0m\u001b[0m_send_output\u001b[0m\u001b[0;34m(\u001b[0m\u001b[0mmessage_body\u001b[0m\u001b[0;34m,\u001b[0m \u001b[0mencode_chunked\u001b[0m\u001b[0;34m=\u001b[0m\u001b[0mencode_chunked\u001b[0m\u001b[0;34m)\u001b[0m\u001b[0;34m\u001b[0m\u001b[0m\n\u001b[0m\u001b[1;32m   1235\u001b[0m \u001b[0;34m\u001b[0m\u001b[0m\n",
      "\u001b[0;32m~/anaconda3/lib/python3.6/http/client.py\u001b[0m in \u001b[0;36m_send_output\u001b[0;34m(self, message_body, encode_chunked)\u001b[0m\n\u001b[1;32m   1025\u001b[0m         \u001b[0;32mdel\u001b[0m \u001b[0mself\u001b[0m\u001b[0;34m.\u001b[0m\u001b[0m_buffer\u001b[0m\u001b[0;34m[\u001b[0m\u001b[0;34m:\u001b[0m\u001b[0;34m]\u001b[0m\u001b[0;34m\u001b[0m\u001b[0m\n\u001b[0;32m-> 1026\u001b[0;31m         \u001b[0mself\u001b[0m\u001b[0;34m.\u001b[0m\u001b[0msend\u001b[0m\u001b[0;34m(\u001b[0m\u001b[0mmsg\u001b[0m\u001b[0;34m)\u001b[0m\u001b[0;34m\u001b[0m\u001b[0m\n\u001b[0m\u001b[1;32m   1027\u001b[0m \u001b[0;34m\u001b[0m\u001b[0m\n",
      "\u001b[0;32m~/anaconda3/lib/python3.6/http/client.py\u001b[0m in \u001b[0;36msend\u001b[0;34m(self, data)\u001b[0m\n\u001b[1;32m    963\u001b[0m             \u001b[0;32mif\u001b[0m \u001b[0mself\u001b[0m\u001b[0;34m.\u001b[0m\u001b[0mauto_open\u001b[0m\u001b[0;34m:\u001b[0m\u001b[0;34m\u001b[0m\u001b[0m\n\u001b[0;32m--> 964\u001b[0;31m                 \u001b[0mself\u001b[0m\u001b[0;34m.\u001b[0m\u001b[0mconnect\u001b[0m\u001b[0;34m(\u001b[0m\u001b[0;34m)\u001b[0m\u001b[0;34m\u001b[0m\u001b[0m\n\u001b[0m\u001b[1;32m    965\u001b[0m             \u001b[0;32melse\u001b[0m\u001b[0;34m:\u001b[0m\u001b[0;34m\u001b[0m\u001b[0m\n",
      "\u001b[0;32m~/anaconda3/lib/python3.6/http/client.py\u001b[0m in \u001b[0;36mconnect\u001b[0;34m(self)\u001b[0m\n\u001b[1;32m   1391\u001b[0m \u001b[0;34m\u001b[0m\u001b[0m\n\u001b[0;32m-> 1392\u001b[0;31m             \u001b[0msuper\u001b[0m\u001b[0;34m(\u001b[0m\u001b[0;34m)\u001b[0m\u001b[0;34m.\u001b[0m\u001b[0mconnect\u001b[0m\u001b[0;34m(\u001b[0m\u001b[0;34m)\u001b[0m\u001b[0;34m\u001b[0m\u001b[0m\n\u001b[0m\u001b[1;32m   1393\u001b[0m \u001b[0;34m\u001b[0m\u001b[0m\n",
      "\u001b[0;32m~/anaconda3/lib/python3.6/http/client.py\u001b[0m in \u001b[0;36mconnect\u001b[0;34m(self)\u001b[0m\n\u001b[1;32m    935\u001b[0m         self.sock = self._create_connection(\n\u001b[0;32m--> 936\u001b[0;31m             (self.host,self.port), self.timeout, self.source_address)\n\u001b[0m\u001b[1;32m    937\u001b[0m         \u001b[0mself\u001b[0m\u001b[0;34m.\u001b[0m\u001b[0msock\u001b[0m\u001b[0;34m.\u001b[0m\u001b[0msetsockopt\u001b[0m\u001b[0;34m(\u001b[0m\u001b[0msocket\u001b[0m\u001b[0;34m.\u001b[0m\u001b[0mIPPROTO_TCP\u001b[0m\u001b[0;34m,\u001b[0m \u001b[0msocket\u001b[0m\u001b[0;34m.\u001b[0m\u001b[0mTCP_NODELAY\u001b[0m\u001b[0;34m,\u001b[0m \u001b[0;36m1\u001b[0m\u001b[0;34m)\u001b[0m\u001b[0;34m\u001b[0m\u001b[0m\n",
      "\u001b[0;32m~/anaconda3/lib/python3.6/socket.py\u001b[0m in \u001b[0;36mcreate_connection\u001b[0;34m(address, timeout, source_address)\u001b[0m\n\u001b[1;32m    721\u001b[0m     \u001b[0;32mif\u001b[0m \u001b[0merr\u001b[0m \u001b[0;32mis\u001b[0m \u001b[0;32mnot\u001b[0m \u001b[0;32mNone\u001b[0m\u001b[0;34m:\u001b[0m\u001b[0;34m\u001b[0m\u001b[0m\n\u001b[0;32m--> 722\u001b[0;31m         \u001b[0;32mraise\u001b[0m \u001b[0merr\u001b[0m\u001b[0;34m\u001b[0m\u001b[0m\n\u001b[0m\u001b[1;32m    723\u001b[0m     \u001b[0;32melse\u001b[0m\u001b[0;34m:\u001b[0m\u001b[0;34m\u001b[0m\u001b[0m\n",
      "\u001b[0;32m~/anaconda3/lib/python3.6/socket.py\u001b[0m in \u001b[0;36mcreate_connection\u001b[0;34m(address, timeout, source_address)\u001b[0m\n\u001b[1;32m    712\u001b[0m                 \u001b[0msock\u001b[0m\u001b[0;34m.\u001b[0m\u001b[0mbind\u001b[0m\u001b[0;34m(\u001b[0m\u001b[0msource_address\u001b[0m\u001b[0;34m)\u001b[0m\u001b[0;34m\u001b[0m\u001b[0m\n\u001b[0;32m--> 713\u001b[0;31m             \u001b[0msock\u001b[0m\u001b[0;34m.\u001b[0m\u001b[0mconnect\u001b[0m\u001b[0;34m(\u001b[0m\u001b[0msa\u001b[0m\u001b[0;34m)\u001b[0m\u001b[0;34m\u001b[0m\u001b[0m\n\u001b[0m\u001b[1;32m    714\u001b[0m             \u001b[0;32mreturn\u001b[0m \u001b[0msock\u001b[0m\u001b[0;34m\u001b[0m\u001b[0m\n",
      "\u001b[0;31mTimeoutError\u001b[0m: [Errno 110] Connection timed out",
      "\nDuring handling of the above exception, another exception occurred:\n",
      "\u001b[0;31mURLError\u001b[0m                                  Traceback (most recent call last)",
      "\u001b[0;32m<ipython-input-37-1e26a32a8470>\u001b[0m in \u001b[0;36m<module>\u001b[0;34m()\u001b[0m\n\u001b[1;32m      5\u001b[0m \u001b[0;32mfor\u001b[0m \u001b[0mi\u001b[0m\u001b[0;34m,\u001b[0m \u001b[0mname\u001b[0m \u001b[0;32min\u001b[0m \u001b[0mzip\u001b[0m\u001b[0;34m(\u001b[0m\u001b[0mbusiness_source_ids\u001b[0m\u001b[0;34m,\u001b[0m \u001b[0mbusiness_source_names\u001b[0m\u001b[0;34m)\u001b[0m\u001b[0;34m:\u001b[0m\u001b[0;34m\u001b[0m\u001b[0m\n\u001b[1;32m      6\u001b[0m     \u001b[0mprintmd\u001b[0m\u001b[0;34m(\u001b[0m\u001b[0;34m'# '\u001b[0m \u001b[0;34m+\u001b[0m \u001b[0mname\u001b[0m\u001b[0;34m)\u001b[0m\u001b[0;34m\u001b[0m\u001b[0m\n\u001b[0;32m----> 7\u001b[0;31m     \u001b[0mapiMdOutput\u001b[0m\u001b[0;34m(\u001b[0m\u001b[0msource\u001b[0m \u001b[0;34m=\u001b[0m \u001b[0mi\u001b[0m\u001b[0;34m)\u001b[0m\u001b[0;34m;\u001b[0m\u001b[0;34m\u001b[0m\u001b[0m\n\u001b[0m",
      "\u001b[0;32m<ipython-input-36-45b6ba3be9e2>\u001b[0m in \u001b[0;36mapiMdOutput\u001b[0;34m(source)\u001b[0m\n\u001b[1;32m     13\u001b[0m     \u001b[0murl_api\u001b[0m \u001b[0;34m=\u001b[0m \u001b[0;34m'https://newsapi.org/v1/articles?source={}&apiKey=526aeefb458f458eb06b9a4ea4369624'\u001b[0m\u001b[0;34m.\u001b[0m\u001b[0mformat\u001b[0m\u001b[0;34m(\u001b[0m\u001b[0msource\u001b[0m\u001b[0;34m)\u001b[0m\u001b[0;34m\u001b[0m\u001b[0m\n\u001b[1;32m     14\u001b[0m \u001b[0;34m\u001b[0m\u001b[0m\n\u001b[0;32m---> 15\u001b[0;31m     \u001b[0mnews\u001b[0m \u001b[0;34m=\u001b[0m \u001b[0murllib\u001b[0m\u001b[0;34m.\u001b[0m\u001b[0mrequest\u001b[0m\u001b[0;34m.\u001b[0m\u001b[0murlopen\u001b[0m\u001b[0;34m(\u001b[0m\u001b[0murl_api\u001b[0m\u001b[0;34m)\u001b[0m\u001b[0;34m\u001b[0m\u001b[0m\n\u001b[0m\u001b[1;32m     16\u001b[0m     \u001b[0mdoc\u001b[0m \u001b[0;34m=\u001b[0m \u001b[0mnews\u001b[0m\u001b[0;34m.\u001b[0m\u001b[0mread\u001b[0m\u001b[0;34m(\u001b[0m\u001b[0;34m)\u001b[0m\u001b[0;34m\u001b[0m\u001b[0m\n\u001b[1;32m     17\u001b[0m     \u001b[0mdoc\u001b[0m \u001b[0;34m=\u001b[0m \u001b[0mjson\u001b[0m\u001b[0;34m.\u001b[0m\u001b[0mloads\u001b[0m\u001b[0;34m(\u001b[0m\u001b[0mdoc\u001b[0m\u001b[0;34m)\u001b[0m\u001b[0;34m\u001b[0m\u001b[0m\n",
      "\u001b[0;32m~/anaconda3/lib/python3.6/urllib/request.py\u001b[0m in \u001b[0;36murlopen\u001b[0;34m(url, data, timeout, cafile, capath, cadefault, context)\u001b[0m\n\u001b[1;32m    221\u001b[0m     \u001b[0;32melse\u001b[0m\u001b[0;34m:\u001b[0m\u001b[0;34m\u001b[0m\u001b[0m\n\u001b[1;32m    222\u001b[0m         \u001b[0mopener\u001b[0m \u001b[0;34m=\u001b[0m \u001b[0m_opener\u001b[0m\u001b[0;34m\u001b[0m\u001b[0m\n\u001b[0;32m--> 223\u001b[0;31m     \u001b[0;32mreturn\u001b[0m \u001b[0mopener\u001b[0m\u001b[0;34m.\u001b[0m\u001b[0mopen\u001b[0m\u001b[0;34m(\u001b[0m\u001b[0murl\u001b[0m\u001b[0;34m,\u001b[0m \u001b[0mdata\u001b[0m\u001b[0;34m,\u001b[0m \u001b[0mtimeout\u001b[0m\u001b[0;34m)\u001b[0m\u001b[0;34m\u001b[0m\u001b[0m\n\u001b[0m\u001b[1;32m    224\u001b[0m \u001b[0;34m\u001b[0m\u001b[0m\n\u001b[1;32m    225\u001b[0m \u001b[0;32mdef\u001b[0m \u001b[0minstall_opener\u001b[0m\u001b[0;34m(\u001b[0m\u001b[0mopener\u001b[0m\u001b[0;34m)\u001b[0m\u001b[0;34m:\u001b[0m\u001b[0;34m\u001b[0m\u001b[0m\n",
      "\u001b[0;32m~/anaconda3/lib/python3.6/urllib/request.py\u001b[0m in \u001b[0;36mopen\u001b[0;34m(self, fullurl, data, timeout)\u001b[0m\n\u001b[1;32m    524\u001b[0m             \u001b[0mreq\u001b[0m \u001b[0;34m=\u001b[0m \u001b[0mmeth\u001b[0m\u001b[0;34m(\u001b[0m\u001b[0mreq\u001b[0m\u001b[0;34m)\u001b[0m\u001b[0;34m\u001b[0m\u001b[0m\n\u001b[1;32m    525\u001b[0m \u001b[0;34m\u001b[0m\u001b[0m\n\u001b[0;32m--> 526\u001b[0;31m         \u001b[0mresponse\u001b[0m \u001b[0;34m=\u001b[0m \u001b[0mself\u001b[0m\u001b[0;34m.\u001b[0m\u001b[0m_open\u001b[0m\u001b[0;34m(\u001b[0m\u001b[0mreq\u001b[0m\u001b[0;34m,\u001b[0m \u001b[0mdata\u001b[0m\u001b[0;34m)\u001b[0m\u001b[0;34m\u001b[0m\u001b[0m\n\u001b[0m\u001b[1;32m    527\u001b[0m \u001b[0;34m\u001b[0m\u001b[0m\n\u001b[1;32m    528\u001b[0m         \u001b[0;31m# post-process response\u001b[0m\u001b[0;34m\u001b[0m\u001b[0;34m\u001b[0m\u001b[0m\n",
      "\u001b[0;32m~/anaconda3/lib/python3.6/urllib/request.py\u001b[0m in \u001b[0;36m_open\u001b[0;34m(self, req, data)\u001b[0m\n\u001b[1;32m    542\u001b[0m         \u001b[0mprotocol\u001b[0m \u001b[0;34m=\u001b[0m \u001b[0mreq\u001b[0m\u001b[0;34m.\u001b[0m\u001b[0mtype\u001b[0m\u001b[0;34m\u001b[0m\u001b[0m\n\u001b[1;32m    543\u001b[0m         result = self._call_chain(self.handle_open, protocol, protocol +\n\u001b[0;32m--> 544\u001b[0;31m                                   '_open', req)\n\u001b[0m\u001b[1;32m    545\u001b[0m         \u001b[0;32mif\u001b[0m \u001b[0mresult\u001b[0m\u001b[0;34m:\u001b[0m\u001b[0;34m\u001b[0m\u001b[0m\n\u001b[1;32m    546\u001b[0m             \u001b[0;32mreturn\u001b[0m \u001b[0mresult\u001b[0m\u001b[0;34m\u001b[0m\u001b[0m\n",
      "\u001b[0;32m~/anaconda3/lib/python3.6/urllib/request.py\u001b[0m in \u001b[0;36m_call_chain\u001b[0;34m(self, chain, kind, meth_name, *args)\u001b[0m\n\u001b[1;32m    502\u001b[0m         \u001b[0;32mfor\u001b[0m \u001b[0mhandler\u001b[0m \u001b[0;32min\u001b[0m \u001b[0mhandlers\u001b[0m\u001b[0;34m:\u001b[0m\u001b[0;34m\u001b[0m\u001b[0m\n\u001b[1;32m    503\u001b[0m             \u001b[0mfunc\u001b[0m \u001b[0;34m=\u001b[0m \u001b[0mgetattr\u001b[0m\u001b[0;34m(\u001b[0m\u001b[0mhandler\u001b[0m\u001b[0;34m,\u001b[0m \u001b[0mmeth_name\u001b[0m\u001b[0;34m)\u001b[0m\u001b[0;34m\u001b[0m\u001b[0m\n\u001b[0;32m--> 504\u001b[0;31m             \u001b[0mresult\u001b[0m \u001b[0;34m=\u001b[0m \u001b[0mfunc\u001b[0m\u001b[0;34m(\u001b[0m\u001b[0;34m*\u001b[0m\u001b[0margs\u001b[0m\u001b[0;34m)\u001b[0m\u001b[0;34m\u001b[0m\u001b[0m\n\u001b[0m\u001b[1;32m    505\u001b[0m             \u001b[0;32mif\u001b[0m \u001b[0mresult\u001b[0m \u001b[0;32mis\u001b[0m \u001b[0;32mnot\u001b[0m \u001b[0;32mNone\u001b[0m\u001b[0;34m:\u001b[0m\u001b[0;34m\u001b[0m\u001b[0m\n\u001b[1;32m    506\u001b[0m                 \u001b[0;32mreturn\u001b[0m \u001b[0mresult\u001b[0m\u001b[0;34m\u001b[0m\u001b[0m\n",
      "\u001b[0;32m~/anaconda3/lib/python3.6/urllib/request.py\u001b[0m in \u001b[0;36mhttps_open\u001b[0;34m(self, req)\u001b[0m\n\u001b[1;32m   1359\u001b[0m         \u001b[0;32mdef\u001b[0m \u001b[0mhttps_open\u001b[0m\u001b[0;34m(\u001b[0m\u001b[0mself\u001b[0m\u001b[0;34m,\u001b[0m \u001b[0mreq\u001b[0m\u001b[0;34m)\u001b[0m\u001b[0;34m:\u001b[0m\u001b[0;34m\u001b[0m\u001b[0m\n\u001b[1;32m   1360\u001b[0m             return self.do_open(http.client.HTTPSConnection, req,\n\u001b[0;32m-> 1361\u001b[0;31m                 context=self._context, check_hostname=self._check_hostname)\n\u001b[0m\u001b[1;32m   1362\u001b[0m \u001b[0;34m\u001b[0m\u001b[0m\n\u001b[1;32m   1363\u001b[0m         \u001b[0mhttps_request\u001b[0m \u001b[0;34m=\u001b[0m \u001b[0mAbstractHTTPHandler\u001b[0m\u001b[0;34m.\u001b[0m\u001b[0mdo_request_\u001b[0m\u001b[0;34m\u001b[0m\u001b[0m\n",
      "\u001b[0;32m~/anaconda3/lib/python3.6/urllib/request.py\u001b[0m in \u001b[0;36mdo_open\u001b[0;34m(self, http_class, req, **http_conn_args)\u001b[0m\n\u001b[1;32m   1318\u001b[0m                           encode_chunked=req.has_header('Transfer-encoding'))\n\u001b[1;32m   1319\u001b[0m             \u001b[0;32mexcept\u001b[0m \u001b[0mOSError\u001b[0m \u001b[0;32mas\u001b[0m \u001b[0merr\u001b[0m\u001b[0;34m:\u001b[0m \u001b[0;31m# timeout error\u001b[0m\u001b[0;34m\u001b[0m\u001b[0m\n\u001b[0;32m-> 1320\u001b[0;31m                 \u001b[0;32mraise\u001b[0m \u001b[0mURLError\u001b[0m\u001b[0;34m(\u001b[0m\u001b[0merr\u001b[0m\u001b[0;34m)\u001b[0m\u001b[0;34m\u001b[0m\u001b[0m\n\u001b[0m\u001b[1;32m   1321\u001b[0m             \u001b[0mr\u001b[0m \u001b[0;34m=\u001b[0m \u001b[0mh\u001b[0m\u001b[0;34m.\u001b[0m\u001b[0mgetresponse\u001b[0m\u001b[0;34m(\u001b[0m\u001b[0;34m)\u001b[0m\u001b[0;34m\u001b[0m\u001b[0m\n\u001b[1;32m   1322\u001b[0m         \u001b[0;32mexcept\u001b[0m\u001b[0;34m:\u001b[0m\u001b[0;34m\u001b[0m\u001b[0m\n",
      "\u001b[0;31mURLError\u001b[0m: <urlopen error [Errno 110] Connection timed out>"
     ]
    }
   ],
   "source": [
    "\n",
    "business_source_ids = set([source['id'] for source in sources_doc if source['category']==cat.value])\n",
    "business_source_names = set([source['name'] for source in sources_doc if source['category']==cat.value])\n",
    "\n",
    "for i, name in zip(business_source_ids, business_source_names):\n",
    "    printmd('# ' + name)\n",
    "    apiMdOutput(source = i);"
   ]
  }
 ],
 "metadata": {
  "hide_input": false,
  "kernelspec": {
   "display_name": "Python [default]",
   "language": "python",
   "name": "python3"
  },
  "language_info": {
   "codemirror_mode": {
    "name": "ipython",
    "version": 3
   },
   "file_extension": ".py",
   "mimetype": "text/x-python",
   "name": "python",
   "nbconvert_exporter": "python",
   "pygments_lexer": "ipython3",
   "version": "3.6.0"
  },
  "latex_envs": {
   "LaTeX_envs_menu_present": true,
   "autocomplete": true,
   "bibliofile": "biblio.bib",
   "cite_by": "apalike",
   "current_citInitial": 1,
   "eqLabelWithNumbers": true,
   "eqNumInitial": 1,
   "hotkeys": {
    "equation": "Ctrl-E",
    "itemize": "Ctrl-I"
   },
   "labels_anchors": false,
   "latex_user_defs": false,
   "report_style_numbering": false,
   "user_envs_cfg": false
  },
  "toc": {
   "colors": {
    "hover_highlight": "#DAA520",
    "running_highlight": "#FF0000",
    "selected_highlight": "#FFD700"
   },
   "moveMenuLeft": true,
   "nav_menu": {
    "height": "12px",
    "width": "252px"
   },
   "navigate_menu": true,
   "number_sections": false,
   "sideBar": true,
   "threshold": 4,
   "toc_cell": false,
   "toc_position": {
    "height": "616px",
    "left": "0px",
    "right": "20px",
    "top": "106.995px",
    "width": "235px"
   },
   "toc_section_display": "block",
   "toc_window_display": false,
   "widenNotebook": false
  },
  "varInspector": {
   "cols": {
    "lenName": 16,
    "lenType": 16,
    "lenVar": 40
   },
   "kernels_config": {
    "python": {
     "delete_cmd_postfix": "",
     "delete_cmd_prefix": "del ",
     "library": "var_list.py",
     "varRefreshCmd": "print(var_dic_list())"
    },
    "r": {
     "delete_cmd_postfix": ") ",
     "delete_cmd_prefix": "rm(",
     "library": "var_list.r",
     "varRefreshCmd": "cat(var_dic_list()) "
    }
   },
   "types_to_exclude": [
    "module",
    "function",
    "builtin_function_or_method",
    "instance",
    "_Feature"
   ],
   "window_display": false
  },
  "widgets": {
   "application/vnd.jupyter.widget-state+json": {
    "state": {
     "2c845dad9e844adf8125ffd49d3303f9": {
      "model_module": "jupyter-js-widgets",
      "model_module_version": "~2.1.4",
      "model_name": "IntSliderModel",
      "state": {
       "_model_module_version": "~2.1.4",
       "_view_module_version": "~2.1.4",
       "layout": "IPY_MODEL_7ad1b2b409a644b98bdef85f25b794a1",
       "style": "IPY_MODEL_9bc4ca2318804996b7783e0666832f51"
      }
     },
     "64d8d3a9a1874349a5ee834365872baa": {
      "model_module": "jupyter-js-widgets",
      "model_module_version": "~2.1.4",
      "model_name": "LayoutModel",
      "state": {
       "_model_module_version": "~2.1.4",
       "_view_module_version": "~2.1.4"
      }
     },
     "7ad1b2b409a644b98bdef85f25b794a1": {
      "model_module": "jupyter-js-widgets",
      "model_module_version": "~2.1.4",
      "model_name": "LayoutModel",
      "state": {
       "_model_module_version": "~2.1.4",
       "_view_module_version": "~2.1.4"
      }
     },
     "8688824dac864a1bb6cd132b57be143e": {
      "model_module": "jupyter-js-widgets",
      "model_module_version": "~2.1.4",
      "model_name": "SliderStyleModel",
      "state": {
       "_model_module_version": "~2.1.4",
       "_view_module_version": "~2.1.4"
      }
     },
     "9bc4ca2318804996b7783e0666832f51": {
      "model_module": "jupyter-js-widgets",
      "model_module_version": "~2.1.4",
      "model_name": "SliderStyleModel",
      "state": {
       "_model_module_version": "~2.1.4",
       "_view_module_version": "~2.1.4"
      }
     },
     "e7871ccee081450eb9557ecbbc7782dd": {
      "model_module": "jupyter-js-widgets",
      "model_module_version": "~2.1.4",
      "model_name": "IntSliderModel",
      "state": {
       "_model_module_version": "~2.1.4",
       "_view_module_version": "~2.1.4",
       "layout": "IPY_MODEL_64d8d3a9a1874349a5ee834365872baa",
       "style": "IPY_MODEL_8688824dac864a1bb6cd132b57be143e"
      }
     }
    },
    "version_major": 1,
    "version_minor": 0
   }
  }
 },
 "nbformat": 4,
 "nbformat_minor": 2
}
